{
 "cells": [
  {
   "cell_type": "code",
   "execution_count": 133,
   "metadata": {
    "collapsed": true
   },
   "outputs": [],
   "source": [
    "import pymc3 as pm\n",
    "import numpy as np\n",
    "import theano\n",
    "\n",
    "from theano.compile.ops import as_op\n",
    "\n",
    "import matplotlib.pyplot as plt\n",
    "%matplotlib inline\n",
    "plt.style.use(\"/home/daniel/papers/thesis/thesis-style.mpl\")"
   ]
  },
  {
   "cell_type": "code",
   "execution_count": 134,
   "metadata": {
    "collapsed": true
   },
   "outputs": [],
   "source": [
    "import matplotlib\n",
    "font = {'family' : 'normal',\n",
    "        'weight' : 'bold',\n",
    "        'size'   : 16}\n",
    "\n",
    "matplotlib.rc('font', **font)"
   ]
  },
  {
   "cell_type": "code",
   "execution_count": 213,
   "metadata": {
    "collapsed": true
   },
   "outputs": [],
   "source": [
    "def background_rate_f(b, T, n):\n",
    "    \"\"\"\n",
    "    \n",
    "    \"\"\"\n",
    "    out = 0\n",
    "    #n = int(n)\n",
    "    for i in range(n+1):\n",
    "        out += ((b*T)**i * np.exp(- b*T)) / np.math.factorial(i)\n",
    "    return out\n",
    "\n",
    "def log_background_rate(b, T, n):\n",
    "    return np.log(background_rate_f(b, T, n))\n",
    "\n",
    "def signal_rate_part(s, n, b, T):\n",
    "    top_a = T * ((s + b) * T)**n \n",
    "    top_b = np.exp(-(s + b)*T)\n",
    "    p = (top_a * top_b) / np.math.factorial(n)\n",
    "    return theano.tensor.switch(theano.tensor.le(s, 0.), 0., p)\n",
    "\n",
    "#@as_op(itypes=[T.dscalar, T.dscalar, T.dscalar, T.dscalar], otypes=[T.dscalar])\n",
    "def log_signal_rate(s,n,b,T):\n",
    "    #if theano.tensor.lt(0, s): return np.array([[0.0]])\n",
    "    p = -log_background_rate(b,T,n) + np.log(signal_rate_part(s,n,b,T))\n",
    "    \n",
    "    return p"
   ]
  },
  {
   "cell_type": "code",
   "execution_count": 214,
   "metadata": {
    "collapsed": true
   },
   "outputs": [],
   "source": [
    "def number_mweg(volume):\n",
    "    \"\"\"\n",
    "    Calculates the number of MWEGs in a volume, given in units of Mpc^3\n",
    "    \"\"\"\n",
    "    return volume * (0.0116) "
   ]
  },
  {
   "cell_type": "code",
   "execution_count": 215,
   "metadata": {
    "collapsed": true
   },
   "outputs": [],
   "source": [
    "def number_mweg_inspiral(inspiral):\n",
    "    \"\"\"\n",
    "    Calculate the number of Milky Way equivalent galaxies \n",
    "    within a 3-sphere with a given inspiral radius. \n",
    "    \n",
    "    Parameters\n",
    "    ----------\n",
    "    inspiral : float\n",
    "        The insiral range for the detector.\n",
    "    \n",
    "    Notes\n",
    "    ------\n",
    "    Note the subtle difference between this funciton and `number_mweg`, \n",
    "    which expects the _horizon_ distance; these quantities differ\n",
    "    by a factor of ~2.26 due to the inclusion of a correction for\n",
    "    the antenna pattern.\n",
    "    \"\"\"\n",
    "    return 4./3 * np.pi * inspiral**3 * (0.0116) #* horizon**3"
   ]
  },
  {
   "cell_type": "code",
   "execution_count": 454,
   "metadata": {
    "collapsed": true
   },
   "outputs": [],
   "source": [
    "priors = [\"uniform\", \"jeffreys\", 1.0, 0.5]"
   ]
  },
  {
   "cell_type": "code",
   "execution_count": 455,
   "metadata": {
    "collapsed": true
   },
   "outputs": [],
   "source": [
    "import theano.tensor as T\n",
    "from pymc3 import DensityDist, Uniform, Normal\n",
    "from pymc3 import Model\n",
    "from pymc3 import distributions\n",
    "\n",
    "def grb_model(number_events, background_rate, \n",
    "              observation_time, horizon,  grb_rate,\n",
    "             efficiency_prior = \"uniform\"):\n",
    "    with Model() as model:\n",
    "        signal_rate = pm.DensityDist('signal_rate', \n",
    "                                     logp=lambda value: log_signal_rate(value, number_events, background_rate, observation_time), \n",
    "                                     testval=1.,\n",
    "                           )\n",
    "\n",
    "        #volume = pm.Normal(\"volume\", volume, sigma_volume)\n",
    "        volume = 4./3. * np.pi * (horizon)**3\n",
    "        n_galaxy = number_mweg(volume)\n",
    "    \n",
    "        cbc_rate = pm.Deterministic('cbc_rate', signal_rate / n_galaxy)# * n_galaxy)\n",
    "        #grb_rate = pm.Poisson('grb_rate', mu = grb_rate)\n",
    "        grb_rate = (grb_rate /  number_mweg(1e9))# * observation_time\n",
    "        \n",
    "        # Allow the efficiency prior to be switched-out\n",
    "        if efficiency_prior == \"uniform\":\n",
    "            efficiency = pm.Uniform('efficiency', 0,1., testval=0.5)\n",
    "        elif efficiency_prior == \"jeffreys\":\n",
    "            efficiency = pm.Beta('efficiency', 0.5, 0.5, testval = 0.3)\n",
    "        elif isinstance(efficiency_prior, float):\n",
    "            efficiency = efficiency_prior\n",
    "        \n",
    "        def cosangle(cbc_rate, efficiency, grb_rate):\n",
    "            return T.switch((grb_rate >= cbc_rate*efficiency), -np.Inf, \n",
    "             (1.0 - ((grb_rate/(cbc_rate*efficiency))))\n",
    "                )\n",
    "        \n",
    "        costheta = pm.Deterministic('cos_angle', cosangle(cbc_rate, efficiency, grb_rate))\n",
    "\n",
    "        angle = pm.Deterministic(\"angle\", theano.tensor.arccos(costheta))\n",
    "        \n",
    "        return model"
   ]
  },
  {
   "cell_type": "code",
   "execution_count": 456,
   "metadata": {},
   "outputs": [
    {
     "name": "stdout",
     "output_type": "stream",
     "text": [
      "Volume: 0.35918876006\n"
     ]
    }
   ],
   "source": [
    "# 2015 - 2016 Scenario\n",
    "number_events = 0 # There were no BNS detections in O1\n",
    "background_rate = 0.01 # We take the FAR to be 1/100 yr\n",
    "observation_time = 0.25 #46.1/365. # The number of days of analysis conducted by gstLAL\n",
    "horizon = 70  # The O1 BNS horizon distance in O1 BNS paper\n",
    "grb_rate = 10#10.0\n",
    "o1_models = []\n",
    "\n",
    "\n",
    "print \"Volume: {}\".format((np.pi * 4/3 * observation_time * horizon**3)/1e6)\n",
    "\n",
    "for prior in priors:\n",
    "    o1_models.append( grb_model(number_events, background_rate, observation_time, horizon, grb_rate, prior))"
   ]
  },
  {
   "cell_type": "code",
   "execution_count": 413,
   "metadata": {},
   "outputs": [
    {
     "name": "stdout",
     "output_type": "stream",
     "text": [
      "Volume: 1.0471975512\n"
     ]
    }
   ],
   "source": [
    "# 2016-2017 Scenarios\n",
    "number_events = 1 # Assume O2 will see one BNS observation\n",
    "background_rate = 0.01 # We take the FAR to be 1/100 yr\n",
    "observation_time = 0.5 # The number of years of analysis conducted \n",
    "duty_cycle = 0.5\n",
    "observation_time *= duty_cycle\n",
    "horizon = 100.0  # The O1 BNS horizon distance in O1 BNS paper\n",
    "grb_rate = 10.0\n",
    "o2_models = []\n",
    "\n",
    "\n",
    "print \"Volume: {}\".format((np.pi * 4/3 * observation_time * horizon**3)/1e6)\n",
    "\n",
    "for prior in priors:\n",
    "    o2_models.append( grb_model(number_events, background_rate, observation_time, horizon, grb_rate, prior))"
   ]
  },
  {
   "cell_type": "code",
   "execution_count": 414,
   "metadata": {},
   "outputs": [
    {
     "name": "stdout",
     "output_type": "stream",
     "text": [
      "Volume: 6.70427653249\n"
     ]
    }
   ],
   "source": [
    "# 2017-2018 Scenarios\n",
    "number_events = 3 # Assume O2 will see one BNS observation\n",
    "background_rate = 0.01 # We take the FAR to be 1/100 yr\n",
    "observation_time = 0.75 # The number of years of analysis conducted \n",
    "duty_cycle = 0.7\n",
    "observation_time *= duty_cycle\n",
    "horizon = 145.0  # The O1 BNS horizon distance in O1 BNS paper\n",
    "grb_rate = 10.0\n",
    "o3_models = []\n",
    "\n",
    "\n",
    "print \"Volume: {}\".format((np.pi * 4/3 * observation_time * horizon**3)/1e6)\n",
    "\n",
    "for prior in priors:\n",
    "    o3_models.append( grb_model(number_events, background_rate, observation_time, horizon, grb_rate, prior))"
   ]
  },
  {
   "cell_type": "code",
   "execution_count": 457,
   "metadata": {},
   "outputs": [
    {
     "name": "stdout",
     "output_type": "stream",
     "text": [
      "Volume: 20.0165230949\n"
     ]
    }
   ],
   "source": [
    "# 2019+ Scenarios\n",
    "number_events = 10 # Assume O2 will see one BNS observation\n",
    "background_rate = 0.01 # We take the FAR to be 1/100 yr\n",
    "observation_time = 1.0 # The number of years of analysis conducted \n",
    "duty_cycle = 0.7\n",
    "observation_time *= duty_cycle\n",
    "horizon = 189.7  # The O1 BNS horizon distance in O1 BNS paper\n",
    "grb_rate = 10.0\n",
    "o4_models = []\n",
    "\n",
    "print \"Volume: {}\".format((np.pi * 4/3 * observation_time * horizon**3)/1e6)\n",
    "\n",
    "for prior in priors:\n",
    "    o4_models.append( grb_model(number_events, background_rate, observation_time, horizon, grb_rate, prior))"
   ]
  },
  {
   "cell_type": "code",
   "execution_count": 458,
   "metadata": {},
   "outputs": [
    {
     "name": "stdout",
     "output_type": "stream",
     "text": [
      "Volume: 39.9961066362\n"
     ]
    }
   ],
   "source": [
    "# 2022+ Scenarios\n",
    "number_events = 20 # Assume O2 will see one BNS observation\n",
    "background_rate = 0.01 # We take the FAR to be 1/100 yr\n",
    "observation_time = 1.0 # The number of years of analysis conducted \n",
    "duty_cycle = 1.0\n",
    "observation_time *= duty_cycle\n",
    "horizon = 212.15  # The O1 BNS horizon distance in O1 BNS paper\n",
    "grb_rate = 10.0\n",
    "print \"Volume: {}\".format((np.pi * 4/3 * observation_time * horizon**3)/1e6)\n",
    "o5_models = []\n",
    "for prior in priors:\n",
    "    o5_models.append( grb_model(number_events, background_rate, observation_time, horizon, grb_rate, prior))"
   ]
  },
  {
   "cell_type": "code",
   "execution_count": 459,
   "metadata": {
    "collapsed": true
   },
   "outputs": [],
   "source": [
    "samples = 500000"
   ]
  },
  {
   "cell_type": "code",
   "execution_count": 418,
   "metadata": {},
   "outputs": [
    {
     "name": "stderr",
     "output_type": "stream",
     "text": [
      "100%|██████████| 500000/500000 [01:33<00:00, 5352.47it/s]\n",
      "100%|██████████| 500000/500000 [01:27<00:00, 5743.17it/s]\n",
      "100%|██████████| 500000/500000 [00:50<00:00, 9849.11it/s] \n",
      "100%|██████████| 500000/500000 [00:45<00:00, 11049.29it/s]\n"
     ]
    }
   ],
   "source": [
    "o1_traces = []\n",
    "for model in o1_models:\n",
    "    with model:\n",
    "        step = pm.Metropolis()\n",
    "        o1_traces.append(pm.sample(samples, step))"
   ]
  },
  {
   "cell_type": "code",
   "execution_count": 419,
   "metadata": {},
   "outputs": [
    {
     "name": "stderr",
     "output_type": "stream",
     "text": [
      "100%|██████████| 500000/500000 [01:20<00:00, 6173.85it/s]\n",
      "100%|██████████| 500000/500000 [01:25<00:00, 5821.62it/s]\n",
      "100%|██████████| 500000/500000 [00:46<00:00, 10691.65it/s]\n",
      "100%|██████████| 500000/500000 [00:39<00:00, 12799.68it/s]\n"
     ]
    }
   ],
   "source": [
    "o2_traces = []    \n",
    "for model in o2_models:\n",
    "    with model:\n",
    "        step = pm.Metropolis()\n",
    "        o2_traces.append(pm.sample(samples, step))\n",
    "        \n"
   ]
  },
  {
   "cell_type": "code",
   "execution_count": 471,
   "metadata": {},
   "outputs": [
    {
     "name": "stderr",
     "output_type": "stream",
     "text": [
      "100%|██████████| 500000/500000 [01:18<00:00, 6366.10it/s]\n",
      "100%|██████████| 500000/500000 [01:30<00:00, 5510.32it/s]\n",
      "100%|██████████| 500000/500000 [00:37<00:00, 13173.96it/s]\n",
      "100%|██████████| 500000/500000 [00:46<00:00, 10735.60it/s]\n"
     ]
    }
   ],
   "source": [
    "o3_traces = []\n",
    "for model in o3_models:\n",
    "    with model:\n",
    "        step = pm.Metropolis()\n",
    "        o3_traces.append(pm.sample(samples, step))\n",
    "    "
   ]
  },
  {
   "cell_type": "code",
   "execution_count": 460,
   "metadata": {},
   "outputs": [
    {
     "name": "stderr",
     "output_type": "stream",
     "text": [
      "100%|██████████| 500000/500000 [01:58<00:00, 4217.96it/s] \n",
      "100%|██████████| 500000/500000 [01:21<00:00, 6134.67it/s]\n",
      "100%|██████████| 500000/500000 [00:41<00:00, 12008.90it/s]\n",
      "100%|██████████| 500000/500000 [00:39<00:00, 12759.22it/s]\n",
      "100%|██████████| 500000/500000 [01:21<00:00, 6119.15it/s]\n",
      "100%|██████████| 500000/500000 [01:16<00:00, 6533.95it/s]\n",
      "100%|██████████| 500000/500000 [00:40<00:00, 12215.28it/s]\n",
      "100%|██████████| 500000/500000 [00:41<00:00, 12162.46it/s]\n"
     ]
    }
   ],
   "source": [
    "o4_traces = []    \n",
    "for model in o4_models:\n",
    "    with model:\n",
    "        step = pm.Metropolis()\n",
    "        o4_traces.append(pm.sample(samples, step))\n",
    "        \n",
    "o5_traces = []    \n",
    "for model in o5_models:\n",
    "    with model:\n",
    "        step = pm.Metropolis()\n",
    "        o5_traces.append(pm.sample(samples, step))"
   ]
  },
  {
   "cell_type": "code",
   "execution_count": 461,
   "metadata": {
    "collapsed": true
   },
   "outputs": [],
   "source": [
    "import matplotlib\n",
    "import pymc3.stats"
   ]
  },
  {
   "cell_type": "code",
   "execution_count": 462,
   "metadata": {
    "collapsed": true
   },
   "outputs": [],
   "source": [
    "a = stats.gaussian_kde(data)"
   ]
  },
  {
   "cell_type": "code",
   "execution_count": 463,
   "metadata": {},
   "outputs": [
    {
     "data": {
      "text/plain": [
       "19.899497487437188"
      ]
     },
     "execution_count": 463,
     "metadata": {},
     "output_type": "execute_result"
    }
   ],
   "source": [
    "x = np.linspace(0,90, 200)\n",
    "x[a.pdf(x).argmax()]"
   ]
  },
  {
   "cell_type": "code",
   "execution_count": 470,
   "metadata": {},
   "outputs": [
    {
     "name": "stdout",
     "output_type": "stream",
     "text": [
      "|Scenario|Lower\t|MAP\t|Median\t|Upper\t|\n",
      "2015 -- 2016 & 0.00\t & 0.45\t & 2.75\t & 11.91\t\n",
      "2016 -- 2017 & 0.20\t & 4.07\t & 6.72\t & 19.05\t\n",
      "2017 -- 2018 & 1.37\t & 5.88\t & 6.99\t & 15.26\t\n",
      "2020+ & 7.30\t & 14.47\t & 15.25\t & 25.25\t\n",
      "2024+ & 12.42\t & 20.35\t & 20.65\t & 30.09\t\n"
     ]
    },
    {
     "data": {
      "image/png": "[encoded data removed]",
      "text/plain": [
       "<matplotlib.figure.Figure at 0x7f022eb10190>"
      ]
     },
     "metadata": {},
     "output_type": "display_data"
    }
   ],
   "source": [
    "width = 3.487 #* 2\n",
    "height = width / 1.618\n",
    "\n",
    "\n",
    "f, ax = plt.subplots(1,1, sharex=True, figsize = (width, height))\n",
    "priors = [\"U(0,1)\", \"Jeffreys\", \"$\\delta(1)$\", \"$\\delta(0.5)$\"]\n",
    "scenarios = [\"2015 -- 2016\", \"2016 -- 2017\", \"2017 -- 2018\", \"2020+\", \"2024+\"]\n",
    "print \"|Scenario|Lower\\t|MAP\\t|Median\\t|Upper\\t|\"\n",
    "\n",
    "pos = [.5, 1, 1.5, 2, 2.5]\n",
    "\n",
    "i = 0\n",
    "\n",
    "\n",
    "for i, trace in enumerate([o1_traces, o2_traces, o3_traces, o4_traces, o5_traces]):\n",
    "    #i = i/2.0\n",
    "    data = trace[0][2000:]['signal_rate']\n",
    "\n",
    "    parts = ax.violinplot(data, [pos[i]], points=200, widths=0.3, vert= False,\n",
    "                     #showmeans = True, showmedians=True, \n",
    "                          bw_method=\"silverman\",\n",
    "                      showmeans=False, showextrema=False, showmedians=False)\n",
    "\n",
    "    lower_p , medians, upper_p = np.percentile(data, [2.5, 50, 97.50])\n",
    "    lower, upper = pymc3.stats.hpd(data, alpha=0.05)\n",
    "    a = stats.gaussian_kde(data)\n",
    "    x = np.linspace(0,90, 200)\n",
    "    MAP = x[a.pdf(x).argmax()]\n",
    "\n",
    "\n",
    "\n",
    "    ax.hlines(pos[i], lower, upper, color='#333333', linestyle='-', lw=2, alpha = 0.5)\n",
    "\n",
    "    ax.scatter( [lower, upper], [pos[i]]*2, marker='|', color='k', s=15, zorder=3)\n",
    "    ax.scatter( [MAP], pos[i], marker='D', color='k', s=15, zorder=3)\n",
    "    ax.scatter( [medians], pos[i], marker='s', color='k', s=15, zorder=3)\n",
    "    #ax2.vlines(inds, whiskersMin, whiskersMax, color='k', linestyle='-', lw=1)\n",
    "\n",
    "    print \"{} & {:.2f}\\t & {:.2f}\\t & {:.2f}\\t & {:.2f}\\t\".format(scenarios[i], lower, MAP, medians, upper)\n",
    "\n",
    "\n",
    "axis = ax\n",
    "axis.set_yticks(pos)\n",
    "axis.set_yticklabels([\"2015-2016\", \"2016-2017\", \"2017-2018\", \"2020+\", \"2024+\"])\n",
    "axis.set_xlim([0, 70])\n",
    "ax.get_xaxis().set_minor_locator(matplotlib.ticker.AutoMinorLocator())\n",
    "#ax.get_yaxis().set_minor_locator(matplotlib.ticker.AutoMinorLocator())\n",
    "ax.grid(b=True, axis=\"x\", which='major', linewidth=0.5)\n",
    "ax.grid(b=True, axis=\"y\", which='major', linewidth=0.)\n",
    "#ax.grid(b=True, which='minor', linewidth=0.5)\n",
    "ax.set_xlabel(r\"Event rate [yr$^{-1}$]\")\n",
    "ax.set_ylabel(r\"Observing Scenario\")\n",
    "f.subplots_adjust(0.21, 0.17, .97, .95, wspace=0.05)\n",
    "f.savefig(\"../final_paper/rate_posteriors_violin.pdf\")"
   ]
  },
  {
   "cell_type": "code",
   "execution_count": 425,
   "metadata": {
    "collapsed": true
   },
   "outputs": [],
   "source": [
    "def beaming_violins(traces, priors, xmax = 90):\n",
    "\n",
    "    width = 3.487 #* 2\n",
    "    height = width / 1.618\n",
    "\n",
    "\n",
    "    f, ax = plt.subplots(1,1, sharex=True, figsize = (width, height))\n",
    "    priors = [\"U(0,1)\", \"Jeffreys\", \"$\\delta(1)$\", \"$\\delta(0.5)$\"]\n",
    "    print \"|\\t\\t\\t| Lower\\t| MAP\\t| Median\\t| Upper\\t|\"\n",
    "    print \"|----------|\"\n",
    "    matplotlib.rcParams.update({'font.size': 10})\n",
    "    pos = [.5, 1, 1.5, 2]\n",
    "\n",
    "    for i in range(len(priors)):\n",
    "        #i = i/2.0\n",
    "        t_data = traces[i][2000:]['angle'][np.isfinite(traces[i][2000:]['angle'])]\n",
    "        data = np.rad2deg(t_data)\n",
    "\n",
    "        parts = ax.violinplot(data, [pos[i]], points=100, widths=0.3, vert= False,\n",
    "                         #showmeans = True, showmedians=True, \n",
    "                          showmeans=False, showextrema=False, showmedians=False)\n",
    "\n",
    "        lower_p, medians, upper_p = np.percentile(data, [2.5, 50, 97.50])\n",
    "        lower, upper = pymc3.stats.hpd(t_data, alpha=0.05, transform=np.rad2deg)\n",
    "\n",
    "        a = stats.gaussian_kde(data)\n",
    "        x = np.linspace(0,90, 200)\n",
    "        MAP = x[a.pdf(x).argmax()]\n",
    "\n",
    "\n",
    "\n",
    "        ax.hlines(pos[i], lower, upper, color='#333333', linestyle='-', lw=2, alpha = 0.5)\n",
    "\n",
    "        ax.scatter( [lower, upper], [pos[i]]*2, marker='|', color='k', s=15, zorder=3)\n",
    "        ax.scatter( [MAP], pos[i], marker='D', color='k', s=15, zorder=3)\n",
    "        ax.scatter( [medians], pos[i], marker='s', color='k', s=15, zorder=3)\n",
    "        #ax2.vlines(inds, whiskersMin, whiskersMax, color='k', linestyle='-', lw=1)\n",
    "\n",
    "        print \"& {} \\t & {:.2f}\\t & {:.2f}\\t& {:.2f}\\t& {:.2f}\\t \\\\\\\\\".format(priors[i], lower, MAP, medians, upper)\n",
    "\n",
    "        axis = ax\n",
    "        axis.set_yticks(pos)\n",
    "        axis.set_yticklabels(priors)\n",
    "        axis.set_xlim([0, xmax])\n",
    "        ax.get_xaxis().set_minor_locator(matplotlib.ticker.AutoMinorLocator())\n",
    "        ax.get_yaxis().set_minor_locator(matplotlib.ticker.AutoMinorLocator())\n",
    "        ax.grid(b=True, axis='x', which='major', linewidth=0.5)\n",
    "        ax.grid(b=True, axis='y', which='major', linewidth=0)\n",
    "        #ax.grid(b=True, which='minor', linewidth=0.5)\n",
    "    ax.set_xlabel(r\"Beaming Angle [$\\theta$]\")\n",
    "    ax.set_ylabel(r\"Prior Distribution on efficiency\")\n",
    "    ax.tick_params(axis='y',which='both',left='off')\n",
    "    f.subplots_adjust(0.20, 0.15, .98, .95, wspace=0.05)\n",
    "    #f.savefig(\"O2a_beaming_posteriors_violin.pdf\")\n",
    "    #f.savefig(\"O2a_beaming_posteriors_violin.png\", dpi=300)\n",
    "    return f"
   ]
  },
  {
   "cell_type": "code",
   "execution_count": 428,
   "metadata": {},
   "outputs": [
    {
     "name": "stdout",
     "output_type": "stream",
     "text": [
      "|\t\t\t| Lower\t| MAP\t| Median\t| Upper\t|\n",
      "|----------|\n",
      "& U(0,1) \t & 2.00\t & 5.43\t& 9.24\t& 40.17\t \\\\\n",
      "& Jeffreys \t & 1.90\t & 5.43\t& 9.50\t& 49.71\t \\\\\n",
      "& $\\delta(1)$ \t & 1.76\t & 4.07\t& 5.83\t& 21.04\t \\\\\n",
      "& $\\delta(0.5)$ \t & 2.51\t & 5.88\t& 8.22\t& 28.35\t \\\\\n"
     ]
    },
    {
     "data": {
      "image/png": "[encoded data removed]",
      "text/plain": [
       "<matplotlib.figure.Figure at 0x7f0293053b10>"
      ]
     },
     "metadata": {},
     "output_type": "display_data"
    }
   ],
   "source": [
    "o1plot = beaming_violins(o1_traces, priors, xmax=60)\n",
    "o1plot.savefig(\"../final_paper/O1_beaming_posteriors_violin.pdf\")"
   ]
  },
  {
   "cell_type": "code",
   "execution_count": 435,
   "metadata": {},
   "outputs": [
    {
     "name": "stdout",
     "output_type": "stream",
     "text": [
      "|\t\t\t| Lower\t| MAP\t| Median\t| Upper\t|\n",
      "|----------|\n",
      "& U(0,1) \t & 3.09\t & 6.78\t& 9.91\t& 34.23\t \\\\\n",
      "& Jeffreys \t & 2.85\t & 6.78\t& 9.91\t& 46.93\t \\\\\n",
      "& $\\delta(1)$ \t & 2.88\t & 5.43\t& 6.40\t& 14.15\t \\\\\n",
      "& $\\delta(0.5)$ \t & 4.06\t & 7.69\t& 9.07\t& 20.05\t \\\\\n"
     ]
    },
    {
     "data": {
      "image/png": "[encoded data removed]",
      "text/plain": [
       "<matplotlib.figure.Figure at 0x7f0227756510>"
      ]
     },
     "metadata": {},
     "output_type": "display_data"
    }
   ],
   "source": [
    "o2_plot = beaming_violins(o2_traces, priors, xmax=60)\n",
    "o2_plot.savefig(\"../final_paper/O2_beaming_posteriors_violin.pdf\")"
   ]
  },
  {
   "cell_type": "code",
   "execution_count": 472,
   "metadata": {},
   "outputs": [
    {
     "name": "stdout",
     "output_type": "stream",
     "text": [
      "|\t\t\t| Lower\t| MAP\t| Median\t| Upper\t|\n",
      "|----------|\n",
      "& U(0,1) \t & 6.71\t & 12.66\t& 16.33\t& 47.29\t \\\\\n",
      "& Jeffreys \t & 6.35\t & 11.76\t& 15.85\t& 57.19\t \\\\\n",
      "& $\\delta(1)$ \t & 6.42\t & 9.95\t& 10.97\t& 18.44\t \\\\\n",
      "& $\\delta(0.5)$ \t & 8.94\t & 14.02\t& 15.55\t& 26.01\t \\\\\n"
     ]
    },
    {
     "data": {
      "image/png": "[encoded data removed]",
      "text/plain": [
       "<matplotlib.figure.Figure at 0x7f022e9b4090>"
      ]
     },
     "metadata": {},
     "output_type": "display_data"
    }
   ],
   "source": [
    "o3_plot = beaming_violins(o3_traces, priors, xmax=60)"
   ]
  },
  {
   "cell_type": "code",
   "execution_count": 464,
   "metadata": {},
   "outputs": [
    {
     "name": "stdout",
     "output_type": "stream",
     "text": [
      "|\t\t\t| Lower\t| MAP\t| Median\t| Upper\t|\n",
      "|----------|\n",
      "& U(0,1) \t & 8.20\t & 12.66\t& 16.04\t& 44.73\t \\\\\n",
      "& Jeffreys \t & 7.82\t & 12.21\t& 15.35\t& 56.99\t \\\\\n",
      "& $\\delta(1)$ \t & 8.10\t & 10.85\t& 11.12\t& 14.95\t \\\\\n",
      "& $\\delta(0.5)$ \t & 11.47\t & 14.92\t& 15.75\t& 21.17\t \\\\\n"
     ]
    },
    {
     "data": {
      "image/png": "[encoded data removed]",
      "text/plain": [
       "<matplotlib.figure.Figure at 0x7f022f294650>"
      ]
     },
     "metadata": {},
     "output_type": "display_data"
    }
   ],
   "source": [
    "o4_plot = beaming_violins(o4_traces, priors, xmax=60)"
   ]
  },
  {
   "cell_type": "code",
   "execution_count": 465,
   "metadata": {
    "collapsed": true
   },
   "outputs": [],
   "source": [
    "o4_plot.savefig(\"o4_violins.png\")"
   ]
  },
  {
   "cell_type": "code",
   "execution_count": 466,
   "metadata": {},
   "outputs": [
    {
     "name": "stdout",
     "output_type": "stream",
     "text": [
      "|\t\t\t| Lower\t| MAP\t| Median\t| Upper\t|\n",
      "|----------|\n",
      "& U(0,1) \t & 9.05\t & 13.12\t& 16.07\t& 45.10\t \\\\\n",
      "& Jeffreys \t & 8.58\t & 12.21\t& 15.28\t& 56.30\t \\\\\n",
      "& $\\delta(1)$ \t & 9.09\t & 11.31\t& 11.30\t& 14.02\t \\\\\n",
      "& $\\delta(0.5)$ \t & 12.82\t & 15.83\t& 16.00\t& 19.82\t \\\\\n"
     ]
    },
    {
     "data": {
      "image/png": "[encoded data removed]",
      "text/plain": [
       "<matplotlib.figure.Figure at 0x7f0227d35950>"
      ]
     },
     "metadata": {},
     "output_type": "display_data"
    }
   ],
   "source": [
    "o5_plot = beaming_violins(o5_traces, priors, xmax=60)"
   ]
  },
  {
   "cell_type": "code",
   "execution_count": 467,
   "metadata": {
    "collapsed": true
   },
   "outputs": [],
   "source": [
    "o5_plot.savefig(\"o5_violins.png\")"
   ]
  },
  {
   "cell_type": "markdown",
   "metadata": {},
   "source": [
    "# Injection Tests"
   ]
  },
  {
   "cell_type": "markdown",
   "metadata": {},
   "source": [
    "## O1-like scenario"
   ]
  },
  {
   "cell_type": "code",
   "execution_count": 501,
   "metadata": {
    "collapsed": true
   },
   "outputs": [],
   "source": [
    "test_scenarios = []\n",
    "priors = [\"uniform\", \"jeffreys\", 0.5, 1.0]\n",
    "for prior in priors:\n",
    "    # O1 Scenarios\n",
    "    number_events = 0 # There were no BNS detections in O1\n",
    "    background_rate = 0.01 # We take the FAR to be 1/100 yr\n",
    "    observation_time = 46.1/365. # The number of days of analysis conducted by gstLAL\n",
    "    horizon = 73.2  # The O1 BNS horizon distance in O1 BNS paper\n",
    "    grb_rate = 36.7\n",
    "    o1_models = []\n",
    "    test_scenarios.append(grb_model(number_events, background_rate, observation_time, horizon, grb_rate, prior))"
   ]
  },
  {
   "cell_type": "code",
   "execution_count": 504,
   "metadata": {},
   "outputs": [
    {
     "name": "stderr",
     "output_type": "stream",
     "text": [
      "100%|██████████| 500000/500000 [01:12<00:00, 6891.05it/s]\n",
      "100%|██████████| 500000/500000 [01:12<00:00, 6915.98it/s]\n",
      "100%|██████████| 500000/500000 [00:37<00:00, 13242.42it/s]\n",
      "100%|██████████| 500000/500000 [00:36<00:00, 13662.52it/s]\n"
     ]
    }
   ],
   "source": [
    "samples = 500000\n",
    "traces = []\n",
    "for test_model in test_scenarios:\n",
    "    with test_model as model:\n",
    "            step = pm.Metropolis()\n",
    "            traces.append( pm.sample(samples, step) )\n",
    "            #angles.append(np.rad2deg(np.nanmean(trace['angle'])))"
   ]
  },
  {
   "cell_type": "code",
   "execution_count": 507,
   "metadata": {},
   "outputs": [
    {
     "name": "stdout",
     "output_type": "stream",
     "text": [
      "injected at: 10.0454502788\n",
      "\n",
      "    \\toprule\n",
      "    Prior & Lower & MAP & Median & Upper\\\\\n",
      "          & [$^\\circ$] & [$^\\circ$]& [$^\\circ$]& [$^\\circ$] \\\\\n",
      "    \\colrule\n",
      "\n",
      "U(0,1) & 4.62\t & 8.14\t & 13.23\t & 63.81\t \\\n",
      "Jeffreys & 4.38\t & 7.69\t & 13.23\t & 69.74\t \\\n",
      "$\\delta(0.5)$ & 5.24\t & 8.59\t & 11.89\t & 50.51\t \\\n",
      "$\\delta(1.0)$ & 3.68\t & 5.88\t & 8.45\t & 39.44\t \\\n"
     ]
    },
    {
     "data": {
      "image/png": "[encoded data removed]",
      "text/plain": [
       "<matplotlib.figure.Figure at 0x7f0231ac2650>"
      ]
     },
     "metadata": {},
     "output_type": "display_data"
    }
   ],
   "source": [
    "width = 3.487 #* 2\n",
    "height = width / 1.618\n",
    "\n",
    "f, ax = plt.subplots(1,1, sharex=True, figsize = (width, height))\n",
    "priors = [\"U(0,1)\", \"Jeffreys\", \"$\\delta(0.5)$\", \"$\\delta(1.0)$\"]\n",
    "pos = np.arange(4)/2.\n",
    "cbc_rate = np.mean(traces[0]['cbc_rate'])\n",
    "\n",
    "injected = np.arccos(1 - 2*(grb_rate/  number_mweg(1e9)) / cbc_rate)\n",
    "\n",
    "\n",
    "ax.vlines(np.rad2deg(injected), -0.5,2, 'r')\n",
    "\n",
    "print \"injected at: {}\".format(np.rad2deg(injected))\n",
    "\n",
    "print r\"\"\"\n",
    "    \\toprule\n",
    "    Prior & Lower & MAP & Median & Upper\\\\\n",
    "          & [$^\\circ$] & [$^\\circ$]& [$^\\circ$]& [$^\\circ$] \\\\\n",
    "    \\colrule\n",
    "\"\"\"\n",
    "\n",
    "for i, trace in enumerate(traces):\n",
    "    data = np.rad2deg(trace[2000:]['angle'][np.isfinite(trace[2000:]['angle'])])\n",
    "    parts = ax.violinplot(data, \n",
    "                          [pos[i]], points=200, widths=0.3, vert= False,\n",
    "                     #showmeans = True, showmedians=True, \n",
    "                      showmeans=False, showextrema=False, showmedians=False)\n",
    "\n",
    "    lower, medians, upper = np.percentile(data, [2.5, 50, 97.50])\n",
    "    a = stats.gaussian_kde(data)\n",
    "    x = np.linspace(0,90, 200)\n",
    "    MAP = x[a.pdf(x).argmax()]\n",
    "    \n",
    "\n",
    "    ax.hlines(pos[i], lower, upper, color='#333333', linestyle='-', lw=2, alpha = 0.5)\n",
    "\n",
    "    ax.scatter( [lower, upper], [pos[i]]*2, marker='|', color='k', s=15, zorder=3)\n",
    "    ax.scatter( [MAP], pos[i], marker='D', color='k', s=15, zorder=3)\n",
    "    ax.scatter( [medians], pos[i], marker='s', color='k', s=15, zorder=3)\n",
    "    print \"{} & {:.2f}\\t & {:.2f}\\t & {:.2f}\\t & {:.2f}\\t \\\\\".format(priors[i], lower, MAP, medians, upper)\n",
    "    axis = ax\n",
    "    axis.set_yticks(pos)\n",
    "    axis.set_yticklabels(priors)\n",
    "    ax.set_ylim(-0.5, 2.0)\n",
    "    ax.grid(b=True, axis='x', which='major', linewidth=0.5)\n",
    "    #axis.set_xlim([0, 35])\n",
    "    ax.get_xaxis().set_minor_locator(matplotlib.ticker.AutoMinorLocator())\n",
    "    ax.get_yaxis().set_minor_locator(matplotlib.ticker.AutoMinorLocator())\n",
    "    ax.grid(b=True, axis='x', which='major', linewidth=0.5)\n",
    "    ax.grid(b=True, axis='y', which='major', linewidth=0)\n",
    "    #ax.grid(b=True, which='minor', linewidth=0.5)\n",
    "ax.set_xlim([0,90])\n",
    "ax.tick_params(axis='y',which='both',left='off')\n",
    "ax.set_xlabel(r\"Beaming Angle [$\\theta$]\")\n",
    "ax.set_ylabel(r\"Prior Distribution on efficiency\")\n",
    "f.subplots_adjust(0.20, 0.15, .98, .95, wspace=0.05)\n",
    "f.savefig(\"../final_paper/O1_injections_violin.pdf\")"
   ]
  },
  {
   "cell_type": "markdown",
   "metadata": {},
   "source": [
    "## O2-like scenario"
   ]
  },
  {
   "cell_type": "code",
   "execution_count": 545,
   "metadata": {
    "collapsed": true
   },
   "outputs": [],
   "source": [
    "test_scenarios = []\n",
    "priors = [\"uniform\", \"jeffreys\", 0.5, 1.0]\n",
    "for prior in priors:\n",
    "    # O1 Scenarios\n",
    "    grb_rate = 27.98\n",
    "    number_events = 1 # Assume O2 will see one BNS observation\n",
    "    background_rate = 0.01 # We take the FAR to be 1/100 yr\n",
    "    observation_time = 0.5 # The number of years of analysis conducted \n",
    "    duty_cycle = 0.5\n",
    "    observation_time *= duty_cycle\n",
    "    horizon = 80.0  # The O1 BNS horizon distance in O1 BNS paper\n",
    "    \n",
    "    test_scenarios.append(grb_model(number_events, background_rate, observation_time, horizon, grb_rate, prior))"
   ]
  },
  {
   "cell_type": "code",
   "execution_count": 546,
   "metadata": {},
   "outputs": [
    {
     "name": "stderr",
     "output_type": "stream",
     "text": [
      "100%|██████████| 5000/5000 [00:01<00:00, 3493.08it/s]\n",
      "100%|██████████| 5000/5000 [00:00<00:00, 5479.68it/s]\n",
      "100%|██████████| 5000/5000 [00:00<00:00, 7778.35it/s]\n",
      "100%|██████████| 5000/5000 [00:00<00:00, 10737.65it/s]\n"
     ]
    }
   ],
   "source": [
    "samples = 5000\n",
    "traces = []\n",
    "for test_model in test_scenarios:\n",
    "    with test_model as model:\n",
    "            step = pm.Metropolis()\n",
    "            traces.append( pm.sample(samples, step) )\n",
    "            "
   ]
  },
  {
   "cell_type": "code",
   "execution_count": 547,
   "metadata": {},
   "outputs": [
    {
     "name": "stdout",
     "output_type": "stream",
     "text": [
      "injected at: 9.9378227909\n",
      "\n",
      "    \\toprule\n",
      "    Prior & Lower & MAP & Median & Upper\\\\\n",
      "          & [$^\\circ$] & [$^\\circ$]& [$^\\circ$]& [$^\\circ$] \\\\\n",
      "    \\colrule\n",
      "\n",
      "U(0,1) & 5.12\t & 9.05\t & 11.29\t & 51.04\t \\\n",
      "Jeffreys & 5.05\t & 9.05\t & 12.21\t & 62.72\t \\\n",
      "$\\delta(0.5)$ & 6.11\t & 9.50\t & 10.88\t & 27.88\t \\\n",
      "$\\delta(1.0)$ & 4.15\t & 6.78\t & 7.62\t & 21.17\t \\\n",
      "\\botrule\n"
     ]
    },
    {
     "data": {
      "image/png": "[encoded data removed]",
      "text/plain": [
       "<matplotlib.figure.Figure at 0x7f02221fae50>"
      ]
     },
     "metadata": {},
     "output_type": "display_data"
    }
   ],
   "source": [
    "width = 3.487 #* 2\n",
    "height = width / 1.618\n",
    "\n",
    "\n",
    "f, ax = plt.subplots(1,1, sharex=True, figsize = (width, height))\n",
    "\n",
    "priors = [\"U(0,1)\", \"Jeffreys\", \"$\\delta(0.5)$\", \"$\\delta(1.0)$\"]\n",
    "pos = np.arange(4)/2.\n",
    "cbc_rate = np.mean(traces[0]['cbc_rate'])\n",
    "injected = np.arccos(1 - 2*grb_rate/  number_mweg(1e9) / cbc_rate)\n",
    "\n",
    "print \"injected at: {}\".format(np.rad2deg(injected))\n",
    "\n",
    "print r\"\"\"\n",
    "    \\toprule\n",
    "    Prior & Lower & MAP & Median & Upper\\\\\n",
    "          & [$^\\circ$] & [$^\\circ$]& [$^\\circ$]& [$^\\circ$] \\\\\n",
    "    \\colrule\n",
    "\"\"\"\n",
    "\n",
    "ax.vlines(np.rad2deg(injected), -0.5,2, 'r')\n",
    "for i, trace in enumerate(traces):\n",
    "    data = np.rad2deg(trace[2000:]['angle'][np.isfinite(trace[2000:]['angle'])])\n",
    "    parts = ax.violinplot(data, \n",
    "                          [pos[i]], points=200, widths=0.3, vert= False,\n",
    "                     #showmeans = True, showmedians=True, \n",
    "                      showmeans=False, showextrema=False, showmedians=False)\n",
    "\n",
    "    lower, medians, upper = np.percentile(data, [2.5, 50, 97.50])\n",
    "    a = stats.gaussian_kde(data)\n",
    "    x = np.linspace(0,90, 200)\n",
    "    MAP = x[a.pdf(x).argmax()]\n",
    "    \n",
    "\n",
    "    ax.hlines(pos[i], lower, upper, color='#333333', linestyle='-', lw=2, alpha = 0.5)\n",
    "\n",
    "    ax.scatter( [lower, upper], [pos[i]]*2, marker='|', color='k', s=15, zorder=3)\n",
    "    ax.scatter( [MAP], pos[i], marker='D', color='k', s=15, zorder=3)\n",
    "    ax.scatter( [medians], pos[i], marker='s', color='k', s=15, zorder=3)\n",
    "    print \"{} & {:.2f}\\t & {:.2f}\\t & {:.2f}\\t & {:.2f}\\t \\\\\".format(priors[i], lower, MAP, medians, upper)\n",
    "    axis = ax\n",
    "    axis.set_yticks(pos)\n",
    "    axis.set_yticklabels(priors)\n",
    "    ax.set_ylim(-0.5, 2.0)\n",
    "    ax.grid(b=True, axis='x', which='major', linewidth=0.5)\n",
    "    \n",
    "    ax.grid(b=True, axis='y', which='major', linewidth=0)\n",
    "    #axis.set_xlim([0, 35])\n",
    "    ax.get_xaxis().set_minor_locator(matplotlib.ticker.AutoMinorLocator())\n",
    "    ax.get_yaxis().set_minor_locator(matplotlib.ticker.AutoMinorLocator())\n",
    "ax.set_xlim([0,90])\n",
    "print r\"\\botrule\"\n",
    "ax.tick_params(axis='y',which='both',left='off')\n",
    "ax.set_xlabel(r\"Beaming Angle [$\\theta$]\")\n",
    "ax.set_ylabel(r\"Prior Distribution on efficiency\")\n",
    "f.subplots_adjust(0.20, 0.15, .98, .95, wspace=0.05)\n",
    "f.savefig(\"../final_paper/O2_injections_violin.pdf\")"
   ]
  }
 ],
 "metadata": {
  "kernelspec": {
   "display_name": "Python (grbeaming)",
   "language": "python",
   "name": "venv-grbeaming"
  },
  "language_info": {
   "codemirror_mode": {
    "name": "ipython",
    "version": 2
   },
   "file_extension": ".py",
   "mimetype": "text/x-python",
   "name": "python",
   "nbconvert_exporter": "python",
   "pygments_lexer": "ipython2",
   "version": "2.7.12"
  },
  "latex_envs": {
   "bibliofile": "biblio.bib",
   "cite_by": "apalike",
   "current_citInitial": 1,
   "eqLabelWithNumbers": true,
   "eqNumInitial": 0
  }
 },
 "nbformat": 4,
 "nbformat_minor": 1
}
