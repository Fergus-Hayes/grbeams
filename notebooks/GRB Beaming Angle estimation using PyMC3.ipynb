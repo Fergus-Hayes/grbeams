{
 "cells": [
  {
   "cell_type": "code",
   "execution_count": 27,
   "metadata": {
    "collapsed": true
   },
   "outputs": [],
   "source": [
    "import pymc3 as pm\n",
    "import numpy as np\n",
    "import theano\n",
    "\n",
    "from theano.compile.ops import as_op\n",
    "\n",
    "import matplotlib.pyplot as plt\n",
    "%matplotlib inline\n",
    "plt.style.use(\"/home/daniel/papers/thesis/thesis-style.mpl\")"
   ]
  },
  {
   "cell_type": "code",
   "execution_count": 28,
   "metadata": {
    "collapsed": true
   },
   "outputs": [],
   "source": [
    "import matplotlib\n",
    "font = {'family' : 'normal',\n",
    "        'weight' : 'bold',\n",
    "        'size'   : 16}\n",
    "\n",
    "matplotlib.rc('font', **font)"
   ]
  },
  {
   "cell_type": "code",
   "execution_count": 29,
   "metadata": {
    "collapsed": true
   },
   "outputs": [],
   "source": [
    "def background_rate_f(b, T, n):\n",
    "    \"\"\"\n",
    "    \n",
    "    \"\"\"\n",
    "    out = 0\n",
    "    #n = int(n)\n",
    "    for i in range(n+1):\n",
    "        out += ((b*T)**i * np.exp(- b*T)) / np.math.factorial(i)\n",
    "    return out\n",
    "\n",
    "def log_background_rate(b, T, n):\n",
    "    return np.log(background_rate_f(b, T, n))\n",
    "\n",
    "def signal_rate_part(s, n, b, T):\n",
    "    top_a = T * ((s + b) * T)**n \n",
    "    top_b = np.exp(-(s + b)*T)\n",
    "    p = (top_a * top_b) / np.math.factorial(n)\n",
    "    return theano.tensor.switch(theano.tensor.le(s, 0), 0, p)\n",
    "\n",
    "#@as_op(itypes=[T.dscalar, T.dscalar, T.dscalar, T.dscalar], otypes=[T.dscalar])\n",
    "def log_signal_rate(s,n,b,T):\n",
    "    #if theano.tensor.lt(0, s): return np.array([[0.0]])\n",
    "    p = -log_background_rate(b,T,n) + np.log(signal_rate_part(s,n,b,T))\n",
    "    \n",
    "    return p"
   ]
  },
  {
   "cell_type": "code",
   "execution_count": 30,
   "metadata": {
    "collapsed": true
   },
   "outputs": [],
   "source": [
    "def number_mweg(volume):\n",
    "    \"\"\"\n",
    "    Calculates the number of MWEGs in a volume, given in units of Mpc^3\n",
    "    \"\"\"\n",
    "    return volume * (0.0116) "
   ]
  },
  {
   "cell_type": "code",
   "execution_count": 31,
   "metadata": {
    "collapsed": true
   },
   "outputs": [],
   "source": [
    "def number_mweg_inspiral(inspiral):\n",
    "    \"\"\"\n",
    "    Calculate the number of Milky Way equivalent galaxies \n",
    "    within a 3-sphere with a given inspiral radius. \n",
    "    \n",
    "    Parameters\n",
    "    ----------\n",
    "    inspiral : float\n",
    "        The insiral range for the detector.\n",
    "    \n",
    "    Notes\n",
    "    ------\n",
    "    Note the subtle difference between this funciton and `number_mweg`, \n",
    "    which expects the _horizon_ distance; these quantities differ\n",
    "    by a factor of ~2.26 due to the inclusion of a correction for\n",
    "    the antenna pattern.\n",
    "    \"\"\"\n",
    "    return 4./3 * np.pi * inspiral**3 * (0.0116) #* horizon**3"
   ]
  },
  {
   "cell_type": "code",
   "execution_count": 32,
   "metadata": {
    "collapsed": true
   },
   "outputs": [],
   "source": [
    "import theano.tensor as T\n",
    "from pymc3 import DensityDist, Uniform, Normal\n",
    "from pymc3 import Model\n",
    "from pymc3 import distributions\n",
    "\n",
    "def grb_model(number_events, background_rate, \n",
    "              observation_time, horizon, grb_rate,\n",
    "             efficiency_prior = \"uniform\"):\n",
    "    with Model() as model:\n",
    "        signal_rate = pm.DensityDist('signal_rate', \n",
    "                            logp=lambda value: log_signal_rate(value, number_events, background_rate, observation_time),\n",
    "                           testval=50)\n",
    "\n",
    "        volume = (4.0 / 3.0) * np.pi * horizon**3\n",
    "        \n",
    "        n_galaxy = number_mweg(volume)\n",
    "    \n",
    "        cbc_rate = pm.Deterministic('cbc_rate', signal_rate / n_galaxy)\n",
    "        \n",
    "        grb_rate = (grb_rate / number_mweg(1e9)) #/ n_galaxy\n",
    "        \n",
    "        # Allow the efficiency prior to be switched-out\n",
    "        if efficiency_prior == \"uniform\":\n",
    "            efficiency = pm.Uniform('efficiency', 0,1)\n",
    "        elif efficiency_prior == \"jeffreys\":\n",
    "            efficiency = pm.Beta('efficiency', 0.5, 0.5)\n",
    "        elif isinstance(efficiency_prior, float):\n",
    "            efficiency = efficiency_prior\n",
    "        \n",
    "        def cosangle(cbc_rate, efficiency, grb_rate):\n",
    "            return T.switch((grb_rate >= cbc_rate*efficiency), -np.Inf, \n",
    "                                 (1.0 - ((grb_rate/(cbc_rate*efficiency)))))\n",
    "        \n",
    "        costheta = pm.Deterministic('cos_angle', cosangle(cbc_rate, efficiency, grb_rate)\n",
    "                                    \n",
    "                                    )\n",
    "\n",
    "        angle = pm.Deterministic(\"angle\", theano.tensor.arccos(costheta))\n",
    "        \n",
    "        return model\n",
    "\n",
    "   \n"
   ]
  },
  {
   "cell_type": "code",
   "execution_count": null,
   "metadata": {
    "collapsed": true
   },
   "outputs": [],
   "source": [
    " with Model() as model:\n",
    "        signal_rate = pm.DensityDist('signal_rate', \n",
    "                            logp=lambda value: log_signal_rate(value, number_events, background_rate, observation_time),\n",
    "                           testval=50)\n",
    "\n",
    "        n_galaxy = number_mweg_inspiral(horizon)\n",
    "    \n",
    "        cbc_rate = pm.Deterministic('cbc_rate', signal_rate * n_galaxy)\n",
    "        \n",
    "        # Allow the efficiency prior to be switched-out\n",
    "        if efficiency_prior == \"uniform\":\n",
    "            efficiency = pm.Uniform('efficiency', 0,1)\n",
    "        elif efficiency_prior == \"jeffreys\":\n",
    "            efficiency = pm.Beta('efficiency', 0.5, 0.5)\n",
    "        elif isinstance(efficiency_prior, float):\n",
    "            efficiency = efficiency_prior\n",
    "        \n",
    "        def cosangle(cbc_rate, efficiency, grb_rate):\n",
    "            return T.switch((grb_rate >= cbc_rate*efficiency), -np.Inf, \n",
    "                                 (1.0 - ((grb_rate/(cbc_rate*efficiency)))))\n",
    "        \n",
    "        costheta = pm.Deterministic('cos_angle', cosangle(cbc_rate, efficiency, grb_rate)\n",
    "                                    \n",
    "                                    )\n",
    "\n",
    "        angle = pm.Deterministic(\"angle\", theano.tensor.arccos(costheta))\n",
    "        \n",
    "        return model\n"
   ]
  },
  {
   "cell_type": "code",
   "execution_count": 33,
   "metadata": {
    "collapsed": true
   },
   "outputs": [],
   "source": [
    "priors = [\"uniform\", \"jeffreys\", 1.0, 0.5]"
   ]
  },
  {
   "cell_type": "code",
   "execution_count": null,
   "metadata": {
    "collapsed": true
   },
   "outputs": [],
   "source": []
  },
  {
   "cell_type": "code",
   "execution_count": 34,
   "metadata": {},
   "outputs": [],
   "source": [
    "# 2015 - 2016 Scenario\n",
    "number_events = 0 # There were no BNS detections in O1\n",
    "background_rate = 0.01 # We take the FAR to be 1/100 yr\n",
    "observation_time = 46.1/365. # The number of days of analysis conducted by gstLAL\n",
    "horizon = 73.2  # The O1 BNS horizon distance in O1 BNS paper\n",
    "grb_rate = 10.0\n",
    "o1_models = []\n",
    "for prior in priors:\n",
    "    o1_models.append( grb_model(number_events, background_rate, observation_time, horizon, grb_rate, prior))"
   ]
  },
  {
   "cell_type": "code",
   "execution_count": 35,
   "metadata": {
    "collapsed": true
   },
   "outputs": [],
   "source": [
    "# 2016-2017 Scenarios\n",
    "number_events = 1 # Assume O2 will see one BNS observation\n",
    "background_rate = 0.01 # We take the FAR to be 1/100 yr\n",
    "observation_time = 0.5 # The number of years of analysis conducted \n",
    "duty_cycle = 0.5\n",
    "observation_time *= duty_cycle\n",
    "horizon = 80.0  # The O1 BNS horizon distance in O1 BNS paper\n",
    "grb_rate = 10.0\n",
    "o2_models = []\n",
    "for prior in priors:\n",
    "    o2_models.append( grb_model(number_events, background_rate, observation_time, horizon, grb_rate, prior))"
   ]
  },
  {
   "cell_type": "code",
   "execution_count": 36,
   "metadata": {
    "collapsed": true
   },
   "outputs": [],
   "source": [
    "# 2017-2018 Scenarios\n",
    "number_events = 3 # Assume O2 will see one BNS observation\n",
    "background_rate = 0.01 # We take the FAR to be 1/100 yr\n",
    "observation_time = 0.75 # The number of years of analysis conducted \n",
    "duty_cycle = 0.5\n",
    "observation_time *= duty_cycle\n",
    "horizon = 145.0  # The O1 BNS horizon distance in O1 BNS paper\n",
    "grb_rate = 10.0\n",
    "o3_models = []\n",
    "for prior in priors:\n",
    "    o3_models.append( grb_model(number_events, background_rate, observation_time, horizon, grb_rate, prior))"
   ]
  },
  {
   "cell_type": "code",
   "execution_count": 37,
   "metadata": {
    "collapsed": true
   },
   "outputs": [],
   "source": [
    "# 2019+ Scenarios\n",
    "number_events = 10 # Assume O2 will see one BNS observation\n",
    "background_rate = 0.01 # We take the FAR to be 1/100 yr\n",
    "observation_time = 1.0 # The number of years of analysis conducted \n",
    "duty_cycle = 0.5\n",
    "observation_time *= duty_cycle\n",
    "horizon = 200.0  # The O1 BNS horizon distance in O1 BNS paper\n",
    "grb_rate = 10.0\n",
    "o4_models = []\n",
    "for prior in priors:\n",
    "    o4_models.append( grb_model(number_events, background_rate, observation_time, horizon, grb_rate, prior))"
   ]
  },
  {
   "cell_type": "code",
   "execution_count": 38,
   "metadata": {
    "collapsed": true
   },
   "outputs": [],
   "source": [
    "# 2022+ Scenarios\n",
    "number_events = 20 # Assume O2 will see one BNS observation\n",
    "background_rate = 0.01 # We take the FAR to be 1/100 yr\n",
    "observation_time = 1.0 # The number of years of analysis conducted \n",
    "duty_cycle = 0.5\n",
    "observation_time *= duty_cycle\n",
    "horizon = 200.0  # The O1 BNS horizon distance in O1 BNS paper\n",
    "grb_rate = 10.0\n",
    "o5_models = []\n",
    "for prior in priors:\n",
    "    o5_models.append( grb_model(number_events, background_rate, observation_time, horizon, grb_rate, prior))"
   ]
  },
  {
   "cell_type": "code",
   "execution_count": 39,
   "metadata": {
    "collapsed": true
   },
   "outputs": [],
   "source": [
    "samples = 100000"
   ]
  },
  {
   "cell_type": "code",
   "execution_count": 40,
   "metadata": {},
   "outputs": [
    {
     "name": "stderr",
     "output_type": "stream",
     "text": [
      "100%|██████████| 100000/100000 [00:14<00:00, 6911.55it/s]\n",
      "100%|██████████| 100000/100000 [00:12<00:00, 7819.93it/s]\n",
      "100%|██████████| 100000/100000 [00:07<00:00, 14174.14it/s]\n",
      "100%|██████████| 100000/100000 [00:07<00:00, 14117.17it/s]\n"
     ]
    }
   ],
   "source": [
    "o1_traces = []\n",
    "for model in o1_models:\n",
    "    with model:\n",
    "        step = pm.Metropolis()\n",
    "        o1_traces.append(pm.sample(samples, step))"
   ]
  },
  {
   "cell_type": "code",
   "execution_count": 42,
   "metadata": {},
   "outputs": [
    {
     "name": "stderr",
     "output_type": "stream",
     "text": [
      "100%|██████████| 100000/100000 [00:13<00:00, 7575.04it/s]\n",
      "100%|██████████| 100000/100000 [00:13<00:00, 7685.11it/s]\n",
      "100%|██████████| 100000/100000 [00:07<00:00, 14264.13it/s]\n",
      "100%|██████████| 100000/100000 [00:06<00:00, 14976.70it/s]\n"
     ]
    }
   ],
   "source": [
    "o2_traces = []    \n",
    "for model in o2_models:\n",
    "    with model:\n",
    "        step = pm.Metropolis()\n",
    "        o2_traces.append(pm.sample(samples, step))\n",
    "        \n"
   ]
  },
  {
   "cell_type": "code",
   "execution_count": 16,
   "metadata": {},
   "outputs": [
    {
     "name": "stderr",
     "output_type": "stream",
     "text": [
      "100%|██████████| 1000000/1000000 [02:14<00:00, 7444.14it/s]\n",
      "100%|██████████| 1000000/1000000 [02:21<00:00, 7079.39it/s]\n",
      "100%|██████████| 1000000/1000000 [01:16<00:00, 13030.83it/s]\n",
      "100%|██████████| 1000000/1000000 [01:13<00:00, 13661.28it/s]\n",
      "100%|██████████| 1000000/1000000 [02:24<00:00, 6922.62it/s]\n",
      "100%|██████████| 1000000/1000000 [02:15<00:00, 7380.60it/s]\n",
      "100%|██████████| 1000000/1000000 [01:15<00:00, 13184.96it/s]\n",
      "100%|██████████| 1000000/1000000 [01:18<00:00, 12782.07it/s]\n",
      "100%|██████████| 1000000/1000000 [02:25<00:00, 6850.76it/s]\n",
      "100%|██████████| 1000000/1000000 [02:19<00:00, 7152.63it/s]\n",
      "100%|██████████| 1000000/1000000 [01:20<00:00, 12404.88it/s]\n",
      "100%|██████████| 1000000/1000000 [01:21<00:00, 12250.35it/s]\n"
     ]
    }
   ],
   "source": [
    "o3_traces = []\n",
    "for model in o3_models:\n",
    "    with model:\n",
    "        step = pm.Metropolis()\n",
    "        o3_traces.append(pm.sample(samples, step))\n",
    "    \n",
    "o4_traces = []    \n",
    "for model in o4_models:\n",
    "    with model:\n",
    "        step = pm.Metropolis()\n",
    "        o4_traces.append(pm.sample(samples, step))\n",
    "        \n",
    "o5_traces = []    \n",
    "for model in o5_models:\n",
    "    with model:\n",
    "        step = pm.Metropolis()\n",
    "        o5_traces.append(pm.sample(samples, step))"
   ]
  },
  {
   "cell_type": "code",
   "execution_count": 17,
   "metadata": {
    "collapsed": true
   },
   "outputs": [],
   "source": [
    "import matplotlib\n",
    "import pymc3.stats"
   ]
  },
  {
   "cell_type": "code",
   "execution_count": 18,
   "metadata": {},
   "outputs": [
    {
     "name": "stdout",
     "output_type": "stream",
     "text": [
      "|Scenario|Lower\t|MAP\t|Median\t|Upper\t|\n",
      "| 2015 -- 2016 | 0.00\t | 0.00\t | 5.50\t | 23.77\t |\n",
      "| 2016 -- 2017 | 0.17\t | 3.58\t | 6.72\t | 19.12\t |\n",
      "| 2017 -- 2018 | 1.87\t | 7.54\t | 9.78\t | 21.13\t |\n",
      "| 2019+ | 9.94\t | 19.68\t | 21.35\t | 35.24\t |\n",
      "| 2022+ | 24.85\t | 38.31\t | 41.32\t | 60.22\t |\n"
     ]
    },
    {
     "data": {
      "image/png": "[encoded data removed]",
      "text/plain": [
       "<matplotlib.figure.Figure at 0x7f3b6f3cf650>"
      ]
     },
     "metadata": {},
     "output_type": "display_data"
    }
   ],
   "source": [
    "width = 3.487 #* 2\n",
    "height = width / 1.618\n",
    "\n",
    "\n",
    "f, ax = plt.subplots(1,1, sharex=True, figsize = (width, height))\n",
    "priors = [\"U(0,1)\", \"Jeffreys\", \"$\\delta(1)$\", \"$\\delta(0.5)$\"]\n",
    "scenarios = [\"2015 -- 2016\", \"2016 -- 2017\", \"2017 -- 2018\", \"2019+\", \"2022+\"]\n",
    "print \"|Scenario|Lower\\t|MAP\\t|Median\\t|Upper\\t|\"\n",
    "\n",
    "pos = [.5, 1, 1.5, 2, 2.5]\n",
    "\n",
    "i = 0\n",
    "\n",
    "\n",
    "for i, trace in enumerate([o1_traces, o2_traces, o3_traces, o4_traces, o5_traces]):\n",
    "    #i = i/2.0\n",
    "    data = trace[0][2000:]['signal_rate']\n",
    "\n",
    "    parts = ax.violinplot(data, [pos[i]], points=50, widths=0.3, vert= False,\n",
    "                     #showmeans = True, showmedians=True, \n",
    "                      showmeans=False, showextrema=False, showmedians=False)\n",
    "\n",
    "    lower_p , medians, upper_p = np.percentile(data, [2.5, 50, 97.50])\n",
    "    lower, upper = pymc3.stats.hpd(data, alpha=0.05)\n",
    "    hist = np.histogram(data, bins = 50)\n",
    "    MAP = hist[1][np.argmax(hist[0])]\n",
    "\n",
    "\n",
    "\n",
    "    ax.hlines(pos[i], lower, upper, color='#333333', linestyle='-', lw=2, alpha = 0.5)\n",
    "\n",
    "    ax.scatter( [lower, upper], [pos[i]]*2, marker='|', color='k', s=15, zorder=3)\n",
    "    ax.scatter( [MAP], pos[i], marker='D', color='k', s=15, zorder=3)\n",
    "    ax.scatter( [medians], pos[i], marker='s', color='k', s=15, zorder=3)\n",
    "    #ax2.vlines(inds, whiskersMin, whiskersMax, color='k', linestyle='-', lw=1)\n",
    "\n",
    "    print \"| {} | {:.2f}\\t | {:.2f}\\t | {:.2f}\\t | {:.2f}\\t |\".format(scenarios[i], lower, MAP, medians, upper)\n",
    "\n",
    "\n",
    "axis = ax\n",
    "axis.set_yticks(pos)\n",
    "axis.set_yticklabels([\"2015-2016\", \"2016-2017\", \"2017-2018\", \"2019+\", \"2022+\"])\n",
    "axis.set_xlim([0, 70])\n",
    "ax.get_xaxis().set_minor_locator(matplotlib.ticker.AutoMinorLocator())\n",
    "#ax.get_yaxis().set_minor_locator(matplotlib.ticker.AutoMinorLocator())\n",
    "ax.grid(b=True, axis=\"x\", which='major', linewidth=0.5)\n",
    "#ax.grid(b=True, which='minor', linewidth=0.5)\n",
    "ax.set_xlabel(r\"Event rate [yr$^-1$]\")\n",
    "ax.set_ylabel(r\"Observing Scenario\")\n",
    "f.subplots_adjust(0.21, 0.17, .97, .95, wspace=0.05)\n",
    "f.savefig(\"rate_posteriors_violin.pdf\")"
   ]
  },
  {
   "cell_type": "code",
   "execution_count": 21,
   "metadata": {
    "collapsed": true
   },
   "outputs": [],
   "source": [
    "def beaming_violins(traces, priors):\n",
    "\n",
    "    width = 3.487 #* 2\n",
    "    height = width / 1.618\n",
    "\n",
    "\n",
    "    f, ax = plt.subplots(1,1, sharex=True, figsize = (width, height))\n",
    "    priors = [\"U(0,1)\", \"Jeffreys\", \"$\\delta(1)$\", \"$\\delta(0.5)$\"]\n",
    "    print \"|\\t\\t\\t| Lower\\t| MAP\\t| Median\\t| Upper\\t|\"\n",
    "    print \"|----------|\"\n",
    "    matplotlib.rcParams.update({'font.size': 10})\n",
    "    pos = [.5, 1, 1.5, 2]\n",
    "\n",
    "    for i in range(len(priors)):\n",
    "\n",
    "        o2_trace = traces[i]\n",
    "        #o2_trace = o2_traces[i]\n",
    "\n",
    "        #i = i/2.0\n",
    "        t_data = o2_trace[2000:]['angle'][np.isfinite(o2_trace[2000:]['angle'])]\n",
    "        data = np.rad2deg(t_data)\n",
    "\n",
    "        parts = ax.violinplot(data, [pos[i]], points=100, widths=0.3, vert= False,\n",
    "                         #showmeans = True, showmedians=True, \n",
    "                          showmeans=False, showextrema=False, showmedians=False)\n",
    "\n",
    "        lower_p, medians, upper_p = np.percentile(data, [2.5, 50, 97.50])\n",
    "        lower, upper = pymc3.stats.hpd(t_data, alpha=0.05, transform=np.rad2deg)\n",
    "        hist = np.histogram(data, bins = 90)\n",
    "        MAP = hist[1][np.argmax(hist[0])]\n",
    "\n",
    "\n",
    "\n",
    "        ax.hlines(pos[i], lower, upper, color='#333333', linestyle='-', lw=2, alpha = 0.5)\n",
    "\n",
    "        ax.scatter( [lower, upper], [pos[i]]*2, marker='|', color='k', s=15, zorder=3)\n",
    "        ax.scatter( [MAP], pos[i], marker='D', color='k', s=15, zorder=3)\n",
    "        ax.scatter( [medians], pos[i], marker='s', color='k', s=15, zorder=3)\n",
    "        #ax2.vlines(inds, whiskersMin, whiskersMax, color='k', linestyle='-', lw=1)\n",
    "\n",
    "        print \"| {} \\t| {:.2f}\\t| {:.2f}\\t| {:.2f}\\t| {:.2f}\\t|\".format(priors[i], lower, MAP, medians, upper)\n",
    "\n",
    "        axis = ax\n",
    "        axis.set_yticks(pos)\n",
    "        axis.set_yticklabels(priors)\n",
    "        axis.set_xlim([0, 52])\n",
    "        ax.get_xaxis().set_minor_locator(matplotlib.ticker.AutoMinorLocator())\n",
    "        ax.get_yaxis().set_minor_locator(matplotlib.ticker.AutoMinorLocator())\n",
    "        ax.grid(b=True, axis='x', which='major', linewidth=0.5)\n",
    "        ax.grid(b=True, axis='y', which='major', linewidth=0)\n",
    "        #ax.grid(b=True, which='minor', linewidth=0.5)\n",
    "    ax.set_xlabel(r\"Beaming Angle [$\\theta$]\")\n",
    "    ax.set_ylabel(r\"Prior Distribution on efficiency\")\n",
    "    ax.tick_params(axis='y',which='both',left='off')\n",
    "    f.subplots_adjust(0.20, 0.15, .98, .95, wspace=0.05)\n",
    "    #f.savefig(\"O2a_beaming_posteriors_violin.pdf\")\n",
    "    #f.savefig(\"O2a_beaming_posteriors_violin.png\", dpi=300)\n",
    "    return f"
   ]
  },
  {
   "cell_type": "code",
   "execution_count": 41,
   "metadata": {},
   "outputs": [
    {
     "name": "stdout",
     "output_type": "stream",
     "text": [
      "|\t\t\t| Lower\t| MAP\t| Median\t| Upper\t|\n",
      "|----------|\n",
      "| U(0,1) \t| 1.56\t| 3.18\t| 7.03\t| 32.55\t|\n",
      "| Jeffreys \t| 1.43\t| 3.23\t| 7.21\t| 42.67\t|\n",
      "| $\\delta(1)$ \t| 1.50\t| 2.99\t| 4.45\t| 16.33\t|\n",
      "| $\\delta(0.5)$ \t| 2.01\t| 3.70\t| 6.28\t| 22.59\t|\n"
     ]
    },
    {
     "data": {
      "image/png": "[encoded data removed]",
      "text/plain": [
       "<matplotlib.figure.Figure at 0x7f3b6fbc49d0>"
      ]
     },
     "execution_count": 41,
     "metadata": {},
     "output_type": "execute_result"
    },
    {
     "data": {
      "image/png": "[encoded data removed]",
      "text/plain": [
       "<matplotlib.figure.Figure at 0x7f3b6fbc49d0>"
      ]
     },
     "metadata": {},
     "output_type": "display_data"
    }
   ],
   "source": [
    "beaming_violins(o1_traces, priors)"
   ]
  },
  {
   "cell_type": "code",
   "execution_count": 43,
   "metadata": {},
   "outputs": [
    {
     "name": "stdout",
     "output_type": "stream",
     "text": [
      "|\t\t\t| Lower\t| MAP\t| Median\t| Upper\t|\n",
      "|----------|\n",
      "| U(0,1) \t| 2.17\t| 4.70\t| 7.16\t| 25.48\t|\n",
      "| Jeffreys \t| 1.96\t| 3.70\t| 7.23\t| 38.70\t|\n",
      "| $\\delta(1)$ \t| 2.11\t| 3.24\t| 4.59\t| 10.17\t|\n",
      "| $\\delta(0.5)$ \t| 2.96\t| 5.04\t| 6.50\t| 14.39\t|\n"
     ]
    },
    {
     "data": {
      "image/png": "[encoded data removed]",
      "text/plain": [
       "<matplotlib.figure.Figure at 0x7f3b75e98110>"
      ]
     },
     "execution_count": 43,
     "metadata": {},
     "output_type": "execute_result"
    },
    {
     "data": {
      "image/png": "[encoded data removed]",
      "text/plain": [
       "<matplotlib.figure.Figure at 0x7f3b75e98110>"
      ]
     },
     "metadata": {},
     "output_type": "display_data"
    }
   ],
   "source": [
    "beaming_violins(o2_traces, priors)"
   ]
  },
  {
   "cell_type": "code",
   "execution_count": 19,
   "metadata": {},
   "outputs": [
    {
     "name": "stdout",
     "output_type": "stream",
     "text": [
      "|Lower\t|MAP\t|Median\t|Upper\t|\n",
      "| 0.26\t | 0.20\t | 1.28\t | 6.59\t |\n",
      "| 0.23\t | 0.18\t | 1.36\t | 12.56\t |\n",
      "| 0.23\t | 0.18\t | 0.79\t | 2.90\t |\n",
      "| 0.34\t | 0.25\t | 1.12\t | 4.12\t |\n"
     ]
    },
    {
     "data": {
      "image/png": "[encoded data removed]",
      "text/plain": [
       "<matplotlib.figure.Figure at 0x7f3b6f6dc910>"
      ]
     },
     "metadata": {},
     "output_type": "display_data"
    }
   ],
   "source": [
    "width = 3.487 #* 2\n",
    "height = width / 1.618\n",
    "\n",
    "\n",
    "f, ax = plt.subplots(1,1, sharex=True, figsize = (width, height))\n",
    "priors = [\"U(0,1)\", \"Jeffreys\", \"$\\delta(1)$\", \"$\\delta(0.5)$\"]\n",
    "print \"|Lower\\t|MAP\\t|Median\\t|Upper\\t|\"\n",
    "matplotlib.rcParams.update({'font.size': 10})\n",
    "pos = [.5, 1, 1.5, 2]\n",
    "\n",
    "for i in range(len(priors)):\n",
    "\n",
    "    o1_trace = o1_traces[i]\n",
    "    #o2_trace = o2_traces[i]\n",
    "\n",
    "    #i = i/2.0\n",
    "    t_data = o1_trace[2000:]['angle'][np.isfinite(o1_trace[2000:]['angle'])]\n",
    "    data = np.rad2deg(t_data)\n",
    "\n",
    "    parts = ax.violinplot(data, [pos[i]], points=50, widths=0.3, vert= False,\n",
    "                     #showmeans = True, showmedians=True, \n",
    "                      showmeans=False, showextrema=False, showmedians=False)\n",
    "\n",
    "    lower_p, medians, upper_p = np.percentile(data, [2.5, 50, 97.50])\n",
    "    lower, upper = pymc3.stats.hpd(t_data, alpha=0.05, transform=np.rad2deg)\n",
    "    hist = np.histogram(data, bins = 50)\n",
    "    MAP = hist[1][np.argmax(hist[0])]\n",
    "    \n",
    "    \n",
    "    \n",
    "    ax.hlines(pos[i], lower, upper, color='#333333', linestyle='-', lw=2, alpha = 0.5)\n",
    "    \n",
    "    ax.scatter( [lower, upper], [pos[i]]*2, marker='|', color='k', s=15, zorder=3)\n",
    "    ax.scatter( [MAP], pos[i], marker='D', color='k', s=15, zorder=3)\n",
    "    ax.scatter( [medians], pos[i], marker='s', color='k', s=15, zorder=3)\n",
    "    #ax2.vlines(inds, whiskersMin, whiskersMax, color='k', linestyle='-', lw=1)\n",
    "    \n",
    "    print \"| {:.2f}\\t | {:.2f}\\t | {:.2f}\\t | {:.2f}\\t |\".format(lower, MAP, medians, upper)\n",
    "    \n",
    "    axis = ax\n",
    "    axis.set_yticks(pos)\n",
    "    axis.set_yticklabels(priors)\n",
    "    axis.set_xlim([0, 15])\n",
    "    ax.get_xaxis().set_minor_locator(matplotlib.ticker.AutoMinorLocator())\n",
    "    ax.get_yaxis().set_minor_locator(matplotlib.ticker.AutoMinorLocator())\n",
    "    ax.grid(b=True, axis='x', which='major', linewidth=0.5)\n",
    "    #ax.grid(b=True, which='minor', linewidth=0.5)\n",
    "ax.set_xlabel(r\"Beaming Angle [$\\theta$]\")\n",
    "ax.set_ylabel(r\"Prior Distribution on efficiency\")\n",
    "f.subplots_adjust(0.20, 0.15, .98, .95, wspace=0.05)\n",
    "f.savefig(\"O1_beaming_posteriors_violin.pdf\")"
   ]
  },
  {
   "cell_type": "code",
   "execution_count": 20,
   "metadata": {},
   "outputs": [
    {
     "name": "stdout",
     "output_type": "stream",
     "text": [
      "|Lower\t|MAP\t|Median\t|Upper\t|\n",
      "| 0.05\t | 0.04\t | 0.09\t | 0.29\t |\n",
      "| 0.05\t | 0.04\t | 0.09\t | 0.82\t |\n",
      "| 0.05\t | 0.06\t | 0.06\t | 0.08\t |\n",
      "| 0.07\t | 0.09\t | 0.09\t | 0.11\t |\n"
     ]
    },
    {
     "data": {
      "image/png": "[encoded data removed]",
      "text/plain": [
       "<matplotlib.figure.Figure at 0x7f3b7c09b0d0>"
      ]
     },
     "metadata": {},
     "output_type": "display_data"
    }
   ],
   "source": [
    "width = 3.487 #* 2\n",
    "height = width / 1.618\n",
    "\n",
    "\n",
    "f, ax = plt.subplots(1,1, sharex=True, figsize = (width, height))\n",
    "priors = [\"U(0,1)\", \"Jeffreys\", \"$\\delta(1)$\", \"$\\delta(0.5)$\"]\n",
    "print \"|Lower\\t|MAP\\t|Median\\t|Upper\\t|\"\n",
    "\n",
    "pos = [.5, 1, 1.5, 2]\n",
    "\n",
    "for i in range(len(priors)):\n",
    "\n",
    "    o1_trace = o1_traces[i]\n",
    "    o2_trace = o5_traces[i]\n",
    "\n",
    "    #i = i/2.0\n",
    "    t_data = o2_trace[2000:]['angle'][np.isfinite(o2_trace[2000:]['angle'])]\n",
    "    data = np.rad2deg(t_data)\n",
    "\n",
    "    parts = ax.violinplot(data, [pos[i]], points=50, widths=0.3, vert= False,\n",
    "                     #showmeans = True, showmedians=True, \n",
    "                      showmeans=False, showextrema=False, showmedians=False)\n",
    "\n",
    "    lower_p, medians, upper_p = np.percentile(data, [2.5, 50, 97.50])\n",
    "    lower, upper = pymc3.stats.hpd(t_data, alpha=0.05, transform=np.rad2deg)\n",
    "    hist = np.histogram(data, bins = 50)\n",
    "    MAP = hist[1][np.argmax(hist[0])]\n",
    "    \n",
    "    \n",
    "    \n",
    "    ax.hlines(pos[i], lower, upper, color='#333333', linestyle='-', lw=2, alpha = 0.5)\n",
    "    \n",
    "    ax.scatter( [lower, upper], [pos[i]]*2, marker='|', color='k', s=15, zorder=3)\n",
    "    ax.scatter( [MAP], pos[i], marker='D', color='k', s=15, zorder=3)\n",
    "    ax.scatter( [medians], pos[i], marker='s', color='k', s=15, zorder=3)\n",
    "    #ax2.vlines(inds, whiskersMin, whiskersMax, color='k', linestyle='-', lw=1)\n",
    "    \n",
    "    print \"| {:.2f}\\t | {:.2f}\\t | {:.2f}\\t | {:.2f}\\t |\".format(lower, MAP, medians, upper)\n",
    "    \n",
    "    axis = ax\n",
    "    axis.set_yticks(pos)\n",
    "    axis.set_yticklabels(priors)\n",
    "    axis.set_xlim([0, 15])\n",
    "    ax.get_xaxis().set_minor_locator(matplotlib.ticker.AutoMinorLocator())\n",
    "    ax.get_yaxis().set_minor_locator(matplotlib.ticker.AutoMinorLocator())\n",
    "    ax.grid(b=True, axis='x', which='major', linewidth=0.5)\n",
    "ax.set_xlabel(r\"Beaming Angle [$\\theta$]\")\n",
    "ax.set_ylabel(r\"Prior Distribution on efficiency\")\n",
    "f.subplots_adjust(0.20, 0.15, .98, .95, wspace=0.05)\n",
    "f.savefig(\"O2_beaming_posteriors_violin.pdf\")"
   ]
  },
  {
   "cell_type": "code",
   "execution_count": 65,
   "metadata": {},
   "outputs": [
    {
     "data": {
      "image/png": "[encoded data removed]",
      "text/plain": [
       "<matplotlib.figure.Figure at 0x7f8cb57cd950>"
      ]
     },
     "metadata": {},
     "output_type": "display_data"
    }
   ],
   "source": [
    "priors = [\"U(0,1)\", \"jeffreys\", \"$\\delta(1)$\", \"$\\delta(0.5)$\"]\n",
    "width = 3.487 #* 2\n",
    "height = width / 1.618\n",
    "f, ax = plt.subplots(1,1, figsize = (width, height), sharey=True, sharex=True)\n",
    "for i in range(len(priors)):\n",
    "\n",
    "    o1_trace = o1_traces[i]\n",
    "    o2_trace = o2_traces[i]\n",
    "    ax.hist(np.rad2deg(o2_trace[2000:]['angle'][np.isfinite(o2_trace[2000:]['angle'])]),\n",
    "               histtype=\"step\", bins = 50, lw=2, label=priors[i], log=True, normed=True);\n",
    "    #ax.hist(np.rad2deg(o2_trace[2000:]['angle'][np.isfinite(o2_trace[2000:]['angle'])]),\n",
    "    #           histtype=\"step\", lw=2, label=\"O2 Angle\", log=True);\n",
    "    #ax[3,i].vlines(np.percentile(np.rad2deg(o1_trace[2000:]['angle'][np.isfinite(o1_trace[2000:]['angle'])]), 90), 0, 3e5,\n",
    "    #              label = \"90\\% lower limit, O1\");\n",
    "    #ax[3,i].vlines(np.percentile(np.rad2deg(o2_trace[2000:]['angle'][np.isfinite(o2_trace[2000:]['angle'])]), 90), 0, 3e5,\n",
    "    #              label = \"90\\% lower limit, O2\");\n",
    "    #ax[1,0].set_xlabel(u\"$s$ /Gpc³/yr\")\n",
    "    if i==3: ax.legend()\n",
    "    #if i > 0: \n",
    "    #    ax[i].set_yticklabels([]), ax[2,i].set_yticklabels([])\n",
    "    #    ax[i].set_yticklabels([]), ax[1,i].set_yticklabels([])\n",
    "ax.set_xlabel(\"Beaming angle [deg]\")    \n",
    "ax.set_ylabel(r\"$p(\\theta | D,I)$\")\n",
    "f.subplots_adjust(0.07, 0.05, .99, .95, wspace=0.05)\n",
    "f.savefig(\"O2_beaming_posteriors.pdf\")\n",
    "#f.savefig(\"/home/daniel/papers/thesis/figures/grbbeamingpymc.pdf\")"
   ]
  },
  {
   "cell_type": "markdown",
   "metadata": {},
   "source": [
    "In order to get an idea of what how the estimate of the opening angle changes with respect to increasing horizon distance and an increasing number of detections we can make a plot of the median value of the probability distribution for each of the different priors with respect to both these quantities."
   ]
  },
  {
   "cell_type": "code",
   "execution_count": 44,
   "metadata": {
    "collapsed": true
   },
   "outputs": [],
   "source": [
    "# make a plot of the beaming angle as a function of observation volume against number of detections\n",
    "# O1 Scenarios\n",
    "scenarios = []\n",
    "for events in range(20):\n",
    "    for horizon in np.linspace(10, 1000, 200):\n",
    "        number_events = events # There were no BNS detections in O1\n",
    "        background_rate = 0.01 # We take the FAR to be 1/100 yr\n",
    "        observation_time = 1.  # The number of days of analysis conducted by gstLAL\n",
    "        grb_rate = 10.0\n",
    "        o1_models = []\n",
    "        #for prior in priors:\n",
    "        scenarios.append( grb_model(number_events, background_rate, observation_time, horizon, grb_rate, efficiency_prior='jeffreys'))"
   ]
  },
  {
   "cell_type": "code",
   "execution_count": 46,
   "metadata": {},
   "outputs": [
    {
     "name": "stderr",
     "output_type": "stream",
     "text": [
      "100%|██████████| 100000/100000 [00:13<00:00, 7428.52it/s]\n",
      "100%|██████████| 100000/100000 [00:13<00:00, 7386.23it/s]\n",
      "100%|██████████| 100000/100000 [00:13<00:00, 7556.33it/s]\n",
      "100%|██████████| 100000/100000 [00:13<00:00, 7341.15it/s]\n",
      "100%|██████████| 100000/100000 [00:14<00:00, 6731.04it/s]\n",
      "100%|██████████| 100000/100000 [00:13<00:00, 7512.72it/s]\n",
      "100%|██████████| 100000/100000 [00:12<00:00, 7773.77it/s]\n",
      "100%|██████████| 100000/100000 [00:14<00:00, 7015.78it/s]\n",
      "100%|██████████| 100000/100000 [00:14<00:00, 7011.51it/s]\n",
      "100%|██████████| 100000/100000 [00:14<00:00, 7077.14it/s]\n",
      "100%|██████████| 100000/100000 [00:13<00:00, 7316.51it/s]\n",
      "100%|██████████| 100000/100000 [00:14<00:00, 7127.07it/s]\n",
      "100%|██████████| 100000/100000 [00:13<00:00, 7229.30it/s]\n",
      "100%|██████████| 100000/100000 [00:13<00:00, 7151.50it/s]\n",
      "100%|██████████| 100000/100000 [00:13<00:00, 7181.81it/s]\n",
      "100%|██████████| 100000/100000 [00:13<00:00, 7227.50it/s]\n",
      "100%|██████████| 100000/100000 [00:13<00:00, 7176.60it/s]\n",
      "100%|██████████| 100000/100000 [00:13<00:00, 7206.34it/s]\n",
      "100%|██████████| 100000/100000 [00:13<00:00, 7149.04it/s]\n",
      "100%|██████████| 100000/100000 [00:13<00:00, 7225.91it/s]\n",
      "100%|██████████| 100000/100000 [00:13<00:00, 7358.32it/s]\n",
      "100%|██████████| 100000/100000 [00:12<00:00, 7761.17it/s]\n",
      "100%|██████████| 100000/100000 [00:12<00:00, 7878.11it/s]\n",
      "100%|██████████| 100000/100000 [00:14<00:00, 7034.07it/s]\n",
      "100%|██████████| 100000/100000 [00:14<00:00, 7069.53it/s]\n",
      "100%|██████████| 100000/100000 [00:13<00:00, 7227.65it/s]\n",
      "100%|██████████| 100000/100000 [00:14<00:00, 6832.01it/s]\n",
      "100%|██████████| 100000/100000 [00:15<00:00, 6535.19it/s]\n",
      "100%|██████████| 100000/100000 [00:12<00:00, 7698.55it/s]\n",
      "100%|██████████| 100000/100000 [00:13<00:00, 7665.64it/s]\n",
      "100%|██████████| 100000/100000 [00:13<00:00, 7281.22it/s]\n",
      "100%|██████████| 100000/100000 [00:13<00:00, 7356.40it/s]\n",
      "100%|██████████| 100000/100000 [00:14<00:00, 6783.98it/s]\n",
      "100%|██████████| 100000/100000 [00:14<00:00, 7098.86it/s]\n",
      "100%|██████████| 100000/100000 [00:14<00:00, 6804.68it/s]\n",
      "100%|██████████| 100000/100000 [00:13<00:00, 7553.83it/s]\n",
      "100%|██████████| 100000/100000 [00:13<00:00, 7325.61it/s]\n",
      "100%|██████████| 100000/100000 [00:14<00:00, 6720.98it/s]\n",
      "100%|██████████| 100000/100000 [00:14<00:00, 6686.36it/s]\n",
      "100%|██████████| 100000/100000 [00:13<00:00, 7157.64it/s]\n",
      "100%|██████████| 100000/100000 [00:20<00:00, 4959.70it/s]\n",
      "100%|██████████| 100000/100000 [00:14<00:00, 7006.48it/s]\n",
      "100%|██████████| 100000/100000 [00:13<00:00, 7206.96it/s]\n",
      "100%|██████████| 100000/100000 [00:13<00:00, 7175.67it/s]\n",
      "100%|██████████| 100000/100000 [00:13<00:00, 7345.28it/s]\n",
      "100%|██████████| 100000/100000 [00:13<00:00, 7532.41it/s]\n",
      "100%|██████████| 100000/100000 [00:13<00:00, 7498.24it/s]\n",
      "100%|██████████| 100000/100000 [00:13<00:00, 7525.38it/s]\n",
      "100%|██████████| 100000/100000 [00:12<00:00, 7709.45it/s]\n",
      "100%|██████████| 100000/100000 [00:13<00:00, 7658.79it/s]\n",
      "100%|██████████| 100000/100000 [00:13<00:00, 7399.55it/s]\n",
      "100%|██████████| 100000/100000 [00:13<00:00, 7435.05it/s]\n",
      "100%|██████████| 100000/100000 [00:13<00:00, 7656.64it/s]\n",
      "100%|██████████| 100000/100000 [00:14<00:00, 7022.73it/s]\n",
      "100%|██████████| 100000/100000 [00:13<00:00, 7496.84it/s]\n",
      "100%|██████████| 100000/100000 [00:13<00:00, 7230.07it/s]\n",
      "100%|██████████| 100000/100000 [00:13<00:00, 7662.38it/s]\n",
      "100%|██████████| 100000/100000 [00:14<00:00, 7041.52it/s]\n",
      "100%|██████████| 100000/100000 [00:12<00:00, 7720.89it/s]\n",
      "100%|██████████| 100000/100000 [00:13<00:00, 7322.96it/s]\n",
      "100%|██████████| 100000/100000 [00:14<00:00, 7077.87it/s]\n",
      "100%|██████████| 100000/100000 [00:13<00:00, 7667.65it/s]\n",
      "100%|██████████| 100000/100000 [00:13<00:00, 7357.22it/s]\n",
      "100%|██████████| 100000/100000 [00:14<00:00, 6898.00it/s]\n",
      "100%|██████████| 100000/100000 [00:13<00:00, 7499.95it/s]\n",
      "100%|██████████| 100000/100000 [00:13<00:00, 7282.64it/s]\n",
      "100%|██████████| 100000/100000 [00:12<00:00, 7818.94it/s]\n",
      "100%|██████████| 100000/100000 [00:13<00:00, 7360.15it/s]\n",
      "100%|██████████| 100000/100000 [00:16<00:00, 6062.72it/s]\n",
      "100%|██████████| 100000/100000 [00:15<00:00, 6603.19it/s]\n",
      "100%|██████████| 100000/100000 [00:14<00:00, 6970.99it/s]\n",
      "100%|██████████| 100000/100000 [00:13<00:00, 7668.59it/s]\n",
      "100%|██████████| 100000/100000 [00:14<00:00, 6838.48it/s]\n",
      "100%|██████████| 100000/100000 [00:14<00:00, 7088.89it/s]\n",
      "100%|██████████| 100000/100000 [00:13<00:00, 7344.82it/s]\n",
      "100%|██████████| 100000/100000 [00:14<00:00, 6903.63it/s]\n",
      "100%|██████████| 100000/100000 [00:13<00:00, 7198.51it/s]\n",
      "100%|██████████| 100000/100000 [00:13<00:00, 7158.90it/s]\n",
      "100%|██████████| 100000/100000 [00:13<00:00, 7190.36it/s]\n",
      "100%|██████████| 100000/100000 [00:15<00:00, 6487.08it/s]\n",
      "100%|██████████| 100000/100000 [00:13<00:00, 7264.21it/s]\n",
      "100%|██████████| 100000/100000 [00:12<00:00, 7757.97it/s]\n",
      "100%|██████████| 100000/100000 [00:12<00:00, 7778.39it/s]\n",
      "100%|██████████| 100000/100000 [00:19<00:00, 5202.22it/s]\n",
      "100%|██████████| 100000/100000 [00:13<00:00, 7380.43it/s]\n",
      "100%|██████████| 100000/100000 [00:13<00:00, 7496.05it/s]\n",
      "100%|██████████| 100000/100000 [00:13<00:00, 7585.81it/s]\n",
      "100%|██████████| 100000/100000 [00:13<00:00, 7513.50it/s]\n",
      "100%|██████████| 100000/100000 [00:14<00:00, 6984.86it/s]\n",
      "100%|██████████| 100000/100000 [00:13<00:00, 7649.74it/s]\n",
      "100%|██████████| 100000/100000 [00:13<00:00, 7571.79it/s]\n",
      "100%|██████████| 100000/100000 [00:12<00:00, 7766.87it/s]\n",
      "100%|██████████| 100000/100000 [00:13<00:00, 7296.17it/s]\n",
      "100%|██████████| 100000/100000 [00:15<00:00, 6346.59it/s]\n",
      "100%|██████████| 100000/100000 [00:14<00:00, 6895.56it/s]\n",
      "100%|██████████| 100000/100000 [00:14<00:00, 6750.79it/s]\n",
      "100%|██████████| 100000/100000 [00:13<00:00, 7209.85it/s]\n",
      "100%|██████████| 100000/100000 [00:15<00:00, 6489.56it/s]\n",
      "100%|██████████| 100000/100000 [00:15<00:00, 6268.13it/s]\n",
      "100%|██████████| 100000/100000 [00:15<00:00, 6405.56it/s]\n",
      "100%|██████████| 100000/100000 [00:14<00:00, 6963.88it/s]\n",
      "100%|██████████| 100000/100000 [00:14<00:00, 6987.12it/s]\n",
      "100%|██████████| 100000/100000 [00:14<00:00, 6995.23it/s]\n",
      "100%|██████████| 100000/100000 [00:15<00:00, 6375.28it/s]\n",
      "100%|██████████| 100000/100000 [00:15<00:00, 6285.63it/s]\n",
      "100%|██████████| 100000/100000 [00:13<00:00, 7322.45it/s]\n",
      "100%|██████████| 100000/100000 [00:15<00:00, 6410.21it/s]\n",
      "100%|██████████| 100000/100000 [00:13<00:00, 7160.17it/s]\n",
      "100%|██████████| 100000/100000 [00:14<00:00, 6974.89it/s]\n",
      "100%|██████████| 100000/100000 [00:14<00:00, 6846.79it/s]\n",
      "100%|██████████| 100000/100000 [00:16<00:00, 6189.45it/s]\n",
      "100%|██████████| 100000/100000 [00:14<00:00, 6849.58it/s]\n",
      "100%|██████████| 100000/100000 [00:14<00:00, 7091.76it/s]\n",
      "100%|██████████| 100000/100000 [00:13<00:00, 7459.70it/s]\n",
      "100%|██████████| 100000/100000 [00:13<00:00, 7300.50it/s]\n",
      "100%|██████████| 100000/100000 [00:15<00:00, 6605.53it/s]\n",
      "100%|██████████| 100000/100000 [00:15<00:00, 6522.20it/s]\n",
      "100%|██████████| 100000/100000 [00:14<00:00, 6693.73it/s]\n",
      "100%|██████████| 100000/100000 [00:15<00:00, 6635.14it/s]\n",
      "100%|██████████| 100000/100000 [00:14<00:00, 6769.02it/s]\n",
      "100%|██████████| 100000/100000 [00:15<00:00, 6355.63it/s]\n"
     ]
    },
    {
     "ename": "ValueError",
     "evalue": "Too few elements for interval calculation",
     "output_type": "error",
     "traceback": [
      "\u001b[0;31m---------------------------------------------------------------------------\u001b[0m",
      "\u001b[0;31mValueError\u001b[0m                                Traceback (most recent call last)",
      "\u001b[0;32m<ipython-input-46-f290bbc81c58>\u001b[0m in \u001b[0;36m<module>\u001b[0;34m()\u001b[0m\n\u001b[1;32m     12\u001b[0m         \u001b[0mtraces\u001b[0m\u001b[0;34m.\u001b[0m\u001b[0mappend\u001b[0m\u001b[0;34m(\u001b[0m\u001b[0mtrace\u001b[0m\u001b[0;34m)\u001b[0m\u001b[0;34m\u001b[0m\u001b[0m\n\u001b[1;32m     13\u001b[0m         \u001b[0mt_data\u001b[0m \u001b[0;34m=\u001b[0m \u001b[0mtrace\u001b[0m\u001b[0;34m[\u001b[0m\u001b[0;36m10000\u001b[0m\u001b[0;34m:\u001b[0m\u001b[0;34m]\u001b[0m\u001b[0;34m[\u001b[0m\u001b[0;34m'angle'\u001b[0m\u001b[0;34m]\u001b[0m\u001b[0;34m[\u001b[0m\u001b[0mnp\u001b[0m\u001b[0;34m.\u001b[0m\u001b[0misfinite\u001b[0m\u001b[0;34m(\u001b[0m\u001b[0mtrace\u001b[0m\u001b[0;34m[\u001b[0m\u001b[0;36m10000\u001b[0m\u001b[0;34m:\u001b[0m\u001b[0;34m]\u001b[0m\u001b[0;34m[\u001b[0m\u001b[0;34m'angle'\u001b[0m\u001b[0;34m]\u001b[0m\u001b[0;34m)\u001b[0m\u001b[0;34m]\u001b[0m\u001b[0;34m\u001b[0m\u001b[0m\n\u001b[0;32m---> 14\u001b[0;31m         \u001b[0mlower\u001b[0m\u001b[0;34m,\u001b[0m \u001b[0mupper\u001b[0m \u001b[0;34m=\u001b[0m \u001b[0mpymc3\u001b[0m\u001b[0;34m.\u001b[0m\u001b[0mstats\u001b[0m\u001b[0;34m.\u001b[0m\u001b[0mhpd\u001b[0m\u001b[0;34m(\u001b[0m\u001b[0mt_data\u001b[0m\u001b[0;34m,\u001b[0m \u001b[0malpha\u001b[0m\u001b[0;34m=\u001b[0m\u001b[0;36m0.05\u001b[0m\u001b[0;34m,\u001b[0m \u001b[0mtransform\u001b[0m\u001b[0;34m=\u001b[0m\u001b[0mnp\u001b[0m\u001b[0;34m.\u001b[0m\u001b[0mrad2deg\u001b[0m\u001b[0;34m)\u001b[0m\u001b[0;34m\u001b[0m\u001b[0m\n\u001b[0m\u001b[1;32m     15\u001b[0m         \u001b[0mangles975\u001b[0m\u001b[0;34m.\u001b[0m\u001b[0mappend\u001b[0m\u001b[0;34m(\u001b[0m\u001b[0mnp\u001b[0m\u001b[0;34m.\u001b[0m\u001b[0mnanpercentile\u001b[0m\u001b[0;34m(\u001b[0m\u001b[0mtrace\u001b[0m\u001b[0;34m[\u001b[0m\u001b[0;34m'angle'\u001b[0m\u001b[0;34m]\u001b[0m\u001b[0;34m[\u001b[0m\u001b[0;36m10000\u001b[0m\u001b[0;34m:\u001b[0m\u001b[0;34m]\u001b[0m\u001b[0;34m,\u001b[0m \u001b[0;36m97.5\u001b[0m\u001b[0;34m)\u001b[0m\u001b[0;34m)\u001b[0m\u001b[0;34m\u001b[0m\u001b[0m\n\u001b[1;32m     16\u001b[0m         \u001b[0mangles025\u001b[0m\u001b[0;34m.\u001b[0m\u001b[0mappend\u001b[0m\u001b[0;34m(\u001b[0m\u001b[0mnp\u001b[0m\u001b[0;34m.\u001b[0m\u001b[0mnanpercentile\u001b[0m\u001b[0;34m(\u001b[0m\u001b[0mtrace\u001b[0m\u001b[0;34m[\u001b[0m\u001b[0;34m'angle'\u001b[0m\u001b[0;34m]\u001b[0m\u001b[0;34m[\u001b[0m\u001b[0;36m10000\u001b[0m\u001b[0;34m:\u001b[0m\u001b[0;34m]\u001b[0m\u001b[0;34m,\u001b[0m \u001b[0;36m2.5\u001b[0m\u001b[0;34m)\u001b[0m\u001b[0;34m)\u001b[0m\u001b[0;34m\u001b[0m\u001b[0m\n",
      "\u001b[0;32m/home/daniel/.virtualenvs/IGRlaptop21/grbeaming/lib/python2.7/site-packages/pymc3/stats.pyc\u001b[0m in \u001b[0;36mwrapped_f\u001b[0;34m(pymc3_obj, *args, **kwargs)\u001b[0m\n\u001b[1;32m     30\u001b[0m         \u001b[0;32mexcept\u001b[0m \u001b[0mAttributeError\u001b[0m\u001b[0;34m:\u001b[0m\u001b[0;34m\u001b[0m\u001b[0m\n\u001b[1;32m     31\u001b[0m             \u001b[0;31m# If fails, assume that raw data was passed.\u001b[0m\u001b[0;34m\u001b[0m\u001b[0;34m\u001b[0m\u001b[0m\n\u001b[0;32m---> 32\u001b[0;31m             \u001b[0;32mreturn\u001b[0m \u001b[0mf\u001b[0m\u001b[0;34m(\u001b[0m\u001b[0mpymc3_obj\u001b[0m\u001b[0;34m,\u001b[0m \u001b[0;34m*\u001b[0m\u001b[0margs\u001b[0m\u001b[0;34m,\u001b[0m \u001b[0;34m**\u001b[0m\u001b[0mkwargs\u001b[0m\u001b[0;34m)\u001b[0m\u001b[0;34m\u001b[0m\u001b[0m\n\u001b[0m\u001b[1;32m     33\u001b[0m \u001b[0;34m\u001b[0m\u001b[0m\n\u001b[1;32m     34\u001b[0m         \u001b[0mburn\u001b[0m \u001b[0;34m=\u001b[0m \u001b[0mkwargs\u001b[0m\u001b[0;34m.\u001b[0m\u001b[0mpop\u001b[0m\u001b[0;34m(\u001b[0m\u001b[0;34m'burn'\u001b[0m\u001b[0;34m,\u001b[0m \u001b[0;36m0\u001b[0m\u001b[0;34m)\u001b[0m\u001b[0;34m\u001b[0m\u001b[0m\n",
      "\u001b[0;32m/home/daniel/.virtualenvs/IGRlaptop21/grbeaming/lib/python2.7/site-packages/pymc3/stats.pyc\u001b[0m in \u001b[0;36mhpd\u001b[0;34m(x, alpha, transform)\u001b[0m\n\u001b[1;32m    352\u001b[0m         \u001b[0msx\u001b[0m \u001b[0;34m=\u001b[0m \u001b[0mnp\u001b[0m\u001b[0;34m.\u001b[0m\u001b[0msort\u001b[0m\u001b[0;34m(\u001b[0m\u001b[0mx\u001b[0m\u001b[0;34m)\u001b[0m\u001b[0;34m\u001b[0m\u001b[0m\n\u001b[1;32m    353\u001b[0m \u001b[0;34m\u001b[0m\u001b[0m\n\u001b[0;32m--> 354\u001b[0;31m         \u001b[0;32mreturn\u001b[0m \u001b[0mnp\u001b[0m\u001b[0;34m.\u001b[0m\u001b[0marray\u001b[0m\u001b[0;34m(\u001b[0m\u001b[0mcalc_min_interval\u001b[0m\u001b[0;34m(\u001b[0m\u001b[0msx\u001b[0m\u001b[0;34m,\u001b[0m \u001b[0malpha\u001b[0m\u001b[0;34m)\u001b[0m\u001b[0;34m)\u001b[0m\u001b[0;34m\u001b[0m\u001b[0m\n\u001b[0m\u001b[1;32m    355\u001b[0m \u001b[0;34m\u001b[0m\u001b[0m\n\u001b[1;32m    356\u001b[0m \u001b[0;34m\u001b[0m\u001b[0m\n",
      "\u001b[0;32m/home/daniel/.virtualenvs/IGRlaptop21/grbeaming/lib/python2.7/site-packages/pymc3/stats.pyc\u001b[0m in \u001b[0;36mcalc_min_interval\u001b[0;34m(x, alpha)\u001b[0m\n\u001b[1;32m    296\u001b[0m \u001b[0;34m\u001b[0m\u001b[0m\n\u001b[1;32m    297\u001b[0m     \u001b[0;32mif\u001b[0m \u001b[0mlen\u001b[0m\u001b[0;34m(\u001b[0m\u001b[0minterval_width\u001b[0m\u001b[0;34m)\u001b[0m \u001b[0;34m==\u001b[0m \u001b[0;36m0\u001b[0m\u001b[0;34m:\u001b[0m\u001b[0;34m\u001b[0m\u001b[0m\n\u001b[0;32m--> 298\u001b[0;31m         \u001b[0;32mraise\u001b[0m \u001b[0mValueError\u001b[0m\u001b[0;34m(\u001b[0m\u001b[0;34m'Too few elements for interval calculation'\u001b[0m\u001b[0;34m)\u001b[0m\u001b[0;34m\u001b[0m\u001b[0m\n\u001b[0m\u001b[1;32m    299\u001b[0m \u001b[0;34m\u001b[0m\u001b[0m\n\u001b[1;32m    300\u001b[0m     \u001b[0mmin_idx\u001b[0m \u001b[0;34m=\u001b[0m \u001b[0mnp\u001b[0m\u001b[0;34m.\u001b[0m\u001b[0margmin\u001b[0m\u001b[0;34m(\u001b[0m\u001b[0minterval_width\u001b[0m\u001b[0;34m)\u001b[0m\u001b[0;34m\u001b[0m\u001b[0m\n",
      "\u001b[0;31mValueError\u001b[0m: Too few elements for interval calculation"
     ]
    }
   ],
   "source": [
    "traces = []\n",
    "angles975 = []\n",
    "angles025 = []\n",
    "angles500 = []\n",
    "lowers = []\n",
    "uppers = []\n",
    "samples = 100000\n",
    "for model in scenarios:\n",
    "    with model:\n",
    "        step = pm.Metropolis()\n",
    "        trace = pm.sample(samples, step, )\n",
    "        traces.append(trace)\n",
    "        t_data = trace[10000:]['angle'][np.isfinite(trace[10000:]['angle'])]\n",
    "        lower, upper = pymc3.stats.hpd(t_data, alpha=0.05, transform=np.rad2deg)\n",
    "        angles975.append(np.nanpercentile(trace['angle'][10000:], 97.5))\n",
    "        angles025.append(np.nanpercentile(trace['angle'][10000:], 2.5))\n",
    "        angles500.append(np.nanpercentile(trace['angle'][10000:], 50))\n",
    "        lowers.append(lower)\n",
    "        uppers.append(upper)"
   ]
  },
  {
   "cell_type": "code",
   "execution_count": 47,
   "metadata": {},
   "outputs": [
    {
     "name": "stderr",
     "output_type": "stream",
     "text": [
      "/home/daniel/.virtualenvs/IGRlaptop21/grbeaming/lib/python2.7/site-packages/numpy/lib/function_base.py:3858: RuntimeWarning: All-NaN slice encountered\n",
      "  r = func(a, **kwargs)\n"
     ]
    }
   ],
   "source": [
    "priors = [\"U(0,1)\", \"jeffreys\", \"$\\delta(1)$\", \"$\\delta(0.5)$\"]\n",
    "from matplotlib import colors, ticker, cm\n",
    "\n",
    "angles975 = []\n",
    "angles025 = []\n",
    "angles500 = []\n",
    "for trace in traces:\n",
    "    angles975.append(np.nanpercentile(trace['angle'][1000:], 97.5))\n",
    "    angles025.append(np.nanpercentile(trace['angle'][1000:], 2.5))\n",
    "    angles500.append(np.nanpercentile(trace['angle'][1000:], 50))\n",
    "np.savetxt(\"975perc\", angles975)\n",
    "np.savetxt(\"500perc\", angles500)\n",
    "np.savetxt(\"025perc\", angles025)"
   ]
  },
  {
   "cell_type": "code",
   "execution_count": 48,
   "metadata": {
    "collapsed": true
   },
   "outputs": [],
   "source": [
    "#angles975 = np.loadtxt('975perc')\n",
    "#angles025 = np.loadtxt('025perc')"
   ]
  },
  {
   "cell_type": "code",
   "execution_count": 50,
   "metadata": {
    "scrolled": false
   },
   "outputs": [
    {
     "data": {
      "image/png": "[encoded data removed]",
      "text/plain": [
       "<matplotlib.figure.Figure at 0x7f3aea7ca810>"
      ]
     },
     "metadata": {},
     "output_type": "display_data"
    }
   ],
   "source": [
    "import scipy.ndimage\n",
    "from matplotlib import colors, ticker, cm\n",
    "from astropy import constants as c\n",
    "from astropy import units as u\n",
    "data = np.rad2deg(angles975).reshape(20, 200)\n",
    "\n",
    "width = 3.487 #* 2\n",
    "height = width / 1.618\n",
    "\n",
    "matplotlib.rcParams.update({'font.size': 6})\n",
    "\n",
    "scenarios = {\n",
    "    #\"A\": 4*0.45,\n",
    "    #\"B\": 2*1.3,\n",
    "    #\"C\": 6.5/0.75,\n",
    "    \"D\": 20,\n",
    "    \"E\": 40\n",
    "            }\n",
    "\n",
    "#height, width= 20, 10\n",
    "f, ax = plt.subplots(1,1, sharex=True, figsize = (width, height))\n",
    "\n",
    "\n",
    "\n",
    "ax.set_xlim([0, 100]);\n",
    "\n",
    "vth = 4./3 * np.pi #* (c.c * 1*u.year).to(u.megaparsec)\n",
    "for scenario in scenarios.iteritems():\n",
    "    ax.vlines(scenario[1], 0, 19, color='k', alpha=0.5, lw=2)\n",
    "    x_bounds = ax.get_xlim()\n",
    "    ax.annotate(s=scenario[0], xy =(((scenario[1]-x_bounds[0])/(x_bounds[1]-x_bounds[0])),1.01), xycoords='axes fraction', verticalalignment='right', rotation = 0)\n",
    "\n",
    "consf = ax.contourf(np.linspace(vth*(10/2.26)**3/1e6, vth*(1000/2.26)**3/1e6, data.shape[1]), np.linspace(0, 19, data.shape[0]), \n",
    "             data, \n",
    "             levels = np.linspace(0, 90, 10), alpha = 0.4, cmap = \"magma_r\", lw=0\n",
    "            )\n",
    "\n",
    "#cons = ax.contour(np.linspace(vth*10**3, vth*400**3, data.shape[1]), np.linspace(0, 10, data.shape[0]), \n",
    "#             data, \n",
    "#             levels = [0, 1, 2, 3, 4, 5, 10, 20], colors='maroon', lw=1, cw=1\n",
    "#            )\n",
    "\n",
    "#cons = ax.contour(np.log10(data))\n",
    "\n",
    "#ax.clabel(cons, inline=1, fontsize=8, fmt='%1.0f')\n",
    "\n",
    "ax.get_xaxis().set_minor_locator(matplotlib.ticker.AutoMinorLocator())\n",
    "ax.get_yaxis().set_minor_locator(matplotlib.ticker.AutoMinorLocator())\n",
    "ax.grid(b=True, which='major', linewidth=1.0, color=\"#DDDDDD\")\n",
    "ax.grid(b=True, which='minor', linewidth=0.5)\n",
    "cb=f.colorbar(consf)\n",
    "ax.set_xlabel(r\"Search 4-volume, $VT\\, [\\times10^6\\, \\rm{Mpc}^3 \\rm{yr}]$\")\n",
    "ax.set_ylabel(r\"GW BNS event rate [${\\rm yr}^{-1}$]\")\n",
    "\n",
    "cb.set_label('Beaming angle upper limit [$^{\\circ}$]')\n",
    "f.subplots_adjust(0.1, 0.15, 1, .95, wspace=0.05)\n",
    "f.savefig(\"../final_paper/volume_v_nevents.pdf\")"
   ]
  },
  {
   "cell_type": "code",
   "execution_count": 51,
   "metadata": {},
   "outputs": [
    {
     "ename": "ValueError",
     "evalue": "cannot reshape array of size 121 into shape (20,200)",
     "output_type": "error",
     "traceback": [
      "\u001b[0;31m---------------------------------------------------------------------------\u001b[0m",
      "\u001b[0;31mValueError\u001b[0m                                Traceback (most recent call last)",
      "\u001b[0;32m<ipython-input-51-a90f172bf11d>\u001b[0m in \u001b[0;36m<module>\u001b[0;34m()\u001b[0m\n\u001b[1;32m      3\u001b[0m \u001b[0;32mfrom\u001b[0m \u001b[0mastropy\u001b[0m \u001b[0;32mimport\u001b[0m \u001b[0mconstants\u001b[0m \u001b[0;32mas\u001b[0m \u001b[0mc\u001b[0m\u001b[0;34m\u001b[0m\u001b[0m\n\u001b[1;32m      4\u001b[0m \u001b[0;32mfrom\u001b[0m \u001b[0mastropy\u001b[0m \u001b[0;32mimport\u001b[0m \u001b[0munits\u001b[0m \u001b[0;32mas\u001b[0m \u001b[0mu\u001b[0m\u001b[0;34m\u001b[0m\u001b[0m\n\u001b[0;32m----> 5\u001b[0;31m \u001b[0mdata\u001b[0m \u001b[0;34m=\u001b[0m \u001b[0mnp\u001b[0m\u001b[0;34m.\u001b[0m\u001b[0mrad2deg\u001b[0m\u001b[0;34m(\u001b[0m\u001b[0mangles025\u001b[0m\u001b[0;34m)\u001b[0m\u001b[0;34m.\u001b[0m\u001b[0mreshape\u001b[0m\u001b[0;34m(\u001b[0m\u001b[0;36m20\u001b[0m\u001b[0;34m,\u001b[0m \u001b[0;36m200\u001b[0m\u001b[0;34m)\u001b[0m\u001b[0;34m\u001b[0m\u001b[0m\n\u001b[0m\u001b[1;32m      6\u001b[0m \u001b[0;34m\u001b[0m\u001b[0m\n\u001b[1;32m      7\u001b[0m \u001b[0mwidth\u001b[0m \u001b[0;34m=\u001b[0m \u001b[0;36m3.487\u001b[0m \u001b[0;31m#* 2\u001b[0m\u001b[0;34m\u001b[0m\u001b[0m\n",
      "\u001b[0;31mValueError\u001b[0m: cannot reshape array of size 121 into shape (20,200)"
     ]
    }
   ],
   "source": [
    "import scipy.ndimage\n",
    "from matplotlib import colors, ticker, cm\n",
    "from astropy import constants as c\n",
    "from astropy import units as u\n",
    "data = np.rad2deg(angles025).reshape(20, 200)\n",
    "\n",
    "width = 3.487 #* 2\n",
    "height = width / 1.618\n",
    "\n",
    "matplotlib.rcParams.update({'font.size': 6})\n",
    "\n",
    "scenarios = {\n",
    "    #\"2015 - 2016\": 0.45,\n",
    "    #\"B\": 1.3,\n",
    "    #\"C\": 6.5,\n",
    "    \"D\": 20,\n",
    "    \"E\": 40\n",
    "            }\n",
    "\n",
    "#height, width= 20, 10\n",
    "f, ax = plt.subplots(1,1, sharex=True, figsize = (width, height))\n",
    "\n",
    "\n",
    "\n",
    "ax.set_xlim([0, 100]);\n",
    "\n",
    "vth = 4./3 * np.pi #* (c.c * 1*u.year).to(u.megaparsec)\n",
    "for scenario in scenarios.iteritems():\n",
    "    ax.vlines(scenario[1], 0, 19, color='k', alpha=0.5, lw=2)\n",
    "    x_bounds = ax.get_xlim()\n",
    "    ax.annotate(s=scenario[0], xy =(((scenario[1]-x_bounds[0])/(x_bounds[1]-x_bounds[0])),1.01), xycoords='axes fraction', verticalalignment='right', rotation = 0)\n",
    "\n",
    "\n",
    "cmap = plt.cm.get_cmap(\"magma\")\n",
    "cmap.set_over(\"white\")\n",
    "    \n",
    "consf = ax.contourf(np.linspace(vth*(10/2.26)**3/1e6, vth*(1000/2.26)**3/1e6, data.shape[1]), np.linspace(0, 19, data.shape[0]), \n",
    "             data, \n",
    "             levels = np.linspace(0,10, 11), alpha = 0.4, cmap = cmap, lw=0, extend=\"max\"\n",
    "            )\n",
    "\n",
    "#cons = ax.contour(np.linspace(vth*10**3, vth*400**3, data.shape[1]), np.linspace(0, 10, data.shape[0]), \n",
    "#             data, \n",
    "#             levels = [0, 1, 2, 3, 4, 5, 10, 20], colors='maroon', lw=1, cw=1\n",
    "#            )\n",
    "\n",
    "#cons = ax.contour(np.log10(data))\n",
    "\n",
    "#ax.clabel(cons, inline=1, fontsize=8, fmt='%1.0f')\n",
    "\n",
    "\n",
    "\n",
    "ax.get_xaxis().set_minor_locator(matplotlib.ticker.AutoMinorLocator())\n",
    "ax.get_yaxis().set_minor_locator(matplotlib.ticker.AutoMinorLocator())\n",
    "ax.grid(b=True, which='major', linewidth=1.0, color=\"#DDDDDD\")\n",
    "ax.grid(b=True, which='minor', linewidth=0.5)\n",
    "cb = f.colorbar(consf)\n",
    "cb.set_label('Beaming angle lower limit [$^{\\circ}$]')\n",
    "\n",
    "#cb3.set_label('Custom extension lengths, some other units')\n",
    "\n",
    "ax.set_xlabel(r\"Search 4-volume, $VT\\, [\\times10^6\\, \\rm{Mpc}^3 \\rm{yr}]$\")\n",
    "ax.set_ylabel(r\"GW BNS event rate [${\\rm yr}^{-1}$]\")\n",
    "f.subplots_adjust(0.1, 0.15, 1, .95, wspace=0.05)\n",
    "f.savefig(\"../final_paper/volume_v_nevents_lower.pdf\")"
   ]
  },
  {
   "cell_type": "code",
   "execution_count": 14,
   "metadata": {},
   "outputs": [
    {
     "data": {
      "text/plain": [
       "<matplotlib.image.AxesImage at 0x7f29da2c2fd0>"
      ]
     },
     "execution_count": 14,
     "metadata": {},
     "output_type": "execute_result"
    },
    {
     "data": {
      "image/png": "[encoded data removed]",
      "text/plain": [
       "<matplotlib.figure.Figure at 0x7f29dd8d2410>"
      ]
     },
     "metadata": {},
     "output_type": "display_data"
    }
   ],
   "source": [
    "plt.imshow(data, origin=\"lower\", cmap='magma_r', alpha=0.5)"
   ]
  },
  {
   "cell_type": "code",
   "execution_count": 445,
   "metadata": {},
   "outputs": [
    {
     "data": {
      "text/plain": [
       "array([[ 78.06610783,  35.80097616,  19.36782763,  12.47921706,\n",
       "          9.29702839,   6.61554306,   5.23058342,   4.20847085,\n",
       "          3.32938021,   2.9710357 ],\n",
       "       [  2.6144586 ,   2.26099509,   1.9410839 ,   1.74884593,\n",
       "          1.60980867,   1.50786573,   1.25629637,   1.25074271,\n",
       "          1.18693707,   0.99571208],\n",
       "       [ 75.0606543 ,  25.91148494,  12.90895278,   8.07743843,\n",
       "          5.37352293,   4.07266962,   3.2299193 ,   2.62688283,\n",
       "          2.15721479,   1.84879051],\n",
       "       [  1.59979574,   1.35478698,   1.20326734,   1.0869098 ,\n",
       "          0.95340121,   0.87405573,   0.78202496,   0.71617734,\n",
       "          0.69691109,   0.62748756],\n",
       "       [ 72.54223895,  20.77305586,  10.00815962,   6.10938517,\n",
       "          4.17531443,   3.11893599,   2.51824151,   2.02153686,\n",
       "          1.69244122,   1.40813266],\n",
       "       [  1.22295804,   1.04098513,   0.93456876,   0.80680703,\n",
       "          0.76429005,   0.68477592,   0.60861236,   0.55701962,\n",
       "          0.51817629,   0.47031254],\n",
       "       [ 69.4916852 ,  17.93705536,   8.24794509,   5.13175958,\n",
       "          3.54438383,   2.61801466,   2.09468103,   1.65723955,\n",
       "          1.37224596,   1.16710928],\n",
       "       [  1.00042308,   0.87067889,   0.76022804,   0.6783233 ,\n",
       "          0.62149023,   0.55542141,   0.5210447 ,   0.4593335 ,\n",
       "          0.43451121,   0.40059735],\n",
       "       [ 64.3470997 ,  15.35407189,   7.40400169,   4.54817338,\n",
       "          3.07142212,   2.34223703,   1.77805783,   1.46310772,\n",
       "          1.22141998,   1.01610941],\n",
       "       [  0.88208768,   0.78980068,   0.65528006,   0.5965011 ,\n",
       "          0.54266285,   0.4980743 ,   0.45327251,   0.41285202,\n",
       "          0.37567577,   0.34855999],\n",
       "       [ 62.52213326,  14.11090153,   6.68799055,   4.00615396,\n",
       "          2.79008899,   2.08046336,   1.5993893 ,   1.28722237,\n",
       "          1.06178994,   0.91276025],\n",
       "       [  0.79212071,   0.66943437,   0.60555271,   0.54460893,\n",
       "          0.51026424,   0.42956307,   0.40179312,   0.36282962,\n",
       "          0.33754504,   0.30951302],\n",
       "       [ 58.58869671,  12.89146652,   6.26079128,   3.75837266,\n",
       "          2.56929876,   1.85759671,   1.5139463 ,   1.20223848,\n",
       "          0.96529603,   0.86207352],\n",
       "       [  0.74181961,   0.62084742,   0.56280236,   0.50156555,\n",
       "          0.45272606,   0.4066189 ,   0.36351234,   0.34617506,\n",
       "          0.31257126,   0.2830622 ],\n",
       "       [ 55.57244649,  11.83266791,   5.55551885,   3.49338769,\n",
       "          2.45704705,   1.81080175,   1.40656769,   1.12783533,\n",
       "          0.8827301 ,   0.76972871],\n",
       "       [  0.68804026,   0.5836478 ,   0.52642838,   0.46726151,\n",
       "          0.41678539,   0.37741751,   0.34979501,   0.31443106,\n",
       "          0.29694258,   0.26287644],\n",
       "       [ 53.50182004,  11.3179182 ,   5.29429996,   3.12502049,\n",
       "          2.22372   ,   1.63414543,   1.2596903 ,   1.00280187,\n",
       "          0.86867234,   0.72272243],\n",
       "       [  0.66675767,   0.53731081,   0.47719669,   0.44457656,\n",
       "          0.39108838,   0.34066421,   0.32828063,   0.29802706,\n",
       "          0.26503321,   0.2527728 ],\n",
       "       [ 49.79339069,  10.77677666,   4.99074809,   3.04748768,\n",
       "          2.05846349,   1.55975913,   1.22201473,   0.99824294,\n",
       "          0.81147378,   0.66450588],\n",
       "       [  0.59448808,   0.51903127,   0.43826593,   0.39793317,\n",
       "          0.36411454,   0.33019264,   0.29275793,   0.271074  ,\n",
       "          0.25527898,   0.23812802]])"
      ]
     },
     "execution_count": 445,
     "metadata": {},
     "output_type": "execute_result"
    }
   ],
   "source": [
    "data"
   ]
  },
  {
   "cell_type": "markdown",
   "metadata": {},
   "source": [
    "# Reverse test\n",
    "\n",
    "As a sanity check of the results, we can calculate the number of GRBs we would expect to observe for a range of different beaming angles. We can then compare this to predicted beaming angle for an analysis in which the GRB rate is set to the our expected number of detections."
   ]
  },
  {
   "cell_type": "code",
   "execution_count": 306,
   "metadata": {
    "collapsed": true
   },
   "outputs": [],
   "source": [
    "detections = []\n",
    "for beamangle in np.linspace(0, 90, 90):\n",
    "    beamangle = np.deg2rad(beamangle)\n",
    "    costheta = np.random.uniform(0,1, 10000)\n",
    "    theta = np.arccos(costheta)\n",
    "    detections.append(np.count_nonzero(theta<beamangle))"
   ]
  },
  {
   "cell_type": "code",
   "execution_count": 307,
   "metadata": {},
   "outputs": [
    {
     "data": {
      "text/plain": [
       "[<matplotlib.lines.Line2D at 0x7f063c0a5790>]"
      ]
     },
     "execution_count": 307,
     "metadata": {},
     "output_type": "execute_result"
    },
    {
     "data": {
      "image/png": "[encoded data removed]",
      "text/plain": [
       "<matplotlib.figure.Figure at 0x7f063840ecd0>"
      ]
     },
     "metadata": {},
     "output_type": "display_data"
    }
   ],
   "source": [
    "plt.plot(np.linspace(0,90,90), detections)"
   ]
  },
  {
   "cell_type": "code",
   "execution_count": 308,
   "metadata": {
    "collapsed": true
   },
   "outputs": [],
   "source": [
    "test_scenarios = []\n",
    "for grbs in np.arange(1, 10):\n",
    "    # O1 Scenarios\n",
    "    events = 10.  \n",
    "    number_events = int(events) # There were no BNS detections in O1\n",
    "    background_rate = 0.01#0.01 # We take the FAR to be 1/100 yr\n",
    "    observation_time = 1#46.1/365. # The number of days of analysis conducted by gstLAL\n",
    "    horizon = 6.195#73.2  # The O1 BNS horizon distance in O1 BNS paper\n",
    "    grb_rate = grbs\n",
    "    o1_models = []\n",
    "    test_scenarios.append(grb_model(number_events, background_rate, observation_time, horizon, grb_rate, 1.0))"
   ]
  },
  {
   "cell_type": "code",
   "execution_count": 310,
   "metadata": {},
   "outputs": [
    {
     "name": "stderr",
     "output_type": "stream",
     "text": [
      "100%|██████████| 50000/50000 [00:03<00:00, 12852.71it/s]\n",
      "100%|██████████| 50000/50000 [00:03<00:00, 13035.69it/s]\n",
      "100%|██████████| 50000/50000 [00:03<00:00, 13761.51it/s]\n",
      "100%|██████████| 50000/50000 [00:03<00:00, 12964.46it/s]\n",
      "100%|██████████| 50000/50000 [00:03<00:00, 14283.48it/s]\n",
      "100%|██████████| 50000/50000 [00:04<00:00, 12192.44it/s]\n",
      "100%|██████████| 50000/50000 [00:03<00:00, 13043.59it/s]\n",
      "100%|██████████| 50000/50000 [00:04<00:00, 11961.20it/s]\n",
      "100%|██████████| 50000/50000 [00:03<00:00, 14124.41it/s]\n"
     ]
    }
   ],
   "source": [
    "samples = 50000\n",
    "angles = []\n",
    "for test_model in test_scenarios:\n",
    "    with test_model as model:\n",
    "            step = pm.Metropolis()\n",
    "            trace = pm.sample(samples, step)\n",
    "            angles.append(np.rad2deg(np.nanmean(trace['angle'])))"
   ]
  },
  {
   "cell_type": "code",
   "execution_count": 311,
   "metadata": {
    "scrolled": true
   },
   "outputs": [
    {
     "data": {
      "text/plain": [
       "<matplotlib.legend.Legend at 0x7f06689ed150>"
      ]
     },
     "execution_count": 311,
     "metadata": {},
     "output_type": "execute_result"
    },
    {
     "data": {
      "image/png": "[encoded data removed]",
      "text/plain": [
       "<matplotlib.figure.Figure at 0x7f06689ed1d0>"
      ]
     },
     "metadata": {},
     "output_type": "display_data"
    }
   ],
   "source": [
    "plt.plot(np.array(detections)/1000.0, np.linspace(0,90,90), lw=5, alpha=0.5, label=\"Injected values\")\n",
    "plt.plot(np.arange(1,10), angles, label=\"Recovered valaues\", color=\"k\")\n",
    "plt.xlabel(\"Number of observed GRBs\")\n",
    "plt.ylabel(\"Maximum inclination angle\")\n",
    "plt.legend()"
   ]
  },
  {
   "cell_type": "markdown",
   "metadata": {},
   "source": [
    "# Injection Tests"
   ]
  },
  {
   "cell_type": "markdown",
   "metadata": {},
   "source": [
    "## O1-like scenario"
   ]
  },
  {
   "cell_type": "code",
   "execution_count": 10,
   "metadata": {
    "collapsed": true
   },
   "outputs": [],
   "source": [
    "test_scenarios = []\n",
    "priors = [\"uniform\", \"jeffreys\", 0.5]\n",
    "for prior in priors:\n",
    "    # O1 Scenarios\n",
    "    number_events = 0 # There were no BNS detections in O1\n",
    "    background_rate = 0.01 # We take the FAR to be 1/100 yr\n",
    "    observation_time = 46.1/365. # The number of days of analysis conducted by gstLAL\n",
    "    horizon = 73.2  # The O1 BNS horizon distance in O1 BNS paper\n",
    "    grb_rate = 100\n",
    "    o1_models = []\n",
    "    test_scenarios.append(grb_model(number_events, background_rate, observation_time, horizon, grb_rate, prior))"
   ]
  },
  {
   "cell_type": "code",
   "execution_count": 11,
   "metadata": {},
   "outputs": [
    {
     "name": "stderr",
     "output_type": "stream",
     "text": [
      "100%|██████████| 50000/50000 [00:08<00:00, 5917.69it/s]\n",
      "100%|██████████| 50000/50000 [00:08<00:00, 5767.11it/s]\n",
      "100%|██████████| 50000/50000 [00:04<00:00, 11437.34it/s]\n"
     ]
    }
   ],
   "source": [
    "samples = 50000\n",
    "traces = []\n",
    "for test_model in test_scenarios:\n",
    "    with test_model as model:\n",
    "            step = pm.Metropolis()\n",
    "            traces.append( pm.sample(samples, step) )\n",
    "            #angles.append(np.rad2deg(np.nanmean(trace['angle'])))"
   ]
  },
  {
   "cell_type": "code",
   "execution_count": 12,
   "metadata": {},
   "outputs": [
    {
     "name": "stdout",
     "output_type": "stream",
     "text": [
      "injected at: 9.97250731845\n",
      "| 4.66\t | 7.77\t | 13.31\t | 63.46\t |\n",
      "| 4.36\t | 5.89\t | 13.24\t | 70.17\t |\n",
      "| 5.22\t | 6.81\t | 11.95\t | 55.12\t |\n"
     ]
    },
    {
     "data": {
      "image/png": "[encoded data removed]",
      "text/plain": [
       "<matplotlib.figure.Figure at 0x7f7c64090590>"
      ]
     },
     "metadata": {},
     "output_type": "display_data"
    }
   ],
   "source": [
    "width = 3.487 #* 2\n",
    "height = width / 1.618\n",
    "\n",
    "\n",
    "f, ax = plt.subplots(1,1, sharex=True, figsize = (width, height))\n",
    "priors = [\"U(0,1)\", \"jeffreys\", \"$\\delta(0.5)$\"]\n",
    "pos = np.arange(4)/2.\n",
    "cbc_rate = np.mean(traces[0]['cbc_rate'])\n",
    "injected = np.arccos(1 - 2*grb_rate / cbc_rate)\n",
    "ax.vlines(np.rad2deg(injected), -0.5,2, 'r')\n",
    "\n",
    "print \"injected at: {}\".format(np.rad2deg(injected))\n",
    "\n",
    "for i, trace in enumerate(traces):\n",
    "    data = np.rad2deg(trace[2000:]['angle'][np.isfinite(trace[2000:]['angle'])])\n",
    "    parts = ax.violinplot(data, \n",
    "                          [pos[i]], points=50, widths=0.3, vert= False,\n",
    "                     #showmeans = True, showmedians=True, \n",
    "                      showmeans=False, showextrema=False, showmedians=False)\n",
    "\n",
    "    lower, medians, upper = np.percentile(data, [2.5, 50, 97.50])\n",
    "    hist = np.histogram(data, bins = 50)\n",
    "    MAP = hist[1][np.argmax(hist[0])]\n",
    "\n",
    "    \n",
    "    \n",
    "\n",
    "    ax.hlines(pos[i], lower, upper, color='#333333', linestyle='-', lw=2, alpha = 0.5)\n",
    "\n",
    "    ax.scatter( [lower, upper], [pos[i]]*2, marker='|', color='k', s=30, zorder=3)\n",
    "    ax.scatter( [MAP], pos[i], marker='D', color='k', s=30, zorder=3)\n",
    "    ax.scatter( [medians], pos[i], marker='s', color='k', s=30, zorder=3)\n",
    "    print \"| {:.2f}\\t | {:.2f}\\t | {:.2f}\\t | {:.2f}\\t |\".format(lower, MAP, medians, upper)\n",
    "    axis = ax\n",
    "    axis.set_yticks(pos)\n",
    "    axis.set_yticklabels(priors)\n",
    "    ax.set_ylim(-0.5, 1.5)\n",
    "    ax.grid(b=True, axis='x', which='major', linewidth=0.5)\n",
    "    #axis.set_xlim([0, 35])\n",
    "    ax.get_xaxis().set_minor_locator(matplotlib.ticker.AutoMinorLocator())\n",
    "    ax.get_yaxis().set_minor_locator(matplotlib.ticker.AutoMinorLocator())\n",
    "    \n",
    "ax.set_xlabel(r\"Beaming Angle [$\\theta$]\")\n",
    "ax.set_ylabel(r\"Prior Distribution on efficiency\")\n",
    "f.subplots_adjust(0.20, 0.15, .98, .95, wspace=0.05)\n",
    "f.savefig(\"O1_injections_violin.pdf\")"
   ]
  },
  {
   "cell_type": "markdown",
   "metadata": {},
   "source": [
    "## O2-like scenario"
   ]
  },
  {
   "cell_type": "code",
   "execution_count": 25,
   "metadata": {
    "collapsed": true
   },
   "outputs": [],
   "source": [
    "test_scenarios = []\n",
    "priors = [\"uniform\", \"jeffreys\", 0.5]\n",
    "for prior in priors:\n",
    "    # O1 Scenarios\n",
    "    grb_rate = 135\n",
    "    number_events = 1 # Assume O2 will see one BNS observation\n",
    "    background_rate = 0.01 # We take the FAR to be 1/100 yr\n",
    "    observation_time = 0.5 # The number of years of analysis conducted \n",
    "    duty_cycle = 0.5\n",
    "    observation_time *= duty_cycle\n",
    "    horizon = 80.0  # The O1 BNS horizon distance in O1 BNS paper\n",
    "    \n",
    "    test_scenarios.append(grb_model(number_events, background_rate, observation_time, horizon, grb_rate, prior))"
   ]
  },
  {
   "cell_type": "code",
   "execution_count": 26,
   "metadata": {},
   "outputs": [
    {
     "name": "stderr",
     "output_type": "stream",
     "text": [
      "100%|██████████| 50000/50000 [00:08<00:00, 5911.63it/s]\n",
      "100%|██████████| 50000/50000 [00:08<00:00, 6000.16it/s]\n",
      "100%|██████████| 50000/50000 [00:04<00:00, 11509.19it/s]\n"
     ]
    }
   ],
   "source": [
    "samples = 50000\n",
    "traces = []\n",
    "for test_model in test_scenarios:\n",
    "    with test_model as model:\n",
    "            step = pm.Metropolis()\n",
    "            traces.append( pm.sample(samples, step) )\n",
    "            "
   ]
  },
  {
   "cell_type": "code",
   "execution_count": 27,
   "metadata": {},
   "outputs": [
    {
     "name": "stdout",
     "output_type": "stream",
     "text": [
      "injected at: 10.0878178637\n",
      "| 5.31\t | 8.34\t | 12.11\t | 52.18\t |\n",
      "| 5.02\t | 6.18\t | 12.00\t | 64.23\t |\n",
      "| 6.05\t | 8.92\t | 10.97\t | 29.28\t |\n"
     ]
    },
    {
     "data": {
      "image/png": "[encoded data removed]",
      "text/plain": [
       "<matplotlib.figure.Figure at 0x7f7c566fcf90>"
      ]
     },
     "metadata": {},
     "output_type": "display_data"
    }
   ],
   "source": [
    "width = 3.487 #* 2\n",
    "height = width / 1.618\n",
    "\n",
    "\n",
    "f, ax = plt.subplots(1,1, sharex=True, figsize = (width, height))\n",
    "priors = [\"U(0,1)\", \"jeffreys\", \"$\\delta(0.5)$\"]\n",
    "pos = np.arange(4)/2.\n",
    "cbc_rate = np.mean(traces[0]['cbc_rate'])\n",
    "injected = np.arccos(1 - 2*grb_rate / cbc_rate)\n",
    "\n",
    "print \"injected at: {}\".format(np.rad2deg(injected))\n",
    "\n",
    "ax.vlines(np.rad2deg(injected), -0.5,2, 'r')\n",
    "for i, trace in enumerate(traces):\n",
    "    data = np.rad2deg(trace[2000:]['angle'][np.isfinite(trace[2000:]['angle'])])\n",
    "    parts = ax.violinplot(data, \n",
    "                          [pos[i]], points=50, widths=0.3, vert= False,\n",
    "                     #showmeans = True, showmedians=True, \n",
    "                      showmeans=False, showextrema=False, showmedians=False)\n",
    "\n",
    "    lower, medians, upper = np.percentile(data, [2.5, 50, 97.50])\n",
    "    hist = np.histogram(data, bins = 50)\n",
    "    MAP = hist[1][np.argmax(hist[0])]\n",
    "\n",
    "    \n",
    "    \n",
    "\n",
    "    ax.hlines(pos[i], lower, upper, color='#333333', linestyle='-', lw=2, alpha = 0.5)\n",
    "\n",
    "    ax.scatter( [lower, upper], [pos[i]]*2, marker='|', color='k', s=30, zorder=3)\n",
    "    ax.scatter( [MAP], pos[i], marker='D', color='k', s=30, zorder=3)\n",
    "    ax.scatter( [medians], pos[i], marker='s', color='k', s=30, zorder=3)\n",
    "    print \"| {:.2f}\\t | {:.2f}\\t | {:.2f}\\t | {:.2f}\\t |\".format(lower, MAP, medians, upper)\n",
    "    axis = ax\n",
    "    axis.set_yticks(pos)\n",
    "    axis.set_yticklabels(priors)\n",
    "    ax.set_ylim(-0.5, 1.5)\n",
    "    ax.grid(b=True, axis='x', which='major', linewidth=0.5)\n",
    "    #axis.set_xlim([0, 35])\n",
    "    ax.get_xaxis().set_minor_locator(matplotlib.ticker.AutoMinorLocator())\n",
    "    ax.get_yaxis().set_minor_locator(matplotlib.ticker.AutoMinorLocator())\n",
    "ax.set_xlabel(r\"Beaming Angle [$\\theta$]\")\n",
    "ax.set_ylabel(r\"Prior Distribution on efficiency\")\n",
    "f.subplots_adjust(0.20, 0.15, .98, .95, wspace=0.05)\n",
    "f.savefig(\"O2_injections_violin.pdf\")"
   ]
  },
  {
   "cell_type": "markdown",
   "metadata": {},
   "source": [
    "# Effect of observing time and horizon distance on the posterior"
   ]
  },
  {
   "cell_type": "code",
   "execution_count": 286,
   "metadata": {
    "collapsed": true
   },
   "outputs": [],
   "source": [
    "# make a plot of the beaming angle as a function of observation volume against number of detections\n",
    "# O1 Scenarios\n",
    "scenarios = []\n",
    "events = 0\n",
    "for horizon in np.arange(10, 400, 20):\n",
    "    number_events = events # There were no BNS detections in O1\n",
    "    background_rate = 0.01 # We take the FAR to be 1/100 yr\n",
    "    observation_time = 1. # The number of days of analysis conducted by gstLAL\n",
    "    horizon = horizon  # The O1 BNS horizon distance in O1 BNS paper\n",
    "    grb_rate = 10.0\n",
    "    prior = 1.0\n",
    "    zero_models = []\n",
    "    for prior in priors:\n",
    "        scenarios.append( grb_model(number_events, background_rate, observation_time, horizon, grb_rate, ))"
   ]
  },
  {
   "cell_type": "code",
   "execution_count": 287,
   "metadata": {},
   "outputs": [
    {
     "name": "stderr",
     "output_type": "stream",
     "text": [
      "100%|██████████| 10000/10000 [00:01<00:00, 7050.16it/s]\n",
      "100%|██████████| 10000/10000 [00:01<00:00, 6959.67it/s]\n",
      "100%|██████████| 10000/10000 [00:01<00:00, 6787.59it/s]\n",
      "100%|██████████| 10000/10000 [00:01<00:00, 7073.98it/s]\n",
      "100%|██████████| 10000/10000 [00:01<00:00, 5982.12it/s]\n",
      "100%|██████████| 10000/10000 [00:01<00:00, 6535.14it/s]\n",
      "100%|██████████| 10000/10000 [00:01<00:00, 6649.79it/s]\n",
      "100%|██████████| 10000/10000 [00:01<00:00, 6780.95it/s]\n",
      "100%|██████████| 10000/10000 [00:01<00:00, 6197.50it/s]\n",
      "100%|██████████| 10000/10000 [00:01<00:00, 6475.48it/s]\n",
      "100%|██████████| 10000/10000 [00:01<00:00, 5838.47it/s]\n",
      "100%|██████████| 10000/10000 [00:01<00:00, 5533.54it/s]\n",
      "100%|██████████| 10000/10000 [00:01<00:00, 6208.63it/s]\n",
      "100%|██████████| 10000/10000 [00:01<00:00, 5647.75it/s]\n",
      "100%|██████████| 10000/10000 [00:01<00:00, 5749.02it/s]\n",
      "100%|██████████| 10000/10000 [00:01<00:00, 7241.84it/s]\n",
      "100%|██████████| 10000/10000 [00:01<00:00, 5309.81it/s]\n",
      "100%|██████████| 10000/10000 [00:01<00:00, 5901.97it/s]\n",
      "100%|██████████| 10000/10000 [00:01<00:00, 6990.15it/s]\n",
      "100%|██████████| 10000/10000 [00:01<00:00, 7079.90it/s]\n",
      "100%|██████████| 10000/10000 [00:01<00:00, 5973.19it/s]\n",
      "100%|██████████| 10000/10000 [00:02<00:00, 4991.55it/s]\n",
      "100%|██████████| 10000/10000 [00:01<00:00, 5702.45it/s]\n",
      "100%|██████████| 10000/10000 [00:01<00:00, 6661.02it/s]\n",
      "100%|██████████| 10000/10000 [00:01<00:00, 6714.88it/s]\n",
      "100%|██████████| 10000/10000 [00:01<00:00, 5286.09it/s]\n",
      "100%|██████████| 10000/10000 [00:01<00:00, 5391.39it/s]\n",
      "100%|██████████| 10000/10000 [00:01<00:00, 6072.40it/s]\n",
      "100%|██████████| 10000/10000 [00:01<00:00, 5833.20it/s]\n",
      "100%|██████████| 10000/10000 [00:01<00:00, 5391.06it/s]\n",
      "100%|██████████| 10000/10000 [00:01<00:00, 6550.92it/s]\n",
      "100%|██████████| 10000/10000 [00:01<00:00, 6490.59it/s]\n",
      "100%|██████████| 10000/10000 [00:01<00:00, 6276.42it/s]\n",
      "100%|██████████| 10000/10000 [00:01<00:00, 6334.47it/s]\n",
      "100%|██████████| 10000/10000 [00:01<00:00, 6620.16it/s]\n",
      "100%|██████████| 10000/10000 [00:01<00:00, 6718.49it/s]\n",
      "100%|██████████| 10000/10000 [00:01<00:00, 6162.25it/s]\n",
      "100%|██████████| 10000/10000 [00:01<00:00, 6864.86it/s]\n",
      "100%|██████████| 10000/10000 [00:01<00:00, 6682.71it/s]\n",
      "100%|██████████| 10000/10000 [00:01<00:00, 7127.88it/s]\n",
      "100%|██████████| 10000/10000 [00:01<00:00, 6871.70it/s]\n",
      "100%|██████████| 10000/10000 [00:01<00:00, 6069.23it/s]\n",
      "100%|██████████| 10000/10000 [00:01<00:00, 5957.28it/s]\n",
      "100%|██████████| 10000/10000 [00:01<00:00, 5389.19it/s]\n",
      "100%|██████████| 10000/10000 [00:01<00:00, 6436.35it/s]\n",
      "100%|██████████| 10000/10000 [00:01<00:00, 7410.04it/s]\n",
      "100%|██████████| 10000/10000 [00:01<00:00, 7161.26it/s]\n",
      "100%|██████████| 10000/10000 [00:01<00:00, 7386.53it/s]\n",
      "100%|██████████| 10000/10000 [00:01<00:00, 7286.09it/s]\n",
      "100%|██████████| 10000/10000 [00:01<00:00, 7140.35it/s]\n",
      "100%|██████████| 10000/10000 [00:01<00:00, 7323.52it/s]\n",
      "100%|██████████| 10000/10000 [00:01<00:00, 7288.03it/s]\n",
      "100%|██████████| 10000/10000 [00:01<00:00, 7439.04it/s]\n",
      "100%|██████████| 10000/10000 [00:01<00:00, 6420.48it/s]\n",
      "100%|██████████| 10000/10000 [00:01<00:00, 7292.27it/s]\n",
      "100%|██████████| 10000/10000 [00:01<00:00, 7409.79it/s]\n",
      "100%|██████████| 10000/10000 [00:01<00:00, 7519.47it/s]\n",
      "100%|██████████| 10000/10000 [00:01<00:00, 6834.59it/s]\n",
      "100%|██████████| 10000/10000 [00:01<00:00, 7253.81it/s]\n",
      "100%|██████████| 10000/10000 [00:01<00:00, 5990.55it/s]\n",
      "100%|██████████| 10000/10000 [00:01<00:00, 6447.62it/s]\n",
      "100%|██████████| 10000/10000 [00:01<00:00, 7383.65it/s]\n",
      "100%|██████████| 10000/10000 [00:01<00:00, 7465.46it/s]\n",
      "100%|██████████| 10000/10000 [00:01<00:00, 6552.06it/s]\n",
      "100%|██████████| 10000/10000 [00:01<00:00, 7402.08it/s]\n",
      "100%|██████████| 10000/10000 [00:01<00:00, 6489.47it/s]\n",
      "100%|██████████| 10000/10000 [00:01<00:00, 5703.09it/s]\n",
      "100%|██████████| 10000/10000 [00:01<00:00, 6908.42it/s]\n",
      "100%|██████████| 10000/10000 [00:01<00:00, 7267.07it/s]\n",
      "100%|██████████| 10000/10000 [00:01<00:00, 7413.68it/s]\n",
      "100%|██████████| 10000/10000 [00:01<00:00, 7441.36it/s]\n",
      "100%|██████████| 10000/10000 [00:01<00:00, 7539.92it/s]\n",
      "100%|██████████| 10000/10000 [00:01<00:00, 7465.65it/s]\n",
      "100%|██████████| 10000/10000 [00:01<00:00, 6908.62it/s]\n",
      "100%|██████████| 10000/10000 [00:01<00:00, 7208.05it/s]\n",
      "100%|██████████| 10000/10000 [00:01<00:00, 7312.38it/s]\n",
      "100%|██████████| 10000/10000 [00:01<00:00, 6063.30it/s]\n",
      "100%|██████████| 10000/10000 [00:01<00:00, 5787.56it/s]\n",
      "100%|██████████| 10000/10000 [00:02<00:00, 4107.74it/s]\n",
      "100%|██████████| 10000/10000 [00:01<00:00, 6160.08it/s]\n"
     ]
    }
   ],
   "source": [
    "traces = []\n",
    "samples = 10000\n",
    "for model in scenarios:\n",
    "    with model:\n",
    "        step = pm.Metropolis()\n",
    "        traces.append(pm.sample(samples, step))"
   ]
  },
  {
   "cell_type": "code",
   "execution_count": 291,
   "metadata": {
    "collapsed": true
   },
   "outputs": [],
   "source": [
    "angles = []\n",
    "upper = []\n",
    "lower = []\n",
    "for trace in traces:\n",
    "    angles.append(np.rad2deg(np.nanmean(trace['angle'])))\n",
    "    upper.append(np.rad2deg(np.nanpercentile(trace['angle'], 97.5)))\n",
    "    lower.append(np.rad2deg(np.nanpercentile(trace['angle'], 2.5)))"
   ]
  },
  {
   "cell_type": "markdown",
   "metadata": {},
   "source": [
    "For a scenario in which there are no detections, the estimate of the beaming angle against the horizon distance can be produced."
   ]
  },
  {
   "cell_type": "code",
   "execution_count": 310,
   "metadata": {},
   "outputs": [
    {
     "data": {
      "text/plain": [
       "<matplotlib.text.Text at 0x7f10e9aabc90>"
      ]
     },
     "execution_count": 310,
     "metadata": {},
     "output_type": "execute_result"
    },
    {
     "data": {
      "image/png": "[encoded data removed]",
      "text/plain": [
       "<matplotlib.figure.Figure at 0x7f10e930c650>"
      ]
     },
     "metadata": {},
     "output_type": "display_data"
    }
   ],
   "source": [
    "plt.plot(np.linspace(10, 400, len(traces)),angles, label = \"mean\")\n",
    "plt.fill_between(np.linspace(10, 400, len(traces)), upper, lower, alpha = 0.3, label = \"95% confidence interval\")\n",
    "plt.legend()\n",
    "plt.xlabel(\"Horizon distance / Mpc\")\n",
    "plt.ylabel(\"Beaming Angle / deg\")"
   ]
  },
  {
   "cell_type": "code",
   "execution_count": 250,
   "metadata": {
    "collapsed": true
   },
   "outputs": [],
   "source": [
    "import theano.tensor as T\n",
    "from pymc3 import DensityDist, Uniform, Normal\n",
    "from pymc3 import Model\n",
    "from pymc3 import distributions\n",
    "\n",
    "priors = [\"uniform\", \"jeffreys\", 1.0, 0.5]\n",
    "theta = np.deg2rad(30)\n",
    "\n",
    "def grb_model_reverse(number_events, background_rate, \n",
    "              observation_time, horizon,\n",
    "             efficiency_prior = \"uniform\"):\n",
    "    with Model() as model:\n",
    "        signal_rate = pm.Deterministic(\"signal_rate\", log_signal_rate(value, number_events, background_rate, observation_time)\n",
    "                                      )\n",
    "        n_galaxy = number_mweg(horizon)\n",
    "        \n",
    "        cbc_rate = pm.Deterministic('cbc_rate', signal_rate * n_galaxy)\n",
    "        \n",
    "        \n",
    "        # Allow the efficiency prior to be switched-out\n",
    "        if efficiency_prior == \"uniform\":\n",
    "            efficiency = pm.Uniform('efficiency', 0,1)\n",
    "        elif efficiency_prior == \"jeffreys\":\n",
    "            efficiency = pm.Beta('efficiency', 0.5, 0.5)\n",
    "        elif isinstance(efficiency_prior, float):\n",
    "            efficiency = efficiency_prior\n",
    "        \n",
    "        grb_rate = 3.0\n",
    "        print grb_rate\n",
    "        \n",
    "        def cosangle(cbc_rate, efficiency, grb_rate):\n",
    "            return T.switch((grb_rate >= cbc_rate*efficiency), -np.Inf, \n",
    "                                 (1.0 - ((grb_rate/(cbc_rate*efficiency)))))\n",
    "        \n",
    "        costheta = pm.Deterministic('cos_angle', cosangle(cbc_rate, efficiency, grb_rate)\n",
    "                                    \n",
    "                                    )\n",
    "\n",
    "        angle = pm.Deterministic(\"angle\", theano.tensor.arccos(costheta))\n",
    "        \n",
    "        return model"
   ]
  },
  {
   "cell_type": "code",
   "execution_count": 251,
   "metadata": {},
   "outputs": [
    {
     "name": "stdout",
     "output_type": "stream",
     "text": [
      "3.0\n",
      "3.0\n",
      "3.0\n",
      "3.0\n"
     ]
    }
   ],
   "source": [
    "# 2015 - 2016 Scenario\n",
    "number_events = 0 # There were no BNS detections in O1\n",
    "background_rate = 0.01 # We take the FAR to be 1/100 yr\n",
    "observation_time = 46.1/365. # The number of days of analysis conducted by gstLAL\n",
    "horizon = 73.2  # The O1 BNS horizon distance in O1 BNS paper\n",
    "grb_rate = 10.0\n",
    "back_models = []\n",
    "for prior in priors:\n",
    "    back_models.append( grb_model_reverse(number_events, background_rate, observation_time, horizon, prior))"
   ]
  },
  {
   "cell_type": "code",
   "execution_count": 252,
   "metadata": {},
   "outputs": [
    {
     "name": "stderr",
     "output_type": "stream",
     "text": [
      "100%|██████████| 10000/10000 [00:00<00:00, 10610.78it/s]\n",
      "100%|██████████| 10000/10000 [00:01<00:00, 9846.84it/s]\n"
     ]
    },
    {
     "ename": "ValueError",
     "evalue": "need at least one array to concatenate",
     "output_type": "error",
     "traceback": [
      "\u001b[0;31m---------------------------------------------------------------------------\u001b[0m",
      "\u001b[0;31mValueError\u001b[0m                                Traceback (most recent call last)",
      "\u001b[0;32m<ipython-input-252-782950558822>\u001b[0m in \u001b[0;36m<module>\u001b[0;34m()\u001b[0m\n\u001b[1;32m      3\u001b[0m \u001b[0;32mfor\u001b[0m \u001b[0mmodel\u001b[0m \u001b[0;32min\u001b[0m \u001b[0mback_models\u001b[0m\u001b[0;34m:\u001b[0m\u001b[0;34m\u001b[0m\u001b[0m\n\u001b[1;32m      4\u001b[0m     \u001b[0;32mwith\u001b[0m \u001b[0mmodel\u001b[0m\u001b[0;34m:\u001b[0m\u001b[0;34m\u001b[0m\u001b[0m\n\u001b[0;32m----> 5\u001b[0;31m         \u001b[0mstep\u001b[0m \u001b[0;34m=\u001b[0m \u001b[0mpm\u001b[0m\u001b[0;34m.\u001b[0m\u001b[0mMetropolis\u001b[0m\u001b[0;34m(\u001b[0m\u001b[0;34m)\u001b[0m\u001b[0;34m\u001b[0m\u001b[0m\n\u001b[0m\u001b[1;32m      6\u001b[0m         \u001b[0mback_traces\u001b[0m\u001b[0;34m.\u001b[0m\u001b[0mappend\u001b[0m\u001b[0;34m(\u001b[0m\u001b[0mpm\u001b[0m\u001b[0;34m.\u001b[0m\u001b[0msample\u001b[0m\u001b[0;34m(\u001b[0m\u001b[0msamples\u001b[0m\u001b[0;34m,\u001b[0m \u001b[0mstep\u001b[0m\u001b[0;34m)\u001b[0m\u001b[0;34m)\u001b[0m\u001b[0;34m\u001b[0m\u001b[0m\n",
      "\u001b[0;32m/home/daniel/.virtualenvs/IGRlaptop21/grbeaming/lib/python2.7/site-packages/pymc3/step_methods/metropolis.pyc\u001b[0m in \u001b[0;36m__init__\u001b[0;34m(self, vars, S, proposal_dist, scaling, tune, tune_interval, model, **kwargs)\u001b[0m\n\u001b[1;32m     91\u001b[0m         \u001b[0;31m# Determine type of variables\u001b[0m\u001b[0;34m\u001b[0m\u001b[0;34m\u001b[0m\u001b[0m\n\u001b[1;32m     92\u001b[0m         self.discrete = np.concatenate(\n\u001b[0;32m---> 93\u001b[0;31m             [[v.dtype in pm.discrete_types] * (v.dsize or 1) for v in vars])\n\u001b[0m\u001b[1;32m     94\u001b[0m         \u001b[0mself\u001b[0m\u001b[0;34m.\u001b[0m\u001b[0many_discrete\u001b[0m \u001b[0;34m=\u001b[0m \u001b[0mself\u001b[0m\u001b[0;34m.\u001b[0m\u001b[0mdiscrete\u001b[0m\u001b[0;34m.\u001b[0m\u001b[0many\u001b[0m\u001b[0;34m(\u001b[0m\u001b[0;34m)\u001b[0m\u001b[0;34m\u001b[0m\u001b[0m\n\u001b[1;32m     95\u001b[0m         \u001b[0mself\u001b[0m\u001b[0;34m.\u001b[0m\u001b[0mall_discrete\u001b[0m \u001b[0;34m=\u001b[0m \u001b[0mself\u001b[0m\u001b[0;34m.\u001b[0m\u001b[0mdiscrete\u001b[0m\u001b[0;34m.\u001b[0m\u001b[0mall\u001b[0m\u001b[0;34m(\u001b[0m\u001b[0;34m)\u001b[0m\u001b[0;34m\u001b[0m\u001b[0m\n",
      "\u001b[0;31mValueError\u001b[0m: need at least one array to concatenate"
     ]
    }
   ],
   "source": [
    "back_traces = []\n",
    "samples = 10000\n",
    "for model in back_models:\n",
    "    with model:\n",
    "        step = pm.Metropolis()\n",
    "        back_traces.append(pm.sample(samples, step))"
   ]
  },
  {
   "cell_type": "code",
   "execution_count": 253,
   "metadata": {},
   "outputs": [
    {
     "ename": "ValueError",
     "evalue": "zero-size array to reduction operation minimum which has no identity",
     "output_type": "error",
     "traceback": [
      "\u001b[0;31m---------------------------------------------------------------------------\u001b[0m",
      "\u001b[0;31mValueError\u001b[0m                                Traceback (most recent call last)",
      "\u001b[0;32m<ipython-input-253-1d77de24397a>\u001b[0m in \u001b[0;36m<module>\u001b[0;34m()\u001b[0m\n\u001b[1;32m      7\u001b[0m     \u001b[0mo1_trace\u001b[0m \u001b[0;34m=\u001b[0m \u001b[0mback_traces\u001b[0m\u001b[0;34m[\u001b[0m\u001b[0mi\u001b[0m\u001b[0;34m]\u001b[0m\u001b[0;34m\u001b[0m\u001b[0m\n\u001b[1;32m      8\u001b[0m     ax.hist(np.rad2deg(o1_trace[2000:]['cos_angle'][np.isfinite(o1_trace[2000:]['cos_angle'])]),\n\u001b[0;32m----> 9\u001b[0;31m                histtype=\"step\", bins = 50, lw=2, label=priors[i], log=True, normed=True);\n\u001b[0m\u001b[1;32m     10\u001b[0m     \u001b[0;31m#ax.hist(np.rad2deg(o2_trace[2000:]['angle'][np.isfinite(o2_trace[2000:]['angle'])]),\u001b[0m\u001b[0;34m\u001b[0m\u001b[0;34m\u001b[0m\u001b[0m\n\u001b[1;32m     11\u001b[0m     \u001b[0;31m#           histtype=\"step\", lw=2, label=\"O2 Angle\", log=True);\u001b[0m\u001b[0;34m\u001b[0m\u001b[0;34m\u001b[0m\u001b[0m\n",
      "\u001b[0;32m/home/daniel/.virtualenvs/IGRlaptop21/grbeaming/lib/python2.7/site-packages/matplotlib/__init__.pyc\u001b[0m in \u001b[0;36minner\u001b[0;34m(ax, *args, **kwargs)\u001b[0m\n\u001b[1;32m   1890\u001b[0m                     warnings.warn(msg % (label_namer, func.__name__),\n\u001b[1;32m   1891\u001b[0m                                   RuntimeWarning, stacklevel=2)\n\u001b[0;32m-> 1892\u001b[0;31m             \u001b[0;32mreturn\u001b[0m \u001b[0mfunc\u001b[0m\u001b[0;34m(\u001b[0m\u001b[0max\u001b[0m\u001b[0;34m,\u001b[0m \u001b[0;34m*\u001b[0m\u001b[0margs\u001b[0m\u001b[0;34m,\u001b[0m \u001b[0;34m**\u001b[0m\u001b[0mkwargs\u001b[0m\u001b[0;34m)\u001b[0m\u001b[0;34m\u001b[0m\u001b[0m\n\u001b[0m\u001b[1;32m   1893\u001b[0m         \u001b[0mpre_doc\u001b[0m \u001b[0;34m=\u001b[0m \u001b[0minner\u001b[0m\u001b[0;34m.\u001b[0m\u001b[0m__doc__\u001b[0m\u001b[0;34m\u001b[0m\u001b[0m\n\u001b[1;32m   1894\u001b[0m         \u001b[0;32mif\u001b[0m \u001b[0mpre_doc\u001b[0m \u001b[0;32mis\u001b[0m \u001b[0mNone\u001b[0m\u001b[0;34m:\u001b[0m\u001b[0;34m\u001b[0m\u001b[0m\n",
      "\u001b[0;32m/home/daniel/.virtualenvs/IGRlaptop21/grbeaming/lib/python2.7/site-packages/matplotlib/axes/_axes.pyc\u001b[0m in \u001b[0;36mhist\u001b[0;34m(self, x, bins, range, normed, weights, cumulative, bottom, histtype, align, orientation, rwidth, log, color, label, stacked, **kwargs)\u001b[0m\n\u001b[1;32m   6309\u001b[0m                     \u001b[0;31m# (gives 1 full tick-label unit for the lowest filled bin)\u001b[0m\u001b[0;34m\u001b[0m\u001b[0;34m\u001b[0m\u001b[0m\n\u001b[1;32m   6310\u001b[0m                     \u001b[0mndata\u001b[0m \u001b[0;34m=\u001b[0m \u001b[0mnp\u001b[0m\u001b[0;34m.\u001b[0m\u001b[0marray\u001b[0m\u001b[0;34m(\u001b[0m\u001b[0mn\u001b[0m\u001b[0;34m)\u001b[0m\u001b[0;34m\u001b[0m\u001b[0m\n\u001b[0;32m-> 6311\u001b[0;31m                     \u001b[0mminimum\u001b[0m \u001b[0;34m=\u001b[0m \u001b[0;34m(\u001b[0m\u001b[0mnp\u001b[0m\u001b[0;34m.\u001b[0m\u001b[0mmin\u001b[0m\u001b[0;34m(\u001b[0m\u001b[0mndata\u001b[0m\u001b[0;34m[\u001b[0m\u001b[0mndata\u001b[0m \u001b[0;34m>\u001b[0m \u001b[0;36m0\u001b[0m\u001b[0;34m]\u001b[0m\u001b[0;34m)\u001b[0m\u001b[0;34m)\u001b[0m \u001b[0;34m/\u001b[0m \u001b[0mlogbase\u001b[0m\u001b[0;34m\u001b[0m\u001b[0m\n\u001b[0m\u001b[1;32m   6312\u001b[0m                 \u001b[0;32melse\u001b[0m\u001b[0;34m:\u001b[0m\u001b[0;34m\u001b[0m\u001b[0m\n\u001b[1;32m   6313\u001b[0m                     \u001b[0;31m# For non-normed data, set the min to 1 / log base,\u001b[0m\u001b[0;34m\u001b[0m\u001b[0;34m\u001b[0m\u001b[0m\n",
      "\u001b[0;32m/home/daniel/.virtualenvs/IGRlaptop21/grbeaming/lib/python2.7/site-packages/numpy/core/fromnumeric.pyc\u001b[0m in \u001b[0;36mamin\u001b[0;34m(a, axis, out, keepdims)\u001b[0m\n\u001b[1;32m   2350\u001b[0m \u001b[0;34m\u001b[0m\u001b[0m\n\u001b[1;32m   2351\u001b[0m     return _methods._amin(a, axis=axis,\n\u001b[0;32m-> 2352\u001b[0;31m                           out=out, **kwargs)\n\u001b[0m\u001b[1;32m   2353\u001b[0m \u001b[0;34m\u001b[0m\u001b[0m\n\u001b[1;32m   2354\u001b[0m \u001b[0;34m\u001b[0m\u001b[0m\n",
      "\u001b[0;32m/home/daniel/.virtualenvs/IGRlaptop21/grbeaming/lib/python2.7/site-packages/numpy/core/_methods.pyc\u001b[0m in \u001b[0;36m_amin\u001b[0;34m(a, axis, out, keepdims)\u001b[0m\n\u001b[1;32m     27\u001b[0m \u001b[0;34m\u001b[0m\u001b[0m\n\u001b[1;32m     28\u001b[0m \u001b[0;32mdef\u001b[0m \u001b[0m_amin\u001b[0m\u001b[0;34m(\u001b[0m\u001b[0ma\u001b[0m\u001b[0;34m,\u001b[0m \u001b[0maxis\u001b[0m\u001b[0;34m=\u001b[0m\u001b[0mNone\u001b[0m\u001b[0;34m,\u001b[0m \u001b[0mout\u001b[0m\u001b[0;34m=\u001b[0m\u001b[0mNone\u001b[0m\u001b[0;34m,\u001b[0m \u001b[0mkeepdims\u001b[0m\u001b[0;34m=\u001b[0m\u001b[0mFalse\u001b[0m\u001b[0;34m)\u001b[0m\u001b[0;34m:\u001b[0m\u001b[0;34m\u001b[0m\u001b[0m\n\u001b[0;32m---> 29\u001b[0;31m     \u001b[0;32mreturn\u001b[0m \u001b[0mumr_minimum\u001b[0m\u001b[0;34m(\u001b[0m\u001b[0ma\u001b[0m\u001b[0;34m,\u001b[0m \u001b[0maxis\u001b[0m\u001b[0;34m,\u001b[0m \u001b[0mNone\u001b[0m\u001b[0;34m,\u001b[0m \u001b[0mout\u001b[0m\u001b[0;34m,\u001b[0m \u001b[0mkeepdims\u001b[0m\u001b[0;34m)\u001b[0m\u001b[0;34m\u001b[0m\u001b[0m\n\u001b[0m\u001b[1;32m     30\u001b[0m \u001b[0;34m\u001b[0m\u001b[0m\n\u001b[1;32m     31\u001b[0m \u001b[0;32mdef\u001b[0m \u001b[0m_sum\u001b[0m\u001b[0;34m(\u001b[0m\u001b[0ma\u001b[0m\u001b[0;34m,\u001b[0m \u001b[0maxis\u001b[0m\u001b[0;34m=\u001b[0m\u001b[0mNone\u001b[0m\u001b[0;34m,\u001b[0m \u001b[0mdtype\u001b[0m\u001b[0;34m=\u001b[0m\u001b[0mNone\u001b[0m\u001b[0;34m,\u001b[0m \u001b[0mout\u001b[0m\u001b[0;34m=\u001b[0m\u001b[0mNone\u001b[0m\u001b[0;34m,\u001b[0m \u001b[0mkeepdims\u001b[0m\u001b[0;34m=\u001b[0m\u001b[0mFalse\u001b[0m\u001b[0;34m)\u001b[0m\u001b[0;34m:\u001b[0m\u001b[0;34m\u001b[0m\u001b[0m\n",
      "\u001b[0;31mValueError\u001b[0m: zero-size array to reduction operation minimum which has no identity"
     ]
    },
    {
     "ename": "ValueError",
     "evalue": "Data has no positive values, and therefore can not be log-scaled.",
     "output_type": "error",
     "traceback": [
      "\u001b[0;31m---------------------------------------------------------------------------\u001b[0m",
      "\u001b[0;31mValueError\u001b[0m                                Traceback (most recent call last)",
      "\u001b[0;32m/home/daniel/.virtualenvs/IGRlaptop21/grbeaming/lib/python2.7/site-packages/IPython/core/formatters.pyc\u001b[0m in \u001b[0;36m__call__\u001b[0;34m(self, obj)\u001b[0m\n\u001b[1;32m    332\u001b[0m                 \u001b[0;32mpass\u001b[0m\u001b[0;34m\u001b[0m\u001b[0m\n\u001b[1;32m    333\u001b[0m             \u001b[0;32melse\u001b[0m\u001b[0;34m:\u001b[0m\u001b[0;34m\u001b[0m\u001b[0m\n\u001b[0;32m--> 334\u001b[0;31m                 \u001b[0;32mreturn\u001b[0m \u001b[0mprinter\u001b[0m\u001b[0;34m(\u001b[0m\u001b[0mobj\u001b[0m\u001b[0;34m)\u001b[0m\u001b[0;34m\u001b[0m\u001b[0m\n\u001b[0m\u001b[1;32m    335\u001b[0m             \u001b[0;31m# Finally look for special method names\u001b[0m\u001b[0;34m\u001b[0m\u001b[0;34m\u001b[0m\u001b[0m\n\u001b[1;32m    336\u001b[0m             \u001b[0mmethod\u001b[0m \u001b[0;34m=\u001b[0m \u001b[0mget_real_method\u001b[0m\u001b[0;34m(\u001b[0m\u001b[0mobj\u001b[0m\u001b[0;34m,\u001b[0m \u001b[0mself\u001b[0m\u001b[0;34m.\u001b[0m\u001b[0mprint_method\u001b[0m\u001b[0;34m)\u001b[0m\u001b[0;34m\u001b[0m\u001b[0m\n",
      "\u001b[0;32m/home/daniel/.virtualenvs/IGRlaptop21/grbeaming/lib/python2.7/site-packages/IPython/core/pylabtools.pyc\u001b[0m in \u001b[0;36m<lambda>\u001b[0;34m(fig)\u001b[0m\n\u001b[1;32m    238\u001b[0m \u001b[0;34m\u001b[0m\u001b[0m\n\u001b[1;32m    239\u001b[0m     \u001b[0;32mif\u001b[0m \u001b[0;34m'png'\u001b[0m \u001b[0;32min\u001b[0m \u001b[0mformats\u001b[0m\u001b[0;34m:\u001b[0m\u001b[0;34m\u001b[0m\u001b[0m\n\u001b[0;32m--> 240\u001b[0;31m         \u001b[0mpng_formatter\u001b[0m\u001b[0;34m.\u001b[0m\u001b[0mfor_type\u001b[0m\u001b[0;34m(\u001b[0m\u001b[0mFigure\u001b[0m\u001b[0;34m,\u001b[0m \u001b[0;32mlambda\u001b[0m \u001b[0mfig\u001b[0m\u001b[0;34m:\u001b[0m \u001b[0mprint_figure\u001b[0m\u001b[0;34m(\u001b[0m\u001b[0mfig\u001b[0m\u001b[0;34m,\u001b[0m \u001b[0;34m'png'\u001b[0m\u001b[0;34m,\u001b[0m \u001b[0;34m**\u001b[0m\u001b[0mkwargs\u001b[0m\u001b[0;34m)\u001b[0m\u001b[0;34m)\u001b[0m\u001b[0;34m\u001b[0m\u001b[0m\n\u001b[0m\u001b[1;32m    241\u001b[0m     \u001b[0;32mif\u001b[0m \u001b[0;34m'retina'\u001b[0m \u001b[0;32min\u001b[0m \u001b[0mformats\u001b[0m \u001b[0;32mor\u001b[0m \u001b[0;34m'png2x'\u001b[0m \u001b[0;32min\u001b[0m \u001b[0mformats\u001b[0m\u001b[0;34m:\u001b[0m\u001b[0;34m\u001b[0m\u001b[0m\n\u001b[1;32m    242\u001b[0m         \u001b[0mpng_formatter\u001b[0m\u001b[0;34m.\u001b[0m\u001b[0mfor_type\u001b[0m\u001b[0;34m(\u001b[0m\u001b[0mFigure\u001b[0m\u001b[0;34m,\u001b[0m \u001b[0;32mlambda\u001b[0m \u001b[0mfig\u001b[0m\u001b[0;34m:\u001b[0m \u001b[0mretina_figure\u001b[0m\u001b[0;34m(\u001b[0m\u001b[0mfig\u001b[0m\u001b[0;34m,\u001b[0m \u001b[0;34m**\u001b[0m\u001b[0mkwargs\u001b[0m\u001b[0;34m)\u001b[0m\u001b[0;34m)\u001b[0m\u001b[0;34m\u001b[0m\u001b[0m\n",
      "\u001b[0;32m/home/daniel/.virtualenvs/IGRlaptop21/grbeaming/lib/python2.7/site-packages/IPython/core/pylabtools.pyc\u001b[0m in \u001b[0;36mprint_figure\u001b[0;34m(fig, fmt, bbox_inches, **kwargs)\u001b[0m\n\u001b[1;32m    122\u001b[0m \u001b[0;34m\u001b[0m\u001b[0m\n\u001b[1;32m    123\u001b[0m     \u001b[0mbytes_io\u001b[0m \u001b[0;34m=\u001b[0m \u001b[0mBytesIO\u001b[0m\u001b[0;34m(\u001b[0m\u001b[0;34m)\u001b[0m\u001b[0;34m\u001b[0m\u001b[0m\n\u001b[0;32m--> 124\u001b[0;31m     \u001b[0mfig\u001b[0m\u001b[0;34m.\u001b[0m\u001b[0mcanvas\u001b[0m\u001b[0;34m.\u001b[0m\u001b[0mprint_figure\u001b[0m\u001b[0;34m(\u001b[0m\u001b[0mbytes_io\u001b[0m\u001b[0;34m,\u001b[0m \u001b[0;34m**\u001b[0m\u001b[0mkw\u001b[0m\u001b[0;34m)\u001b[0m\u001b[0;34m\u001b[0m\u001b[0m\n\u001b[0m\u001b[1;32m    125\u001b[0m     \u001b[0mdata\u001b[0m \u001b[0;34m=\u001b[0m \u001b[0mbytes_io\u001b[0m\u001b[0;34m.\u001b[0m\u001b[0mgetvalue\u001b[0m\u001b[0;34m(\u001b[0m\u001b[0;34m)\u001b[0m\u001b[0;34m\u001b[0m\u001b[0m\n\u001b[1;32m    126\u001b[0m     \u001b[0;32mif\u001b[0m \u001b[0mfmt\u001b[0m \u001b[0;34m==\u001b[0m \u001b[0;34m'svg'\u001b[0m\u001b[0;34m:\u001b[0m\u001b[0;34m\u001b[0m\u001b[0m\n",
      "\u001b[0;32m/home/daniel/.virtualenvs/IGRlaptop21/grbeaming/lib/python2.7/site-packages/matplotlib/backend_bases.pyc\u001b[0m in \u001b[0;36mprint_figure\u001b[0;34m(self, filename, dpi, facecolor, edgecolor, orientation, format, **kwargs)\u001b[0m\n\u001b[1;32m   2190\u001b[0m                     \u001b[0morientation\u001b[0m\u001b[0;34m=\u001b[0m\u001b[0morientation\u001b[0m\u001b[0;34m,\u001b[0m\u001b[0;34m\u001b[0m\u001b[0m\n\u001b[1;32m   2191\u001b[0m                     \u001b[0mdryrun\u001b[0m\u001b[0;34m=\u001b[0m\u001b[0mTrue\u001b[0m\u001b[0;34m,\u001b[0m\u001b[0;34m\u001b[0m\u001b[0m\n\u001b[0;32m-> 2192\u001b[0;31m                     **kwargs)\n\u001b[0m\u001b[1;32m   2193\u001b[0m                 \u001b[0mrenderer\u001b[0m \u001b[0;34m=\u001b[0m \u001b[0mself\u001b[0m\u001b[0;34m.\u001b[0m\u001b[0mfigure\u001b[0m\u001b[0;34m.\u001b[0m\u001b[0m_cachedRenderer\u001b[0m\u001b[0;34m\u001b[0m\u001b[0m\n\u001b[1;32m   2194\u001b[0m                 \u001b[0mbbox_inches\u001b[0m \u001b[0;34m=\u001b[0m \u001b[0mself\u001b[0m\u001b[0;34m.\u001b[0m\u001b[0mfigure\u001b[0m\u001b[0;34m.\u001b[0m\u001b[0mget_tightbbox\u001b[0m\u001b[0;34m(\u001b[0m\u001b[0mrenderer\u001b[0m\u001b[0;34m)\u001b[0m\u001b[0;34m\u001b[0m\u001b[0m\n",
      "\u001b[0;32m/home/daniel/.virtualenvs/IGRlaptop21/grbeaming/lib/python2.7/site-packages/matplotlib/backends/backend_agg.pyc\u001b[0m in \u001b[0;36mprint_png\u001b[0;34m(self, filename_or_obj, *args, **kwargs)\u001b[0m\n\u001b[1;32m    543\u001b[0m \u001b[0;34m\u001b[0m\u001b[0m\n\u001b[1;32m    544\u001b[0m     \u001b[0;32mdef\u001b[0m \u001b[0mprint_png\u001b[0m\u001b[0;34m(\u001b[0m\u001b[0mself\u001b[0m\u001b[0;34m,\u001b[0m \u001b[0mfilename_or_obj\u001b[0m\u001b[0;34m,\u001b[0m \u001b[0;34m*\u001b[0m\u001b[0margs\u001b[0m\u001b[0;34m,\u001b[0m \u001b[0;34m**\u001b[0m\u001b[0mkwargs\u001b[0m\u001b[0;34m)\u001b[0m\u001b[0;34m:\u001b[0m\u001b[0;34m\u001b[0m\u001b[0m\n\u001b[0;32m--> 545\u001b[0;31m         \u001b[0mFigureCanvasAgg\u001b[0m\u001b[0;34m.\u001b[0m\u001b[0mdraw\u001b[0m\u001b[0;34m(\u001b[0m\u001b[0mself\u001b[0m\u001b[0;34m)\u001b[0m\u001b[0;34m\u001b[0m\u001b[0m\n\u001b[0m\u001b[1;32m    546\u001b[0m         \u001b[0mrenderer\u001b[0m \u001b[0;34m=\u001b[0m \u001b[0mself\u001b[0m\u001b[0;34m.\u001b[0m\u001b[0mget_renderer\u001b[0m\u001b[0;34m(\u001b[0m\u001b[0;34m)\u001b[0m\u001b[0;34m\u001b[0m\u001b[0m\n\u001b[1;32m    547\u001b[0m         \u001b[0moriginal_dpi\u001b[0m \u001b[0;34m=\u001b[0m \u001b[0mrenderer\u001b[0m\u001b[0;34m.\u001b[0m\u001b[0mdpi\u001b[0m\u001b[0;34m\u001b[0m\u001b[0m\n",
      "\u001b[0;32m/home/daniel/.virtualenvs/IGRlaptop21/grbeaming/lib/python2.7/site-packages/matplotlib/backends/backend_agg.pyc\u001b[0m in \u001b[0;36mdraw\u001b[0;34m(self)\u001b[0m\n\u001b[1;32m    462\u001b[0m \u001b[0;34m\u001b[0m\u001b[0m\n\u001b[1;32m    463\u001b[0m         \u001b[0;32mtry\u001b[0m\u001b[0;34m:\u001b[0m\u001b[0;34m\u001b[0m\u001b[0m\n\u001b[0;32m--> 464\u001b[0;31m             \u001b[0mself\u001b[0m\u001b[0;34m.\u001b[0m\u001b[0mfigure\u001b[0m\u001b[0;34m.\u001b[0m\u001b[0mdraw\u001b[0m\u001b[0;34m(\u001b[0m\u001b[0mself\u001b[0m\u001b[0;34m.\u001b[0m\u001b[0mrenderer\u001b[0m\u001b[0;34m)\u001b[0m\u001b[0;34m\u001b[0m\u001b[0m\n\u001b[0m\u001b[1;32m    465\u001b[0m         \u001b[0;32mfinally\u001b[0m\u001b[0;34m:\u001b[0m\u001b[0;34m\u001b[0m\u001b[0m\n\u001b[1;32m    466\u001b[0m             \u001b[0mRendererAgg\u001b[0m\u001b[0;34m.\u001b[0m\u001b[0mlock\u001b[0m\u001b[0;34m.\u001b[0m\u001b[0mrelease\u001b[0m\u001b[0;34m(\u001b[0m\u001b[0;34m)\u001b[0m\u001b[0;34m\u001b[0m\u001b[0m\n",
      "\u001b[0;32m/home/daniel/.virtualenvs/IGRlaptop21/grbeaming/lib/python2.7/site-packages/matplotlib/artist.pyc\u001b[0m in \u001b[0;36mdraw_wrapper\u001b[0;34m(artist, renderer, *args, **kwargs)\u001b[0m\n\u001b[1;32m     61\u001b[0m     \u001b[0;32mdef\u001b[0m \u001b[0mdraw_wrapper\u001b[0m\u001b[0;34m(\u001b[0m\u001b[0martist\u001b[0m\u001b[0;34m,\u001b[0m \u001b[0mrenderer\u001b[0m\u001b[0;34m,\u001b[0m \u001b[0;34m*\u001b[0m\u001b[0margs\u001b[0m\u001b[0;34m,\u001b[0m \u001b[0;34m**\u001b[0m\u001b[0mkwargs\u001b[0m\u001b[0;34m)\u001b[0m\u001b[0;34m:\u001b[0m\u001b[0;34m\u001b[0m\u001b[0m\n\u001b[1;32m     62\u001b[0m         \u001b[0mbefore\u001b[0m\u001b[0;34m(\u001b[0m\u001b[0martist\u001b[0m\u001b[0;34m,\u001b[0m \u001b[0mrenderer\u001b[0m\u001b[0;34m)\u001b[0m\u001b[0;34m\u001b[0m\u001b[0m\n\u001b[0;32m---> 63\u001b[0;31m         \u001b[0mdraw\u001b[0m\u001b[0;34m(\u001b[0m\u001b[0martist\u001b[0m\u001b[0;34m,\u001b[0m \u001b[0mrenderer\u001b[0m\u001b[0;34m,\u001b[0m \u001b[0;34m*\u001b[0m\u001b[0margs\u001b[0m\u001b[0;34m,\u001b[0m \u001b[0;34m**\u001b[0m\u001b[0mkwargs\u001b[0m\u001b[0;34m)\u001b[0m\u001b[0;34m\u001b[0m\u001b[0m\n\u001b[0m\u001b[1;32m     64\u001b[0m         \u001b[0mafter\u001b[0m\u001b[0;34m(\u001b[0m\u001b[0martist\u001b[0m\u001b[0;34m,\u001b[0m \u001b[0mrenderer\u001b[0m\u001b[0;34m)\u001b[0m\u001b[0;34m\u001b[0m\u001b[0m\n\u001b[1;32m     65\u001b[0m \u001b[0;34m\u001b[0m\u001b[0m\n",
      "\u001b[0;32m/home/daniel/.virtualenvs/IGRlaptop21/grbeaming/lib/python2.7/site-packages/matplotlib/figure.pyc\u001b[0m in \u001b[0;36mdraw\u001b[0;34m(self, renderer)\u001b[0m\n\u001b[1;32m   1141\u001b[0m \u001b[0;34m\u001b[0m\u001b[0m\n\u001b[1;32m   1142\u001b[0m             mimage._draw_list_compositing_images(\n\u001b[0;32m-> 1143\u001b[0;31m                 renderer, self, dsu, self.suppressComposite)\n\u001b[0m\u001b[1;32m   1144\u001b[0m \u001b[0;34m\u001b[0m\u001b[0m\n\u001b[1;32m   1145\u001b[0m             \u001b[0mrenderer\u001b[0m\u001b[0;34m.\u001b[0m\u001b[0mclose_group\u001b[0m\u001b[0;34m(\u001b[0m\u001b[0;34m'figure'\u001b[0m\u001b[0;34m)\u001b[0m\u001b[0;34m\u001b[0m\u001b[0m\n",
      "\u001b[0;32m/home/daniel/.virtualenvs/IGRlaptop21/grbeaming/lib/python2.7/site-packages/matplotlib/image.pyc\u001b[0m in \u001b[0;36m_draw_list_compositing_images\u001b[0;34m(renderer, parent, dsu, suppress_composite)\u001b[0m\n\u001b[1;32m    137\u001b[0m     \u001b[0;32mif\u001b[0m \u001b[0mnot_composite\u001b[0m \u001b[0;32mor\u001b[0m \u001b[0;32mnot\u001b[0m \u001b[0mhas_images\u001b[0m\u001b[0;34m:\u001b[0m\u001b[0;34m\u001b[0m\u001b[0m\n\u001b[1;32m    138\u001b[0m         \u001b[0;32mfor\u001b[0m \u001b[0mzorder\u001b[0m\u001b[0;34m,\u001b[0m \u001b[0ma\u001b[0m \u001b[0;32min\u001b[0m \u001b[0mdsu\u001b[0m\u001b[0;34m:\u001b[0m\u001b[0;34m\u001b[0m\u001b[0m\n\u001b[0;32m--> 139\u001b[0;31m             \u001b[0ma\u001b[0m\u001b[0;34m.\u001b[0m\u001b[0mdraw\u001b[0m\u001b[0;34m(\u001b[0m\u001b[0mrenderer\u001b[0m\u001b[0;34m)\u001b[0m\u001b[0;34m\u001b[0m\u001b[0m\n\u001b[0m\u001b[1;32m    140\u001b[0m     \u001b[0;32melse\u001b[0m\u001b[0;34m:\u001b[0m\u001b[0;34m\u001b[0m\u001b[0m\n\u001b[1;32m    141\u001b[0m         \u001b[0;31m# Composite any adjacent images together\u001b[0m\u001b[0;34m\u001b[0m\u001b[0;34m\u001b[0m\u001b[0m\n",
      "\u001b[0;32m/home/daniel/.virtualenvs/IGRlaptop21/grbeaming/lib/python2.7/site-packages/matplotlib/artist.pyc\u001b[0m in \u001b[0;36mdraw_wrapper\u001b[0;34m(artist, renderer, *args, **kwargs)\u001b[0m\n\u001b[1;32m     61\u001b[0m     \u001b[0;32mdef\u001b[0m \u001b[0mdraw_wrapper\u001b[0m\u001b[0;34m(\u001b[0m\u001b[0martist\u001b[0m\u001b[0;34m,\u001b[0m \u001b[0mrenderer\u001b[0m\u001b[0;34m,\u001b[0m \u001b[0;34m*\u001b[0m\u001b[0margs\u001b[0m\u001b[0;34m,\u001b[0m \u001b[0;34m**\u001b[0m\u001b[0mkwargs\u001b[0m\u001b[0;34m)\u001b[0m\u001b[0;34m:\u001b[0m\u001b[0;34m\u001b[0m\u001b[0m\n\u001b[1;32m     62\u001b[0m         \u001b[0mbefore\u001b[0m\u001b[0;34m(\u001b[0m\u001b[0martist\u001b[0m\u001b[0;34m,\u001b[0m \u001b[0mrenderer\u001b[0m\u001b[0;34m)\u001b[0m\u001b[0;34m\u001b[0m\u001b[0m\n\u001b[0;32m---> 63\u001b[0;31m         \u001b[0mdraw\u001b[0m\u001b[0;34m(\u001b[0m\u001b[0martist\u001b[0m\u001b[0;34m,\u001b[0m \u001b[0mrenderer\u001b[0m\u001b[0;34m,\u001b[0m \u001b[0;34m*\u001b[0m\u001b[0margs\u001b[0m\u001b[0;34m,\u001b[0m \u001b[0;34m**\u001b[0m\u001b[0mkwargs\u001b[0m\u001b[0;34m)\u001b[0m\u001b[0;34m\u001b[0m\u001b[0m\n\u001b[0m\u001b[1;32m     64\u001b[0m         \u001b[0mafter\u001b[0m\u001b[0;34m(\u001b[0m\u001b[0martist\u001b[0m\u001b[0;34m,\u001b[0m \u001b[0mrenderer\u001b[0m\u001b[0;34m)\u001b[0m\u001b[0;34m\u001b[0m\u001b[0m\n\u001b[1;32m     65\u001b[0m \u001b[0;34m\u001b[0m\u001b[0m\n",
      "\u001b[0;32m/home/daniel/.virtualenvs/IGRlaptop21/grbeaming/lib/python2.7/site-packages/matplotlib/axes/_base.pyc\u001b[0m in \u001b[0;36mdraw\u001b[0;34m(self, renderer, inframe)\u001b[0m\n\u001b[1;32m   2407\u001b[0m             \u001b[0mrenderer\u001b[0m\u001b[0;34m.\u001b[0m\u001b[0mstop_rasterizing\u001b[0m\u001b[0;34m(\u001b[0m\u001b[0;34m)\u001b[0m\u001b[0;34m\u001b[0m\u001b[0m\n\u001b[1;32m   2408\u001b[0m \u001b[0;34m\u001b[0m\u001b[0m\n\u001b[0;32m-> 2409\u001b[0;31m         \u001b[0mmimage\u001b[0m\u001b[0;34m.\u001b[0m\u001b[0m_draw_list_compositing_images\u001b[0m\u001b[0;34m(\u001b[0m\u001b[0mrenderer\u001b[0m\u001b[0;34m,\u001b[0m \u001b[0mself\u001b[0m\u001b[0;34m,\u001b[0m \u001b[0mdsu\u001b[0m\u001b[0;34m)\u001b[0m\u001b[0;34m\u001b[0m\u001b[0m\n\u001b[0m\u001b[1;32m   2410\u001b[0m \u001b[0;34m\u001b[0m\u001b[0m\n\u001b[1;32m   2411\u001b[0m         \u001b[0mrenderer\u001b[0m\u001b[0;34m.\u001b[0m\u001b[0mclose_group\u001b[0m\u001b[0;34m(\u001b[0m\u001b[0;34m'axes'\u001b[0m\u001b[0;34m)\u001b[0m\u001b[0;34m\u001b[0m\u001b[0m\n",
      "\u001b[0;32m/home/daniel/.virtualenvs/IGRlaptop21/grbeaming/lib/python2.7/site-packages/matplotlib/image.pyc\u001b[0m in \u001b[0;36m_draw_list_compositing_images\u001b[0;34m(renderer, parent, dsu, suppress_composite)\u001b[0m\n\u001b[1;32m    137\u001b[0m     \u001b[0;32mif\u001b[0m \u001b[0mnot_composite\u001b[0m \u001b[0;32mor\u001b[0m \u001b[0;32mnot\u001b[0m \u001b[0mhas_images\u001b[0m\u001b[0;34m:\u001b[0m\u001b[0;34m\u001b[0m\u001b[0m\n\u001b[1;32m    138\u001b[0m         \u001b[0;32mfor\u001b[0m \u001b[0mzorder\u001b[0m\u001b[0;34m,\u001b[0m \u001b[0ma\u001b[0m \u001b[0;32min\u001b[0m \u001b[0mdsu\u001b[0m\u001b[0;34m:\u001b[0m\u001b[0;34m\u001b[0m\u001b[0m\n\u001b[0;32m--> 139\u001b[0;31m             \u001b[0ma\u001b[0m\u001b[0;34m.\u001b[0m\u001b[0mdraw\u001b[0m\u001b[0;34m(\u001b[0m\u001b[0mrenderer\u001b[0m\u001b[0;34m)\u001b[0m\u001b[0;34m\u001b[0m\u001b[0m\n\u001b[0m\u001b[1;32m    140\u001b[0m     \u001b[0;32melse\u001b[0m\u001b[0;34m:\u001b[0m\u001b[0;34m\u001b[0m\u001b[0m\n\u001b[1;32m    141\u001b[0m         \u001b[0;31m# Composite any adjacent images together\u001b[0m\u001b[0;34m\u001b[0m\u001b[0;34m\u001b[0m\u001b[0m\n",
      "\u001b[0;32m/home/daniel/.virtualenvs/IGRlaptop21/grbeaming/lib/python2.7/site-packages/matplotlib/artist.pyc\u001b[0m in \u001b[0;36mdraw_wrapper\u001b[0;34m(artist, renderer, *args, **kwargs)\u001b[0m\n\u001b[1;32m     61\u001b[0m     \u001b[0;32mdef\u001b[0m \u001b[0mdraw_wrapper\u001b[0m\u001b[0;34m(\u001b[0m\u001b[0martist\u001b[0m\u001b[0;34m,\u001b[0m \u001b[0mrenderer\u001b[0m\u001b[0;34m,\u001b[0m \u001b[0;34m*\u001b[0m\u001b[0margs\u001b[0m\u001b[0;34m,\u001b[0m \u001b[0;34m**\u001b[0m\u001b[0mkwargs\u001b[0m\u001b[0;34m)\u001b[0m\u001b[0;34m:\u001b[0m\u001b[0;34m\u001b[0m\u001b[0m\n\u001b[1;32m     62\u001b[0m         \u001b[0mbefore\u001b[0m\u001b[0;34m(\u001b[0m\u001b[0martist\u001b[0m\u001b[0;34m,\u001b[0m \u001b[0mrenderer\u001b[0m\u001b[0;34m)\u001b[0m\u001b[0;34m\u001b[0m\u001b[0m\n\u001b[0;32m---> 63\u001b[0;31m         \u001b[0mdraw\u001b[0m\u001b[0;34m(\u001b[0m\u001b[0martist\u001b[0m\u001b[0;34m,\u001b[0m \u001b[0mrenderer\u001b[0m\u001b[0;34m,\u001b[0m \u001b[0;34m*\u001b[0m\u001b[0margs\u001b[0m\u001b[0;34m,\u001b[0m \u001b[0;34m**\u001b[0m\u001b[0mkwargs\u001b[0m\u001b[0;34m)\u001b[0m\u001b[0;34m\u001b[0m\u001b[0m\n\u001b[0m\u001b[1;32m     64\u001b[0m         \u001b[0mafter\u001b[0m\u001b[0;34m(\u001b[0m\u001b[0martist\u001b[0m\u001b[0;34m,\u001b[0m \u001b[0mrenderer\u001b[0m\u001b[0;34m)\u001b[0m\u001b[0;34m\u001b[0m\u001b[0m\n\u001b[1;32m     65\u001b[0m \u001b[0;34m\u001b[0m\u001b[0m\n",
      "\u001b[0;32m/home/daniel/.virtualenvs/IGRlaptop21/grbeaming/lib/python2.7/site-packages/matplotlib/axis.pyc\u001b[0m in \u001b[0;36mdraw\u001b[0;34m(self, renderer, *args, **kwargs)\u001b[0m\n\u001b[1;32m   1134\u001b[0m         \u001b[0mrenderer\u001b[0m\u001b[0;34m.\u001b[0m\u001b[0mopen_group\u001b[0m\u001b[0;34m(\u001b[0m\u001b[0m__name__\u001b[0m\u001b[0;34m)\u001b[0m\u001b[0;34m\u001b[0m\u001b[0m\n\u001b[1;32m   1135\u001b[0m \u001b[0;34m\u001b[0m\u001b[0m\n\u001b[0;32m-> 1136\u001b[0;31m         \u001b[0mticks_to_draw\u001b[0m \u001b[0;34m=\u001b[0m \u001b[0mself\u001b[0m\u001b[0;34m.\u001b[0m\u001b[0m_update_ticks\u001b[0m\u001b[0;34m(\u001b[0m\u001b[0mrenderer\u001b[0m\u001b[0;34m)\u001b[0m\u001b[0;34m\u001b[0m\u001b[0m\n\u001b[0m\u001b[1;32m   1137\u001b[0m         ticklabelBoxes, ticklabelBoxes2 = self._get_tick_bboxes(ticks_to_draw,\n\u001b[1;32m   1138\u001b[0m                                                                 renderer)\n",
      "\u001b[0;32m/home/daniel/.virtualenvs/IGRlaptop21/grbeaming/lib/python2.7/site-packages/matplotlib/axis.pyc\u001b[0m in \u001b[0;36m_update_ticks\u001b[0;34m(self, renderer)\u001b[0m\n\u001b[1;32m    967\u001b[0m \u001b[0;34m\u001b[0m\u001b[0m\n\u001b[1;32m    968\u001b[0m         \u001b[0minterval\u001b[0m \u001b[0;34m=\u001b[0m \u001b[0mself\u001b[0m\u001b[0;34m.\u001b[0m\u001b[0mget_view_interval\u001b[0m\u001b[0;34m(\u001b[0m\u001b[0;34m)\u001b[0m\u001b[0;34m\u001b[0m\u001b[0m\n\u001b[0;32m--> 969\u001b[0;31m         \u001b[0mtick_tups\u001b[0m \u001b[0;34m=\u001b[0m \u001b[0;34m[\u001b[0m\u001b[0mt\u001b[0m \u001b[0;32mfor\u001b[0m \u001b[0mt\u001b[0m \u001b[0;32min\u001b[0m \u001b[0mself\u001b[0m\u001b[0;34m.\u001b[0m\u001b[0miter_ticks\u001b[0m\u001b[0;34m(\u001b[0m\u001b[0;34m)\u001b[0m\u001b[0;34m]\u001b[0m\u001b[0;34m\u001b[0m\u001b[0m\n\u001b[0m\u001b[1;32m    970\u001b[0m         \u001b[0;32mif\u001b[0m \u001b[0mself\u001b[0m\u001b[0;34m.\u001b[0m\u001b[0m_smart_bounds\u001b[0m\u001b[0;34m:\u001b[0m\u001b[0;34m\u001b[0m\u001b[0m\n\u001b[1;32m    971\u001b[0m             \u001b[0;31m# handle inverted limits\u001b[0m\u001b[0;34m\u001b[0m\u001b[0;34m\u001b[0m\u001b[0m\n",
      "\u001b[0;32m/home/daniel/.virtualenvs/IGRlaptop21/grbeaming/lib/python2.7/site-packages/matplotlib/axis.pyc\u001b[0m in \u001b[0;36miter_ticks\u001b[0;34m(self)\u001b[0m\n\u001b[1;32m    910\u001b[0m         \u001b[0mIterate\u001b[0m \u001b[0mthrough\u001b[0m \u001b[0mall\u001b[0m \u001b[0mof\u001b[0m \u001b[0mthe\u001b[0m \u001b[0mmajor\u001b[0m \u001b[0;32mand\u001b[0m \u001b[0mminor\u001b[0m \u001b[0mticks\u001b[0m\u001b[0;34m.\u001b[0m\u001b[0;34m\u001b[0m\u001b[0m\n\u001b[1;32m    911\u001b[0m         \"\"\"\n\u001b[0;32m--> 912\u001b[0;31m         \u001b[0mmajorLocs\u001b[0m \u001b[0;34m=\u001b[0m \u001b[0mself\u001b[0m\u001b[0;34m.\u001b[0m\u001b[0mmajor\u001b[0m\u001b[0;34m.\u001b[0m\u001b[0mlocator\u001b[0m\u001b[0;34m(\u001b[0m\u001b[0;34m)\u001b[0m\u001b[0;34m\u001b[0m\u001b[0m\n\u001b[0m\u001b[1;32m    913\u001b[0m         \u001b[0mmajorTicks\u001b[0m \u001b[0;34m=\u001b[0m \u001b[0mself\u001b[0m\u001b[0;34m.\u001b[0m\u001b[0mget_major_ticks\u001b[0m\u001b[0;34m(\u001b[0m\u001b[0mlen\u001b[0m\u001b[0;34m(\u001b[0m\u001b[0mmajorLocs\u001b[0m\u001b[0;34m)\u001b[0m\u001b[0;34m)\u001b[0m\u001b[0;34m\u001b[0m\u001b[0m\n\u001b[1;32m    914\u001b[0m         \u001b[0mself\u001b[0m\u001b[0;34m.\u001b[0m\u001b[0mmajor\u001b[0m\u001b[0;34m.\u001b[0m\u001b[0mformatter\u001b[0m\u001b[0;34m.\u001b[0m\u001b[0mset_locs\u001b[0m\u001b[0;34m(\u001b[0m\u001b[0mmajorLocs\u001b[0m\u001b[0;34m)\u001b[0m\u001b[0;34m\u001b[0m\u001b[0m\n",
      "\u001b[0;32m/home/daniel/.virtualenvs/IGRlaptop21/grbeaming/lib/python2.7/site-packages/matplotlib/ticker.pyc\u001b[0m in \u001b[0;36m__call__\u001b[0;34m(self)\u001b[0m\n\u001b[1;32m   1936\u001b[0m         \u001b[0;34m'Return the locations of the ticks'\u001b[0m\u001b[0;34m\u001b[0m\u001b[0m\n\u001b[1;32m   1937\u001b[0m         \u001b[0mvmin\u001b[0m\u001b[0;34m,\u001b[0m \u001b[0mvmax\u001b[0m \u001b[0;34m=\u001b[0m \u001b[0mself\u001b[0m\u001b[0;34m.\u001b[0m\u001b[0maxis\u001b[0m\u001b[0;34m.\u001b[0m\u001b[0mget_view_interval\u001b[0m\u001b[0;34m(\u001b[0m\u001b[0;34m)\u001b[0m\u001b[0;34m\u001b[0m\u001b[0m\n\u001b[0;32m-> 1938\u001b[0;31m         \u001b[0;32mreturn\u001b[0m \u001b[0mself\u001b[0m\u001b[0;34m.\u001b[0m\u001b[0mtick_values\u001b[0m\u001b[0;34m(\u001b[0m\u001b[0mvmin\u001b[0m\u001b[0;34m,\u001b[0m \u001b[0mvmax\u001b[0m\u001b[0;34m)\u001b[0m\u001b[0;34m\u001b[0m\u001b[0m\n\u001b[0m\u001b[1;32m   1939\u001b[0m \u001b[0;34m\u001b[0m\u001b[0m\n\u001b[1;32m   1940\u001b[0m     \u001b[0;32mdef\u001b[0m \u001b[0mtick_values\u001b[0m\u001b[0;34m(\u001b[0m\u001b[0mself\u001b[0m\u001b[0;34m,\u001b[0m \u001b[0mvmin\u001b[0m\u001b[0;34m,\u001b[0m \u001b[0mvmax\u001b[0m\u001b[0;34m)\u001b[0m\u001b[0;34m:\u001b[0m\u001b[0;34m\u001b[0m\u001b[0m\n",
      "\u001b[0;32m/home/daniel/.virtualenvs/IGRlaptop21/grbeaming/lib/python2.7/site-packages/matplotlib/ticker.pyc\u001b[0m in \u001b[0;36mtick_values\u001b[0;34m(self, vmin, vmax)\u001b[0m\n\u001b[1;32m   1962\u001b[0m             \u001b[0;32mif\u001b[0m \u001b[0mvmin\u001b[0m \u001b[0;34m<=\u001b[0m \u001b[0;36m0.0\u001b[0m \u001b[0;32mor\u001b[0m \u001b[0;32mnot\u001b[0m \u001b[0mnp\u001b[0m\u001b[0;34m.\u001b[0m\u001b[0misfinite\u001b[0m\u001b[0;34m(\u001b[0m\u001b[0mvmin\u001b[0m\u001b[0;34m)\u001b[0m\u001b[0;34m:\u001b[0m\u001b[0;34m\u001b[0m\u001b[0m\n\u001b[1;32m   1963\u001b[0m                 raise ValueError(\n\u001b[0;32m-> 1964\u001b[0;31m                     \u001b[0;34m\"Data has no positive values, and therefore can not be \"\u001b[0m\u001b[0;34m\u001b[0m\u001b[0m\n\u001b[0m\u001b[1;32m   1965\u001b[0m                     \"log-scaled.\")\n\u001b[1;32m   1966\u001b[0m \u001b[0;34m\u001b[0m\u001b[0m\n",
      "\u001b[0;31mValueError\u001b[0m: Data has no positive values, and therefore can not be log-scaled."
     ]
    },
    {
     "data": {
      "text/plain": [
       "<matplotlib.figure.Figure at 0x7f06319cf350>"
      ]
     },
     "metadata": {},
     "output_type": "display_data"
    }
   ],
   "source": [
    "priors = [\"U(0,1)\", \"jeffreys\",]# \"$\\delta(1)$\", \"$\\delta(0.5)$\"]\n",
    "width = 3.487 #* 2\n",
    "height = width / 1.618\n",
    "f, ax = plt.subplots(1,1, figsize = (width, height), sharey=True, sharex=True)\n",
    "for i in range(len(priors)):\n",
    "\n",
    "    o1_trace = back_traces[i]\n",
    "    ax.hist(np.rad2deg(o1_trace[2000:]['cos_angle'][np.isfinite(o1_trace[2000:]['cos_angle'])]),\n",
    "               histtype=\"step\", bins = 50, lw=2, label=priors[i], log=True, normed=True);\n",
    "    #ax.hist(np.rad2deg(o2_trace[2000:]['angle'][np.isfinite(o2_trace[2000:]['angle'])]),\n",
    "    #           histtype=\"step\", lw=2, label=\"O2 Angle\", log=True);\n",
    "    #ax[3,i].vlines(np.percentile(np.rad2deg(o1_trace[2000:]['angle'][np.isfinite(o1_trace[2000:]['angle'])]), 90), 0, 3e5,\n",
    "    #              label = \"90\\% lower limit, O1\");\n",
    "    #ax[3,i].vlines(np.percentile(np.rad2deg(o2_trace[2000:]['angle'][np.isfinite(o2_trace[2000:]['angle'])]), 90), 0, 3e5,\n",
    "    #              label = \"90\\% lower limit, O2\");\n",
    "    #ax[1,0].set_xlabel(u\"$s$ /Gpc³/yr\")\n",
    "    if i==3: ax.legend()\n",
    "    #if i > 0: \n",
    "    #    ax[i].set_yticklabels([]), ax[2,i].set_yticklabels([])\n",
    "    #    ax[i].set_yticklabels([]), ax[1,i].set_yticklabels([])\n",
    "ax.set_xlabel(\"Beaming angle [deg]\")    \n",
    "ax.set_ylabel(r\"$p(\\theta | D,I)$\")\n",
    "f.subplots_adjust(0.07, 0.05, .99, .95, wspace=0.05)\n",
    "f.savefig(\"O1_beaming_posteriors.pdf\")\n",
    "#f.savefig(\"/home/daniel/papers/thesis/figures/grbbeamingpymc.pdf\")"
   ]
  },
  {
   "cell_type": "code",
   "execution_count": 292,
   "metadata": {},
   "outputs": [
    {
     "data": {
      "text/plain": [
       "11.062123598063081"
      ]
     },
     "execution_count": 292,
     "metadata": {},
     "output_type": "execute_result"
    }
   ],
   "source": [
    "np.mean(trace['cbc_rate'])"
   ]
  },
  {
   "cell_type": "code",
   "execution_count": null,
   "metadata": {
    "collapsed": true
   },
   "outputs": [],
   "source": []
  }
 ],
 "metadata": {
  "kernelspec": {
   "display_name": "Python (grbeaming)",
   "language": "python",
   "name": "venv-grbeaming"
  },
  "language_info": {
   "codemirror_mode": {
    "name": "ipython",
    "version": 2
   },
   "file_extension": ".py",
   "mimetype": "text/x-python",
   "name": "python",
   "nbconvert_exporter": "python",
   "pygments_lexer": "ipython2",
   "version": "2.7.12"
  },
  "latex_envs": {
   "bibliofile": "biblio.bib",
   "cite_by": "apalike",
   "current_citInitial": 1,
   "eqLabelWithNumbers": true,
   "eqNumInitial": 0
  }
 },
 "nbformat": 4,
 "nbformat_minor": 1
}
