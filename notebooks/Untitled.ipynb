{
 "cells": [
  {
   "cell_type": "code",
   "execution_count": 1,
   "metadata": {
    "collapsed": false
   },
   "outputs": [
    {
     "name": "stderr",
     "output_type": "stream",
     "text": [
      "/usr/local/lib/python2.7/dist-packages/matplotlib/__init__.py:872: UserWarning: axes.color_cycle is deprecated and replaced with axes.prop_cycle; please use the latter.\n",
      "  warnings.warn(self.msg_depr % (key, alt_key))\n"
     ]
    }
   ],
   "source": [
    "import matplotlib.pyplot as plt\n",
    "%matplotlib inline"
   ]
  },
  {
   "cell_type": "code",
   "execution_count": 2,
   "metadata": {
    "collapsed": true
   },
   "outputs": [],
   "source": [
    "def cbcRatePosteriorNull(eps,rateAxis):\n",
    "    \"\"\"\n",
    "    Returns the value of the posterior on the cbc Rate for Lambda=0\n",
    "    \"\"\"\n",
    "    return eps*exp(-rateAxis*eps)\n",
    "\n",
    "def rateFromTheta(theta,grb_efficiency,grbRate):\n",
    "    \"\"\"\n",
    "    Returns Rcbc = Rgrb / (1-cos(theta))\n",
    "    \"\"\"\n",
    "    return grbRate / ( grb_efficiency*(1.-cos(theta * pi / 180)) )\n",
    "\n",
    "def compute_jacobian(grbRate,grb_efficiency,theta):\n",
    "    \"\"\"\n",
    "    Compute the Jacboian for the transformation from rate to angle\n",
    "    \"\"\"\n",
    "    denom=grb_efficiency*(cos(theta * pi/180)-1)\n",
    "    return abs(2*grbRate * sin(theta * pi / 180) / denom**2)\n",
    "\n",
    "def compute_beta(theta):\n",
    "    \"\"\"\n",
    "    Compute v/c, assuming theta ~ 1/Lorentz factor\n",
    "    \"\"\"\n",
    "    gamma = 1.0/(theta * pi/180)\n",
    "    beta = sqrt(1 - 1./gamma**2)\n",
    "    return beta,gamma"
   ]
  },
  {
   "cell_type": "code",
   "execution_count": 4,
   "metadata": {
    "collapsed": true
   },
   "outputs": [],
   "source": [
    "import numpy as np\n",
    "from scipy import stats"
   ]
  },
  {
   "cell_type": "code",
   "execution_count": 5,
   "metadata": {
    "collapsed": true
   },
   "outputs": [],
   "source": [
    "eff = np.arange(0,1,0.001)\n",
    "prior_flat = np.ones(len(eff))\n",
    "prior_jeff_pdf = stats.beta(0.5,0.5)\n",
    "prior_jeff = prior_jeff_pdf.pdf(eff)"
   ]
  },
  {
   "cell_type": "code",
   "execution_count": 8,
   "metadata": {
    "collapsed": false
   },
   "outputs": [
    {
     "data": {
      "image/png": "[encoded data removed]",
      "text/plain": [
       "<matplotlib.figure.Figure at 0x7fd67e880b90>"
      ]
     },
     "metadata": {},
     "output_type": "display_data"
    }
   ],
   "source": [
    "f, ax = plt.subplots()\n",
    "ax.semilogy(eff, prior_flat, label='uniform', color='k')\n",
    "ax.semilogy(eff, prior_jeff, label=r'Jeffreys: $\\beta(1/2,1/2)$', color='k',\n",
    "        linestyle='--')\n",
    "ax.set_xlabel('GRB Efficiency, $\\epsilon$')\n",
    "ax.set_ylabel('$p(\\epsilon|I)$')\n",
    "ax.legend()\n",
    "ax.minorticks_on()"
   ]
  },
  {
   "cell_type": "code",
   "execution_count": 9,
   "metadata": {
    "collapsed": true
   },
   "outputs": [],
   "source": [
    "prior_names={'delta,0.1':'delta_0p1', 'delta,0.5':'delta_0p5',\n",
    "'delta,1.0':'delta_1', 'uniform':'uniform','jeffreys':'jeffreys'}"
   ]
  },
  {
   "cell_type": "code",
   "execution_count": null,
   "metadata": {
    "collapsed": true
   },
   "outputs": [],
   "source": []
  }
 ],
 "metadata": {
  "kernelspec": {
   "display_name": "Python 2",
   "language": "python",
   "name": "python2"
  },
  "language_info": {
   "codemirror_mode": {
    "name": "ipython",
    "version": 2
   },
   "file_extension": ".py",
   "mimetype": "text/x-python",
   "name": "python",
   "nbconvert_exporter": "python",
   "pygments_lexer": "ipython2",
   "version": "2.7.10"
  }
 },
 "nbformat": 4,
 "nbformat_minor": 0
}
