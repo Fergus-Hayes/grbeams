{
 "cells": [
  {
   "cell_type": "code",
   "execution_count": 1,
   "metadata": {
    "collapsed": true
   },
   "outputs": [],
   "source": [
    "import pymc3 as pm\n",
    "import numpy as np\n",
    "import theano\n",
    "\n",
    "from theano.compile.ops import as_op\n",
    "\n",
    "import matplotlib.pyplot as plt\n",
    "%matplotlib inline\n",
    "plt.style.use(\"/home/daniel/papers/thesis/thesis-style.mpl\")"
   ]
  },
  {
   "cell_type": "code",
   "execution_count": 2,
   "metadata": {
    "collapsed": true
   },
   "outputs": [],
   "source": [
    "import matplotlib\n",
    "font = {'family' : 'normal',\n",
    "        'weight' : 'bold',\n",
    "        'size'   : 16}\n",
    "\n",
    "matplotlib.rc('font', **font)"
   ]
  },
  {
   "cell_type": "code",
   "execution_count": 3,
   "metadata": {
    "collapsed": true
   },
   "outputs": [],
   "source": [
    "def background_rate_f(b, T, n):\n",
    "    \"\"\"\n",
    "    \n",
    "    \"\"\"\n",
    "    out = 0\n",
    "    #n = int(n)\n",
    "    for i in range(n+1):\n",
    "        out += ((b*T)**i * np.exp(- b*T)) / np.math.factorial(i)\n",
    "    return out\n",
    "\n",
    "def log_background_rate(b, T, n):\n",
    "    return np.log(background_rate_f(b, T, n))\n",
    "\n",
    "def signal_rate_part(s, n, b, T):\n",
    "    top_a = T * ((s + b) * T)**n \n",
    "    top_b = np.exp(-(s + b)*T)\n",
    "    p = (top_a * top_b) / np.math.factorial(n)\n",
    "    return theano.tensor.switch(theano.tensor.le(s, 0), 0, p)\n",
    "\n",
    "#@as_op(itypes=[T.dscalar, T.dscalar, T.dscalar, T.dscalar], otypes=[T.dscalar])\n",
    "def log_signal_rate(s,n,b,T):\n",
    "    #if theano.tensor.lt(0, s): return np.array([[0.0]])\n",
    "    p = -log_background_rate(b,T,n) + np.log(signal_rate_part(s,n,b,T))\n",
    "    \n",
    "    return p"
   ]
  },
  {
   "cell_type": "code",
   "execution_count": 16,
   "metadata": {
    "collapsed": true
   },
   "outputs": [],
   "source": [
    "def beaming_violins(traces, priors):\n",
    "\n",
    "    width = 3.487 #* 2\n",
    "    height = width / 1.618\n",
    "\n",
    "\n",
    "    f, ax = plt.subplots(1,1, sharex=True, figsize = (width, height))\n",
    "    priors = [\"U(0,1)\", \"Jeffreys\", \"$\\delta(1)$\", \"$\\delta(0.5)$\"]\n",
    "    print \"|\\t\\t\\t| Lower\\t| MAP\\t| Median\\t| Upper\\t|\"\n",
    "    print \"|----------|\"\n",
    "    matplotlib.rcParams.update({'font.size': 10})\n",
    "    pos = [.5, 1, 1.5, 2]\n",
    "\n",
    "    for i in range(len(priors)):\n",
    "\n",
    "        o2_trace = traces[i]\n",
    "        #o2_trace = o2_traces[i]\n",
    "\n",
    "        #i = i/2.0\n",
    "        t_data = o2_trace[2000:]['angle'][np.isfinite(o2_trace[2000:]['angle'])]\n",
    "        data = np.rad2deg(t_data)\n",
    "\n",
    "        parts = ax.violinplot(data, [pos[i]], points=100, widths=0.3, vert= False,\n",
    "                         #showmeans = True, showmedians=True, \n",
    "                          showmeans=False, showextrema=False, showmedians=False)\n",
    "\n",
    "        lower_p, medians, upper_p = np.percentile(data, [2.5, 50, 97.50])\n",
    "        lower, upper = pymc3.stats.hpd(t_data, alpha=0.05, transform=np.rad2deg)\n",
    "        hist = np.histogram(data, bins = 90)\n",
    "        MAP = hist[1][np.argmax(hist[0])]\n",
    "\n",
    "\n",
    "\n",
    "        ax.hlines(pos[i], lower, upper, color='#333333', linestyle='-', lw=2, alpha = 0.5)\n",
    "\n",
    "        ax.scatter( [lower, upper], [pos[i]]*2, marker='|', color='k', s=15, zorder=3)\n",
    "        ax.scatter( [MAP], pos[i], marker='D', color='k', s=15, zorder=3)\n",
    "        ax.scatter( [medians], pos[i], marker='s', color='k', s=15, zorder=3)\n",
    "        #ax2.vlines(inds, whiskersMin, whiskersMax, color='k', linestyle='-', lw=1)\n",
    "\n",
    "        print \"| {} \\t| {:.2f}\\t| {:.2f}\\t| {:.2f}\\t| {:.2f}\\t|\".format(priors[i], lower, MAP, medians, upper)\n",
    "\n",
    "        axis = ax\n",
    "        axis.set_yticks(pos)\n",
    "        axis.set_yticklabels(priors)\n",
    "        axis.set_xlim([0, 52])\n",
    "        ax.get_xaxis().set_minor_locator(matplotlib.ticker.AutoMinorLocator())\n",
    "        ax.get_yaxis().set_minor_locator(matplotlib.ticker.AutoMinorLocator())\n",
    "        ax.grid(b=True, axis='x', which='major', linewidth=0.5)\n",
    "        ax.grid(b=True, axis='y', which='major', linewidth=0)\n",
    "        #ax.grid(b=True, which='minor', linewidth=0.5)\n",
    "    ax.set_xlabel(r\"Beaming Angle [$\\theta$]\")\n",
    "    ax.set_ylabel(r\"Prior Distribution on efficiency\")\n",
    "    ax.tick_params(axis='y',which='both',left='off')\n",
    "    f.subplots_adjust(0.20, 0.15, .98, .95, wspace=0.05)\n",
    "    #f.savefig(\"O2a_beaming_posteriors_violin.pdf\")\n",
    "    #f.savefig(\"O2a_beaming_posteriors_violin.png\", dpi=300)\n",
    "    return f"
   ]
  },
  {
   "cell_type": "markdown",
   "metadata": {},
   "source": [
    "# Assuming VT is known perfectly\n",
    "I start with a model in which VT is known perfectly, and where we do not account for the number of galaxies in the observed volume, and assume that sources can be distributed isotropically, in the same way that the other rates estimates do."
   ]
  },
  {
   "cell_type": "code",
   "execution_count": 224,
   "metadata": {
    "collapsed": true
   },
   "outputs": [],
   "source": [
    "import theano.tensor as T\n",
    "from pymc3 import DensityDist, Uniform, Normal\n",
    "from pymc3 import Model\n",
    "from pymc3 import distributions\n",
    "\n",
    "def grb_model_non_galaxy(number_events, background_rate, \n",
    "              observation_time, volume, grb_rate,\n",
    "             efficiency_prior = \"uniform\"):\n",
    "    with Model() as model:\n",
    "        signal_rate = pm.DensityDist('signal_rate', \n",
    "                            logp=lambda value: log_signal_rate(value, number_events, background_rate, observation_time),\n",
    "                           testval=50)\n",
    "\n",
    "        cbc_rate = pm.Deterministic('cbc_rate', signal_rate / volume * 1e9) \n",
    "        \n",
    "        # Allow the efficiency prior to be switched-out\n",
    "        if efficiency_prior == \"uniform\":\n",
    "            efficiency = pm.Uniform('efficiency', 0,1)\n",
    "        elif efficiency_prior == \"jeffreys\":\n",
    "            efficiency = pm.Beta('efficiency', 0.5, 0.5)\n",
    "        elif isinstance(efficiency_prior, float):\n",
    "            efficiency = efficiency_prior\n",
    "        \n",
    "        def cosangle(cbc_rate, efficiency, grb_rate):\n",
    "            return T.switch((grb_rate >= cbc_rate*efficiency), -np.Inf, \n",
    "                                 (1.0 - ((grb_rate/(cbc_rate*efficiency)))))\n",
    "        \n",
    "        costheta = pm.Deterministic('cos_angle', cosangle(cbc_rate, efficiency, grb_rate)\n",
    "                                    \n",
    "                                    )\n",
    "\n",
    "        angle = pm.Deterministic(\"angle\", theano.tensor.arccos(costheta))\n",
    "        \n",
    "        return model\n",
    "\n"
   ]
  },
  {
   "cell_type": "code",
   "execution_count": 225,
   "metadata": {
    "collapsed": true
   },
   "outputs": [],
   "source": [
    "priors = [\"uniform\", \"jeffreys\", 1.0, 0.5]"
   ]
  },
  {
   "cell_type": "markdown",
   "metadata": {},
   "source": [
    "In the actual O1 + O2 scenario we had a total VT of 1502060.62853 Mpc^3yr with a sigma of 118341.996612 Mpc^3yr. This is based off a total observation time of 99.0 + 49.8 days (according to Tom Dents notebook for the rates estimate)."
   ]
  },
  {
   "cell_type": "code",
   "execution_count": 4,
   "metadata": {
    "collapsed": true
   },
   "outputs": [],
   "source": [
    "O1_analysis_time = 49.8/365.25\n",
    "O2_analysis_time = 99.0/365.25"
   ]
  },
  {
   "cell_type": "code",
   "execution_count": 5,
   "metadata": {
    "collapsed": true
   },
   "outputs": [],
   "source": [
    "total_time = O1_analysis_time + O2_analysis_time"
   ]
  },
  {
   "cell_type": "code",
   "execution_count": 6,
   "metadata": {
    "collapsed": true
   },
   "outputs": [],
   "source": [
    "total_vt = 1502060.62853 \n",
    "total_v  = total_vt / total_time"
   ]
  },
  {
   "cell_type": "code",
   "execution_count": 7,
   "metadata": {},
   "outputs": [
    {
     "name": "stdout",
     "output_type": "stream",
     "text": [
      "3687013.74039\n"
     ]
    }
   ],
   "source": [
    "print total_v"
   ]
  },
  {
   "cell_type": "code",
   "execution_count": 229,
   "metadata": {
    "collapsed": true
   },
   "outputs": [],
   "source": [
    "# Actual O2\n",
    "\n",
    "number_events = 1 # There were no BNS detections in O1\n",
    "background_rate = 0.01 # We take the FAR to be 1/100 yr\n",
    "grb_rate = 10.0 \n",
    "o2a_models = []\n",
    "for prior in priors:\n",
    "    o2a_models.append( grb_model_non_galaxy(number_events, background_rate, total_time, total_v, grb_rate, prior))"
   ]
  },
  {
   "cell_type": "code",
   "execution_count": 316,
   "metadata": {},
   "outputs": [
    {
     "name": "stderr",
     "output_type": "stream",
     "text": [
      "100%|██████████| 1000000/1000000 [03:46<00:00, 4412.35it/s]\n",
      "100%|██████████| 1000000/1000000 [03:42<00:00, 4496.96it/s]\n",
      "100%|██████████| 1000000/1000000 [02:15<00:00, 7390.61it/s]\n",
      "100%|██████████| 1000000/1000000 [02:13<00:00, 7477.37it/s]\n"
     ]
    }
   ],
   "source": [
    "samples = 1000000\n",
    "o2a_traces = []\n",
    "for model in o2a_models:\n",
    "    with model:\n",
    "        step = pm.Metropolis()\n",
    "        o2a_traces.append(pm.sample(samples, step))"
   ]
  },
  {
   "cell_type": "code",
   "execution_count": 317,
   "metadata": {},
   "outputs": [
    {
     "name": "stdout",
     "output_type": "stream",
     "text": [
      "|\t\t\t| Lower\t| MAP\t| Median\t| Upper\t|\n",
      "|----------|\n",
      "| U(0,1) \t| 3.64\t| 7.48\t| 11.83\t| 39.72\t|\n",
      "| Jeffreys \t| 3.43\t| 7.49\t| 11.81\t| 51.13\t|\n",
      "| $\\delta(1)$ \t| 3.40\t| 6.23\t| 7.67\t| 17.04\t|\n",
      "| $\\delta(0.5)$ \t| 4.77\t| 9.01\t| 10.85\t| 24.20\t|\n"
     ]
    },
    {
     "data": {
      "image/png": "[encoded data removed]",
      "text/plain": [
       "<matplotlib.figure.Figure at 0x7f0cd7f01b50>"
      ]
     },
     "execution_count": 317,
     "metadata": {},
     "output_type": "execute_result"
    },
    {
     "data": {
      "image/png": "[encoded data removed]",
      "text/plain": [
       "<matplotlib.figure.Figure at 0x7f0cd7f01b50>"
      ]
     },
     "metadata": {},
     "output_type": "display_data"
    }
   ],
   "source": [
    "beaming_violins(o2a_traces, priors)"
   ]
  },
  {
   "cell_type": "markdown",
   "metadata": {},
   "source": [
    "# Assuming VT is distributed\n",
    "We can also incorporate the uncertainty in VT."
   ]
  },
  {
   "cell_type": "code",
   "execution_count": 12,
   "metadata": {
    "collapsed": true
   },
   "outputs": [],
   "source": [
    "sigma_vt = 118342"
   ]
  },
  {
   "cell_type": "code",
   "execution_count": 319,
   "metadata": {
    "collapsed": true
   },
   "outputs": [],
   "source": [
    "import theano.tensor as T\n",
    "from pymc3 import DensityDist, Uniform, Normal\n",
    "from pymc3 import Model\n",
    "from pymc3 import distributions\n",
    "\n",
    "def grb_model_non_galaxy_sigma(number_events, background_rate, \n",
    "              observation_time, volume, sigma_volume, grb_rate,\n",
    "             efficiency_prior = \"uniform\"):\n",
    "    with Model() as model:\n",
    "        signal_rate = pm.DensityDist('signal_rate', \n",
    "                            logp=lambda value: log_signal_rate(value, number_events, background_rate, observation_time),\n",
    "                           testval=50)\n",
    "\n",
    "        volume = pm.Normal(\"volume\", volume, sigma_volume)\n",
    "        \n",
    "        cbc_rate = pm.Deterministic('cbc_rate', signal_rate / volume * 1e9) \n",
    "        \n",
    "        # Allow the efficiency prior to be switched-out\n",
    "        if efficiency_prior == \"uniform\":\n",
    "            efficiency = pm.Uniform('efficiency', 0,1)\n",
    "        elif efficiency_prior == \"jeffreys\":\n",
    "            efficiency = pm.Beta('efficiency', 0.5, 0.5)\n",
    "        elif isinstance(efficiency_prior, float):\n",
    "            efficiency = efficiency_prior\n",
    "        \n",
    "        def cosangle(cbc_rate, efficiency, grb_rate):\n",
    "            return T.switch((grb_rate >= cbc_rate*efficiency), -np.Inf, \n",
    "                                 (1.0 - ((grb_rate/(cbc_rate*efficiency)))))\n",
    "        \n",
    "        costheta = pm.Deterministic('cos_angle', cosangle(cbc_rate, efficiency, grb_rate)\n",
    "                                    \n",
    "                                    )\n",
    "\n",
    "        angle = pm.Deterministic(\"angle\", theano.tensor.arccos(costheta))\n",
    "        \n",
    "        return model\n",
    "\n"
   ]
  },
  {
   "cell_type": "code",
   "execution_count": 320,
   "metadata": {
    "collapsed": true
   },
   "outputs": [],
   "source": [
    "# Actual O2\n",
    "priors = [\"uniform\", \"jeffreys\", 1.0, 0.5]\n",
    "number_events = 1 # There were no BNS detections in O1\n",
    "background_rate = 0.01 # We take the FAR to be 1/100 yr\n",
    "grb_rate = 10.0 \n",
    "o2a_models_u = []\n",
    "for prior in priors:\n",
    "    o2a_models_u.append( grb_model_non_galaxy_sigma(number_events, background_rate, total_time, total_v, sigma_vt/total_time, grb_rate, prior))"
   ]
  },
  {
   "cell_type": "code",
   "execution_count": 321,
   "metadata": {},
   "outputs": [
    {
     "name": "stderr",
     "output_type": "stream",
     "text": [
      "100%|██████████| 1000000/1000000 [03:37<00:00, 4607.29it/s]\n",
      "100%|██████████| 1000000/1000000 [03:43<00:00, 4465.80it/s]\n",
      "100%|██████████| 1000000/1000000 [02:31<00:00, 6610.55it/s]\n",
      "100%|██████████| 1000000/1000000 [02:26<00:00, 6843.46it/s]\n"
     ]
    }
   ],
   "source": [
    "samples = 1000000\n",
    "o2a_traces_u = []\n",
    "for model in o2a_models_u:\n",
    "    with model:\n",
    "        step = pm.Metropolis()\n",
    "        o2a_traces_u.append(pm.sample(samples, step))"
   ]
  },
  {
   "cell_type": "code",
   "execution_count": 322,
   "metadata": {},
   "outputs": [
    {
     "name": "stdout",
     "output_type": "stream",
     "text": [
      "|\t\t\t| Lower\t| MAP\t| Median\t| Upper\t|\n",
      "|----------|\n",
      "| U(0,1) \t| 3.67\t| 7.21\t| 11.83\t| 39.75\t|\n",
      "| Jeffreys \t| 3.42\t| 7.45\t| 11.77\t| 50.89\t|\n",
      "| $\\delta(1)$ \t| 3.44\t| 6.26\t| 7.67\t| 17.07\t|\n",
      "| $\\delta(0.5)$ \t| 4.88\t| 8.02\t| 10.86\t| 24.20\t|\n"
     ]
    },
    {
     "data": {
      "image/png": "[encoded data removed]",
      "text/plain": [
       "<matplotlib.figure.Figure at 0x7f0cd9672490>"
      ]
     },
     "metadata": {},
     "output_type": "display_data"
    }
   ],
   "source": [
    "distributed_vt_plot = beaming_violins(o2a_traces_u, priors)"
   ]
  },
  {
   "cell_type": "markdown",
   "metadata": {},
   "source": [
    "# Assuming an event must originate in an MWEG"
   ]
  },
  {
   "cell_type": "code",
   "execution_count": 8,
   "metadata": {
    "collapsed": true
   },
   "outputs": [],
   "source": [
    "def number_mweg(volume):\n",
    "    \"\"\"\n",
    "    Calculates the number of MWEGs in a volume, given in units of Mpc^3\n",
    "    \"\"\"\n",
    "    return volume * (0.0116) "
   ]
  },
  {
   "cell_type": "code",
   "execution_count": 9,
   "metadata": {},
   "outputs": [
    {
     "data": {
      "text/plain": [
       "42769.35938856692"
      ]
     },
     "execution_count": 9,
     "metadata": {},
     "output_type": "execute_result"
    }
   ],
   "source": [
    "number_mweg(total_v)"
   ]
  },
  {
   "cell_type": "code",
   "execution_count": 10,
   "metadata": {
    "collapsed": true
   },
   "outputs": [],
   "source": [
    "import theano.tensor as T\n",
    "from pymc3 import DensityDist, Uniform, Normal\n",
    "from pymc3 import Model\n",
    "from pymc3 import distributions\n",
    "\n",
    "def grb_model_sigma(number_events, background_rate, \n",
    "              observation_time, volume, sigma_volume, grb_rate,\n",
    "             efficiency_prior = \"uniform\"):\n",
    "    with Model() as model:\n",
    "        signal_rate = pm.DensityDist('signal_rate', \n",
    "                            logp=lambda value: log_signal_rate(value, number_events, background_rate, observation_time),\n",
    "                           testval=50)\n",
    "\n",
    "        volume = pm.Normal(\"volume\", volume, sigma_volume)\n",
    "        \n",
    "        n_galaxy = number_mweg(volume)\n",
    "    \n",
    "        cbc_rate = pm.Deterministic('cbc_rate', signal_rate / n_galaxy)\n",
    "        \n",
    "        grb_rate = (grb_rate / number_mweg(1e9)) #/ n_galaxy\n",
    "        \n",
    "        # Allow the efficiency prior to be switched-out\n",
    "        if efficiency_prior == \"uniform\":\n",
    "            efficiency = pm.Uniform('efficiency', 0,1)\n",
    "        elif efficiency_prior == \"jeffreys\":\n",
    "            efficiency = pm.Beta('efficiency', 0.5, 0.5)\n",
    "        elif isinstance(efficiency_prior, float):\n",
    "            efficiency = efficiency_prior\n",
    "        \n",
    "        def cosangle(cbc_rate, efficiency, grb_rate):\n",
    "            return T.switch((grb_rate >= cbc_rate*efficiency), -np.Inf, \n",
    "                                 (1.0 - ((grb_rate/(cbc_rate*efficiency)))))\n",
    "        \n",
    "        costheta = pm.Deterministic('cos_angle', cosangle(cbc_rate, efficiency, grb_rate)\n",
    "                                    \n",
    "                                    )\n",
    "\n",
    "        angle = pm.Deterministic(\"angle\", theano.tensor.arccos(costheta))\n",
    "        \n",
    "        return model\n",
    "\n"
   ]
  },
  {
   "cell_type": "code",
   "execution_count": 13,
   "metadata": {},
   "outputs": [],
   "source": [
    "# Actual O2\n",
    "priors = [\"uniform\", \"jeffreys\", 1.0, 0.5]\n",
    "number_events = 1 # There were no BNS detections in O1\n",
    "background_rate = 0.01 # We take the FAR to be 1/100 yr\n",
    "grb_rate = 10.0 \n",
    "o2a_models_mweg = []\n",
    "for prior in priors:\n",
    "    o2a_models_mweg.append( grb_model_sigma(number_events, background_rate, total_time, total_v, sigma_vt/total_time, grb_rate, prior))"
   ]
  },
  {
   "cell_type": "code",
   "execution_count": 14,
   "metadata": {},
   "outputs": [
    {
     "name": "stderr",
     "output_type": "stream",
     "text": [
      "100%|██████████| 100000/100000 [00:18<00:00, 5272.37it/s]\n",
      "100%|██████████| 100000/100000 [00:18<00:00, 5399.02it/s]\n",
      "100%|██████████| 100000/100000 [00:12<00:00, 7945.84it/s]\n",
      "100%|██████████| 100000/100000 [00:12<00:00, 7861.60it/s]\n"
     ]
    }
   ],
   "source": [
    "samples = 100000\n",
    "o2a_traces_mweg = []\n",
    "for model in o2a_models_mweg:\n",
    "    with model:\n",
    "        step = pm.Metropolis()\n",
    "        o2a_traces_mweg.append(pm.sample(samples, step))"
   ]
  },
  {
   "cell_type": "code",
   "execution_count": 18,
   "metadata": {
    "collapsed": true
   },
   "outputs": [],
   "source": [
    "import pymc3"
   ]
  },
  {
   "cell_type": "code",
   "execution_count": 19,
   "metadata": {},
   "outputs": [
    {
     "name": "stdout",
     "output_type": "stream",
     "text": [
      "|\t\t\t| Lower\t| MAP\t| Median\t| Upper\t|\n",
      "|----------|\n",
      "| U(0,1) \t| 3.69\t| 8.64\t| 11.66\t| 40.01\t|\n",
      "| Jeffreys \t| 3.51\t| 7.53\t| 11.85\t| 51.54\t|\n",
      "| $\\delta(1)$ \t| 3.43\t| 5.42\t| 7.66\t| 16.82\t|\n",
      "| $\\delta(0.5)$ \t| 4.79\t| 8.37\t| 10.88\t| 23.83\t|\n"
     ]
    },
    {
     "data": {
      "image/png": "[encoded data removed]",
      "text/plain": [
       "<matplotlib.figure.Figure at 0x7f66c6f1ca90>"
      ]
     },
     "metadata": {},
     "output_type": "display_data"
    }
   ],
   "source": [
    "mweg_viols = beaming_violins(o2a_traces_mweg, priors)"
   ]
  },
  {
   "cell_type": "code",
   "execution_count": null,
   "metadata": {
    "collapsed": true
   },
   "outputs": [],
   "source": []
  }
 ],
 "metadata": {
  "kernelspec": {
   "display_name": "Python (grbeaming)",
   "language": "python",
   "name": "venv-grbeaming"
  },
  "language_info": {
   "codemirror_mode": {
    "name": "ipython",
    "version": 2
   },
   "file_extension": ".py",
   "mimetype": "text/x-python",
   "name": "python",
   "nbconvert_exporter": "python",
   "pygments_lexer": "ipython2",
   "version": "2.7.12"
  },
  "latex_envs": {
   "bibliofile": "biblio.bib",
   "cite_by": "apalike",
   "current_citInitial": 1,
   "eqLabelWithNumbers": true,
   "eqNumInitial": 0
  }
 },
 "nbformat": 4,
 "nbformat_minor": 1
}
