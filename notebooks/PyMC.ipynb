{
 "cells": [
  {
   "cell_type": "code",
   "execution_count": 1,
   "metadata": {},
   "outputs": [],
   "source": [
    "import pymc3 as pm\n",
    "import numpy as np\n",
    "import theano\n",
    "\n",
    "from theano.compile.ops import as_op"
   ]
  },
  {
   "cell_type": "code",
   "execution_count": 2,
   "metadata": {},
   "outputs": [],
   "source": [
    "def background_rate_f(b, T, n):\n",
    "    \"\"\"\n",
    "    \n",
    "    \"\"\"\n",
    "    out = 0\n",
    "    #n = int(n)\n",
    "    for i in range(n+1):\n",
    "        out += ((b*T)**i * np.exp(- b*T)) / np.math.factorial(i)\n",
    "    return out\n",
    "\n",
    "def log_background_rate(b, T, n):\n",
    "    return np.log(background_rate_f(b, T, n))\n",
    "\n",
    "def signal_rate_part(s, n, b, T):\n",
    "    top_a = T * ((s + b) * T)**n \n",
    "    top_b = np.exp(-(s + b)*T)\n",
    "    p = (top_a * top_b) / np.math.factorial(n)\n",
    "    return theano.tensor.switch(theano.tensor.le(s, 0), 0, p)\n",
    "\n",
    "#@as_op(itypes=[T.dscalar, T.dscalar, T.dscalar, T.dscalar], otypes=[T.dscalar])\n",
    "def log_signal_rate(s,n,b,T):\n",
    "    #if theano.tensor.lt(0, s): return np.array([[0.0]])\n",
    "    p = -log_background_rate(b,T,n) + np.log(signal_rate_part(s,n,b,T))\n",
    "    \n",
    "    return p"
   ]
  },
  {
   "cell_type": "code",
   "execution_count": 3,
   "metadata": {
    "collapsed": true
   },
   "outputs": [],
   "source": [
    "def number_mweg(horizon):\n",
    "    return 4./3 * np.pi * horizon**3 *(2.26)**-3  #* (0.0116) #* horizon**3"
   ]
  },
  {
   "cell_type": "code",
   "execution_count": 4,
   "metadata": {},
   "outputs": [],
   "source": [
    "import theano.tensor as T\n",
    "from pymc3 import DensityDist, Uniform, Normal\n",
    "from pymc3 import Model\n",
    "from pymc3 import distributions\n",
    "\n",
    "\n",
    "with Model() as model:\n",
    "    number_events = 0\n",
    "    background_rate = 0.01 #\n",
    "    observation_time = 46.1/365. # \n",
    "    duty_cycle = 0.2\n",
    "    horizon = 73.2    \n",
    "    grb_rate = 1.0\n",
    "    \n",
    "    #trunc = pm.Bound(pm.DensityDist, lower=0)\n",
    "    signal_rate = pm.DensityDist('signal_rate', \n",
    "                        logp=lambda value: log_signal_rate(value, number_events, background_rate, observation_time),\n",
    "                       testval=10)\n",
    "    \n",
    "    n_galaxy = number_mweg(horizon)\n",
    "    \n",
    "    cbc_rate = pm.Deterministic('cbc_rate', signal_rate * n_galaxy * horizon)\n",
    "    \n",
    "    efficiency = pm.Uniform('efficiency', 0,1)\n",
    "   \n",
    "    costheta = pm.Deterministic('cos_angle', 1.0 - ((grb_rate/cbc_rate*efficiency)))\n",
    "    \n",
    "    angle = pm.Deterministic(\"angle\", theano.tensor.arccos(costheta))"
   ]
  },
  {
   "cell_type": "code",
   "execution_count": 5,
   "metadata": {},
   "outputs": [],
   "source": [
    "import theano.tensor as T\n",
    "from pymc3 import DensityDist, Uniform, Normal\n",
    "from pymc3 import Model\n",
    "from pymc3 import distributions\n",
    "\n",
    "def grb_model(number_events, background_rate, \n",
    "              observation_time, horizon, grb_rate,\n",
    "             efficiency_prior = \"uniform\"):\n",
    "    with Model() as model:\n",
    "        signal_rate = pm.DensityDist('signal_rate', \n",
    "                            logp=lambda value: log_signal_rate(value, number_events, background_rate, observation_time),\n",
    "                           testval=50)\n",
    "\n",
    "        n_galaxy = number_mweg(horizon)\n",
    "\n",
    "        cbc_rate = pm.Deterministic('cbc_rate', signal_rate * n_galaxy)\n",
    "\n",
    "        # Allow the efficiency prior to be switched-out\n",
    "        if efficiency_prior == \"uniform\":\n",
    "            efficiency = pm.Uniform('efficiency', 0,1)\n",
    "        elif efficiency_prior == \"jeffreys\":\n",
    "            efficiency = pm.Beta('efficiency', 0.5, 0.5)\n",
    "        elif isinstance(efficiency_prior, float):\n",
    "            efficiency = efficiency_prior\n",
    "\n",
    "        costheta = pm.Deterministic('cos_angle', 1.0 - ((grb_rate/cbc_rate*efficiency)))\n",
    "\n",
    "        angle = pm.Deterministic(\"angle\", theano.tensor.arccos(costheta))\n",
    "        \n",
    "        return model"
   ]
  },
  {
   "cell_type": "code",
   "execution_count": 19,
   "metadata": {
    "collapsed": true
   },
   "outputs": [],
   "source": [
    "priors = [\"uniform\", \"jeffreys\", 1.0, 0.5]"
   ]
  },
  {
   "cell_type": "code",
   "execution_count": 20,
   "metadata": {},
   "outputs": [],
   "source": [
    "# O1 Scenarios\n",
    "number_events = 0 # There were no BNS detections in O1\n",
    "background_rate = 0.01 # We take the FAR to be 1/100 yr\n",
    "observation_time = 46.1/365. # The number of days of analysis conducted by gstLAL\n",
    "horizon = 73.2  # The O1 BNS horizon distance in O1 BNS paper\n",
    "grb_rate = 10.0\n",
    "o1_models = []\n",
    "for prior in priors:\n",
    "    o1_models.append( grb_model(number_events, background_rate, observation_time, horizon, grb_rate, prior))"
   ]
  },
  {
   "cell_type": "code",
   "execution_count": 21,
   "metadata": {},
   "outputs": [],
   "source": [
    "# O2 Scenarios\n",
    "number_events = 1 # Assume O2 will see one BNS observation\n",
    "background_rate = 0.01 # We take the FAR to be 1/100 yr\n",
    "observation_time = 0.5 # The number of days of analysis conducted by gstLAL\n",
    "duty_cycle = 0.4\n",
    "observation_time *= duty_cycle\n",
    "horizon = 80.0  # The O1 BNS horizon distance in O1 BNS paper\n",
    "grb_rate = 10.0\n",
    "o2_models = []\n",
    "for prior in priors:\n",
    "    o2_models.append( grb_model(number_events, background_rate, observation_time, horizon, grb_rate, prior))"
   ]
  },
  {
   "cell_type": "code",
   "execution_count": 8,
   "metadata": {
    "collapsed": true
   },
   "outputs": [],
   "source": [
    "samples = 100000"
   ]
  },
  {
   "cell_type": "code",
   "execution_count": 23,
   "metadata": {},
   "outputs": [
    {
     "name": "stderr",
     "output_type": "stream",
     "text": [
      "\n",
      "  0%|          | 0/100000 [00:00<?, ?it/s]\u001b[A\n",
      "  0%|          | 1/100000 [00:00<24:33:01,  1.13it/s]\u001b[A\n",
      "  1%|          | 551/100000 [00:00<17:05:32,  1.62it/s]\u001b[A\n",
      "  1%|          | 1130/100000 [00:01<11:53:46,  2.31it/s]\u001b[A\n",
      "  2%|▏         | 1625/100000 [00:01<8:17:14,  3.30it/s] \u001b[A\n",
      "  2%|▏         | 2207/100000 [00:01<5:46:05,  4.71it/s]\u001b[A\n",
      "  3%|▎         | 2767/100000 [00:01<4:00:58,  6.73it/s]\u001b[A\n",
      "  3%|▎         | 3335/100000 [00:01<2:47:46,  9.60it/s]\u001b[A\n",
      "  4%|▍         | 3861/100000 [00:01<1:56:53, 13.71it/s]\u001b[A\n",
      "  4%|▍         | 4464/100000 [00:01<1:21:23, 19.56it/s]\u001b[A\n",
      "  5%|▌         | 5016/100000 [00:01<56:43, 27.90it/s]  \u001b[A\n",
      "  6%|▌         | 5600/100000 [00:01<39:32, 39.78it/s]\u001b[A\n",
      "  6%|▌         | 6181/100000 [00:01<27:35, 56.66it/s]\u001b[A\n",
      "  7%|▋         | 6768/100000 [00:02<19:16, 80.61it/s]\u001b[A\n",
      "  7%|▋         | 7336/100000 [00:02<13:29, 114.46it/s]\u001b[A\n",
      "\n",
      "  8%|▊         | 7902/100000 [00:02<09:28, 162.04it/s]\u001b[A\n",
      "  9%|▊         | 8501/100000 [00:02<06:39, 228.83it/s]\u001b[A\n",
      "  9%|▉         | 9072/100000 [00:02<04:43, 321.28it/s]\u001b[A\n",
      " 10%|▉         | 9640/100000 [00:02<03:22, 447.31it/s]\u001b[A\n",
      " 10%|█         | 10250/100000 [00:02<02:24, 619.54it/s]\u001b[A\n",
      " 11%|█         | 10822/100000 [00:02<01:45, 842.44it/s]\u001b[A\n",
      " 11%|█▏        | 11380/100000 [00:02<01:18, 1129.53it/s]\u001b[A\n",
      " 12%|█▏        | 11936/100000 [00:03<00:59, 1475.81it/s]\u001b[A\n",
      " 12%|█▏        | 12481/100000 [00:03<00:46, 1884.82it/s]\u001b[A\n",
      " 13%|█▎        | 13079/100000 [00:03<00:36, 2372.01it/s]\u001b[A\n",
      " 14%|█▎        | 13638/100000 [00:03<00:30, 2853.66it/s]\u001b[A\n",
      " 14%|█▍        | 14192/100000 [00:03<00:25, 3321.23it/s]\u001b[A\n",
      " 15%|█▍        | 14783/100000 [00:03<00:22, 3823.69it/s]\u001b[A\n",
      " 15%|█▌        | 15345/100000 [00:03<00:20, 4122.68it/s]\u001b[A\n",
      " 16%|█▌        | 15945/100000 [00:03<00:18, 4548.58it/s]\u001b[A\n",
      " 17%|█▋        | 16614/100000 [00:03<00:16, 5030.46it/s]\u001b[A\n",
      " 17%|█▋        | 17299/100000 [00:03<00:15, 5465.66it/s]\u001b[A\n",
      " 18%|█▊        | 17931/100000 [00:04<00:14, 5693.98it/s]\u001b[A\n",
      " 19%|█▊        | 18562/100000 [00:04<00:13, 5863.66it/s]\u001b[A\n",
      " 19%|█▉        | 19202/100000 [00:04<00:13, 6014.47it/s]\u001b[A\n",
      " 20%|█▉        | 19832/100000 [00:04<00:13, 6001.61it/s]\u001b[A\n",
      " 20%|██        | 20500/100000 [00:04<00:12, 6188.10it/s]\u001b[A\n",
      " 21%|██        | 21135/100000 [00:04<00:12, 6153.07it/s]\u001b[A\n",
      " 22%|██▏       | 21830/100000 [00:04<00:12, 6369.24it/s]\u001b[A\n",
      " 23%|██▎       | 22536/100000 [00:04<00:11, 6561.33it/s]\u001b[A\n",
      " 23%|██▎       | 23201/100000 [00:04<00:11, 6434.36it/s]\u001b[A\n",
      " 24%|██▍       | 23861/100000 [00:04<00:11, 6481.55it/s]\u001b[A\n",
      " 25%|██▍       | 24514/100000 [00:05<00:11, 6392.66it/s]\u001b[A\n",
      " 25%|██▌       | 25157/100000 [00:05<00:11, 6343.02it/s]\u001b[A\n",
      " 26%|██▌       | 25860/100000 [00:05<00:11, 6533.82it/s]\u001b[A\n",
      " 27%|██▋       | 26559/100000 [00:05<00:11, 6663.97it/s]\u001b[A\n",
      " 27%|██▋       | 27243/100000 [00:05<00:10, 6713.85it/s]\u001b[A\n",
      " 28%|██▊       | 27917/100000 [00:05<00:11, 6334.56it/s]\u001b[A\n",
      " 29%|██▊       | 28606/100000 [00:05<00:11, 6490.15it/s]\u001b[A\n",
      " 29%|██▉       | 29261/100000 [00:05<00:10, 6472.39it/s]\u001b[A\n",
      " 30%|██▉       | 29912/100000 [00:05<00:10, 6446.53it/s]\u001b[A\n",
      " 31%|███       | 30570/100000 [00:05<00:10, 6484.94it/s]\u001b[A\n",
      " 31%|███▏      | 31270/100000 [00:06<00:10, 6630.06it/s]\u001b[A\n",
      " 32%|███▏      | 31936/100000 [00:06<00:10, 6399.41it/s]\u001b[A\n",
      " 33%|███▎      | 32580/100000 [00:06<00:10, 6152.75it/s]\u001b[A\n",
      " 33%|███▎      | 33210/100000 [00:06<00:10, 6194.68it/s]\u001b[A\n",
      " 34%|███▍      | 33856/100000 [00:06<00:10, 6270.32it/s]\u001b[A\n",
      " 34%|███▍      | 34486/100000 [00:06<00:10, 6174.22it/s]\u001b[A\n",
      " 35%|███▌      | 35106/100000 [00:06<00:11, 5659.41it/s]\u001b[A\n",
      " 36%|███▌      | 35682/100000 [00:06<00:11, 5518.93it/s]\u001b[A\n",
      " 36%|███▌      | 36242/100000 [00:06<00:11, 5320.60it/s]\u001b[A\n",
      " 37%|███▋      | 36806/100000 [00:07<00:11, 5411.50it/s]\u001b[A\n",
      " 37%|███▋      | 37380/100000 [00:07<00:11, 5503.00it/s]\u001b[A\n",
      " 38%|███▊      | 37935/100000 [00:07<00:11, 5485.30it/s]\u001b[A\n",
      " 38%|███▊      | 38487/100000 [00:07<00:11, 5484.85it/s]\u001b[A\n",
      " 39%|███▉      | 39084/100000 [00:07<00:10, 5619.16it/s]\u001b[A\n",
      " 40%|███▉      | 39649/100000 [00:07<00:11, 5106.99it/s]\u001b[A\n",
      " 40%|████      | 40171/100000 [00:07<00:14, 4238.75it/s]\u001b[A\n",
      " 41%|████      | 40667/100000 [00:07<00:13, 4430.15it/s]\u001b[A\n",
      " 41%|████▏     | 41251/100000 [00:07<00:12, 4774.62it/s]\u001b[A\n",
      " 42%|████▏     | 41783/100000 [00:08<00:11, 4923.68it/s]\u001b[A\n",
      " 42%|████▏     | 42322/100000 [00:08<00:11, 5053.49it/s]\u001b[A\n",
      " 43%|████▎     | 42913/100000 [00:08<00:10, 5283.09it/s]\u001b[A\n",
      " 43%|████▎     | 43454/100000 [00:08<00:10, 5206.99it/s]\u001b[A\n",
      " 44%|████▍     | 44002/100000 [00:08<00:10, 5283.83it/s]\u001b[A\n",
      " 45%|████▍     | 44537/100000 [00:08<00:11, 4934.84it/s]\u001b[A\n",
      " 45%|████▌     | 45051/100000 [00:08<00:11, 4992.52it/s]\u001b[A\n",
      " 46%|████▌     | 45632/100000 [00:08<00:10, 5210.72it/s]\u001b[A\n",
      " 46%|████▌     | 46171/100000 [00:08<00:10, 5262.50it/s]\u001b[A\n",
      " 47%|████▋     | 46721/100000 [00:09<00:09, 5330.91it/s]\u001b[A\n",
      " 47%|████▋     | 47258/100000 [00:09<00:10, 5142.33it/s]\u001b[A\n",
      " 48%|████▊     | 47809/100000 [00:09<00:09, 5246.32it/s]\u001b[A\n",
      " 48%|████▊     | 48402/100000 [00:09<00:09, 5432.82it/s]\u001b[A\n",
      " 49%|████▉     | 48950/100000 [00:09<00:09, 5434.46it/s]\u001b[A\n",
      " 49%|████▉     | 49497/100000 [00:09<00:09, 5410.67it/s]\u001b[A\n",
      " 50%|█████     | 50060/100000 [00:09<00:09, 5472.45it/s]\u001b[A\n",
      " 51%|█████     | 50663/100000 [00:09<00:08, 5627.24it/s]\u001b[A\n",
      " 51%|█████     | 51228/100000 [00:09<00:08, 5606.03it/s]\u001b[A\n",
      " 52%|█████▏    | 51799/100000 [00:09<00:08, 5636.27it/s]\u001b[A\n",
      " 52%|█████▏    | 52395/100000 [00:10<00:08, 5729.32it/s]\u001b[A\n",
      " 53%|█████▎    | 52970/100000 [00:10<00:08, 5577.86it/s]\u001b[A\n",
      " 54%|█████▎    | 53530/100000 [00:10<00:08, 5430.62it/s]\u001b[A\n",
      " 54%|█████▍    | 54081/100000 [00:10<00:08, 5453.40it/s]\u001b[A\n",
      " 55%|█████▍    | 54681/100000 [00:10<00:08, 5605.33it/s]\u001b[A\n",
      " 55%|█████▌    | 55244/100000 [00:10<00:08, 5430.41it/s]\u001b[A\n",
      " 56%|█████▌    | 55790/100000 [00:10<00:08, 5099.99it/s]\u001b[A\n",
      " 56%|█████▋    | 56306/100000 [00:10<00:08, 4860.61it/s]\u001b[A\n",
      " 57%|█████▋    | 56799/100000 [00:10<00:08, 4827.79it/s]\u001b[A\n",
      " 57%|█████▋    | 57289/100000 [00:11<00:08, 4847.98it/s]\u001b[A\n",
      " 58%|█████▊    | 57856/100000 [00:11<00:08, 5067.01it/s]\u001b[A\n",
      " 58%|█████▊    | 58368/100000 [00:11<00:08, 4858.85it/s]\u001b[A\n",
      " 59%|█████▉    | 58922/100000 [00:11<00:08, 5043.11it/s]\u001b[A\n",
      " 60%|█████▉    | 59546/100000 [00:11<00:07, 5349.38it/s]\u001b[A\n",
      " 60%|██████    | 60133/100000 [00:11<00:07, 5494.23it/s]\u001b[A\n",
      " 61%|██████    | 60690/100000 [00:11<00:07, 5242.63it/s]\u001b[A\n",
      " 61%|██████    | 61222/100000 [00:11<00:07, 5113.35it/s]\u001b[A\n",
      " 62%|██████▏   | 61740/100000 [00:11<00:08, 4664.56it/s]\u001b[A\n",
      " 62%|██████▏   | 62219/100000 [00:12<00:08, 4233.61it/s]\u001b[A\n",
      " 63%|██████▎   | 62703/100000 [00:12<00:08, 4397.62it/s]\u001b[A\n",
      " 63%|██████▎   | 63320/100000 [00:12<00:07, 4811.68it/s]\u001b[A\n",
      " 64%|██████▍   | 63884/100000 [00:12<00:07, 5031.71it/s]\u001b[A\n",
      " 64%|██████▍   | 64405/100000 [00:12<00:07, 4946.06it/s]\u001b[A\n",
      " 65%|██████▍   | 64912/100000 [00:12<00:07, 4732.16it/s]\u001b[A\n",
      " 65%|██████▌   | 65396/100000 [00:12<00:07, 4731.57it/s]\u001b[A\n",
      " 66%|██████▌   | 65877/100000 [00:12<00:07, 4684.85it/s]\u001b[A\n",
      " 66%|██████▋   | 66351/100000 [00:12<00:08, 4182.71it/s]\u001b[A\n",
      " 67%|██████▋   | 66784/100000 [00:13<00:08, 4146.90it/s]\u001b[A\n",
      " 67%|██████▋   | 67249/100000 [00:13<00:07, 4282.88it/s]\u001b[A\n",
      " 68%|██████▊   | 67739/100000 [00:13<00:07, 4447.88it/s]\u001b[A\n",
      " 68%|██████▊   | 68265/100000 [00:13<00:06, 4662.54it/s]\u001b[A\n",
      " 69%|██████▉   | 68894/100000 [00:13<00:06, 5052.53it/s]\u001b[A\n",
      " 69%|██████▉   | 69415/100000 [00:13<00:06, 4942.76it/s]\u001b[A\n",
      " 70%|██████▉   | 69921/100000 [00:13<00:06, 4739.12it/s]\u001b[A\n",
      " 70%|███████   | 70405/100000 [00:13<00:06, 4686.80it/s]\u001b[A\n",
      " 71%|███████   | 70881/100000 [00:13<00:06, 4584.82it/s]\u001b[A\n",
      " 71%|███████▏  | 71400/100000 [00:13<00:06, 4750.90it/s]\u001b[A\n",
      " 72%|███████▏  | 71913/100000 [00:14<00:05, 4858.23it/s]\u001b[A\n",
      " 72%|███████▏  | 72404/100000 [00:14<00:05, 4655.52it/s]\u001b[A\n",
      " 73%|███████▎  | 72875/100000 [00:14<00:06, 4407.81it/s]\u001b[A\n",
      " 73%|███████▎  | 73382/100000 [00:14<00:05, 4587.34it/s]\u001b[A\n",
      " 74%|███████▍  | 73939/100000 [00:14<00:05, 4842.16it/s]\u001b[A\n",
      " 75%|███████▍  | 74518/100000 [00:14<00:05, 5090.16it/s]\u001b[A\n",
      " 75%|███████▌  | 75143/100000 [00:14<00:04, 5388.62it/s]\u001b[A\n",
      " 76%|███████▌  | 75726/100000 [00:14<00:04, 5509.08it/s]\u001b[A\n",
      " 76%|███████▋  | 76286/100000 [00:14<00:04, 5525.33it/s]\u001b[A\n",
      " 77%|███████▋  | 76891/100000 [00:14<00:04, 5672.41it/s]\u001b[A\n",
      " 77%|███████▋  | 77464/100000 [00:15<00:04, 5557.05it/s]\u001b[A\n"
     ]
    },
    {
     "name": "stderr",
     "output_type": "stream",
     "text": [
      " 78%|███████▊  | 78082/100000 [00:15<00:03, 5718.25it/s]\u001b[A\n",
      " 79%|███████▊  | 78668/100000 [00:15<00:03, 5757.95it/s]\u001b[A\n",
      " 79%|███████▉  | 79247/100000 [00:15<00:03, 5539.16it/s]\u001b[A\n",
      " 80%|███████▉  | 79805/100000 [00:15<00:03, 5481.20it/s]\u001b[A\n",
      " 80%|████████  | 80368/100000 [00:15<00:03, 5523.37it/s]\u001b[A\n",
      " 81%|████████  | 80973/100000 [00:15<00:03, 5669.92it/s]\u001b[A\n",
      " 82%|████████▏ | 81543/100000 [00:15<00:03, 5618.44it/s]\u001b[A\n",
      " 82%|████████▏ | 82126/100000 [00:15<00:03, 5678.19it/s]\u001b[A\n",
      " 83%|████████▎ | 82696/100000 [00:16<00:03, 4991.47it/s]\u001b[A\n",
      " 83%|████████▎ | 83212/100000 [00:16<00:03, 4812.93it/s]\u001b[A\n",
      " 84%|████████▎ | 83706/100000 [00:16<00:03, 4592.87it/s]\u001b[A\n",
      " 84%|████████▍ | 84281/100000 [00:16<00:03, 4887.79it/s]\u001b[A\n",
      " 85%|████████▍ | 84913/100000 [00:16<00:02, 5243.20it/s]\u001b[A\n",
      " 85%|████████▌ | 85454/100000 [00:16<00:02, 5204.75it/s]\u001b[A\n",
      " 86%|████████▌ | 86028/100000 [00:16<00:02, 5353.38it/s]\u001b[A\n",
      " 87%|████████▋ | 86626/100000 [00:16<00:02, 5525.49it/s]\u001b[A\n",
      " 87%|████████▋ | 87187/100000 [00:16<00:02, 5262.55it/s]\u001b[A\n",
      " 88%|████████▊ | 87722/100000 [00:17<00:02, 5062.35it/s]\u001b[A\n",
      " 88%|████████▊ | 88236/100000 [00:17<00:02, 4930.05it/s]\u001b[A\n",
      " 89%|████████▊ | 88739/100000 [00:17<00:02, 4958.05it/s]\u001b[A\n",
      " 89%|████████▉ | 89239/100000 [00:17<00:02, 4940.79it/s]\u001b[A\n",
      " 90%|████████▉ | 89746/100000 [00:17<00:02, 4977.20it/s]\u001b[A\n",
      " 90%|█████████ | 90246/100000 [00:17<00:01, 4941.81it/s]\u001b[A\n",
      " 91%|█████████ | 90751/100000 [00:17<00:01, 4972.43it/s]\u001b[A\n",
      " 91%|█████████▏| 91270/100000 [00:17<00:01, 5035.27it/s]\u001b[A\n",
      " 92%|█████████▏| 91775/100000 [00:17<00:01, 5010.58it/s]\u001b[A\n",
      " 92%|█████████▏| 92315/100000 [00:17<00:01, 5119.13it/s]\u001b[A\n",
      " 93%|█████████▎| 92828/100000 [00:18<00:01, 5118.83it/s]\u001b[A\n",
      " 93%|█████████▎| 93341/100000 [00:18<00:01, 5088.61it/s]\u001b[A\n",
      " 94%|█████████▍| 93867/100000 [00:18<00:01, 5137.25it/s]\u001b[A\n",
      " 94%|█████████▍| 94382/100000 [00:18<00:01, 5070.19it/s]\u001b[A\n",
      " 95%|█████████▍| 94890/100000 [00:18<00:01, 4941.49it/s]\u001b[A\n",
      " 95%|█████████▌| 95401/100000 [00:18<00:00, 4988.32it/s]\u001b[A\n",
      " 96%|█████████▌| 95901/100000 [00:18<00:00, 4849.63it/s]\u001b[A\n",
      " 96%|█████████▋| 96459/100000 [00:18<00:00, 5045.45it/s]\u001b[A\n",
      " 97%|█████████▋| 96969/100000 [00:18<00:00, 5060.67it/s]\u001b[A\n",
      " 98%|█████████▊| 97557/100000 [00:18<00:00, 5278.76it/s]\u001b[A\n",
      " 98%|█████████▊| 98164/100000 [00:19<00:00, 5493.18it/s]\u001b[A\n",
      " 99%|█████████▉| 98751/100000 [00:19<00:00, 5600.81it/s]\u001b[A\n",
      " 99%|█████████▉| 99316/100000 [00:19<00:00, 5607.50it/s]\u001b[A\n",
      "100%|█████████▉| 99880/100000 [00:19<00:00, 5338.90it/s]\u001b[A\n",
      "100%|██████████| 100000/100000 [00:17<00:00, 5830.96it/s]\u001b[A\n",
      "100%|██████████| 100000/100000 [00:08<00:00, 11366.43it/s]\n",
      "100%|██████████| 100000/100000 [00:08<00:00, 11976.58it/s]\n",
      "100%|██████████| 100000/100000 [00:15<00:00, 6282.39it/s]\n",
      "100%|██████████| 100000/100000 [00:18<00:00, 5517.46it/s]\n",
      "100%|██████████| 100000/100000 [00:09<00:00, 10935.50it/s]\n",
      "100%|██████████| 100000/100000 [00:08<00:00, 12000.64it/s]\n"
     ]
    }
   ],
   "source": [
    "o1_traces = []\n",
    "for model in o1_models:\n",
    "    with model:\n",
    "        step = pm.Metropolis()\n",
    "        o1_traces.append(pm.sample(samples, step))\n",
    "    \n",
    "o2_traces = []    \n",
    "for model in o2_models:\n",
    "    with model:\n",
    "        step = pm.Metropolis()\n",
    "        o2_traces.append(pm.sample(samples, step))"
   ]
  },
  {
   "cell_type": "code",
   "execution_count": 24,
   "metadata": {},
   "outputs": [],
   "source": [
    "import matplotlib.pyplot as plt\n",
    "%matplotlib inline"
   ]
  },
  {
   "cell_type": "code",
   "execution_count": 25,
   "metadata": {},
   "outputs": [
    {
     "data": {
      "text/plain": [
       "['signal_rate', 'cbc_rate', 'cos_angle', 'angle']"
      ]
     },
     "execution_count": 25,
     "metadata": {},
     "output_type": "execute_result"
    }
   ],
   "source": [
    "o1_trace.varnames"
   ]
  },
  {
   "cell_type": "code",
   "execution_count": 42,
   "metadata": {},
   "outputs": [
    {
     "data": {
      "image/png": "[encoded data removed]",
      "text/plain": [
       "<matplotlib.figure.Figure at 0x7f116b6e8c10>"
      ]
     },
     "metadata": {},
     "output_type": "display_data"
    }
   ],
   "source": [
    "\n",
    "f, ax = plt.subplots(4,len(priors), figsize = (20, 14))\n",
    "for i in range(len(priors)):\n",
    "\n",
    "    o1_trace = o1_traces[i]\n",
    "    o2_trace = o2_traces[i]\n",
    "\n",
    "    ax[0,i].hist(o1_trace[2000:]['signal_rate'], histtype=\"step\", label=\"O1 Signal Rate\",\n",
    "                 lw=2, normed=True, bins=100);\n",
    "    ax[0,i].hist(o2_trace[2000:]['signal_rate'], histtype=\"step\", label=\"O2 Signal Rate\",\n",
    "                 lw=2, normed=True, bins=100);\n",
    "    #ax[0,0].vlines(np.percentile(trace['signal_rate'][2000:], 90), 0, 0.085,\n",
    "    #              label = \"90% lower limit\");\n",
    "    ax[0,i].set_title(\"Efficiency ~ {}\".format(priors[i]));\n",
    "    ax[0,i].set_xlabel(\"$s$ /yr\")\n",
    "    ax[0,i].legend()\n",
    "\n",
    "    ax[1,i].hist(o1_trace[2000:]['cbc_rate'], histtype=\"step\", lw=2, bins=100,\n",
    "                 normed=True, label=\"O1 CBC Rate\");\n",
    "    ax[1,i].hist(o2_trace[2000:]['cbc_rate'], histtype=\"step\", lw=2, bins=100,\n",
    "                 normed=True, label=\"O2 CBC Rate\");\n",
    "    ax[1,i].set_xlabel(u\"$s$ /Gpc³/yr\");\n",
    "    #ax[1,0].vlines(np.percentile(o1_trace['cbc_rate'][2000:], 90), 0, 5e-5,\n",
    "    #              label = \"90% lower limit, O1\");\n",
    "    #ax[1,0].vlines(np.percentile(o2_trace['cbc_rate'][2000:], 90), 0, 5e-5,\n",
    "    #              label = \"90% lower limit, O2\", color=\"orange\");\n",
    "    ax[1,i].legend()\n",
    "    try:\n",
    "        ax[2,i].hist(o1_trace[2000:]['efficiency'], histtype=\"step\", lw=2, label=\"O1 Efficiency\");\n",
    "        ax[2,i].hist(o2_trace[2000:]['efficiency'], histtype=\"step\", lw=2, label=\"O2 Efficiency\");\n",
    "        #ax[1,0].set_xlabel(u\"$s$ /Gpc³/yr\")\n",
    "        ax[2,i].legend()\n",
    "    except KeyError:\n",
    "        pass\n",
    "\n",
    "    ax[3,i].hist(np.rad2deg(o1_trace[2000:]['angle'][np.isfinite(o1_trace[2000:]['angle'])]),\n",
    "               histtype=\"step\", lw=2, label=\"O1 Angle\", log=True);\n",
    "    ax[3,i].hist(np.rad2deg(o2_trace[2000:]['angle'][np.isfinite(o2_trace[2000:]['angle'])]),\n",
    "               histtype=\"step\", lw=2, label=\"O2 Angle\", log=True);\n",
    "    ax[3,i].vlines(np.percentile(np.rad2deg(o1_trace[2000:]['angle'][np.isfinite(o1_trace[2000:]['angle'])]), 90), 0, 3e5,\n",
    "                  label = \"90% lower limit, O1\");\n",
    "    ax[3,i].vlines(np.percentile(np.rad2deg(o2_trace[2000:]['angle'][np.isfinite(o2_trace[2000:]['angle'])]), 90), 0, 3e5,\n",
    "                  label = \"90% lower limit, O2\");\n",
    "    #ax[1,0].set_xlabel(u\"$s$ /Gpc³/yr\")\n",
    "    ax[3,i].legend()"
   ]
  },
  {
   "cell_type": "code",
   "execution_count": 45,
   "metadata": {},
   "outputs": [
    {
     "name": "stdout",
     "output_type": "stream",
     "text": [
      "uniform 7.92106015126\n",
      "jeffreys 7.88566943524\n",
      "1.0 7.86542454918\n",
      "0.5 7.95348073587\n"
     ]
    }
   ],
   "source": [
    "for i,o1_trace in enumerate(o1_traces):\n",
    "    print priors[i], np.mean(o1_trace[2000:]['signal_rate'])"
   ]
  },
  {
   "cell_type": "code",
   "execution_count": 49,
   "metadata": {},
   "outputs": [
    {
     "name": "stdout",
     "output_type": "stream",
     "text": [
      "uniform\n",
      "10% 0.0745379907886\n",
      "90% 0.52152504982\n",
      "jeffreys\n",
      "10% 0.0433182183062\n",
      "90% 0.512836344577\n",
      "1.0\n",
      "10% 0.1589282988\n",
      "90% 0.751545566894\n",
      "0.5\n",
      "10% 0.112591172589\n",
      "90% 0.524950142617\n"
     ]
    }
   ],
   "source": [
    "for i,o1_trace in enumerate(o1_traces):\n",
    "    print priors[i]\n",
    "    print \"10%\", np.percentile(np.rad2deg(o1_trace[2000:]['angle'][np.isfinite(o1_trace[2000:]['angle'])]), 10)\n",
    "    print \"90%\", np.percentile(np.rad2deg(o1_trace[2000:]['angle'][np.isfinite(o1_trace[2000:]['angle'])]), 90)"
   ]
  }
 ],
 "metadata": {
  "kernelspec": {
   "display_name": "Python 2",
   "language": "python",
   "name": "python2"
  },
  "language_info": {
   "codemirror_mode": {
    "name": "ipython",
    "version": 2
   },
   "file_extension": ".py",
   "mimetype": "text/x-python",
   "name": "python",
   "nbconvert_exporter": "python",
   "pygments_lexer": "ipython2",
   "version": "2.7.12"
  },
  "latex_envs": {
   "bibliofile": "biblio.bib",
   "cite_by": "apalike",
   "current_citInitial": 1,
   "eqLabelWithNumbers": true,
   "eqNumInitial": 0
  }
 },
 "nbformat": 4,
 "nbformat_minor": 1
}
