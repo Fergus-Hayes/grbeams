{
 "cells": [
  {
   "cell_type": "code",
   "execution_count": 1,
   "metadata": {
    "collapsed": false
   },
   "outputs": [
    {
     "name": "stderr",
     "output_type": "stream",
     "text": [
      "ERROR (theano.sandbox.cuda): nvcc compiler not found on $PATH. Check your nvcc installation and try again.\n"
     ]
    }
   ],
   "source": [
    "import pymc3 as pm\n",
    "import numpy as np\n",
    "import theano\n",
    "\n",
    "from theano.compile.ops import as_op"
   ]
  },
  {
   "cell_type": "code",
   "execution_count": 2,
   "metadata": {
    "collapsed": false
   },
   "outputs": [],
   "source": [
    "def background_rate_f(b, T, n):\n",
    "    \"\"\"\n",
    "    \n",
    "    \"\"\"\n",
    "    out = 0\n",
    "    #n = int(n)\n",
    "    for i in range(n+1):\n",
    "        out += ((b*T)**i * np.exp(- b*T)) / np.math.factorial(i)\n",
    "    return out\n",
    "\n",
    "def log_background_rate(b, T, n):\n",
    "    return np.log(background_rate_f(b, T, n))\n",
    "\n",
    "def signal_rate_part(s, n, b, T):\n",
    "    top_a = T * ((s + b) * T)**n \n",
    "    top_b = np.exp(-(s + b)*T)\n",
    "    p = (top_a * top_b) / np.math.factorial(n)\n",
    "    return theano.tensor.switch(theano.tensor.le(s, 0), 0, p)\n",
    "\n",
    "#@as_op(itypes=[T.dscalar, T.dscalar, T.dscalar, T.dscalar], otypes=[T.dscalar])\n",
    "def log_signal_rate(s,n,b,T):\n",
    "    #if theano.tensor.lt(0, s): return np.array([[0.0]])\n",
    "    p = -log_background_rate(b,T,n) + np.log(signal_rate_part(s,n,b,T))\n",
    "    \n",
    "    return p"
   ]
  },
  {
   "cell_type": "code",
   "execution_count": 264,
   "metadata": {
    "collapsed": true
   },
   "outputs": [],
   "source": [
    "def number_mweg(horizon):\n",
    "    return 4./3 * np.pi * horizon**3 *(2.26)**-3  #* (0.0116) #* horizon**3"
   ]
  },
  {
   "cell_type": "code",
   "execution_count": 265,
   "metadata": {
    "collapsed": false
   },
   "outputs": [],
   "source": [
    "import theano.tensor as T\n",
    "from pymc3 import DensityDist, Uniform, Normal\n",
    "from pymc3 import Model\n",
    "from pymc3 import distributions\n",
    "\n",
    "\n",
    "with Model() as model:\n",
    "    number_events = 0\n",
    "    background_rate = 0.01 #\n",
    "    observation_time = 46.1/365. # \n",
    "    duty_cycle = 0.2\n",
    "    horizon = 73.2    \n",
    "    grb_rate = 1.0\n",
    "    \n",
    "    #trunc = pm.Bound(pm.DensityDist, lower=0)\n",
    "    signal_rate = pm.DensityDist('signal_rate', \n",
    "                        logp=lambda value: log_signal_rate(value, number_events, background_rate, observation_time),\n",
    "                       testval=10)\n",
    "    \n",
    "    n_galaxy = number_mweg(horizon)\n",
    "    \n",
    "    cbc_rate = pm.Deterministic('cbc_rate', signal_rate * n_galaxy * horizon)\n",
    "    \n",
    "    efficiency = pm.Uniform('efficiency', 0,1)\n",
    "   \n",
    "    costheta = pm.Deterministic('cos_angle', 1.0 - ((grb_rate/cbc_rate*efficiency)))\n",
    "    \n",
    "    angle = pm.Deterministic(\"angle\", theano.tensor.arccos(costheta))"
   ]
  },
  {
   "cell_type": "code",
   "execution_count": 266,
   "metadata": {
    "collapsed": false
   },
   "outputs": [],
   "source": [
    "import theano.tensor as T\n",
    "from pymc3 import DensityDist, Uniform, Normal\n",
    "from pymc3 import Model\n",
    "from pymc3 import distributions\n",
    "\n",
    "def grb_model(number_events, background_rate, \n",
    "              observation_time, horizon, grb_rate,\n",
    "             efficiency_prior = \"uniform\"):\n",
    "    with Model() as model:\n",
    "        signal_rate = pm.DensityDist('signal_rate', \n",
    "                            logp=lambda value: log_signal_rate(value, number_events, background_rate, observation_time),\n",
    "                           testval=50)\n",
    "\n",
    "        n_galaxy = number_mweg(horizon)\n",
    "\n",
    "        cbc_rate = pm.Deterministic('cbc_rate', signal_rate * n_galaxy)\n",
    "\n",
    "        # Allow the efficiency prior to be switched-out\n",
    "        if efficiency_prior == \"uniform\":\n",
    "            efficiency = pm.Uniform('efficiency', 0,1)\n",
    "        elif efficiency_prior == \"jeffreys\":\n",
    "            efficiency = pm.Beta('efficiency', 0.5, 0.5)\n",
    "        elif isinstance(efficiency_prior, float):\n",
    "            efficiency = efficiency_prior\n",
    "\n",
    "        costheta = pm.Deterministic('cos_angle', 1.0 - ((grb_rate/cbc_rate*efficiency)))\n",
    "\n",
    "        angle = pm.Deterministic(\"angle\", theano.tensor.arccos(costheta))\n",
    "        \n",
    "        return model"
   ]
  },
  {
   "cell_type": "code",
   "execution_count": 274,
   "metadata": {
    "collapsed": false
   },
   "outputs": [],
   "source": [
    "# O1 Scenarios\n",
    "number_events = 0 # There were no BNS detections in O1\n",
    "background_rate = 0.01 # We take the FAR to be 1/100 yr\n",
    "observation_time = 46.1/365. # The number of days of analysis conducted by gstLAL\n",
    "horizon = 73.2  # The O1 BNS horizon distance in O1 BNS paper\n",
    "grb_rate = 10.0\n",
    "\n",
    "o1_model = grb_model(number_events, background_rate, observation_time, horizon, grb_rate, 1.0)"
   ]
  },
  {
   "cell_type": "code",
   "execution_count": 275,
   "metadata": {
    "collapsed": false
   },
   "outputs": [],
   "source": [
    "# O2 Scenarios\n",
    "number_events = 1 # There were no BNS detections in O1\n",
    "background_rate = 0.01 # We take the FAR to be 1/100 yr\n",
    "observation_time = 0.5 # The number of days of analysis conducted by gstLAL\n",
    "duty_cycle = 0.4\n",
    "observation_time *= duty_cycle\n",
    "horizon = 80.0  # The O1 BNS horizon distance in O1 BNS paper\n",
    "grb_rate = 10.0\n",
    "\n",
    "o2_model = grb_model(number_events, background_rate, observation_time, horizon, grb_rate, 1.0)"
   ]
  },
  {
   "cell_type": "code",
   "execution_count": 276,
   "metadata": {
    "collapsed": true
   },
   "outputs": [],
   "source": [
    "samples = 100000"
   ]
  },
  {
   "cell_type": "code",
   "execution_count": 277,
   "metadata": {
    "collapsed": false
   },
   "outputs": [
    {
     "name": "stderr",
     "output_type": "stream",
     "text": [
      "100%|██████████| 100000/100000 [00:05<00:00, 16767.96it/s]\n",
      "100%|██████████| 100000/100000 [00:05<00:00, 16726.48it/s]\n"
     ]
    }
   ],
   "source": [
    "with o1_model:\n",
    "    step = pm.Metropolis()\n",
    "    o1_trace = pm.sample(samples, step)\n",
    "    \n",
    "with o2_model:\n",
    "    step = pm.Metropolis()\n",
    "    o2_trace = pm.sample(samples, step)"
   ]
  },
  {
   "cell_type": "code",
   "execution_count": 278,
   "metadata": {
    "collapsed": false
   },
   "outputs": [],
   "source": [
    "import matplotlib.pyplot as plt\n",
    "%matplotlib inline"
   ]
  },
  {
   "cell_type": "code",
   "execution_count": 279,
   "metadata": {
    "collapsed": false
   },
   "outputs": [
    {
     "ename": "KeyError",
     "evalue": "'efficiency'",
     "output_type": "error",
     "traceback": [
      "\u001b[0;31m---------------------------------------------------------------------------\u001b[0m",
      "\u001b[0;31mKeyError\u001b[0m                                  Traceback (most recent call last)",
      "\u001b[0;32m<ipython-input-279-8a9edfe9f434>\u001b[0m in \u001b[0;36m<module>\u001b[0;34m()\u001b[0m\n\u001b[1;32m     21\u001b[0m \u001b[0max\u001b[0m\u001b[0;34m[\u001b[0m\u001b[0;36m1\u001b[0m\u001b[0;34m,\u001b[0m\u001b[0;36m0\u001b[0m\u001b[0;34m]\u001b[0m\u001b[0;34m.\u001b[0m\u001b[0mlegend\u001b[0m\u001b[0;34m(\u001b[0m\u001b[0;34m)\u001b[0m\u001b[0;34m\u001b[0m\u001b[0m\n\u001b[1;32m     22\u001b[0m \u001b[0;34m\u001b[0m\u001b[0m\n\u001b[0;32m---> 23\u001b[0;31m \u001b[0max\u001b[0m\u001b[0;34m[\u001b[0m\u001b[0;36m2\u001b[0m\u001b[0;34m,\u001b[0m\u001b[0;36m0\u001b[0m\u001b[0;34m]\u001b[0m\u001b[0;34m.\u001b[0m\u001b[0mhist\u001b[0m\u001b[0;34m(\u001b[0m\u001b[0mo1_trace\u001b[0m\u001b[0;34m[\u001b[0m\u001b[0;36m2000\u001b[0m\u001b[0;34m:\u001b[0m\u001b[0;34m]\u001b[0m\u001b[0;34m[\u001b[0m\u001b[0;34m'efficiency'\u001b[0m\u001b[0;34m]\u001b[0m\u001b[0;34m,\u001b[0m \u001b[0mhisttype\u001b[0m\u001b[0;34m=\u001b[0m\u001b[0;34m\"step\"\u001b[0m\u001b[0;34m,\u001b[0m \u001b[0mlw\u001b[0m\u001b[0;34m=\u001b[0m\u001b[0;36m2\u001b[0m\u001b[0;34m,\u001b[0m \u001b[0mlabel\u001b[0m\u001b[0;34m=\u001b[0m\u001b[0;34m\"Efficiency Rate\"\u001b[0m\u001b[0;34m)\u001b[0m\u001b[0;34m;\u001b[0m\u001b[0;34m\u001b[0m\u001b[0m\n\u001b[0m\u001b[1;32m     24\u001b[0m \u001b[0max\u001b[0m\u001b[0;34m[\u001b[0m\u001b[0;36m2\u001b[0m\u001b[0;34m,\u001b[0m\u001b[0;36m0\u001b[0m\u001b[0;34m]\u001b[0m\u001b[0;34m.\u001b[0m\u001b[0mhist\u001b[0m\u001b[0;34m(\u001b[0m\u001b[0mo2_trace\u001b[0m\u001b[0;34m[\u001b[0m\u001b[0;36m2000\u001b[0m\u001b[0;34m:\u001b[0m\u001b[0;34m]\u001b[0m\u001b[0;34m[\u001b[0m\u001b[0;34m'efficiency'\u001b[0m\u001b[0;34m]\u001b[0m\u001b[0;34m,\u001b[0m \u001b[0mhisttype\u001b[0m\u001b[0;34m=\u001b[0m\u001b[0;34m\"step\"\u001b[0m\u001b[0;34m,\u001b[0m \u001b[0mlw\u001b[0m\u001b[0;34m=\u001b[0m\u001b[0;36m2\u001b[0m\u001b[0;34m,\u001b[0m \u001b[0mlabel\u001b[0m\u001b[0;34m=\u001b[0m\u001b[0;34m\"Efficiency Rate\"\u001b[0m\u001b[0;34m)\u001b[0m\u001b[0;34m;\u001b[0m\u001b[0;34m\u001b[0m\u001b[0m\n\u001b[1;32m     25\u001b[0m \u001b[0;31m#ax[1,0].set_xlabel(u\"$s$ /Gpc³/yr\")\u001b[0m\u001b[0;34m\u001b[0m\u001b[0;34m\u001b[0m\u001b[0m\n",
      "\u001b[0;32m/home/daniel/.virtualenvs/grbeaming/local/lib/python2.7/site-packages/pymc3/backends/base.pyc\u001b[0m in \u001b[0;36m__getitem__\u001b[0;34m(self, idx)\u001b[0m\n\u001b[1;32m    190\u001b[0m             \u001b[0mvar\u001b[0m \u001b[0;34m=\u001b[0m \u001b[0midx\u001b[0m\u001b[0;34m\u001b[0m\u001b[0m\n\u001b[1;32m    191\u001b[0m             \u001b[0mburn\u001b[0m\u001b[0;34m,\u001b[0m \u001b[0mthin\u001b[0m \u001b[0;34m=\u001b[0m \u001b[0;36m0\u001b[0m\u001b[0;34m,\u001b[0m \u001b[0;36m1\u001b[0m\u001b[0;34m\u001b[0m\u001b[0m\n\u001b[0;32m--> 192\u001b[0;31m         \u001b[0;32mreturn\u001b[0m \u001b[0mself\u001b[0m\u001b[0;34m.\u001b[0m\u001b[0mget_values\u001b[0m\u001b[0;34m(\u001b[0m\u001b[0mvar\u001b[0m\u001b[0;34m,\u001b[0m \u001b[0mburn\u001b[0m\u001b[0;34m=\u001b[0m\u001b[0mburn\u001b[0m\u001b[0;34m,\u001b[0m \u001b[0mthin\u001b[0m\u001b[0;34m=\u001b[0m\u001b[0mthin\u001b[0m\u001b[0;34m)\u001b[0m\u001b[0;34m\u001b[0m\u001b[0m\n\u001b[0m\u001b[1;32m    193\u001b[0m \u001b[0;34m\u001b[0m\u001b[0m\n\u001b[1;32m    194\u001b[0m     \u001b[0m_attrs\u001b[0m \u001b[0;34m=\u001b[0m \u001b[0mset\u001b[0m\u001b[0;34m(\u001b[0m\u001b[0;34m[\u001b[0m\u001b[0;34m'_straces'\u001b[0m\u001b[0;34m,\u001b[0m \u001b[0;34m'varnames'\u001b[0m\u001b[0;34m,\u001b[0m \u001b[0;34m'chains'\u001b[0m\u001b[0;34m]\u001b[0m\u001b[0;34m)\u001b[0m\u001b[0;34m\u001b[0m\u001b[0m\n",
      "\u001b[0;32m/home/daniel/.virtualenvs/grbeaming/local/lib/python2.7/site-packages/pymc3/backends/base.pyc\u001b[0m in \u001b[0;36mget_values\u001b[0;34m(self, varname, burn, thin, combine, chains, squeeze)\u001b[0m\n\u001b[1;32m    243\u001b[0m         \u001b[0;32mtry\u001b[0m\u001b[0;34m:\u001b[0m\u001b[0;34m\u001b[0m\u001b[0m\n\u001b[1;32m    244\u001b[0m             results = [self._straces[chain].get_values(varname, burn, thin)\n\u001b[0;32m--> 245\u001b[0;31m                        for chain in chains]\n\u001b[0m\u001b[1;32m    246\u001b[0m         \u001b[0;32mexcept\u001b[0m \u001b[0mTypeError\u001b[0m\u001b[0;34m:\u001b[0m  \u001b[0;31m# Single chain passed.\u001b[0m\u001b[0;34m\u001b[0m\u001b[0m\n\u001b[1;32m    247\u001b[0m             \u001b[0mresults\u001b[0m \u001b[0;34m=\u001b[0m \u001b[0;34m[\u001b[0m\u001b[0mself\u001b[0m\u001b[0;34m.\u001b[0m\u001b[0m_straces\u001b[0m\u001b[0;34m[\u001b[0m\u001b[0mchains\u001b[0m\u001b[0;34m]\u001b[0m\u001b[0;34m.\u001b[0m\u001b[0mget_values\u001b[0m\u001b[0;34m(\u001b[0m\u001b[0mvarname\u001b[0m\u001b[0;34m,\u001b[0m \u001b[0mburn\u001b[0m\u001b[0;34m,\u001b[0m \u001b[0mthin\u001b[0m\u001b[0;34m)\u001b[0m\u001b[0;34m]\u001b[0m\u001b[0;34m\u001b[0m\u001b[0m\n",
      "\u001b[0;32m/home/daniel/.virtualenvs/grbeaming/local/lib/python2.7/site-packages/pymc3/backends/ndarray.pyc\u001b[0m in \u001b[0;36mget_values\u001b[0;34m(self, varname, burn, thin)\u001b[0m\n\u001b[1;32m     98\u001b[0m         \u001b[0mA\u001b[0m \u001b[0mNumPy\u001b[0m \u001b[0marray\u001b[0m\u001b[0;34m\u001b[0m\u001b[0m\n\u001b[1;32m     99\u001b[0m         \"\"\"\n\u001b[0;32m--> 100\u001b[0;31m         \u001b[0;32mreturn\u001b[0m \u001b[0mself\u001b[0m\u001b[0;34m.\u001b[0m\u001b[0msamples\u001b[0m\u001b[0;34m[\u001b[0m\u001b[0mvarname\u001b[0m\u001b[0;34m]\u001b[0m\u001b[0;34m[\u001b[0m\u001b[0mburn\u001b[0m\u001b[0;34m:\u001b[0m\u001b[0;34m:\u001b[0m\u001b[0mthin\u001b[0m\u001b[0;34m]\u001b[0m\u001b[0;34m\u001b[0m\u001b[0m\n\u001b[0m\u001b[1;32m    101\u001b[0m \u001b[0;34m\u001b[0m\u001b[0m\n\u001b[1;32m    102\u001b[0m     \u001b[0;32mdef\u001b[0m \u001b[0m_slice\u001b[0m\u001b[0;34m(\u001b[0m\u001b[0mself\u001b[0m\u001b[0;34m,\u001b[0m \u001b[0midx\u001b[0m\u001b[0;34m)\u001b[0m\u001b[0;34m:\u001b[0m\u001b[0;34m\u001b[0m\u001b[0m\n",
      "\u001b[0;31mKeyError\u001b[0m: 'efficiency'"
     ]
    },
    {
     "data": {
      "image/png": "[encoded data removed]",
      "text/plain": [
       "<matplotlib.figure.Figure at 0x7f09462ea510>"
      ]
     },
     "metadata": {},
     "output_type": "display_data"
    }
   ],
   "source": [
    "f, ax = plt.subplots(4,2, figsize = (10, 14))\n",
    "\n",
    "ax[0,0].hist(o1_trace[2000:]['signal_rate'], histtype=\"step\", \n",
    "             lw=2, normed=True, bins=100);\n",
    "ax[0,0].hist(o2_trace[2000:]['signal_rate'], histtype=\"step\", \n",
    "             lw=2, normed=True, bins=100);\n",
    "#ax[0,0].vlines(np.percentile(trace['signal_rate'][2000:], 90), 0, 0.085,\n",
    "#              label = \"90% lower limit\");\n",
    "ax[0,0].set_title(\"Signal Rate\");\n",
    "ax[0,0].set_xlabel(\"$s$ /yr\")\n",
    "\n",
    "ax[1,0].hist(o1_trace[2000:]['cbc_rate'], histtype=\"step\", lw=2, bins=100,\n",
    "             normed=True, label=\"O1 CBC Rate\");\n",
    "ax[1,0].hist(o2_trace[2000:]['cbc_rate'], histtype=\"step\", lw=2, bins=100,\n",
    "             normed=True, label=\"O2 CBC Rate\");\n",
    "ax[1,0].set_xlabel(u\"$s$ /Gpc³/yr\");\n",
    "#ax[1,0].vlines(np.percentile(o1_trace['cbc_rate'][2000:], 90), 0, 5e-5,\n",
    "#              label = \"90% lower limit, O1\");\n",
    "#ax[1,0].vlines(np.percentile(o2_trace['cbc_rate'][2000:], 90), 0, 5e-5,\n",
    "#              label = \"90% lower limit, O2\", color=\"orange\");\n",
    "ax[1,0].legend()\n",
    "\n",
    "ax[2,0].hist(o1_trace[2000:]['efficiency'], histtype=\"step\", lw=2, label=\"Efficiency Rate\");\n",
    "ax[2,0].hist(o2_trace[2000:]['efficiency'], histtype=\"step\", lw=2, label=\"Efficiency Rate\");\n",
    "#ax[1,0].set_xlabel(u\"$s$ /Gpc³/yr\")\n",
    "ax[2,0].legend()\n",
    "\n",
    "ax[3,0].hist(np.rad2deg(o1_trace[2000:]['angle'][np.isfinite(o1_trace[2000:]['angle'])]),\n",
    "             histtype=\"step\", lw=2, label=\"Angle\", log=True);\n",
    "ax[3,0].hist(np.rad2deg(o2_trace[2000:]['angle'][np.isfinite(o2_trace[2000:]['angle'])]),\n",
    "             histtype=\"step\", lw=2, label=\"Angle\", log=True);\n",
    "ax[3,0].vlines(np.percentile(np.rad2deg(o1_trace[2000:]['angle'][np.isfinite(o1_trace[2000:]['angle'])]), 90), 0, 3e5,\n",
    "              label = \"90% lower limit, O1\");\n",
    "ax[3,0].vlines(np.percentile(np.rad2deg(o2_trace[2000:]['angle'][np.isfinite(o2_trace[2000:]['angle'])]), 90), 0, 3e5,\n",
    "              label = \"90% lower limit, O2\");\n",
    "#ax[1,0].set_xlabel(u\"$s$ /Gpc³/yr\")\n",
    "ax[3,0].legend()"
   ]
  },
  {
   "cell_type": "code",
   "execution_count": null,
   "metadata": {
    "collapsed": false
   },
   "outputs": [],
   "source": [
    "np.mean(o1_trace[2000:]['signal_rate'])"
   ]
  },
  {
   "cell_type": "code",
   "execution_count": null,
   "metadata": {
    "collapsed": false
   },
   "outputs": [],
   "source": [
    "print np.percentile(np.rad2deg(o1_trace[2000:]['angle'][np.isfinite(o1_trace[2000:]['angle'])]), 10)\n",
    "print np.percentile(np.rad2deg(o1_trace[2000:]['angle'][np.isfinite(o1_trace[2000:]['angle'])]), 90)"
   ]
  },
  {
   "cell_type": "code",
   "execution_count": 280,
   "metadata": {
    "collapsed": false
   },
   "outputs": [
    {
     "name": "stdout",
     "output_type": "stream",
     "text": [
      "2620349.35454\n"
     ]
    }
   ],
   "source": [
    "print np.percentile(o1_trace['cbc_rate'], 90)"
   ]
  },
  {
   "cell_type": "code",
   "execution_count": null,
   "metadata": {
    "collapsed": true
   },
   "outputs": [],
   "source": []
  },
  {
   "cell_type": "code",
   "execution_count": null,
   "metadata": {
    "collapsed": false
   },
   "outputs": [],
   "source": [
    "np.mean(np.rad2deg(o1_trace[2000:]['angle'][np.isfinite(o1_trace[2000:]['angle'])]))"
   ]
  },
  {
   "cell_type": "code",
   "execution_count": 262,
   "metadata": {
    "collapsed": false
   },
   "outputs": [
    {
     "name": "stdout",
     "output_type": "stream",
     "text": [
      "\n",
      "signal_rate:\n",
      "\n",
      "  Mean             SD               MC Error         95% HPD interval\n",
      "  -------------------------------------------------------------------\n",
      "  \n",
      "  8.125            8.213            0.106            [0.001, 24.523]\n",
      "\n",
      "  Posterior quantiles:\n",
      "  2.5            25             50             75             97.5\n",
      "  |--------------|==============|==============|--------------|\n",
      "  \n",
      "  0.227          2.356          5.586          11.111         30.656\n",
      "\n",
      "\n",
      "cbc_rate:\n",
      "\n",
      "  Mean             SD               MC Error         95% HPD interval\n",
      "  -------------------------------------------------------------------\n",
      "  \n",
      "  13414.644        13559.453        174.380          [1.650, 40488.949]\n",
      "\n",
      "  Posterior quantiles:\n",
      "  2.5            25             50             75             97.5\n",
      "  |--------------|==============|==============|--------------|\n",
      "  \n",
      "  374.027        3889.018       9222.781       18344.540      50613.349\n",
      "\n",
      "\n",
      "cos_angle:\n",
      "\n",
      "  Mean             SD               MC Error         95% HPD interval\n",
      "  -------------------------------------------------------------------\n",
      "  \n",
      "  0.993            0.083            0.001            [0.986, 1.000]\n",
      "\n",
      "  Posterior quantiles:\n",
      "  2.5            25             50             75             97.5\n",
      "  |--------------|==============|==============|--------------|\n",
      "  \n",
      "  0.973          0.997          0.999          0.999          1.000\n",
      "\n",
      "\n",
      "angle:\n",
      "\n",
      "  Mean             SD               MC Error         95% HPD interval\n",
      "  -------------------------------------------------------------------\n",
      "  \n",
      "  nan              nan              nan              [0.022, nan]\n",
      "\n",
      "  Posterior quantiles:\n",
      "  2.5            25             50             75             97.5\n",
      "  |--------------|==============|==============|--------------|\n",
      "  \n",
      "  0.020          0.033          0.047          0.072          0.232\n",
      "\n"
     ]
    }
   ],
   "source": [
    "pm.summary(o1_trace)"
   ]
  },
  {
   "cell_type": "code",
   "execution_count": 263,
   "metadata": {
    "collapsed": false
   },
   "outputs": [
    {
     "data": {
      "text/plain": [
       "2.6929016371148693"
      ]
     },
     "execution_count": 263,
     "metadata": {},
     "output_type": "execute_result"
    }
   ],
   "source": [
    "np.rad2deg(0.047)"
   ]
  },
  {
   "cell_type": "code",
   "execution_count": 218,
   "metadata": {
    "collapsed": false
   },
   "outputs": [
    {
     "name": "stdout",
     "output_type": "stream",
     "text": [
      "\n",
      "signal_rate:\n",
      "\n",
      "  Mean             SD               MC Error         95% HPD interval\n",
      "  -------------------------------------------------------------------\n",
      "  \n",
      "  10.002           7.234            0.075            [0.175, 24.062]\n",
      "\n",
      "  Posterior quantiles:\n",
      "  2.5            25             50             75             97.5\n",
      "  |--------------|==============|==============|--------------|\n",
      "  \n",
      "  1.226          4.785          8.327          13.361         28.440\n",
      "\n",
      "\n",
      "cbc_rate:\n",
      "\n",
      "  Mean             SD               MC Error         95% HPD interval\n",
      "  -------------------------------------------------------------------\n",
      "  \n",
      "  21451480.419     15515154.174     161434.702       [374880.923, 51605064.539]\n",
      "\n",
      "  Posterior quantiles:\n",
      "  2.5            25             50             75             97.5\n",
      "  |--------------|==============|==============|--------------|\n",
      "  \n",
      "  2628492.801    10263188.805   17859212.128   28654201.795   60993846.534\n",
      "\n",
      "\n",
      "cos_angle:\n",
      "\n",
      "  Mean             SD               MC Error         95% HPD interval\n",
      "  -------------------------------------------------------------------\n",
      "  \n",
      "  1.000            0.000            0.000            [1.000, 1.000]\n",
      "\n",
      "  Posterior quantiles:\n",
      "  2.5            25             50             75             97.5\n",
      "  |--------------|==============|==============|--------------|\n",
      "  \n",
      "  1.000          1.000          1.000          1.000          1.000\n",
      "\n",
      "\n",
      "angle:\n",
      "\n",
      "  Mean             SD               MC Error         95% HPD interval\n",
      "  -------------------------------------------------------------------\n",
      "  \n",
      "  0.001            0.001            0.000            [0.000, 0.002]\n",
      "\n",
      "  Posterior quantiles:\n",
      "  2.5            25             50             75             97.5\n",
      "  |--------------|==============|==============|--------------|\n",
      "  \n",
      "  0.001          0.001          0.001          0.001          0.003\n",
      "\n"
     ]
    }
   ],
   "source": [
    "pm.summary(o2_trace)"
   ]
  },
  {
   "cell_type": "code",
   "execution_count": null,
   "metadata": {
    "collapsed": true
   },
   "outputs": [],
   "source": []
  }
 ],
 "metadata": {
  "kernelspec": {
   "display_name": "GRBeaming (Python 2)",
   "language": "python",
   "name": "grbeaming"
  },
  "language_info": {
   "codemirror_mode": {
    "name": "ipython",
    "version": 2
   },
   "file_extension": ".py",
   "mimetype": "text/x-python",
   "name": "python",
   "nbconvert_exporter": "python",
   "pygments_lexer": "ipython2",
   "version": "2.7.6"
  },
  "latex_envs": {
   "bibliofile": "biblio.bib",
   "cite_by": "apalike",
   "current_citInitial": 1,
   "eqLabelWithNumbers": true,
   "eqNumInitial": 0
  }
 },
 "nbformat": 4,
 "nbformat_minor": 0
}
