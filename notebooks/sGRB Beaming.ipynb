{
 "cells": [
  {
   "cell_type": "code",
   "execution_count": 1,
   "metadata": {
    "collapsed": true
   },
   "outputs": [],
   "source": [
    "import astropy.units as u\n",
    "import astropy.constants as c"
   ]
  },
  {
   "cell_type": "code",
   "execution_count": 2,
   "metadata": {
    "collapsed": false
   },
   "outputs": [],
   "source": [
    "import matplotlib.pyplot as plt\n",
    "%matplotlib inline\n",
    "#plt.style.use('/home/daniel/repositories/burst-style/burst.mplstyle')"
   ]
  },
  {
   "cell_type": "markdown",
   "metadata": {},
   "source": [
    "It is widely believed that short Gamma-ray bursts (sGRB) are produced by compact binary coalescence (CBCs), and observations suggest that the coalescing systems likely to produce them are binary neutron star systems (BNS systems), or neutron star-black hole binaries (NSBH systems). At the full design sensitivity of advanced LIGO these may be visible to a distance of 400 Mpc for NSNS and 1 Gpc for NSBH."
   ]
  },
  {
   "cell_type": "markdown",
   "metadata": {},
   "source": [
    "Given this link between sGRBs and CBC events, it is interesting to ask if the beaming angle of the radiation from the GRB can be inferred from gravitational wave (GW) observations."
   ]
  },
  {
   "cell_type": "markdown",
   "metadata": {},
   "source": [
    "If the sGRB population has a distribution of beaming angles then the observed rate is related to the BNS coalescence rate, $\\mathcal{R}$, by \n",
    "\\\\[ \\mathcal{R}_{\\text{GRB}} = \\epsilon \\mathcal{R} \\langle 1 - \\cos(\\theta) \\rangle \\\\]\n",
    "\n",
    "\n",
    "| Symbol | Name | Note |\n",
    "| ------ | ---- | ---- |\n",
    "| $\\epsilon$ | efficiency | the probability that the BNS produces a GRB |\n",
    "| $\\mathcal{R}_{\\text{GRB}}$ | GRB rate | the observed rate of GRBs |\n",
    "| $\\mathcal{R}$ | BNS merger rate | the observed rate of BNS CBCs |\n",
    "| $\\theta$ | beaming angle | the angle which radiation is beamed from the GRB |\n"
   ]
  },
  {
   "cell_type": "markdown",
   "metadata": {},
   "source": [
    "EM observations suggest that beaming angles have a distribution, so the raltive rates of sGRBs and CBCs should provide the mean of that population, $\\langle \\theta \\rangle$."
   ]
  },
  {
   "cell_type": "code",
   "execution_count": 3,
   "metadata": {
    "collapsed": true
   },
   "outputs": [],
   "source": [
    "@u.quantity_input(bns_rate=1/u.year, theta=u.degree)\n",
    "def rate_grb(efficiency, theta, bns_rate):\n",
    "    \"\"\"\n",
    "    Calculate the rate of gamma ray bursts from the rate of BNS coalescence.\n",
    "    \n",
    "    efficiency : float\n",
    "        The efficiency of GRB production.\n",
    "    theta : float\n",
    "        The beaming angle\n",
    "    bns_rate : The rate of BNS mergers\n",
    "    \n",
    "    \"\"\"\n",
    "    return efficiency * bns_rate * (1- np.cos(theta))\n",
    "\n",
    "@u.quantity_input(grb_rate=1/u.year, theta=u.degree)\n",
    "def rate_cbc(efficiency, theta, grb_rate):\n",
    "    \"\"\"\n",
    "    Calculate the rate of CBCs from the GRB rate.\n",
    "    \"\"\"\n",
    "    return grb_rate / (efficiency*(1.0 - np.cos(theta)))"
   ]
  },
  {
   "cell_type": "markdown",
   "metadata": {},
   "source": [
    "## The sGRB population mean\n",
    "\n",
    "Here we show the impact of BNS mergers on sGRBs, with the following proceedure:\n",
    "\n",
    "* We set the number of observed GRBs to zero: $N_{\\text{GRB}} = 0$"
   ]
  },
  {
   "cell_type": "code",
   "execution_count": 4,
   "metadata": {
    "collapsed": true
   },
   "outputs": [],
   "source": [
    "Ngrb = 0"
   ]
  },
  {
   "cell_type": "markdown",
   "metadata": {},
   "source": [
    "* We draw $N_{\\text{BNS}}$ values for orbital inclination, $\\iota$ from a distribution uniform in $\\cos(\\iota)$ over the range $[0,1]$."
   ]
  },
  {
   "cell_type": "code",
   "execution_count": 5,
   "metadata": {
    "collapsed": false
   },
   "outputs": [
    {
     "name": "stderr",
     "output_type": "stream",
     "text": [
      "/home/daniel/.virtualenvs/grbeaming/lib/python2.7/site-packages/ipykernel/__main__.py:3: VisibleDeprecationWarning: using a non-integer number instead of an integer will result in an error in the future\n",
      "  app.launch_new_instance()\n"
     ]
    }
   ],
   "source": [
    "import numpy as np\n",
    "Nbns = 1e5 \n",
    "iotas = np.arccos( 0 + 1*np.random.rand(Nbns) )\n",
    "# to degrees\n",
    "iotas *= 180/np.pi"
   ]
  },
  {
   "cell_type": "markdown",
   "metadata": {},
   "source": [
    "* For each $\\iota$ draw a $\\theta$ from a distribution over $(0,90]^\\circ$\n",
    "* Iff $\\iota < \\theta$ the event is observable: increment $N_{\\text{GRB}}$"
   ]
  },
  {
   "cell_type": "code",
   "execution_count": 6,
   "metadata": {
    "collapsed": true
   },
   "outputs": [],
   "source": [
    "theta_mu=np.arange(5,35,5)\n",
    "theta_sigma=np.arange(1,16)\n",
    "theta_low=0.01\n",
    "theta_upp=90"
   ]
  },
  {
   "cell_type": "code",
   "execution_count": 7,
   "metadata": {
    "collapsed": true
   },
   "outputs": [],
   "source": [
    "def truncparms(low,upp,mu,sigma):\n",
    "    a = (low - mu) / sigma\n",
    "    b = (upp - mu) / sigma\n",
    "    return a, b"
   ]
  },
  {
   "cell_type": "markdown",
   "metadata": {},
   "source": [
    "In order to calculate the efficiency we take \n",
    "\n",
    "\\\\[ \\epsilon = \\frac{ N_{\\text{GRB}} + 1 }{N_{\\text{BNS}} + 2 } \\\\]\n"
   ]
  },
  {
   "cell_type": "code",
   "execution_count": 8,
   "metadata": {
    "collapsed": true
   },
   "outputs": [],
   "source": [
    "def compute_efficiency(k,N,b=True):\n",
    "\n",
    "    if b:\n",
    "        # Bayesian treatment\n",
    "        epsilon=(k+1)/(N+2)\n",
    "        stdev_epsilon=1.64*np.sqrt(epsilon*(1-epsilon)/(N+3))\n",
    "    else:\n",
    "        # Binomial treatment\n",
    "        if N==0:\n",
    "            epsilon=0.0\n",
    "            stdev_epsilon=0.0\n",
    "        else:\n",
    "            epsilon=k/N\n",
    "            stdev_epsilon=1.64*np.sqrt(epsilon*(1-epsilon)/N)\n",
    "    return (epsilon,stdev_epsilon)"
   ]
  },
  {
   "cell_type": "markdown",
   "metadata": {},
   "source": [
    "We'll draw all of the beaming angles from a truncated normal distribution, and we'll run the simulation for a variety of differently shaped distribution."
   ]
  },
  {
   "cell_type": "code",
   "execution_count": 9,
   "metadata": {
    "collapsed": false
   },
   "outputs": [
    {
     "name": "stderr",
     "output_type": "stream",
     "text": [
      "/home/daniel/.virtualenvs/grbeaming/local/lib/python2.7/site-packages/scipy/stats/_distn_infrastructure.py:884: VisibleDeprecationWarning: using a non-integer number instead of an integer will result in an error in the future\n",
      "  U = self._random_state.random_sample(self._size)\n"
     ]
    }
   ],
   "source": [
    "import scipy.stats as stats\n",
    "\n",
    "FracGRB=np.zeros((len(theta_mu),len(theta_sigma)))\n",
    "deltaFracGRB=np.zeros((len(theta_mu),len(theta_sigma)))\n",
    "\n",
    "for m,mu, in enumerate(theta_mu):\n",
    "    for s,sigma in enumerate(theta_sigma):\n",
    "        a, b = truncparms(theta_low, theta_upp, mu, sigma)\n",
    "        thetas = stats.truncnorm.rvs(a, b, loc=mu, scale=sigma, size=Nbns)\n",
    "        # Count GRBs\n",
    "        Ngrbs=sum(iotas <= thetas)\n",
    "        \n",
    "        FracGRB[m,s], deltaFracGRB[m,s] = compute_efficiency(Ngrbs,Nbns)"
   ]
  },
  {
   "cell_type": "markdown",
   "metadata": {},
   "source": [
    "A population of sGRB beaming angles with a large mean but a narrow width is indistinguishable from the converse, as can be seen in the plot below, where $\\mathcal{N}(15,8)$ and $\\mathcal{N}(10,12)$ both give the same number ratio (see the light grey line)."
   ]
  },
  {
   "cell_type": "code",
   "execution_count": 10,
   "metadata": {
    "collapsed": false
   },
   "outputs": [
    {
     "data": {
      "text/plain": [
       "<matplotlib.text.Text at 0x7f308699aed0>"
      ]
     },
     "execution_count": 10,
     "metadata": {},
     "output_type": "execute_result"
    },
    {
     "data": {
      "image/png": "iVBORw0KGgoAAAANSUhEUgAAArkAAAHUCAYAAAA+3DCtAAAABHNCSVQICAgIfAhkiAAAAAlwSFlz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\ncjMyMjIyMjIyMnod/h98MZvQV8loAgAAAABJRU5ErkJggg==\n",
      "text/plain": [
       "<matplotlib.figure.Figure at 0x7f3088bba950>"
      ]
     },
     "metadata": {},
     "output_type": "display_data"
    }
   ],
   "source": [
    "linestyles=['-', '-', '-']\n",
    "markers=['s', '^', 'o']\n",
    "\n",
    "f, ax = plt.subplots(1,1)\n",
    "\n",
    "ax.hlines(FracGRB[1,11]*100,0,16, lw=1, color='gray', alpha=0.5)\n",
    "for i in range(len(theta_mu)):\n",
    "    ax.plot(theta_sigma, FracGRB[i]*100, #deltaFracGRB[i]*100, \n",
    "                 linestyle=linestyles[i%3], lw=2,# c='k',\n",
    "                 #marker=markers[i%3], markeredgecolor='white', \n",
    "                #label=r\"$\\langle \\theta \\rangle = {}$\".format(theta_mu[i])\n",
    "                )\n",
    "    ax.annotate(\"{}\".format(theta_mu[i]), (15.1, .1+FracGRB[i][-1]*100))\n",
    "ax.set_ylim(0,18.5)\n",
    "ax.annotate(r\"$\\langle \\theta \\rangle$\", (15, 17.6))\n",
    "ax.set_ylabel(r\"$N_{\\rm{GRB}} / N_{\\rm{BNS}}$ [%]\")\n",
    "ax.set_xlabel(r\"$\\sigma_{\\theta}$ [degree]\")\n",
    "plt.tight_layout()\n",
    "plt.savefig('color_relativenumber.pdf')\n",
    "\n",
    "txt = \"\"\"Expected relative numbers of observed GRBs and binary coalescences for different \n",
    "distributions on the GRB beaming angle. Lines in the figure correspond to jet angle\n",
    "population means, while the x-axis shows the width of the distribution. All distributions are \n",
    "Gaussian, truncated at (0, 90] degrees.\"\"\"\n",
    "f.text(.1,-.15,txt)"
   ]
  },
  {
   "cell_type": "markdown",
   "metadata": {},
   "source": [
    "This has the effect of a wide distribution of beaming angles producing an under-estimate of the beaming angle, so population-based constraints must be regarded as upper-bounds."
   ]
  },
  {
   "cell_type": "markdown",
   "metadata": {},
   "source": [
    "## Rates to Beaming Angle"
   ]
  },
  {
   "cell_type": "markdown",
   "metadata": {},
   "source": [
    "The general method to move from a rate to a beaming angle is"
   ]
  },
  {
   "cell_type": "markdown",
   "metadata": {},
   "source": [
    "### Estimate the posterior distribution on the BNS merger rate from observed GW signals"
   ]
  },
  {
   "cell_type": "markdown",
   "metadata": {},
   "source": [
    "Gravitational wave detectors identify discrete 'events' which are characterised by their *network signal-to-noise ratios*, $\\rho_{\\mathrm{c}}$\n",
    "\n",
    "We begin by constructing the posterior on the signal rate; the measured rate, $r$ of events has two components, the signal rate, $s$, and the background rate, $b$:\n",
    "\n",
    "\\\\[ r = s+b\\\\]\n",
    "\n",
    "Typically a threshold of $\\rho \\ge 12$ is applied to analysis, placing $b = 10^{-2}$ per year, so only the signal rate needs to be inferred.\n",
    "\n",
    "Taking a uniform prior on $s$, and assuming the events are generated by a Poisson process, it can be shown that the rate posterior depends only on the number of detected signals, $n$, the observation time, $T$, the background rate, $b$, and the horizon distance, $\\mathcal{D}$ (the maximum distance at from which a detection can be made).\n",
    "\n",
    "The posterior will then be\n",
    "\n",
    "\\\\[\n",
    "   p(s|n,b,I) = C \\frac{T[(s+b) T]^n e^{-(s+b)T}}{n!} \n",
    "\\\\]\n",
    "\n",
    "for\n",
    "\\begin{align*}\n",
    "    C^{-1} &= \\frac{e^{-bT}}{n!} \\int_0^\\infty {\\rm d}(sT)(s+b)^n T^n e^{-sT} \\\\\n",
    "           &= \\sum_{i=0}^n \\frac{ (bT)^i e^{-bT} }{i!} \n",
    "\\end{align*}"
   ]
  },
  {
   "cell_type": "code",
   "execution_count": 11,
   "metadata": {
    "collapsed": false
   },
   "outputs": [],
   "source": [
    "@u.quantity_input(s=1/u.year, \n",
    "                  b=1/u.year,\n",
    "                  T=1*u.year)\n",
    "def signal_posterior(s, b, n, T):\n",
    "    \"\"\"\n",
    "    The event rate posterior assuming that a Poisson process underlies \n",
    "    the production of gravitational wave events.\n",
    "    \n",
    "    s : float\n",
    "        The event rate\n",
    "    n : float\n",
    "        The number of events observed over the timespan of the observing run\n",
    "    b : float\n",
    "        The background rate of events\n",
    "    T : float\n",
    "        The total time of the observing run\n",
    "    \"\"\"\n",
    "    # Calculate the inverse of C\n",
    "    C_inv = np.sum([ (b*T)**i * np.exp(-b*T) / np.math.factorial(i) \n",
    "                    for i in xrange(n) ])\n",
    "    # Then invert it\n",
    "    C = 1. / C_inv\n",
    "    # Calculate the posterior piece-wise\n",
    "    p1 = T * ((s+b)*T)**n * np.exp( - (s+b) * T)\n",
    "    p2 = np.math.factorial(n)\n",
    "    return C * p1 / p2"
   ]
  },
  {
   "cell_type": "markdown",
   "metadata": {},
   "source": [
    "Let's have a quick look at a plot of this."
   ]
  },
  {
   "cell_type": "code",
   "execution_count": 12,
   "metadata": {
    "collapsed": false
   },
   "outputs": [
    {
     "data": {
      "text/plain": [
       "[<matplotlib.lines.Line2D at 0x7f3086571350>]"
      ]
     },
     "execution_count": 12,
     "metadata": {},
     "output_type": "execute_result"
    },
    {
     "data": {
      "image/png": "iVBORw0KGgoAAAANSUhEUgAAAhIAAAFkCAYAAAB1rtL+AAAABHNCSVQICAgIfAhkiAAAAAlwSFlz\nAAAPYQAAD2EBqD+naQAAIABJREFUeJzt3XmclWXdx/HPj0UNVFIJhFArt9RAhFwwRQUVl8dcepKm\nTNPcsYzcWx591CxXXAqlxYXUUdQetzQUNTUNF1A0l9SkcsU1TLTcrueP60wMI4Ocw5m555zzeb9e\n5xXnPve55zcnZL5z3dfvuiKlhCRJUiW6FV2AJEmqXQYJSZJUMYOEJEmqmEFCkiRVzCAhSZIqZpCQ\nJEkVM0hIkqSKGSQkSVLFDBKSJKliBglJklSxioJERIyLiNkR8XZETI+IDRdx7q4RcV9EvB4Rb0bE\nAxGxx0LOOz4ino+ItyLi5ohYo5LaJElS5yk7SETEWOB04FhgA2AWMDUi+rbzlleBE4FNgMHABcAF\nEbFNq2seBRwCHABsBMwrXXOpcuuTJEmdJ8rdtCsipgP3pJQOLT0P4Bng7JTSKYt5jRnA9SmlY0vP\nnwdOTSlNKD1fHpgD7JVSmlJWgZIkqdOUNSIRET2B4cAtLcdSTiLTgBGLeY3RwFrA7aXnnwZWbnPN\nN4B7FveakiSpGD3KPL8v0J08WtDaHGDt9t5UGmF4DlgaeA84OKV0a+nllYHUzjVXbud6KwFjgL8C\n/yrrO5AkqbEtA3wKmJpSenVJL1ZukGhPkMNAe/4JrA8sC4wGJkTE0ymlOyq85hjgkkoKlSRJAHwN\nuHRJL1JukHgFeB/o3+Z4Pz48ovAfpdsfT5eePhQR6wLHAHcAL5JDQ/821+gHPNDOJf8KcPHFF7PO\nOuuU9x2oYuPHj2fChAlFl9FQ/Mw7n5955/Mz71yPPfYYe+yxB5R+li6psoJESund0kTJ0cC18J/J\nlqOBs8u4VDfybQ5SSrMj4sXSNR4qXXN5YGPgZ+28/18A66yzDsOGDSvnW9AS6NOnj593J/Mz73x+\n5p3Pz7wwVZkaUMmtjTOAi0qB4l5gPNALuBAgIiYDz6aUvld6fjRwP/AXcnjYEdgDOLDVNc8EfhAR\nT5ET0gnAs8A1FdQnSZI6SdlBIqU0pbRmxPHk2xEPAmNSSi+XThlEnlDZojd5ZGEQ8DbwOPC1lNKV\nra55SkT0AiYBHwfuBLZPKb1T/rckSZI6S0WTLVNKE4GJ7bw2qs3zHwI/XIxrHgccV0k9kiSpGO61\nocXW1NRUdAkNx8+88/mZdz4/89pW9sqWXUFEDANmzJgxwwk6kiSVYebMmQwfPhxgeEpp5pJezxEJ\nSZJUMYOEJEmqmEFCkiRVzCAhSZIqZpCQJEkVM0hIkqSKGSQkSVLFDBKSJKliBglJklQxg4QkSaqY\nQUKSJFXMICFJkipmkJAkSRUzSEiSpIoZJCRJUsUMEpIkqWIGCUmSVDGDhCRJqphBQpIkVaymg8S9\n98K//110FZIkNa6aDhIHHQQrrgj/9V9wzjnwxBOQUtFVSZLUOGo6SDQ3w7HHwttvw+GHw9prw2c+\nAwceCFdfDW+8UXSFkiTVt5oOEmutBUceCbfcAq++Ctddl0cnbr0Vdt0VVloJRo6EH/0I7r8fPvig\n6IolSaovNR0kWlt22QVvcTz9dP7ziivCySfDhhtC//7wta/B5Mnw4otFVyxJUu3rUXQBHeXTn863\nOA48EN59F/74R5g6NT8uvTSfs/76MGYMbLcdfOELsNRSxdYsSVKtqZsRiUXp2XPBWxxz5sDFF8OQ\nIXDRRTBqVB652Gkn+OlP4amniq5YkqTa0BBBoq1+/ebf4nj+eXjgAfjBD+DNN+G734U114TVV4eD\nD4ZrroF//rPoiiVJ6prq9tbG4urWDYYOzY+jj86h4fe/z7dAfvc7OPdc6NEj3/oYMyY/hg7N75Mk\nqdH547CN5ZZb8BbHU0/BWWdBnz5w0kkwfDgMGAB77JFvj7z0UtEVS5JUnIYfkfgoLbc4Dj4Y3nkH\n7r57/qTNSy7J52ywwfzRik03ddKmJKlxOCJRhqWWgi23hB//GGbOzC2kv/41rLsu/OpXsNVWee2K\nnXeGiRPhL38pumJJkjqWIxJLoH//fItjjz3yYlcPPjh/tOLQQ+G99/KIxnbb5dGKrbbK611IklQv\nHJGokm7dYNgwOOaYPFnz1VfzMt3bbgs33ghf/GJuMd1qK7j++qKrlSSpOgwSHWT55Re8xfHkkzBh\nQt5UbKed8kJZ8+YVXaUkSUvGINFJ1lgDxo2D226D887La1gMG5YXyJIkqVYZJDpZBBxwQF4Ea7nl\nYMSI3Fb6/vtFVyZJUvkMEgVZe+3cSnrkkXlVzS23hL/+teiqJEkqj0GiQEstlff/uP12eOaZvInY\nxRfneRSSJNUCg0QXsPnmMGtW7uz4+tfhq1+F118vuipJkj5aRUEiIsZFxOyIeDsipkfEhos4d9+I\nuCMiXis9bm57fkRcEBEftHncUElttapPn7y4VXNzbhddf/3cRipJUldWdpCIiLHA6cCxwAbALGBq\nRPRt5y1bAJcCWwKbAM8AN0XEgDbn3Qj0B1YuPZrKra0efOUr8NBDeSGrUaPyHIp//7voqiRJWrhK\nRiTGA5NSSpNTSo8DBwJvAfss7OSU0tdTSuellB5KKT0B7Fv6uqPbnPrvlNLLKaWXSo+5FdRWF1Zd\nFaZNg5/8BM48EzbZBB57rOiqJEn6sLKCRET0BIYDt7QcSyklYBowYjEv0xvoCbzW5viWETEnIh6P\niIkRsWI5tdWb7t3zaMQ99+QRiWHD4Gc/cyKmJKlrKXdEoi/QHZjT5vgc8u2IxXEy8Bw5fLS4EdgT\nGAUcSb4dckNERJn11Z0NNsiLVn3zm3DIIbDjjnmzMEmSuoJqbdoVwEf+rhwRRwO7A1uklN5pOZ5S\nmtLqtEci4mHgL+R5Fbe1d73x48fTp0+fBY41NTXR1FRf0yt69YKf/hR22AH22QcGD867jX7xi0VX\nJknqypqbm2lubl7g2Ny51Z05EKmMsfLSrY23gC+llK5tdfxCoE9KaddFvPdw4HvA6JTSA4vxtV4C\nvp9S+sVCXhsGzJgxYwbDhg1b7PrrwUsvwb77wnXXwf77wxlnQO/eRVclSaoVM2fOZPjw4QDDU0oz\nl/R6Zd3aSCm9C8yg1UTJ0u2H0cDd7b0vIo4Avg+MWcwQMQhYCXihnPoaQb9+cM01eb+OX/863/q4\n776iq5IkNapKujbOAPaPiD0j4rPAeUAv4EKAiJgcESe1nBwRRwInkLs6/h4R/UuP3qXXe0fEKRGx\ncUSsFhGjgauBJ4CpS/LN1avW+3X06QObbppXyHS/DklSZys7SJTmMxwGHA88AAwhjzS8XDplEAtO\nvDyI3KVxJfB8q8dhpdffL13jGuDPwC+A+4CRpREQtaNlv46jjoL/+R/YYguYPbvoqiRJjaSiyZYp\npYnAxHZeG9Xm+ac/4lr/ArarpA5Bz55w4okwZkxeXnv99XOb6B575JELSZI6kntt1ImW/Tp22QX2\n3DOvkOl+HZKkjmaQqCN9+sDkyXDZZXDTTTBkCNzWbvOsJElLziBRh8aOzft1rLEGjB7tfh2SpI5j\nkKhTq6wCt9wCJ588f7+ORx8tuipJUr0xSNSxbt3giCPg3nvziMTw4XDOOe7XIUmqHoNEAxg6FGbM\nyCtifvvbealt9+uQJFWDQaJBfOxjeTTihhvyQlaDB+cVMiVJWhIGiQaz/fbw8MN5Ncxddsn7dcyb\nV3RVkqRaZZBoQJ/4BFx9Nfz853DJJXm/jnvvLboqSVItMkg0qAjYb78F9+s48UR4772iK5Mk1RKD\nRINba628X8fRR8Oxx8KWW7pfhyRp8Rkk9J/9Om6/HZ57Lu/XMXmybaKSpI9mkNB/bLYZPPgg7Lor\n7LVX3q/jtdeKrkqS1JUZJLSAPn3goovg8svn79dx661FVyVJ6qoMElqo3XfP+3WstVber+Pww92v\nQ5L0YQYJtWuVVWDaNDj1VDj77Lxfx3PPFV2VJKkrMUhokbp1y6MR99wDr7yS51E8+WTRVUmSugqD\nhBbLBhvAXXfB0kvnMPHAA0VXJEnqCgwSWmyrrgp33pn/d8stc7uoJKmxGSRUlk98IndxfP7zMGYM\nXHtt0RVJkopkkFDZllsu7yK6446w225w4YVFVyRJKopBQhVZemmYMgX22Qf23htOP73oiiRJRehR\ndAGqXd27w6RJ0Ldv7ux45RU46aS8IZgkqTEYJLREInJ4WGml+WHi3HOhh3+zJKkh+M+9quKww/LI\nxDe/Ca++CpdeCsssU3RVkqSO5hwJVc1ee8H//R/ceCPssAO88UbRFUmSOppBQlW1004wdSrMmAGj\nRsHLLxddkSSpIxkkVHUjR+bFqp55Jq+C+fe/F12RJKmjGCTUIYYOzUtqv/MObLopPPpo0RVJkjqC\nQUIdZo01cphYYQXYfPO88Zckqb4YJNShBg6EO+6Az34WRo+Gm28uuiJJUjUZJNThVlghB4iRI/Oy\n2lOmFF2RJKlaDBLqFL16wTXXwO67w1e+khetkiTVPhekUqfp2RMmT4YVV4SDD84LV33/+y6pLUm1\nzCChTtWtG5x1Vt6O/Ic/zEtqn3FGPi5Jqj0GCXW6iBwi+vaFcePyyMT55+cRC0lSbTFIqDAHHZRv\nc3z96/D663kSZq9eRVclSSqHA8oq1NixcN11cNttsO228I9/FF2RJKkcBgkVbswYuOUWeOwx2GIL\neOGFoiuSJC0ug4S6hE02gTvvzPMlNtsM/vKXoiuSJC2OioJERIyLiNkR8XZETI+IDRdx7r4RcUdE\nvFZ63Lyw8yPi+Ih4PiLeKp2zRiW1qXatu25eUrtHD/jCF2DWrKIrkiR9lLKDRESMBU4HjgU2AGYB\nUyOibztv2QK4FNgS2AR4BrgpIga0uuZRwCHAAcBGwLzSNZcqtz7VttVWyyMTn/xkvs1x551FVyRJ\nWpRKRiTGA5NSSpNTSo8DBwJvAfss7OSU0tdTSuellB5KKT0B7Fv6uqNbnXYocEJK6bqU0p+APYGB\nwC4V1Kca169fnny5wQZ5Aub11xddkSSpPWUFiYjoCQwHbmk5llJKwDRgxGJepjfQE3itdM1PAyu3\nueYbwD1lXFN1Zvnl4cYbYbvtYJdd8oqYkqSup9wRib5Ad2BOm+NzyGFgcZwMPEcOH5Tel5bwmqpD\nyywDV1wBe+2VH2eeWXRFkqS2qrUgVZDDwKJPijga2B3YIqX0TjWuqfrWowf88pd5Fczx4/OS2iec\n4P4cktRVlBskXgHeB/q3Od6PD48oLCAiDgeOBEanlB5p9dKL5NDQv801+gEPLOqa48ePp0+fPgsc\na2pqoqmpaVFvU42JgJNPzvtzHHFEDhM/+xl07150ZZLUtTU3N9Pc3LzAsblz51b1a0Se4lDGGyKm\nA/eklA4tPQ/g78DZKaVT23nPEcD3gG1TSvct5PXngVNTShNKz5cnh4o9U0pXLOT8YcCMGTNmMGzY\nsLLqV2274ALYd1/YbTe4+GJYeumiK5Kk2jJz5kyGDx8OMDylNHNJr1dJ18YZwP4RsWdEfBY4D+gF\nXAgQEZMj4qSWkyPiSOAEclfH3yOif+nRu9U1zwR+EBE7RcRgYDLwLHBNJd+U6tfee8NVV+VltXfc\nEf75z6IrkqTGVnaQSClNAQ4DjiffehgCjEkpvVw6ZRALTpI8iNylcSXwfKvHYa2ueQpwDjCJ3K3x\nMWD7xZhHoQa0yy7wu9/BvffC6NH5VockqRhl39roCry1IYCZM3N76EorwU03wSqrFF2RJHV9XeHW\nhtQlDBsGf/gDvP12XlL78ceLrkiSGo9BQjVtrbXy/hzLL583+7rvQ1N5JUkdySChmvfJT8Idd8Ca\na8KoUXlLcklS5zBIqC6suCJMm5ZHJXbYIXd2SJI6nkFCdaN3b7jmmrzGxO67wy9+UXRFklT/qrVE\nttQlLLUUXHJJ7uTYf//cGnr00S6pLUkdxSChutOtG5xzTt6f43vfg5dfhtNOy8clSdVlkFBdioDj\njsth4lvfgtdfz7c6evg3XpKqyn9WVdcOOQRWWCFvQz5vXt6fY6mliq5KkuqHg72qe1/7GlxxxfyJ\nmG+/XXRFklQ/DBJqCLvumjf6uvXWvNnXm28WXZEk1QeDhBrGttvC1Klw//2wzTZ53oQkackYJNRQ\nNt88r3z5xBN5FcyXX/7o90iS2meQUMPZcEO4/XZ44QUYORKee67oiiSpdhkk1JA+9zm4887cybH5\n5jB7dtEVSVJtMkioYa25Zg4T3bvnMOE25JJUPoOEGtpqq+WdQz/+8Xyb48EHi65IkmqLQUINb8CA\nPGdi1VVhq61g+vSiK5Kk2mGQkMibfN1yS547sfXWcNttRVckSbXBICGV9OkDv/sdbLop7LAD3HBD\n0RVJUtdnkJBa6d07r4A5ZgzssgtceWXRFUlS12aQkNpYeum8N8eXvwxjx8JFFxVdkSR1Xe7+KS1E\nz54weXIeofjGN/J6EwcfXHRVktT1GCSkdnTvDpMmwbLLwrhx8M9/wlFHFV2VJHUtBglpESLg9NNh\nueXg6KPzrqHHH5+PS5IMEtJHioD//d88MnHkkXlkYsIEw4QkgUFCWmxHHJHDxMEH55GJSZPy7Q9J\namQGCakMBx2UJ2DuvXeegDl5cp6YKUmNyiAhlWnPPXOYaGqCt96Cyy+HZZYpuipJKobrSEgV+NKX\n4Jpr4KabYKed8uiEJDUig4RUoe23z0tqT5+eV8KcO7foiiSp8xkkpCWwxRYwbRo88giMGgWvvFJ0\nRZLUuQwS0hLaeOO8Dfmzz+Zg8cILRVckSZ3HICFVwZAhcMcd8MYbsPnm8Le/FV2RJHUOg4RUJWuv\nDXfeCSnBZpvBE08UXZEkdTyDhFRFn/pUDhPLLQcjR8LDDxddkSR1LIOEVGUDB+Y5EwMH5jkT995b\ndEWS1HEMElIH+MQn4NZbYZ11YPToPH9CkuqRQULqIB//OEydChttBNttl/8sSfXGICF1oGWXhd/+\nFrbeOq+A+ZvfFF2RJFWXQULqYMssA1ddBbvtBrvvDhdfXHRFklQ9FQWJiBgXEbMj4u2ImB4RGy7i\n3HUj4srS+R9ExLcXcs6xpddaPx6tpDapK+rZEy65BPbaK2/6NWlS0RVJUnWUvftnRIwFTgf2B+4F\nxgNTI2KtlNLCFgjuBfwFmAJMWMSl/wSMBqL0/L1ya5O6su7d4Re/yLc7DjwQ3nwTDjus6KokaclU\nso34eGBSSmkyQEQcCOwI7AOc0vbklNL9wP2lc09exHXfSym9XEE9Us3o1g3OPDOvM3H44fDPf8Kx\nx0LER79XkrqisoJERPQEhgMntRxLKaWImAaMWMJa1oyI54B/AX8EjkkpPbOE15S6nAg48cQ8MnHM\nMTlMnHaaYUJSbSp3RKIv0B2Y0+b4HGDtJahjOvAN4M/AAOA44I6I+FxKad4SXFfqso4+OoeJb30L\n5s2DiRPziIUk1ZJKbm0sTACp0jenlFp32P8pIu4F/gbsDlzQ3vvGjx9Pnz59FjjW1NREU1NTpaVI\nneqQQ6B3b9h33zxn4sILoUe1/quU1PCam5tpbm5e4NjcuXOr+jXK/SfrFeB9oH+b4/348ChFxVJK\ncyPiCWCNRZ03YcIEhg0bVq0vKxVi773zyMRXv5pHJi67DJZeuuiqJNWDhf1yPXPmTIYPH161r1HW\nQGpK6V1gBrm7AoCIiNLzu6tVVEQsC6wOvFCta0pd2Ze/DFdfDTfeCF/8Irz1VtEVSdLiqeSO7BnA\n/hGxZ0R8FjiP3OJ5IUBETI6I/0zGjIieEbF+RAwFlgI+WXq+eqtzTo2IkRGxWkRsCvwfuf1zwfEY\nqY7tuCPccAPcdVdeUvuNN4quSJI+WtlBIqU0BTgMOB54ABgCjGnVujkIWLnVWwaWzptROn44MBP4\nRatzBgGXAo8DlwEvA5uklF4ttz6plo0aBTffDA89lJfVftX/AiR1cRVN60opTQQmtvPaqDbP/8ZH\nBJaUkrMjpZIRI+C222DbbfM25DfeCKusUnRVkrRwNptJXdAGG+Stx998EzbeGGbMKLoiSVo4g4TU\nRa2zDtxzTx6NGDkSrrmm6Iok6cMMElIX1r9/vs2x/faw6655ee1U8YotklR9Bgmpi+vVC6ZMgSOO\ngPHj8yJW77mlnaQuwjX0pBrQrRucfDKssQYcdBDMng2XX543/5KkIjkiIdWQ/fbLXRx33QWbbQbP\nuK2dpIIZJKQas802cPfdMHeuHR2SimeQkGrQeuvB9OkwaFDu6Lj22qIrktSoDBJSjVp5Zfj97/Ny\n2rvsYkeHpGIYJKQa1qsXXHEFHH547uj41rfs6JDUuezakGpct25wyim5o+Pgg+Hpp+3okNR5HJGQ\n6sT++8/fPXSzzeDZZ4uuSFIjMEhIdWTbbXOQ+Mc/YKONYObMoiuSVO8MElKd+dzn8h4dgwbB5pvb\n0SGpYxkkpDrUtqPjrLPs6JDUMQwSUp1q3dHxne/Y0SGpY9i1IdWxth0ds2fDZZfZ0SGpehyRkBpA\nS0fHnXfmeRN2dEiqFoOE1CC23Tbv0fH663mPDjs6JFWDQUJqIC0dHQMH5pGJ664ruiJJtc4gITWY\nlVeG22+HMWNg553t6JC0ZAwSUgPq1QuuvBIOOyx3dHz723Z0SKqMXRtSg+rWDU49NXd0jBuX9+iw\no0NSuRyRkBrcAQfAb39rR4ekyhgkJDFmTN6jw44OSeUySEgCYPBgmD49d3SMHGlHh6TFY5CQ9B8D\nBuQ9OrbdNu/RcfbZRVckqaszSEhaQO/eeY+O8ePh0EPdo0PSotm1IelDuneH007LHR2HHGJHh6T2\nOSIhqV0HHmhHh6RFM0hIWqSWjo7XXssdHQ88UHRFkroSg4SkjzR4cN6jY8AA9+iQtCCDhKTFMmBA\n3qNjm23s6JA0n0FC0mLr3Tvv0dHS0fHtb8P77xddlaQi2bUhqSwtHR2rr55bQ59+Gpqb7eiQGpUj\nEpIqctBBcP31cMcddnRIjcwgIali220Hf/iDHR1SIzNISFoiQ4Ys2NFx/fVFVySpMxkkJC2xlo6O\nrbeGnXe2o0NqJAYJSVXRuzdcdRV85zu5o2OffeDNN4uuSlJHM0hIqpru3eH00+H882HKFBg6NG9N\nLql+VRQkImJcRMyOiLcjYnpEbLiIc9eNiCtL538QEd9e0mtK6tr23hsefBD69oXNNoPjjnMHUale\nlR0kImIscDpwLLABMAuYGhF923lLL+AvwFHAC1W6pqQubo01ckfHD34AJ56YA8VTTxVdlaRqq2RE\nYjwwKaU0OaX0OHAg8Bawz8JOTindn1I6KqU0BXinGteUVBt69MijEXfeCS+/nG91/OpXkFLRlUmq\nlrKCRET0BIYDt7QcSyklYBowopICOuKakrqWESPyrY6xY2HffeFLX4JXXim6KknVUO6IRF+gOzCn\nzfE5wMoV1tAR15TUxSy3XB6NuOqq3Co6ZAhMnVp0VZKWVLX22gig2oOVH3nN8ePH06dPnwWONTU1\n0dTUVOVSJFXLbrvBJpvkCZnbbZc3/vrJT+BjHyu6Mqn+NDc309zcvMCxuXPnVvVrlBskXgHeB/q3\nOd6PD48odPg1J0yYwLBhwyr8spKKMnAg3Hgj/PSncOSRMG0aXHJJnkMhqXoW9sv1zJkzGT58eNW+\nRlm3NlJK7wIzgNEtxyIiSs/vrqSAjrimpK6vW7c8GjFjRp6UudFGeVfRDz4oujJJ5aika+MMYP+I\n2DMiPgucR27xvBAgIiZHxEktJ0dEz4hYPyKGAksBnyw9X31xrympfq23Htx7b14N88gj8zLbzzxT\ndFWSFlfZQaLUxnkYcDzwADAEGJNSerl0yiAWnCQ5sHTejNLxw4GZwC/KuKakOrb00nDqqfkWx5NP\n5omYl11WdFWSFkdFky1TShOBie28NqrN87+xGIFlUdeU1BhGjYKHHoIDD4SmJvjtb/M8ijZzqiV1\nIe61IalLWWGFPBrx61/Dtdfm0Yk77ii6KkntMUhI6nIiYI89YNYsWG012HJL+N734J321saVVBiD\nhKQu61Ofgttugx/9KM+hGDECHn+86KoktWaQkNSlde8OxxyTtyOfNw+GDYNzz3W/DqmrMEhIqgnD\nh8PMmfCNb8DBB8N//RfMqXQZPElVY5CQVDN69YKJE+H66+H++2HwYLjuuqKrkhqbQUJSzdlxR3j4\nYdh4Y/jiF3O76Lx5RVclNSaDhKSa1K9fbg897zyYPBk22ADuu6/oqqTGY5CQVLMi4IAD4IEH8qJV\nm26aOzzef7/oyqTGYZCQVPPWXhvuvhuOOgr+539giy1g9uyiq5Iag0FCUl3o2RNOPBFuvx2eew7W\nXz/f8rBNVOpYBglJdWWzzeDBB2HXXWGvvWDsWHjttaKrkuqXQUJS3enTBy66CC6/PO8oOmQI3HJL\n0VVJ9ckgIalu7b573k30s5+FrbeGww6Df/2r6Kqk+mKQkFTXBg2Cm26C00/PW5JvtFFeg0JSdRgk\nJNW9bt3gu9/N60ykBBtuCGeeCR98UHRlUu0zSEhqGEOG5DBx0EEwfjyMGZM7PCRVziAhqaEsswxM\nmJBvdzz6aA4XV11VdFVS7TJISGpI22yTJ2JutRX893/D3nvDG28UXZVUewwSkhrWSivBFVfABRfA\nlVfC0KFw111FVyXVFoOEpIYWAd/4Rl7EauWV84JWX/saPP100ZVJtcEgIUnA6qvDHXfAz38Ot92W\n15449FB4+eWiK5O6NoOEJJX06AH77QdPPQX/+79w4YXwmc/A8cfDm28WXZ3UNRkkJKmNXr3gmGPy\n7Y39989bk6+xBkycCO++W3R1UtdikJCkdqy0Ul4R84knYLvt4JBDYN11YcoUF7OSWhgkJOkjrLZa\nvs0xaxasvXbeUXTjjeHWW4uuTCqeQUKSFtPgwXD99fD730P37jB6dB6pePDBoiuTimOQkKQybbEF\n/PGP8JvfwF//ChtsYMuoGpdBQpIqEAG77gp/+pMto2psBglJWgILaxldfXU44QRbRtUYDBKSVAWt\nW0b32w/Np06vAAAPUUlEQVROPNGWUTUGg4QkVVHrltExYxZsGU2p6Oqk6jNISFIHWG01uOii3NHR\n0jK60Ua2jKr+GCQkqQMNGWLLqOqbQUKSOkFLy+hVV8Hs2blldI898p+lWmaQkKROEgG77QaPPAKT\nJuXbHGuvDd/5ji2jql0GCUnqZD165M3AWlpGL7jAllHVLoOEJBWkvZbRc8+1ZVS1wyAhSQVr2zI6\nblxuGb3iCltG1fUZJCSpi2jdMrrWWrD77u4yqq6voiAREeMiYnZEvB0R0yNiw484/8sR8Vjp/FkR\nsX2b1y+IiA/aPG6opDZJqnVDhsBvf5tbRrt1s2VUXVvZQSIixgKnA8cCGwCzgKkR0bed80cAlwK/\nAIYCVwNXR8S6bU69EegPrFx6NJVbmyTVE1tGVQsqGZEYD0xKKU1OKT0OHAi8BezTzvmHAjemlM5I\nKf05pXQsMBM4pM15/04pvZxSeqn0mFtBbZJUV2wZVVdXVpCIiJ7AcOCWlmMppQRMA0a087YRpddb\nm7qQ87eMiDkR8XhETIyIFcupTZLqWUvL6JNPwnHHzW8ZPfFEmDev6OrUyModkegLdAfmtDk+h3w7\nYmFWXozzbwT2BEYBRwJbADdERJRZnyTVtd694Xvfm98yesIJOVCcey68807R1akRVatrI4BympQW\nOD+lNCWldH1K6ZGU0rXAfwEbAVtWqT5JqisLaxldZRU44gh4/PGiq1Mj6VHm+a8A75MnRbbWjw+P\nOrR4sczzSSnNjohXgDWA29o7b/z48fTp02eBY01NTTQ1OU9TUmNoaRk9+mj4+c/zLY/TToMvfAH2\n3Re+/OU8iqHG1NzcTHNz8wLH5s6t7hTESGWudhIR04F7UkqHlp4H8Hfg7JTSqQs5/zLgYymlnVsd\nuwuYlVI6uJ2vMQj4G7BzSun6hbw+DJgxY8YMhg0bVlb9klTP/v1vuOYa+OUvYdo0WHZZaGqCb34T\nNtwwT95UY5s5cybDhw8HGJ5Smrmk16vk1sYZwP4RsWdEfBY4D+gFXAgQEZMj4qRW558FbB8R342I\ntSPiOPKEzZ+Wzu8dEadExMYRsVpEjCa3iD5BnpQpSVpMSy+dF7K66aY8j2L8eLjxxryw1frrw9ln\nw6uvFl2l6knZQSKlNAU4DDgeeAAYAoxJKbU0Ig2i1UTKlNIfyWtC7A88COxGHml4tHTK+6VrXAP8\nmbzexH3AyJSSq81LUoU+9am8Kdjs2TlMrLUWHH44DByYRymmTYMPPii6StW6sm9tdAXe2pCkyrz0\nEvz61/CrX8Fjj+Wwsc8+sPfeMGhQ0dWpM3SFWxuSpBrVrx8cdlhe4Oquu2DUKPjJT/KkzR12gN/8\nxjZSlccgIUkNKAI23TSPTLz4Yl4187XX4Etfso1U5TFISFKDW2653Co6fTo8/DB89atw/vmwzjqw\n2WZw4YWunqn2GSQkSf/xuc/BhAnw/PNw+eXQq1eePzFgABxwANx7L9Tg1Dp1IIOEJOlDWreRzp6d\n20hvuME2Un2YQUKStEgtbaR//attpPowg4QkabF07w7bbQdXXgnPPgsnnQSzZsE22+SNw044IR9X\nYzFISJLK1raNdKutbCNtVAYJSVLFWtpIzz8fXngBzjvPNtJGY5CQJFXF8svDfvvlNtKHHsrzJ2wj\nrX8GCUlS1Q0eDGeemdtIL7vMNtJ6ZpCQJHWYpZeGsWPbbyM96yzbSGudQUKS1CnaayPt3z/Pszj2\nWPjDH+Bd932uKQYJSVKnat1G+txz8LOfwSc/CeecA5tvDiuuCDvtlEcrHn3UWyBdXY+iC5AkNa5+\n/fKciQMOgPffhwcegJtvzotcHXlkbiEdOBC23nr+Y8CAoqtWawYJSVKX0L07fP7z+XHMMfDWW/lW\nx80358fkyfm89dbLi2Btsw2MHAnLLlts3Y3OICFJ6pJ69YJtt80PgJdegltuyaMVV12Vu0J69oQR\nI3Ko2HrrHEJ6+JOtUzlHQpJUE/r1y2tT/OpX8Le/wZ//nHcqXXFFOPXUHCj69oVdd4WJE+GJJ5xf\n0RnMbZKkmhORuz7WWgvGjYP33oP77sujFTffDIcemo+tumoeqdhmGxg9Gj7xiaIrrz8GCUlSzevR\nI49IjBgBP/whvPkm3H77/GBx/vn5vKFD598G2Xxz+NjHiq27HhgkJEl1Z9llYccd8wPyPiAtoeLi\ni/OtkKWXzkt3t4xYDB2aJ3yqPM6RkCTVvQED4Otfz50fzz0Hf/oTnHwyLLMMnHhinqTZrx/svjv8\n/Od5FU4tHkckJEkNJSK3kK63Xp5L8c47cM8989evOPjgvKbFZz4zv810q63ypE59mEFCktTQlloq\nz5fYfHM4/niYOxd+//v5wWLSpBw+Pv/5+bdBNt003xqRQUKSpAX06QM775wfAH//ew4U06bBL38J\nP/5xnqQ5ciRsskne6XTIkDyC0YhzLAwSkiQtwqqrwj775McHH8DDD+fRiltugXPPzQtlQQ4X6603\nP1gMHpwf/foVW39HM0hIkrSYunXL25+vv37euRRgzpwcLh5+GB56KD+am+Ff/8qv9+8/P1S0BIx1\n162f1lODhCRJS6B///zYeuv5x95/H556asGAce21eVnvlHIgWXPNDweMT386v1ZLDBKSJFVZ9+6w\n9tr58d//Pf/4m2/CI4/MDxcPP5y3S3/ttfx6797wuc99OGCstFIx38fiMEhIktRJll0WNt44P1qk\nlBfMaj16cf/9ec2Ld97J5wwYsOC8iyFDYJ11ukbniEFCkqQCRcDAgfkxZsz84+++C08+ueDoxZVX\nwmmn5de7d897jbQNGKutlq/ZWQwSkiR1QT175kmZ664LY8fOP/7GG3llztYBY+pU+Mc/8uvLLZdv\nj7QOGIMHwwordEydBglJkmrI8svnBbE23XT+sZTg2WcXvD1y9915s7J3383nDBrUMe2oBglJkmpc\nBKyySn7ssMP84++8A3/+84IB43e/q+7XNkhIklSnllpq/q2NFjNnwvDh1fsaNdatKkmSuhKDhCRJ\nqphBQpIkVcwgIUmSKmaQkCRJFTNIaLE1NzcXXULD8TPvfH7mnc/PvLZVFCQiYlxEzI6ItyNiekRs\n+BHnfzkiHiudPysitl/IOcdHxPMR8VZE3BwRa1RSmzqO/7F3Pj/zzudn3vn8zGtb2UEiIsYCpwPH\nAhsAs4CpEdG3nfNHAJcCvwCGAlcDV0fEuq3OOQo4BDgA2AiYV7rmUuXWJ0mSOk8lIxLjgUkppckp\npceBA4G3gH3aOf9Q4MaU0hkppT+nlI4FZpKDQ+tzTkgpXZdS+hOwJzAQ2KWC+iRJUicpK0hERE9g\nOHBLy7GUUgKmASPaeduI0uutTW05PyI+A6zc5ppvAPcs4pqSJKkLKHeJ7L5Ad2BOm+NzgLXbec/K\n7Zy/cunP/YH0Eee0tQzAY4899tEVq2rmzp3LzJkziy6jofiZdz4/887nZ965Wv3sXKYa16vWXhtB\nDgPVPH9R53wKYI899ijjS6oahldzgXYtFj/zzudn3vn8zAvxKeDuJb1IuUHiFeB98ihCa/348IhC\nixc/4vwXyaGhf5tr9AMeaOeaU4GvAX8F/rUYdUuSpGwZcoiYWo2LlRUkUkrvRsQMYDRwLUBEROn5\n2e287Y8LeX2b0nFSSrMj4sXSOQ+Vrrk8sDHws3bqeJXcCSJJksq3xCMRLSq5tXEGcFEpUNxL7uLo\nBVwIEBGTgWdTSt8rnX8WcHtEfBf4LdBEnrC5X6trngn8ICKeIo8ynAA8C1xTQX2SJKmTlB0kUkpT\nSmtGHE++HfEgMCal9HLplEHAe63O/2NENAE/Kj2eBHZOKT3a6pxTIqIXMAn4OHAnsH1K6Z3Kvi1J\nktQZIndvSpIklc+9NiRJUsUMEpIkqWI1GSTK3TRMlYuIYyLi3oh4IyLmRMT/RcRaRdfVSEr/H3wQ\nEWcUXUs9i4iBEfHriHiltHngrIgYVnRd9SoiukXECRHxdOnzfioiflB0XfUkIjaPiGsj4rnSvyFf\nXMg5S7xhZs0FiXI3DdMS2xw4h9yOuzXQE7gpIj5WaFUNohSS9yP/PVcHiYiPA3cB/wbGAOsAhwGv\nF1lXnTuavFHjwcBngSOBIyPikEW+S+XoTW6IGMdCFnis1oaZNTfZMiKmA/eklA4tPQ/gGeDslNIp\nhRbXAEqB7SVgZErpD0XXU88iYllgBnAQ8EPggZTSd4utqj5FxE+AESmlLYqupVFExHXAiyml/Vod\nuxJ4K6W0Z3GV1aeI+ADYJaV0batjzwOnppQmlJ4vT14Ycq+U0pTFvXZNjUhUuGmYquvj5GT7WtGF\nNICfAdellG4tupAGsBNwf0RMKd3CmxkR+xZdVJ27GxgdEWsCRMT6wBeAGwqtqkFExKep0oaZ1dpr\no7NUsmmYqqQ0+nMm8IfW64Co+iLiK8BQ4PNF19IgPkMe+TmdvN7NxsDZEfGvlNLFhVZWv34CLA88\nHhHvk3+x/X5K6bJiy2oYK1P+hpkLVWtBoj3lbhqmykwE1iX/1qAOEhGDyIFtm5TSu0XX0yC6Afem\nlH5Yej4rItYjhwuDRMcYC3wV+ArwKDk4nxURz6eUfl1oZY2t7J+nNXVrg8o2DVMVRMRPgR2ALVNK\nLxRdT50bDnwCmBER70bEu8AWwKER8U5pZEjV9QLwWJtjjwGrFlBLozgF+HFK6YqU0iMppUuACcAx\nBdfVKFpvmNla2T9PaypIlH47a9k0DFhg07CqbUCiBZVCxM7AVimlvxddTwOYBgwm/4a2fulxP/k3\n4/VTrc2Qrg138eHbo2sDfyuglkbRiw//5vsBNfZzqVallGaTw0Trn6ctG2aW9fO0Fm9tLHLTMFVX\nREwkb7T2RWBeRLSk17kpJbdw7wAppXnkod7/iIh5wKsppba/Nas6JgB3RcQxwBTyP6b7suDmgqqu\n64DvR8QzwCPAMPK/578stKo6EhG9gTXIIw8AnylNan0tpfQMVdows+baPwEi4mByz3HLpmHfSind\nX2xV9anUMrSwvyR7p5Qmd3Y9jSoibgUetP2z40TEDuQJgGsAs4HTU0rnF1tV/Sr9kDsB2JU8nP48\ncClwQkrpvUW9V4snIrYAbuPD/4ZflFLap3TOccD+zN8wc1xK6amyvk4tBglJktQ1eC9KkiRVzCAh\nSZIqZpCQJEkVM0hIkqSKGSQkSVLFDBKSJKliBglJklQxg4QkSaqYQUKSJFXMICFJkipmkJAkSRX7\nf7+Pm6+Dk6T7AAAAAElFTkSuQmCC\n",
      "text/plain": [
       "<matplotlib.figure.Figure at 0x7f308ef2ff90>"
      ]
     },
     "metadata": {},
     "output_type": "display_data"
    }
   ],
   "source": [
    "s = np.linspace(0,10, 11)/u.year\n",
    "b = 10 / u.year #np.linspace(0,10, 11)/u.year\n",
    "T = 1 * u.year\n",
    "plt.plot(s, signal_posterior(s, b, 10, T))"
   ]
  },
  {
   "cell_type": "markdown",
   "metadata": {},
   "source": [
    "We'll want to express the rate in terms of the number of mergers per *milky-way equivalent galaxy*, or MWEG. We can approximate the number of MWEGS inside the sensitivity range of the detectors as\n",
    "\\\\[\n",
    "    N_{\\mathrm{G}} = \\frac{4}{3} \\pi \\left( \\frac{\\mathcal{D}}{\\mathrm{Mpc}} \\right)^3 \n",
    "    (2.26)^{-3}\n",
    "    (0.0116)\n",
    "\\\\]"
   ]
  },
  {
   "cell_type": "code",
   "execution_count": 13,
   "metadata": {
    "collapsed": false
   },
   "outputs": [],
   "source": [
    "@u.quantity_input(horizon=u.megaparsec)\n",
    "def n_mweg(horizon):\n",
    "    mweg1 = (4. / 3. ) * np.pi \n",
    "    mweg2 = (horizon / 1/u.megaparsec)**3\n",
    "    mweg3 = (2.26)**(-3) * 0.0116\n",
    "    return mweg1 * mweg2 * mweg3"
   ]
  },
  {
   "cell_type": "markdown",
   "metadata": {},
   "source": [
    "This let's us reach the posterior on the binary coalescence rate:\n",
    "\\begin{align*}\n",
    "    p(\\mathcal{R} | s,n,T,b,\\mathcal{D}) &= p(s|n,T,b) \\left| \\frac{\\mathrm{d}s}{\\mathrm{d}\\mathcal{R}} \\right| \\\\\n",
    "                                       &= N_{\\mathrm{G}} \\mathcal{D} \\ p(s |n,T,b)\n",
    "\\end{align*}"
   ]
  },
  {
   "cell_type": "code",
   "execution_count": 14,
   "metadata": {
    "collapsed": true
   },
   "outputs": [],
   "source": [
    "@u.quantity_input(s=1/u.year, \n",
    "                  b=1/u.year,\n",
    "                  T=1*u.year, \n",
    "                  horizon=u.megaparsec)\n",
    "def rate_posterior(s, b, n, T, horizon):\n",
    "    \"\"\"\n",
    "    \n",
    "    \"\"\"\n",
    "    nmweg = n_mweg(horizon)\n",
    "    post = signal_posterior(s,b,n, T)\n",
    "    return nmweg * post"
   ]
  },
  {
   "cell_type": "code",
   "execution_count": 15,
   "metadata": {
    "collapsed": false
   },
   "outputs": [
    {
     "data": {
      "text/plain": [
       "[<matplotlib.lines.Line2D at 0x7f30864c1f10>]"
      ]
     },
     "execution_count": 15,
     "metadata": {},
     "output_type": "execute_result"
    },
    {
     "data": {
      "image/png": "iVBORw0KGgoAAAANSUhEUgAAAhYAAAFkCAYAAAB8RXKEAAAABHNCSVQICAgIfAhkiAAAAAlwSFlz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\nBgtJklQ2BgtJklQ2BgtJklQ2/x8seJ3c5tkIXAAAAABJRU5ErkJggg==\n",
      "text/plain": [
       "<matplotlib.figure.Figure at 0x7f308659ca90>"
      ]
     },
     "metadata": {},
     "output_type": "display_data"
    }
   ],
   "source": [
    "s = np.linspace(0,10, 11)/u.year\n",
    "b = 10 / u.year #np.linspace(0,10, 11)/u.year\n",
    "T = 1 * u.year\n",
    "horizon = 100*u.megaparsec\n",
    "plt.plot(s, rate_posterior(s, b, 10, T, horizon))"
   ]
  },
  {
   "cell_type": "markdown",
   "metadata": {},
   "source": [
    "These quantities define our *detection scenarios*.\n",
    "\n",
    "\n",
    "| Scenario name | $T$ | $\\mathcal{D}$ | $V$    | $\\mathcal{R}$ | $n$ |\n",
    "| ------------- | --- | ------------- | ------ | ------------- | --- |\n",
    "| 2016          | 0.5 | 80 - 120      | 1.05e6 | 1e-6          | 1.3 |\n",
    "| 2022+         | 1.0 | 200           | 4.00e7 | 1e-6          | 40  |"
   ]
  },
  {
   "cell_type": "markdown",
   "metadata": {},
   "source": [
    "### Transform from the rate posterior to an angle posterior"
   ]
  },
  {
   "cell_type": "markdown",
   "metadata": {},
   "source": [
    "Inferences of the GRB beaming angle are made from the posterior on the beaming angle, so we need to convert a posterior on the rate prior into a posterior on the angle. To do this we use a Jacobian.\n",
    "\n",
    "\\\\[ p(\\theta, \\epsilon) = p(\\mathcal{R}, \\epsilon) \\left|\\left| \\frac{ \\partial(\\mathcal{R},\\epsilon) }{ \\partial (\\theta, \\epsilon) } \\right|\\right| \\\\]\n",
    "\n",
    "We assume that the beaming angle and the rate are probabilistically independent, so\n",
    "\n",
    "\\\\[ p(\\theta) = \\frac{2 \\mathcal{R}_{\\rm GRB}  \\sin \\theta \\ p(\\mathcal{R})  }{( \\cos \\theta - 1)^2 } \\int \\frac{p(\\epsilon) {\\rm d} \\epsilon }{\\epsilon}  \\\\]"
   ]
  },
  {
   "cell_type": "code",
   "execution_count": 16,
   "metadata": {
    "collapsed": true
   },
   "outputs": [],
   "source": [
    "def jacobian(efficiency, theta, grb_rate):\n",
    "    denom=efficiency*(np.cos(theta * np.pi/180)-1)\n",
    "    return abs(2.0*grb_rate * np.sin(theta * np.pi / 180.0) /\n",
    "                (denom*denom) )"
   ]
  },
  {
   "cell_type": "markdown",
   "metadata": {
    "collapsed": true
   },
   "source": [
    "So for a given efficiency, $\\epsilon$ and beaming angle $\\theta$ the CBC rate needs to be found, then the rate posterior for this calculated, and finally rotated using the Jacobian."
   ]
  },
  {
   "cell_type": "code",
   "execution_count": 17,
   "metadata": {
    "collapsed": false
   },
   "outputs": [],
   "source": [
    "from grbeams.distributions import UniformDistribution"
   ]
  },
  {
   "cell_type": "code",
   "execution_count": 18,
   "metadata": {
    "collapsed": true
   },
   "outputs": [],
   "source": [
    "def p_theta(theta, efficiency, grb_rate, theta_range=(0*u.degree,90*u.degree)):\n",
    "    if (theta>=min(theta_range)) and (theta<max(theta_range)):\n",
    "        bns_rate = rate_cbc(efficiency, theta, grb_rate)\n",
    "        j = jacobian(efficiency, theta, grb_rate).value\n",
    "        p_efficiency = UniformDistribution(range=(0,1.0))\n",
    "        return bns_rate.value + np.log(j) + np.log(p_efficiency.pdf(efficiency))\n",
    "    else:\n",
    "        return -np.inf"
   ]
  },
  {
   "cell_type": "markdown",
   "metadata": {},
   "source": [
    "We can sample from the beaming angle posterior using MCMC; we sample points from the $p(\\theta, \\epsilon)$ distribution, and then perform kernel-density estimation. The mode of the KDE is the MAP estimate, with the lower and upper bounds found from the 95% confidence intervals."
   ]
  },
  {
   "cell_type": "markdown",
   "metadata": {},
   "source": [
    "## A Rate posterior using the upper limit in the NSBH paper draft"
   ]
  },
  {
   "cell_type": "code",
   "execution_count": 19,
   "metadata": {
    "collapsed": true
   },
   "outputs": [],
   "source": [
    "class LimitToFile:\n",
    "    \"\"\"\n",
    "    class with the observing scenario information for the null detection run and\n",
    "    an upper limit from the loudest event formalism\n",
    "    \"\"\"\n",
    "\n",
    "    def __init__(self, rate_upper_limit=1.3e-4, alpha=0.9):\n",
    "        self.upper_limit = rate_upper_limit\n",
    "        self.eps = -1*np.log(1-alpha)/rate_upper_limit\n",
    "\n",
    "    def comp_bns_rate_pdf(self, bns_rate):\n",
    "        return cbcRatePosteriorNull(self.eps, bns_rate)\n",
    "\n",
    "    def compute_posteriors(self):\n",
    "        # BNS coalescence rate posterior arrays for rate in / Mpc^3 / Myr.\n",
    "        self.bns_rate=np.linspace(1e-8,5e-4,5000)\n",
    "        self.bns_rate_pdf = self.comp_bns_rate_pdf(self.bns_rate)\n",
    "\n",
    "    def dump_posterior(self, filename=\"bns_rate_posterior.txt\"):\n",
    "\n",
    "        f = open(filename, 'w')\n",
    "        for rate, pdf in zip(self.bns_rate, self.bns_rate_pdf):\n",
    "            f.writelines(\"{0} {1}\\n\".format(rate, pdf))\n",
    "        f.close()"
   ]
  },
  {
   "cell_type": "code",
   "execution_count": null,
   "metadata": {
    "collapsed": true
   },
   "outputs": [],
   "source": []
  },
  {
   "cell_type": "markdown",
   "metadata": {},
   "source": [
    "## Prospects for detecting with aLIGO"
   ]
  },
  {
   "cell_type": "code",
   "execution_count": 20,
   "metadata": {
    "collapsed": false
   },
   "outputs": [],
   "source": [
    "from grbeams.scenarios import Scenario, BNSDistribution\n",
    "from grbeams.beamingangle import BeamingAnglePosterior\n",
    "from grbeams.distributions import DeltaDistribution, UniformDistribution, JeffreyDistribution\n",
    "import numpy as np"
   ]
  },
  {
   "cell_type": "code",
   "execution_count": 22,
   "metadata": {
    "collapsed": false
   },
   "outputs": [],
   "source": [
    "import matplotlib.pyplot as plt\n",
    "%matplotlib inline\n",
    "#plt.style.use('/home/daniel/repositories/burst-style/burst.mplstyle')\n",
    "import astropy.units as u"
   ]
  },
  {
   "cell_type": "code",
<<<<<<< HEAD
   "execution_count": 3,
=======
   "execution_count": 91,
>>>>>>> fd9f5a72d776026a12047bec0b8410a6293515b6
   "metadata": {
    "collapsed": true
   },
<<<<<<< HEAD
   "outputs": [],
   "source": [
    "rateunits = u.gigaparsec**-3*u.year**-1\n",
    "data = np.loadtxt('bns_highspin_pycbc_unlam_lnvt.txt')\n",
    "rate, pdf = (data[:,0])*rateunits, data[:,1]*rateunits**-1\n",
    "bns_prior = BNSDistribution(rate, pdf  / (rate*pdf).sum() )"
   ]
  },
  {
   "cell_type": "code",
   "execution_count": 4,
   "metadata": {
    "collapsed": false
   },
   "outputs": [
    {
     "data": {
      "text/plain": [
       "[<matplotlib.lines.Line2D at 0x7f7e544d1790>]"
      ]
     },
     "execution_count": 4,
     "metadata": {},
     "output_type": "execute_result"
    },
    {
     "name": "stderr",
     "output_type": "stream",
     "text": [
      "/home/daniel/.virtualenvs/jupyter/lib/python2.7/site-packages/matplotlib/font_manager.py:1288: UserWarning: findfont: Font family [u\"'New Century Schoolbook'\"] not found. Falling back to Bitstream Vera Sans\n",
      "  (prop.get_family(), self.defaultFamily[fontext]))\n"
     ]
    },
    {
     "data": {
      "image/png": "iVBORw0KGgoAAAANSUhEUgAAAY8AAAD/CAYAAAAJz1qSAAAABHNCSVQICAgIfAhkiAAAAAlwSFlz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\nLQAAAABJRU5ErkJggg==\n",
      "text/plain": [
       "<matplotlib.figure.Figure at 0x7f7e545732d0>"
      ]
     },
     "metadata": {},
     "output_type": "display_data"
    }
   ],
   "source": [
    "plt.plot(rate, pdf)"
   ]
  },
  {
   "cell_type": "code",
   "execution_count": 5,
   "metadata": {
    "collapsed": true
   },
   "outputs": [],
   "source": [
    "new_rate = u.megaparsec**-3*u.megayear**-1"
   ]
  },
  {
   "cell_type": "code",
   "execution_count": 48,
   "metadata": {
    "collapsed": false,
    "scrolled": true
   },
   "outputs": [
    {
     "data": {
      "text/plain": [
       "<matplotlib.text.Text at 0x7f7e4e34c210>"
      ]
     },
     "execution_count": 48,
     "metadata": {},
     "output_type": "execute_result"
    },
    {
     "data": {
      "image/png": "iVBORw0KGgoAAAANSUhEUgAAAYcAAAEMCAYAAAAvaXplAAAABHNCSVQICAgIfAhkiAAAAAlwSFlz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\niAAAAABJRU5ErkJggg==\n",
      "text/plain": [
       "<matplotlib.figure.Figure at 0x7f7e4fb6c550>"
=======
   "outputs": [
    {
     "name": "stdout",
     "output_type": "stream",
     "text": [
      "Delta Distro 1"
     ]
    },
    {
     "data": {
      "text/plain": [
       "<matplotlib.text.Text at 0x7f3081f53d50>"
      ]
     },
     "execution_count": 91,
     "metadata": {},
     "output_type": "execute_result"
    },
    {
     "name": "stdout",
     "output_type": "stream",
     "text": [
      "\n"
     ]
    },
    {
     "data": {
      "image/png": "iVBORw0KGgoAAAANSUhEUgAAAikAAAGACAYAAABoaPKlAAAABHNCSVQICAgIfAhkiAAAAAlwSFlz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\nkUj6/wGrA15TQ8F0JAAAAABJRU5ErkJggg==\n",
      "text/plain": [
       "<matplotlib.figure.Figure at 0x7f3081f24690>"
>>>>>>> fd9f5a72d776026a12047bec0b8410a6293515b6
      ]
     },
     "metadata": {},
     "output_type": "display_data"
    }
   ],
   "source": [
    "plt.figure()\n",
    "\n",
<<<<<<< HEAD
    "plt.style.use('/home/daniel/repositories/burst-style/burst.mplstyle')\n",
    "#o1scenario = Scenario(bns_prior)\n",
    "\n",
    "#posterior = BeamingAnglePosterior(o1scenario, efficiency_prior=DeltaDistribution(1), grb_rate=3/u.gigaparsec**3 / u.year)\n",
    "#chain = posterior.sample_theta_posterior(nburnin=1000, nsamp=200)\n",
=======
    "rateunits = u.gigaparsec**-3*u.year**-1\n",
    "data = np.loadtxt('bns_highspin_pycbc_unlam_lnvt.txt')\n",
    "rate = data[:,0] * u.gigaparsec**-3 * u.gigayear**-1\n",
    "pdf  = data[:,1]*( u.gigaparsec**-3 * u.gigayear**-1)**-1\n",
    "bns_prior = BNSDistribution(rate, (pdf * (rate/pdf)))\n",
    "o1scenario = Scenario(bns_prior)\n",
    "\n",
    "posterior = BeamingAnglePosterior(o1scenario, efficiency_prior=DeltaDistribution(0.5), grb_rate=3/u.gigaparsec**3 / u.year)\n",
    "chain = posterior.sample_theta_posterior(nburnin=100, nsamp=200)\n",
>>>>>>> fd9f5a72d776026a12047bec0b8410a6293515b6
    "# Calculate the bandwidth of the poserior for the KDE\n",
    "#theta_bw = 1.06*np.std(posterior.theta_samples)*len(posterior.theta_samples/100)**(-0.2)\n",
    "#posterior.get_theta_pdf_kde(theta_bw)\n",
    "theta_bin_size = 3.5*np.std(posterior.theta_samples) \\\n",
    "        / len(posterior.theta_samples)**(1./2)\n",
    "#theta_bins = np.arange(posterior.theta_range.min(), posterior.theta_range.max(),\n",
    "#        theta_bin_size)\n",
    "theta_bins = np.linspace(0,10, 1000)\n",
    "plt.hist(posterior.theta_samples, bins=theta_bins, log=True,  normed=True, alpha=1)\n",
    "plt.plot(posterior.theta_grid,posterior.theta_pdf_kde, \\\n",
    "        color='k')\n",
    "plt.axvline(np.percentile(posterior.theta_samples, 95.0), linestyle='--')\n",
    "plt.ylim([1e-3, 6])\n",
    "plt.xlim([0,5])\n",
    "plt.xlabel(r'Jet Angle, $\\theta$')\n",
    "plt.ylabel(r'$p(\\theta | D,I)$')"
   ]
  },
  {
   "cell_type": "code",
<<<<<<< HEAD
   "execution_count": 40,
=======
   "execution_count": null,
>>>>>>> fd9f5a72d776026a12047bec0b8410a6293515b6
   "metadata": {
    "collapsed": false
   },
   "outputs": [
    {
<<<<<<< HEAD
     "data": {
      "image/png": "iVBORw0KGgoAAAANSUhEUgAAAYMAAAEECAYAAADK0VhyAAAABHNCSVQICAgIfAhkiAAAAAlwSFlz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\nRK5CYII=\n",
      "text/plain": [
       "<matplotlib.figure.Figure at 0x7f7e505a97d0>"
      ]
     },
     "metadata": {},
     "output_type": "display_data"
=======
     "name": "stderr",
     "output_type": "stream",
     "text": [
      "/home/daniel/.virtualenvs/grbeaming/local/lib/python2.7/site-packages/grbeams-0.1.0-py2.7.egg/grbeams/beamingangle.py:175: RuntimeWarning: divide by zero encountered in log\n",
      "  + np.log(self.comp_efficiency_prob(efficiency))\n",
      "/home/daniel/.virtualenvs/grbeaming/local/lib/python2.7/site-packages/emcee/ensemble.py:335: RuntimeWarning: invalid value encountered in subtract\n",
      "  lnpdiff = (self.dim - 1.) * np.log(zz) + newlnprob - lnprob0\n",
      "/home/daniel/.virtualenvs/grbeaming/local/lib/python2.7/site-packages/emcee/ensemble.py:336: RuntimeWarning: invalid value encountered in greater\n",
      "  accept = (lnpdiff > np.log(self._random.rand(len(lnpdiff))))\n"
     ]
>>>>>>> fd9f5a72d776026a12047bec0b8410a6293515b6
    }
   ],
   "source": [
    "plt.semilogy(chain);"
   ]
  },
  {
   "cell_type": "code",
<<<<<<< HEAD
   "execution_count": 37,
   "metadata": {
    "collapsed": false
   },
   "outputs": [
    {
     "data": {
      "text/plain": [
       "<matplotlib.text.Text at 0x7f05f5eb5b90>"
      ]
     },
     "execution_count": 37,
     "metadata": {},
     "output_type": "execute_result"
    },
    {
     "data": {
      "image/png": "iVBORw0KGgoAAAANSUhEUgAAAYoAAAESCAYAAADjS5I+AAAABHNCSVQICAgIfAhkiAAAAAlwSFlz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\noiAiIpv+PyxN5KTdNLegAAAAAElFTkSuQmCC\n",
      "text/plain": [
       "<matplotlib.figure.Figure at 0x7f05f676a610>"
      ]
     },
     "metadata": {},
     "output_type": "display_data"
    }
   ],
=======
   "execution_count": null,
   "metadata": {
    "collapsed": false
   },
   "outputs": [],
>>>>>>> fd9f5a72d776026a12047bec0b8410a6293515b6
   "source": [
    "plt.figure()\n",
    "\n",
    "\n",
    "o1scenario = Scenario(bns_prior)\n",
    "\n",
    "#posterior = BeamingAnglePosterior(o1scenario, efficiency_prior=UniformDistribution(), grb_rate=3/u.gigaparsec**3 / u.year)\n",
    "#chain = posterior.sample_theta_posterior(nburnin=2000, nsamp=4000)\n",
    "# Calculate the bandwidth of the poserior for the KDE\n",
    "theta_bw = 1.06*np.std(posterior.theta_samples)*len(posterior.theta_samples)**(-0.2)\n",
    "posterior.get_theta_pdf_kde(theta_bw)\n",
    "theta_bin_size = 3.5*np.std(posterior.theta_samples) \\\n",
    "        / len(posterior.theta_samples)**(1./2)\n",
    "theta_bins = np.arange(0, posterior.theta_range.max(),\n",
    "        theta_bin_size)\n",
    "plt.hist(posterior.theta_samples, bins=theta_bins, normed=True, log=True, histtype='stepfilled',\n",
    "        )\n",
    "plt.plot(posterior.theta_grid,posterior.theta_pdf_kde, \\\n",
    "        color='k')\n",
    "#plt.axvline(np.percentile(posterior.theta_samples, 99.9), linestyle='--')\n",
    "plt.ylim([1e-3, 1])\n",
    "plt.xlim([0,10])\n",
    "plt.xlabel(r'Jet Angle, $\\theta$')\n",
    "plt.ylabel(r'$p(\\theta | D,I)$')"
   ]
  },
  {
   "cell_type": "code",
<<<<<<< HEAD
   "execution_count": 25,
=======
   "execution_count": null,
>>>>>>> fd9f5a72d776026a12047bec0b8410a6293515b6
   "metadata": {
    "collapsed": false,
    "scrolled": false
   },
<<<<<<< HEAD
   "outputs": [
    {
     "data": {
      "text/plain": [
       "<matplotlib.text.Text at 0x7f05f6af7650>"
      ]
     },
     "execution_count": 25,
     "metadata": {},
     "output_type": "execute_result"
    },
    {
     "data": {
      "image/png": "iVBORw0KGgoAAAANSUhEUgAAAYoAAAESCAYAAADjS5I+AAAABHNCSVQICAgIfAhkiAAAAAlwSFlz\nAAALEgAACxIB0t1+/AAAIABJREFUeJzt3XtUVOe9N/Dv3JmBYbhLlHjDaxQVFQUVnIhYJYkmqzar\nSZOYNuvE1dS3idrVy2lctacrp3lXLjVvkiYn75umNe0xR20SG0UTAQEvoEiIg6JEwTuIFxwGGGCY\ny/uHOgHlMgMze8/s+X7WylrOntl7/3b2it88z7OfZ8tcLpcLREREfZCLXQAREQU2BgUREfWLQUFE\nRP1iUBARUb8YFERE1C8GBRER9YtBQURE/WJQEBFRv5RiF9CXo0ePYvfu3XA6nfjd734ndjlERCFL\n8BZFQ0MDZs2aBZ1OB6fT6d6+bt06ZGVlYe3atQCAHTt2YMOGDYiLi0NjY6PQZRIR0W2CB0VsbCwK\nCwuRnp7u3lZZWYm2tjaUlJTAZrPh6NGj7u+4wggRkbgE73pSq9VQq9U9AqCsrAw5OTkAgOzsbJSV\nlWH58uX4wx/+gK6uLgwbNkzoMomI6LaAGKMwm81ITk4GABgMBlRXVyMtLQ1paWn97ldQUCBEeURE\nkpOdne3xb0ULCplM5v6zwWCAxWIBAFgsFkRFRXl8nMn52+AwHcXG6otIMujxy137ED7ifp/XK4b1\n69fjjTfeELsMv5Hy9Un52gBeX7Dz9n+yRXs81uVyubufMjIy3IXn5+f3GL/wlFYhR4fd4dMaiYhI\nhKCw2+3IycmByWTC0qVLUV5ejtTUVGg0GmRlZUGpVGL27NkeH895O2y0CjmsDucAvyYiCl1FRUXY\nuHGj1/sJ3vWkVCqxd+/ee7Zv2rRpUMeTy2RwANAp5LjZJa0WRUZGhtgl+JWUr0/K1wbw+oKV0WiE\n0WgMnq4nXwtTyNEusRbFvHnzxC7Br6R8fVK+NoDXF2okExRahRztDmm1KIiIAkFAPB47FO4xCrkc\n7XZptSiIiHypqKgIRUVFyMzM9Gq/oG9RyG8/ZqtTskVBRNQfo9E4qMHsoA+KO7QSHKMgIgoEkgmK\nMLkcVs6jICLyOcmMUeiUcnSwRUFE1KeQH6PgU09ERP3jGAW7noiI/EI6QcHBbCIiv5BMUIQp5Oh0\nOHu8NY+IiIYu6IPizmC2XCaDRiFHR2enyBUREQWmwS4KGPRBIe/2XgutQo42q1XEaoiIAlfID2YD\ngFahQHt7u9hlEBFJiqSCQqdUwMqgICLyKUkFRZhCDiu7noiIfEpSQaFVyGFt7xC7DCIiSZHMEh7A\nra4njlEQEfUu5JfwAG4NZnOMgoiod3zqCYBWyTEKIiJfk1RQhCkUsHawRUFE5EuSCgqdQo52DmYT\nEfmUpIJCq1RwZjYRkY9JKygUcj71RETkY0EfFN0fj+VTT0REfeOigLj91BODgoioV3w8FrdbFFYG\nBRGRL0krKNiiICLyOUkFhU6hQDvnURAR+ZSkgoKrxxIR+Z6kgkKrVHD1WCIiH5NWUCg4RkFE5GuS\nCgouM05E5HuSCopbj8dyjIKIyJck9eIirUKONrYoiIh6xRcX4dZTT3a7HV1dXSJWREQUmDgzG4BM\nJoM+IhwWi0XsUoiIJENSQQEAkfpIBgURkQ9JMCj0aG5uFrsMIiLJkF5QRDIoiIh8SXpBERHBoCAi\n8iHpBQXHKIiIfEp6QcGuJyIin5JcUBg4mE1E5FOSCwq9PoJdT0REPiS5oIjUR7JFQUTkQ5ILCnY9\nERH5lqQWBQQ4mE1E1BcuCnhbpF7PMQoiol5wUcDbuIQHEZFvSS4oDJGRMJvNYpdBRCQZkguK6Kgo\n3Lx5U+wyiIgkQ3JBEREejo6ODthsNrFLISKSBMkFhUwmQ0xMDJqamsQuhYhIEiQXFAAQGxuLGzdu\niF0GEZEkSDIo2KIgIvIdSQZFbGwsg4KIyEckGRQxMTHseiIi8hHJBgVbFEREviHJoOBgNhGR70gy\nKNiiICLyHUkGBQeziYh8R5JBwcFsIiLfkWRQREdHo6mpCS6XC6673ldBRETekVZQdLbDeiAfsooD\nuHbpIq7v2ILWc7ViV0VEFNQCNiiqqqrw2GOP4dtvv/V8J4cDHZvfhXb7R7hpNqPj/74JZ0e7/4ok\nIgoBggVFQ0MDZs2aBZ1OB6fT6d6+bt06ZGVlYe3atT1+n5KSgscee2xQ59Ip5HC4XOhwOAf+MRER\n9UuwoIiNjUVhYSHS09Pd2yorK9HW1oaSkhLYbDZUVFRg586d2LFjBwAMeoxBJpPBoFLA3GX3Wf1E\nRKFKsKBQq9UwGAw9/uIvKytDTk4OACA7OxulpaV4+OGHsWLFCly4cAFfffUVPv74Y3R1dXl9vji1\nCjdsDAoioqFSinlys9mM5ORkAIDBYEB1dbX7u5EjR+If//jHgMdwOntvccSolbjRaUdHRwfa6ut9\nU7DAWlpaUB+ktXtCytcn5WsDeH3B5tChQygtLXV/zs3N9Wp/wYNCJpO5/2wwGGCxWAAAFosFUVFR\nXh9PLpfB0cv2OLUSN2xdCAsLg2H48MGWK6r6+noMD9LaPSHl65PytQG8vmCzcuVKrFy50v25oKDA\nq/0Ff+qp+7hDRkaGu+D8/Pwe4xdDFath1xMRkS8IFhR2ux05OTkwmUxYunQpysvLkZqaCo1Gg6ys\nLCiVSsyePdvr4zr7GOyOUytxvZNBQUR0R1FRETZu3Oj1foJ1PSmVSuzdu/ee7Zs2bRrSceWy3rue\nYtRKnLe2DenYRERSYjQaYTQaA7/rSShx7HoiIvIJyQZFrFrJoCAi8gFRH4/1hb7GKGLVKlzv9H7+\nBRGRVBUVFaGoqAiZmZle7Rf0LQp5t8dtu2OLgoioJ6PROKjB7KAPir5EKG+t92Rt56KARERDIdmg\nkMlkiFUrcb3pptilEBEFNckGBXBrnOIa33RHRDQkkh3MBoD7tCpcbmwUsBoiosDFwexeDA9T41JD\ng4DVEBEFLg5m92KEVo1LDVfELoOIKKhJOiiGa9miICIaKkkHxYgwNS6zRUFENCRBHxT9DWYPZ9cT\nEZHbYFePDfqg6G8wO0GjQnNLC6xWq4AVEREFJg5m90Iuk2HsyPtRU1MjdilEREFL0kEBABPGjsXJ\nkyfFLoOIKGiFQFCMYVAQEQ1B0AdFf4PZADAxmS0KIiKAg9l9YtcTEdEtgx3M9nitp+bmZlRWVqKx\nsRF6vR6zZs3CsGHDvD6h0MaPGY26ujrYbDao1WqxyyEiCjoDBkVTUxP27NkDlUqFcePG4f7770dr\nayuKiopgtVqxcOFCjB07VohaByVMo8GYMWNw6tQpTJs2TexyiIiCjkdB8eSTT96zffr06QCAU6dO\n+b4qH0tJSUFVVRWDgohoEAYcoxg3bhy2bNnS5/eTJk3yaUH+kJKSApPJJHYZRERByaPB7DfffBMP\nPfQQfvrTn+Ljjz9GbW0tysvL/V2bz0ybNg1VVVVil0FEFJQ8Gszetm0bRo8ejUuXLuHQoUN4++23\nUVBQEDR/+bJFQUQ0eB4FxejRowEASUlJePzxx/H444+jrKzMn3V5bKB5FAAwatQoWCwW3Lx5E9HR\n0QJURUQUeAR/w116evpgd/WpgeZRuGRydF6/igcmTsTRkiJ0NpsFqoyIKLAIvijga6+9hvLycpw4\ncWKwhxBE6+9fxI1f/Bjjmq/g8Cu/hfXbwK6XiCjQeDzh7m6ZmZlIS0tDU1OTL+vxOZflVgtiokqG\nk1euAU6nyBUREQUXj4LC4XBg+/btuHjxIjIzMzF37lx311NMTIxfC/SVyZFafF4f2KFGRBSIPOp6\n2rBhAzQaDZKTk7Ft2zY8//zzsNls/q7Npybqtfi2tR1OtiiIiLziUYtixowZePTRRwEAjz32GJqa\nmvDOO+9g3bp1fi3Ol6JUSuiVCly8cgWxYhdDRBREPGpR3N16iImJQUJCgl8K8qdJei1OnKkVuwwi\noqDiUYvigw8+wGeffYaoqCikp6dj3rx5iIiI8HdtPjdRr0X1mTqxyyAiCioeBcXWrVuRmJgIi8WC\nsrIybNu2Dbt27XJ3R4nJkwl3d0zWa7GvlkFBRKFpsBPuPAqKxMREAEBkZCSWLFmCJUuWYMWKFd5X\n6QdymQwOD387Sa/FO+x6IqIQZTQaYTQaUVBQ4NV+Hrcourq6AACybjOhq6uroVar8YMf/MCrk4ol\nOSIMF6/UoqOjA2FhYWKXQ0QUFDwKiscff9zfdQhCLZdjTNIIVFdXY+bMmWKXQ0QUFDwKiu3bt2Pf\nvn2Qy+VYsGABli9fDq1W6+/a/OKB5GRUVVUxKIiIPOTR47E6nQ7vvvsuHnjgAbS1teHFF19EcXGx\nv2vziweSxwbN8uhERIHAo6CIi4vDhg0b0NDQgNzcXLz//vu4fPmyv2vziynjkvluCiIiL3jU9TRn\nzhzMnDkTeXl5ePPNN9Ha2oply5b5uza/YIuCiMg7AwZFWVkZ0tPToVQqsXz5cixfvrzH9+Xl5UhL\nS/Nbgb42YlgC2tvbce3aNcTHx4tdDhFRwBswKKZMmYIPP/wQHR0duP/++6HX69HW1oYLFy5Ap9Ph\n4YcfFqJOn5HJZEhJSUFVVRUWLVokdjlERAFvwKDQ6/V47rnn4HQ6UVNTA7PZjISEBCxduhRK5aBf\nZyEqBgURkec8/pteLpejqKgIJSUliI2NxSuvvAKDweDP2vwmJSUFR48eFbsMIqKg4NWrUB944AFs\n2bIFr7zyCjZv3uyvmvwuJSUFx48fF7sMIqKg4FXfUV5eHnbu3IkxY8ags7MTdrsdly9fxqhRo/xV\n34C8WRTwjilTpqC6uhpOpxNy+aBfG05EFFT8uijgHStWrMCYMWPgcDhw+PBh/P73v0dZWRn27t3r\n1Ul9yZtFAQHAab4J5eVziNTpcHzvboyZMBH6MeP8Vh8RUaDw66KAd8ybN8/956SkJHz/+9/H1atX\nvTqh2Kz/5z8AAOOdHaj47YsY8Z9vAgwKIqI+DbnfJRjfdAfceYd2h9hlEBEFvJDtoJ+oD0NNS7vY\nZRARBbyQDYrJeh2qLVaxyyAiCnghGxQT9GE4b+1Ee2en2KUQEQW0kA0KtVyOcRFhOHn2vNilEBEF\ntJANCgCYGqnDMb5Dm4ioXyEdFFMidTCdqRO7DCKigBbSQTHVoIOJLQoion6FdFBM1mvx7YWLsNls\nYpdCRBSwQjoodEoFRg4bhurqarFLISIKWCEdFACQMm4sKisrxS6DiChghXxQTBuXjK+//lrsMoiI\nAhaDYtxYVFRUiF0GEVHACvmgmD4uGceOHeOANhFRH0I+KPThOowdOxYmk0nsUoiIAlLIBwUApKen\no6ysTOwyiIgCUsAGRUFBAV599VW89NJLfj9Xeno6Dh8+3GOb2WxGRkaGqG/vIyIKBIIFRUNDA2bN\nmgWdTgen0+nevm7dOmRlZWHt2rU9fp+dnY1f//rXPX7rL3Pnzr2nRbF161aUlZXhT3/6k9/PT0QU\nyAQLitjYWBQWFiI9Pd29rbKyEm1tbSgpKYHNZkNFRQV27tyJHTt2AAA2bdqEp556yu+1TZ48GVev\nXsX169fd23bv3o233noL+/fvh8PhzVu5iYikxat3Zg+FWq2GWq2Gy+VybysrK0NOTg6AWy2I0tJS\nrFmzBgDwwQcf4OjRo5DL5ZgzZ06fx3U6XX1+5wm73Y7GxkZMmTIFX375JYxGI+y2ThQWFuI/Nv4O\nsbExOHDgAMaPHz+k8wxGS0sL6uvrBT+vUKR8fVK+NoDXF2wOHTqE0tJS9+fc3Fyv9hcsKHpjNpuR\nnJwMADAYDD2W0nj++efx/PPPD3gMuVyGofz/vlKpxLDhw5GZmYm6ujo8tsiIXS+vw5gwFWI+ehPT\noyNRV1eHhQsXDuEsg1NfX4/hw4cLfl6hSPn6pHxtAK8v2KxcuRIrV650fy4oKPBqf8EHs2UymfvP\nBoMBFosFAGCxWBAVFSV0OW5paWk4cuQIAOCriq+RbVDDeboaE3Qq1NTUiFYXEZHYBA8Kl8vl7n7K\nyMhwJ1t+fn6P8QvByGRwOByYOXMmysvL4QSQf/k6FifcCq2x0ZE4ffq08HUREQUIwYLCbrcjJycH\nJpMJS5cuRXl5OVJTU6HRaJCVlQWlUonZs2d7fVyna2hjFJ1f/A+uv/8adHn/A4e1DVt+sw4ylxNT\nIrUAGBREJB1FRUXYuHGj1/sJNkahVCp7nZOwadOmIR1XLhvaGIWj9hQctacAAGnhSryweSvWTxjh\n7iIbE23AmTNn4HQ6IZcH7LQTIqIBGY1GGI1Gr8coRB3MDjQ/S06EUibDqlHx7m0RahX0ej0aGhow\nYsQIEasjIhIH/xe5m2mGcLybOhYRSkWP7UlJSbh8+bJIVRERiSvoWxRDHaPwxIgRIxgURBT0ioqK\nUFRUhMzMTK/2C/oWhbzb47b+MmLECFy6dMnv5yEi8iej0TioweygDwohsEVBRKGMQeEBtiiIKJRx\njMIDbFEQkRRwjMKP4uLicO3aNb+fh4jInzhG4Ufx8fEMCiIKWQwKD8TGxqKpqUmQlygREQUaBoUH\nVCoVIiIiYDabxS6FiEhwQR8UQgxmA+x+IqLgN9hFAYM+KIQYzAYYFEQU/DiY7Wd88omIQhWDwgMO\nhwOxsbFobGyE3W7v8d5vIiKpC/oJd/7mqPsWN//zlwivMeH8uZO4Zj4Pw6o10N3HJceJKDQwKAbS\n2QF7xSFENTWiocMGx7FwsSsiIhJU0Hc9CfXUU4xaiSabXZBzERH5A5968rMEjQrXOrsEORcRkT/w\nqSc/i9coGRREFJIYFB6K06hwjV1PRBSCGBQeilErYemyo2uA9Z5sNhtWrVqF6upqgSojIvIvBoWH\nFDIZotVK3Big+6msrAybN2/G22+/LVBlRET+xaDwQoJGhWvtnf3+pqioCA8//DDy8vI4MY+IJCHo\ng0Kox2MBIF6jQmO7DZaWFtjtvY9XFBcXY/Xq1XA4HKitrRWsNiKigfDxWAGM1mlwxtKGKekZePrp\np+/5vrOzE4cPH8aCBQuQnZ2Nr776Ck6nky0LIgoIfDxWABP0Wrxy7Axio2OwZ88ed6vi7NmziI2N\nxTPPPIOUlBSg4SLm6hTY/dcPceO//x/Mx78RuXIiosFjUHhhcYIBSbowfPTnd5CYmOh+smnbtm2Y\nPXs29uzZg9WrV8NlMSPt26PY/80xtP33f8HZeFnkyomIBo9B4YXEMDVKl89H6rRpSE1NxTff3Gop\nHDx4EM899xzMZjOeffZZ928TNCpUmttErJiIaOgYFIM0Y8YMfPPNN3C5XDhQUoIpYXKYy0pws7QY\n9gtnAQA/TIrDR+euilwpEdHQcPXYQZoxYwZeffVV1NTUIFyjRuR/vYrWu37zxMg4vLOvAaVVJ9B4\nvhE/+clPIBNw8J2IyBcYFIOUmpqKr7/+Gvv378ecByYBuLeLKUKpwJMj4/HIul8DAKZOnYq5c+cK\nXCkR0dAwKAYpPj4e8fHxeO+99/DkgrlAbXmvv1uTnIjMn6zGkRstyM/PZ1AQUdAJ+jEKISfc3W3J\nkiWorKxE9uyZff4mXKnA4jmzMX36dK7/RESiGuyEu6BvUchlMjgEPJ+rvQ3Wr0vRrlBirTEdDw6P\nR+KlMxhoXdlJkybhrbfeEqRGIqLeGI1GGI1GFBQUeLVf0AeF4Lq60P7nVwEAGgBzgQFDAgAmTpyI\nmpoauFwuDmgTUVAJ+q6n4CBDmFyGMI0Gl87WobOlhct6EFHQYFAIoP3DP+H6r/4NSUqg8herYdmX\nh87OTsybN889aY+IKFAxKATgspjhPF+LkQoXztfVAc1mFBQUoLS0FNu3bxe7PCKifjEoBDRSp8GF\n2++zMJlMGD9+PCoqKkSuioiofwwKAY3UaXDBeisojh8/jkcffRRnz54VuSoiov4xKAQ0Uqt2B8WJ\nEyewbNkyXLhwgQPbRBTQGBQCutOisDscqKmpwZw5cxAWFoYbN26IXRoRUZ8YFAK6L0yN6zY7Tjdc\nQWJiIsLDwzFy5EhcuHDBq+NcvXoVV65c8VOVREQ9MSgEpJTLcF+YGoWmE5g0aRIAYNSoUTh37pzH\nx3A4HJg8eTIyMzP9VCURUU8MCoGN1KnxVWUVJk+eDAAYPXq0V0Gxf/9+jBw5Emaz2euWCBHRYAR9\nUIi5KOBgTNJrUVpzGhkZGQCAMWPGePXkU1lZGbKzszFnzhxUVlb6q0wikqDBLgoY9EEhD7J1kx5P\nikP6xHFYsmQJgO+C4s9//jOuXbsGl8vl/qc3x44dw7Rp0zB+/HicPn1ayNKJKMgZjcbQXD022EzU\na/Gvf/s59Ho9ACA5ORm7du3Crl27UFtcgF8/+QPI1BqEp83vdX+TyYRf/epXaGlpQVVVlZClE1GI\nYlCIwP7tcZgPFAAuF4Y5HIiMCMeiuEiU5n+FjtbzkEXHQpeafs9+LpcL586dQ3JyMhobG/H555+L\nUD0RhRoGhQjsX5fC/nWp+/PxrEkwd9mRUdiII02teOrLSpz+7U3IDVE99jObzVCpVNDr9Rg1ahTO\nnz8vdOlEFIKCfoxCKqJUSgzXqvHvx8+jw+FEycFD9/zm0qVLSEpKAgAMM0Ti4sWLaLtSj/arV9Bx\ns0nokokoRDAoAsjs6Ah829qBlWOH43RtbY/vWs7VoubQfiRGG9B8sgrOUyboXA7U/K+ncX39j/Gn\n373MFgYR+QW7ngLIi+Puw6J4A67IVThfX9/jO9upKtS+878Rb26D5Rc/BgCM0Khwqb4eF1wu/Hvp\nHtRYrPjrX/8qQuVEJGUMigAyXKvGcK0ae9scOHD58j3fX+noQmKY2v05SavGpfZO1LfbsGxeOnbv\n3s1XrRKRz7HrKQDFh2lw7fr1e7Zf6+xCvEbl/jxCq8bldhuqLe1YljEXcrmc3U9E5HMMigAUpVbC\n3Nx8z/amLjui1d81Ar8LCiumJI/BzJkzcezYMSFLJaIQwKAIQFEaFW6azfdsN9vsiOkWFElaDera\nOnDO2olJo0chOTl5SC9CKigowN/+9rdB709E0sSgCECRKhWaLRY4nc4e25tsdsSoerYo9l9vwSid\nBmFqNcaOHYu6urpBn3fNmjV49tlnB70/EUkTgyIAKeQy6CMiYLFYemxv6rIjSq1wf07S3hrYTo0K\nB+D9AoN36+rqAgC+cY+IemBQBKgogwHmbt1PLpcLZpsD0d1aFAaVAveFqbAsMRoAkJiYiMbGxkGf\n886b9u4OKCIKbXw8NkBFGQxo7jag3WK1QqOQQaP4LttlMhkOL5rm/jxs2LBBB0VnZyfa2towfvx4\nNDQ0wGAwDL54IpIUtigClD4iAm1tbe7PN5otPVoTvUlISMDVq1cH1XVkNpsRFRWFYcOG4erVq17v\nT0TSxaAIUOHh4T2CosnS0uPR2N7odDoolUq0tLR4fb7m5mYYDAYY7mrJEBExKAJUuE4Hq9Xq/txk\naenxaGxfEhISenQ/LViwAJ988smA+91pURjuGhshIgrYoDhy5AjeeOMNvPTSS2KXIorwcB1MJpP7\n883WFhiUin72uCUuLs49KO1wOHDw4EHs2bNnwP3EaFEcOnTvCrlSIeVrA3h9oUawoGhoaMCsWbOg\n0+l6zA9Yt24dsrKysHbt2h6/nzNnDgAgLCxMqBIDSkR4OE6dOuX+3GrtQIQHQREbG+sOijtjDVeu\nXBlwv+bmZneLQqigKC0tHfhHQUrK1wbw+kKNYEERGxuLwsJCpKd/9+a2yspKtLW1oaSkBDabDRUV\nFdi5cyd27NgBAFi/fj1UKlVfh5S0cF24e14DALRarYhQeRYU12+vE1VfXw+ZTIbLvSwweDez2cwx\nCiLqlWCPx6rVaqjV6h5P5JSVlSEnJwcAkJ2djdLSUqxZswYA8Nlnn6G2thYKxcB/OUpRRHg4bDab\n+3OL1YoID/5ddO96qq+vR1paGk6fPj3gfne6nqKiooY0aY+IpEfmEnga7oMPPoiCggLI5XL88Y9/\nxKxZs7BkyRIUFBSgtLQUL7/8ssfHKigo8GOlRETSlZ2d7fFvBZ9w1/1dCQaDwT0L2GKxICoqqq/d\neuXNhRIR0eAI/tSTy+Vydz9lZGS4WwX5+fk9xi+IiCgwCBYUdrsdOTk5MJlMWLp0KcrLy5GamgqN\nRoOsrCwolUrMnj1bqHKIiMhDgo9REBFRcAnYCXcD6Wv+hRScP38eiYmJWLRoEZYuXSp2OT7R2zya\n119/HZmZmXj66afhcDhErnBoeru+qKgoLFq0CIsWLQr62e5HjhzB/PnzkZWVhfXr1wMAXnvtNUnc\nv96uTUr37sSJE5g/fz4WLlyIF154AYD39y4og6L7/IvOzk5UVFSIXZLPLVmyBIWFhR7Nqg4Gd8+j\nuXbtGoqKirB//35MmzYNn3/+ucgVDk1v84RSUlJQWFiIwsJCrx/UCDSjR4/Gvn37UFJSgqtXr6Kk\npATFxcWSuH93X9vx48cxbdo0ydy7SZMm4eDBgyguLkZnZyfKy8u9vndBGRTd518sXrxYkrMoCwsL\nsXDhQmzatEnsUnxCrVb3WLr86NGjMBqNAL6bQxPM7lxf957ckydPYuHChfjNb34jYmW+kZCQALX6\n1ouylEolqqurJXP/7r42hUKB6upqydy77nPRrFbroP7bC8qgMJvNiIyMBABJLmI3fPhwnD59Gvv2\n7UNBQQGOHz8udkk+J9V72P3x7zNnzqC4uBhmsxk7d+4UsSrfMZlMuH79OqKioiR3/+5c2+TJkyV3\n77744gukpKQgLCwM0dHRXt+7oAyKoc6/CHQqlQparRZyuRwPPfSQJINC6vcQgPuaVqxYIYl7ePPm\nTfz85z/HX/7yF0RGRkrq/nW/NkB69+6RRx5BVVUV9Ho9dDqde5keT+9dUAaF1OdftLa2uv988OBB\nJCcni1iNb93pmklLS0NxcTEAad3DO/OErFare1BbCvfQ4XDgqaeewuuvv474+HhJ3b+7r01q9677\nUkCRkZEwm80oKSkB4Pm9C8qgkPr8i/3792P27NlYsGABkpKSkJaWJnZJQ9Z9Hs33vvc9nDt3DllZ\nWcjMzMTNhtIPAAADgUlEQVSxY8fw6KOPil3ikNw9T+j48eNIS0uD0WjEpUuXsHLlSrFLHJJt27bh\n6NGj+OUvf4lFixahrq5OMvfv7mszmUySund79uyB0Wh0X89TTz2FzMxMr+4d51EQEVG/grJFQURE\nwmFQEBFRvxgURETULwYFERH1i0FBRET9YlAQEVG/GBRERNQvBgUREfWLQUEhrbi4GBs2bOj1u/Pn\nz2Pfvn197jthwgRs3brVp+ckCkQMCgp53Vd87e7cuXMoLCzs9TuTyYQHH3wQX3zxhU/P2ZcjR44g\nLy8P27dvH9T5iIaCQUF02wsvvIDFixfjkUcegdlsxgcffICPP/7Y/e6T7j799FOsXr0aHR0d6Orq\nQnFxMXJzc7F8+XJkZmbCarXCZrNhxYoVyM3NxRNPPIHNmzf3e847K3rezW6344svvkBubm6/LRwi\nf2FQEAHYuXMnRo0ahfz8fPzsZz/D+++/j9WrV+OZZ57B3r177/l9ZWUlZs6ciSVLlri/12g0+Ne/\n/oXc3Fzk5+fj888/x/z585GXl4fo6OgBz/nee+/1WlteXh5kMhnee+89yOX8T5aEpxS7ACKxuVwu\nnDx5Elu2bMGXX34Ju92OjIwM9LVeZm1tLaqqqpCbm4vOzk5MmDABP/zhDzF16lQAt148ZTab0dDQ\ngOnTpwMAZsyY4dE5e3PgwAGsW7cOeXl5WLBggQ+vnMgzDAoKeTKZDJMmTcKqVauwdu1aALfeUXD4\n8GHY7fZ7fv/pp5/iww8/xIMPPgjg1sttnE7nPeMOY8eOdS87bjKZMGfOnB7f93ZOh8OBGzduICEh\nwf271tZWJCQkoKysDG+99ZZPr53IE2zHUkhzuVxQKBR45JFHcPbsWWRnZ2Px4sXYvXs3pk6dioMH\nD+KJJ57osU9eXh7mzZvn/jxlyhQcOHDgnmOvWLECBw8exLJly9DY2AiVSuX+TiaT9XrOc+fO4eWX\nX+5xnGXLluGTTz7Bj370I2i1Wh//GyAaGN9HQSHt73//O9ra2rB69Wq/HN/hcEChUOCFF17AqlWr\nMHfu3H5//+mnnyImJgZGo9Ev9RANBoOCQtbWrVvx7rvv4p///Cfi4uL8co6lS5eitbUV48ePx0cf\nfeSXcxD5G4OCiIj6xTEKIiLqF4OCiIj6xaAgIqJ+MSiIiKhfDAoiIuoXg4KIiPrFoCAion79fy1F\nMG9xgs+FAAAAAElFTkSuQmCC\n",
      "text/plain": [
       "<matplotlib.figure.Figure at 0x7f05f72b6fd0>"
      ]
     },
     "metadata": {},
     "output_type": "display_data"
    }
   ],
=======
   "outputs": [],
>>>>>>> fd9f5a72d776026a12047bec0b8410a6293515b6
   "source": [
    "#posterior = BeamingAnglePosterior(o1scenario, efficiency_prior=JeffreyDistribution(), grb_rate=3/u.gigaparsec**3 / u.year)\n",
    "#chain = posterior.sample_theta_posterior(nburnin=1000, nsamp=2000)\n",
    "\n",
    "plt.figure()\n",
    "theta_bw = 1.06*np.std(posterior.theta_samples)*len(posterior.theta_samples)**(-0.2)\n",
    "posterior.get_theta_pdf_kde(theta_bw)\n",
    "theta_bin_size = 3.5*np.std(posterior.theta_samples) \\\n",
    "        / len(posterior.theta_samples)**(1./3)\n",
    "theta_bins = np.arange(posterior.theta_range.min(), posterior.theta_range.max(),\n",
    "        theta_bin_size)\n",
    "plt.plot(posterior.theta_grid,posterior.theta_pdf_kde, \\\n",
    "        color='k')\n",
    "plt.hist(posterior.theta_samples, bins=100, normed=True, log=True, histtype='stepfilled',\n",
    "        )\n",
    "#plt.axvline(np.percentile(posterior.theta_samples, 99.), linestyle='--')\n",
    "plt.ylim([1e-3, 1])\n",
    "plt.xlim([0,30])\n",
    "plt.xlabel(r'Jet Angle, $\\theta$')\n",
    "plt.ylabel(r'$p(\\theta | D,I)$')"
   ]
<<<<<<< HEAD
=======
  },
  {
   "cell_type": "code",
   "execution_count": null,
   "metadata": {
    "collapsed": false
   },
   "outputs": [],
   "source": [
    "np.percentile(posterior.theta_samples, 95.0)"
   ]
  },
  {
   "cell_type": "code",
   "execution_count": null,
   "metadata": {
    "collapsed": false
   },
   "outputs": [],
   "source": [
    "\n",
    "plt.plot(o1scenario.bns_prior.rates.to(u.megaparsec**(-3)/u.megayear), np.exp(o1scenario.bns_prior.pdf_data))\n",
    "plt.xlabel(r'BNS Coalescence Rate, $R$, ${\\rm [Mpc^{-3} Myr^{-1}]}$')"
   ]
  },
  {
   "cell_type": "code",
   "execution_count": null,
   "metadata": {
    "collapsed": true
   },
   "outputs": [],
   "source": [
    "?np.percentile"
   ]
  },
  {
   "cell_type": "code",
   "execution_count": null,
   "metadata": {
    "collapsed": false
   },
   "outputs": [],
   "source": [
    "np.percentile(posterior.theta_samples, 99.99)"
   ]
  },
  {
   "cell_type": "code",
   "execution_count": null,
   "metadata": {
    "collapsed": false
   },
   "outputs": [],
   "source": [
    "posterior.theta_samples"
   ]
  },
  {
   "cell_type": "code",
   "execution_count": null,
   "metadata": {
    "collapsed": true
   },
   "outputs": [],
   "source": []
  },
  {
   "cell_type": "code",
   "execution_count": null,
   "metadata": {
    "collapsed": true
   },
   "outputs": [],
   "source": []
  },
  {
   "cell_type": "code",
   "execution_count": null,
   "metadata": {
    "collapsed": true
   },
   "outputs": [],
   "source": []
>>>>>>> fd9f5a72d776026a12047bec0b8410a6293515b6
  }
 ],
 "metadata": {
  "kernelspec": {
   "display_name": "Python 2",
   "language": "python",
   "name": "python2"
  },
  "language_info": {
   "codemirror_mode": {
    "name": "ipython",
    "version": 2
   },
   "file_extension": ".py",
   "mimetype": "text/x-python",
   "name": "python",
   "nbconvert_exporter": "python",
   "pygments_lexer": "ipython2",
   "version": "2.7.6"
  },
  "latex_envs": {
   "bibliofile": "biblio.bib",
   "cite_by": "apalike",
   "current_citInitial": 1,
   "eqLabelWithNumbers": true,
   "eqNumInitial": 0
  }
 },
 "nbformat": 4,
 "nbformat_minor": 0
}
