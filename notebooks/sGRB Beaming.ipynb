{
 "cells": [
  {
   "cell_type": "code",
   "execution_count": null,
   "metadata": {
    "collapsed": true
   },
   "outputs": [],
   "source": [
    "import astropy.units as u\n",
    "import astropy.constants as c"
   ]
  },
  {
   "cell_type": "code",
   "execution_count": null,
   "metadata": {
    "collapsed": false
   },
   "outputs": [],
   "source": [
    "import matplotlib.pyplot as plt\n",
    "%matplotlib inline\n",
    "plt.style.use('/home/daniel/repositories/burst-style/burst.mplstyle')"
   ]
  },
  {
   "cell_type": "markdown",
   "metadata": {},
   "source": [
    "It is widely believed that short Gamma-ray bursts (sGRB) are produced by compact binary coalescence (CBCs), and observations suggest that the coalescing systems likely to produce them are binary neutron star systems (BNS systems), or neutron star-black hole binaries (NSBH systems). At the full design sensitivity of advanced LIGO these may be visible to a distance of 400 Mpc for NSNS and 1 Gpc for NSBH."
   ]
  },
  {
   "cell_type": "markdown",
   "metadata": {},
   "source": [
    "Given this link between sGRBs and CBC events, it is interesting to ask if the beaming angle of the radiation from the GRB can be inferred from gravitational wave (GW) observations."
   ]
  },
  {
   "cell_type": "markdown",
   "metadata": {},
   "source": [
    "If the sGRB population has a distribution of beaming angles then the observed rate is related to the BNS coalescence rate, $\\mathcal{R}$, by \n",
    "\\\\[ \\mathcal{R}_{\\text{GRB}} = \\epsilon \\mathcal{R} \\langle 1 - \\cos(\\theta) \\rangle \\\\]\n",
    "\n",
    "\n",
    "| Symbol | Name | Note |\n",
    "| ------ | ---- | ---- |\n",
    "| $\\epsilon$ | efficiency | the probability that the BNS produces a GRB |\n",
    "| $\\mathcal{R}_{\\text{GRB}}$ | GRB rate | the observed rate of GRBs |\n",
    "| $\\mathcal{R}$ | BNS merger rate | the observed rate of BNS CBCs |\n",
    "| $\\theta$ | beaming angle | the angle which radiation is beamed from the GRB |\n"
   ]
  },
  {
   "cell_type": "markdown",
   "metadata": {},
   "source": [
    "EM observations suggest that beaming angles have a distribution, so the raltive rates of sGRBs and CBCs should provide the mean of that population, $\\langle \\theta \\rangle$."
   ]
  },
  {
   "cell_type": "code",
   "execution_count": null,
   "metadata": {
    "collapsed": true
   },
   "outputs": [],
   "source": [
    "@u.quantity_input(bns_rate=1/u.year, theta=u.degree)\n",
    "def rate_grb(efficiency, theta, bns_rate):\n",
    "    \"\"\"\n",
    "    Calculate the rate of gamma ray bursts from the rate of BNS coalescence.\n",
    "    \n",
    "    efficiency : float\n",
    "        The efficiency of GRB production.\n",
    "    theta : float\n",
    "        The beaming angle\n",
    "    bns_rate : The rate of BNS mergers\n",
    "    \n",
    "    \"\"\"\n",
    "    return efficiency * bns_rate * (1- np.cos(theta))\n",
    "\n",
    "@u.quantity_input(grb_rate=1/u.year, theta=u.degree)\n",
    "def rate_cbc(efficiency, theta, grb_rate):\n",
    "    \"\"\"\n",
    "    Calculate the rate of CBCs from the GRB rate.\n",
    "    \"\"\"\n",
    "    return grb_rate / (efficiency*(1.0 - np.cos(theta)))"
   ]
  },
  {
   "cell_type": "markdown",
   "metadata": {},
   "source": [
    "## The sGRB population mean\n",
    "\n",
    "Here we show the impact of BNS mergers on sGRBs, with the following proceedure:\n",
    "\n",
    "* We set the number of observed GRBs to zero: $N_{\\text{GRB}} = 0$"
   ]
  },
  {
   "cell_type": "code",
   "execution_count": null,
   "metadata": {
    "collapsed": true
   },
   "outputs": [],
   "source": [
    "Ngrb = 0"
   ]
  },
  {
   "cell_type": "markdown",
   "metadata": {},
   "source": [
    "* We draw $N_{\\text{BNS}}$ values for orbital inclination, $\\iota$ from a distribution uniform in $\\cos(\\iota)$ over the range $[0,1]$."
   ]
  },
  {
   "cell_type": "code",
   "execution_count": null,
   "metadata": {
    "collapsed": false
   },
   "outputs": [],
   "source": [
    "import numpy as np\n",
    "Nbns = 1e5 \n",
    "iotas = np.arccos( 0 + 1*np.random.rand(Nbns) )\n",
    "# to degrees\n",
    "iotas *= 180/np.pi"
   ]
  },
  {
   "cell_type": "markdown",
   "metadata": {},
   "source": [
    "* For each $\\iota$ draw a $\\theta$ from a distribution over $(0,90]^\\circ$\n",
    "* Iff $\\iota < \\theta$ the event is observable: increment $N_{\\text{GRB}}$"
   ]
  },
  {
   "cell_type": "code",
   "execution_count": null,
   "metadata": {
    "collapsed": true
   },
   "outputs": [],
   "source": [
    "theta_mu=np.arange(5,35,5)\n",
    "theta_sigma=np.arange(1,16)\n",
    "theta_low=0.01\n",
    "theta_upp=90"
   ]
  },
  {
   "cell_type": "code",
   "execution_count": null,
   "metadata": {
    "collapsed": true
   },
   "outputs": [],
   "source": [
    "def truncparms(low,upp,mu,sigma):\n",
    "    a = (low - mu) / sigma\n",
    "    b = (upp - mu) / sigma\n",
    "    return a, b"
   ]
  },
  {
   "cell_type": "markdown",
   "metadata": {},
   "source": [
    "In order to calculate the efficiency we take \n",
    "\n",
    "\\\\[ \\epsilon = \\frac{ N_{\\text{GRB}} + 1 }{N_{\\text{BNS}} + 2 } \\\\]\n"
   ]
  },
  {
   "cell_type": "code",
   "execution_count": null,
   "metadata": {
    "collapsed": true
   },
   "outputs": [],
   "source": [
    "def compute_efficiency(k,N,b=True):\n",
    "\n",
    "    if b:\n",
    "        # Bayesian treatment\n",
    "        epsilon=(k+1)/(N+2)\n",
    "        stdev_epsilon=1.64*np.sqrt(epsilon*(1-epsilon)/(N+3))\n",
    "    else:\n",
    "        # Binomial treatment\n",
    "        if N==0:\n",
    "            epsilon=0.0\n",
    "            stdev_epsilon=0.0\n",
    "        else:\n",
    "            epsilon=k/N\n",
    "            stdev_epsilon=1.64*np.sqrt(epsilon*(1-epsilon)/N)\n",
    "    return (epsilon,stdev_epsilon)"
   ]
  },
  {
   "cell_type": "markdown",
   "metadata": {},
   "source": [
    "We'll draw all of the beaming angles from a truncated normal distribution, and we'll run the simulation for a variety of differently shaped distribution."
   ]
  },
  {
   "cell_type": "code",
   "execution_count": null,
   "metadata": {
    "collapsed": false
   },
   "outputs": [],
   "source": [
    "import scipy.stats as stats\n",
    "\n",
    "FracGRB=np.zeros((len(theta_mu),len(theta_sigma)))\n",
    "deltaFracGRB=np.zeros((len(theta_mu),len(theta_sigma)))\n",
    "\n",
    "for m,mu, in enumerate(theta_mu):\n",
    "    for s,sigma in enumerate(theta_sigma):\n",
    "        a, b = truncparms(theta_low, theta_upp, mu, sigma)\n",
    "        thetas = stats.truncnorm.rvs(a, b, loc=mu, scale=sigma, size=Nbns)\n",
    "        # Count GRBs\n",
    "        Ngrbs=sum(iotas <= thetas)\n",
    "        \n",
    "        FracGRB[m,s], deltaFracGRB[m,s] = compute_efficiency(Ngrbs,Nbns)"
   ]
  },
  {
   "cell_type": "markdown",
   "metadata": {},
   "source": [
    "A population of sGRB beaming angles with a large mean but a narrow width is indistinguishable from the converse, as can be seen in the plot below, where $\\mathcal{N}(15,8)$ and $\\mathcal{N}(10,12)$ both give the same number ratio (see the light grey line)."
   ]
  },
  {
   "cell_type": "code",
   "execution_count": null,
   "metadata": {
    "collapsed": false
   },
   "outputs": [],
   "source": [
    "linestyles=['-', '-', '-']\n",
    "markers=['s', '^', 'o']\n",
    "\n",
    "f, ax = plt.subplots(1,1)\n",
    "\n",
    "ax.hlines(FracGRB[1,11]*100,0,16, lw=1, color='gray', alpha=0.5)\n",
    "for i in range(len(theta_mu)):\n",
    "    ax.plot(theta_sigma, FracGRB[i]*100, #deltaFracGRB[i]*100, \n",
    "                 linestyle=linestyles[i%3], lw=2,# c='k',\n",
    "                 #marker=markers[i%3], markeredgecolor='white', \n",
    "                #label=r\"$\\langle \\theta \\rangle = {}$\".format(theta_mu[i])\n",
    "                )\n",
    "    ax.annotate(\"{}\".format(theta_mu[i]), (15.1, .1+FracGRB[i][-1]*100))\n",
    "ax.set_ylim(0,18.5)\n",
    "ax.annotate(r\"$\\langle \\theta \\rangle$\", (15, 17.6))\n",
    "ax.set_ylabel(r\"$N_{\\rm{GRB}} / N_{\\rm{BNS}}$ [%]\")\n",
    "ax.set_xlabel(r\"$\\sigma_{\\theta}$ [degree]\")\n",
    "plt.tight_layout()\n",
    "plt.savefig('color_relativenumber.pdf')\n",
    "\n",
    "txt = \"\"\"Expected relative numbers of observed GRBs and binary coalescences for different \n",
    "distributions on the GRB beaming angle. Lines in the figure correspond to jet angle\n",
    "population means, while the x-axis shows the width of the distribution. All distributions are \n",
    "Gaussian, truncated at (0, 90] degrees.\"\"\"\n",
    "f.text(.1,-.15,txt)"
   ]
  },
  {
   "cell_type": "markdown",
   "metadata": {},
   "source": [
    "This has the effect of a wide distribution of beaming angles producing an under-estimate of the beaming angle, so population-based constraints must be regarded as upper-bounds."
   ]
  },
  {
   "cell_type": "markdown",
   "metadata": {},
   "source": [
    "## Rates to Beaming Angle"
   ]
  },
  {
   "cell_type": "markdown",
   "metadata": {},
   "source": [
    "The general method to move from a rate to a beaming angle is"
   ]
  },
  {
   "cell_type": "markdown",
   "metadata": {},
   "source": [
    "### Estimate the posterior distribution on the BNS merger rate from observed GW signals"
   ]
  },
  {
   "cell_type": "markdown",
   "metadata": {},
   "source": [
    "Gravitational wave detectors identify discrete 'events' which are characterised by their *network signal-to-noise ratios*, $\\rho_{\\mathrm{c}}$\n",
    "\n",
    "We begin by constructing the posterior on the signal rate; the measured rate, $r$ of events has two components, the signal rate, $s$, and the background rate, $b$:\n",
    "\n",
    "\\\\[ r = s+b\\\\]\n",
    "\n",
    "Typically a threshold of $\\rho \\ge 12$ is applied to analysis, placing $b = 10^{-2}$ per year, so only the signal rate needs to be inferred.\n",
    "\n",
    "Taking a uniform prior on $s$, and assuming the events are generated by a Poisson process, it can be shown that the rate posterior depends only on the number of detected signals, $n$, the observation time, $T$, the background rate, $b$, and the horizon distance, $\\mathcal{D}$ (the maximum distance at from which a detection can be made).\n",
    "\n",
    "The posterior will then be\n",
    "\n",
    "\\\\[\n",
    "   p(s|n,b,I) = C \\frac{T[(s+b) T]^n e^{-(s+b)T}}{n!} \n",
    "\\\\]\n",
    "\n",
    "for\n",
    "\\begin{align*}\n",
    "    C^{-1} &= \\frac{e^{-bT}}{n!} \\int_0^\\infty {\\rm d}(sT)(s+b)^n T^n e^{-sT} \\\\\n",
    "           &= \\sum_{i=0}^n \\frac{ (bT)^i e^{-bT} }{i!} \n",
    "\\end{align*}"
   ]
  },
  {
   "cell_type": "code",
   "execution_count": null,
   "metadata": {
    "collapsed": false
   },
   "outputs": [],
   "source": [
    "@u.quantity_input(s=1/u.year, \n",
    "                  b=1/u.year,\n",
    "                  T=1*u.year)\n",
    "def signal_posterior(s, b, n, T):\n",
    "    \"\"\"\n",
    "    The event rate posterior assuming that a Poisson process underlies \n",
    "    the production of gravitational wave events.\n",
    "    \n",
    "    s : float\n",
    "        The event rate\n",
    "    n : float\n",
    "        The number of events observed over the timespan of the observing run\n",
    "    b : float\n",
    "        The background rate of events\n",
    "    T : float\n",
    "        The total time of the observing run\n",
    "    \"\"\"\n",
    "    # Calculate the inverse of C\n",
    "    C_inv = np.sum([ (b*T)**i * np.exp(-b*T) / np.math.factorial(i) \n",
    "                    for i in xrange(n) ])\n",
    "    # Then invert it\n",
    "    C = 1. / C_inv\n",
    "    # Calculate the posterior piece-wise\n",
    "    p1 = T * ((s+b)*T)**n * np.exp( - (s+b) * T)\n",
    "    p2 = np.math.factorial(n)\n",
    "    return C * p1 / p2"
   ]
  },
  {
   "cell_type": "markdown",
   "metadata": {},
   "source": [
    "Let's have a quick look at a plot of this."
   ]
  },
  {
   "cell_type": "code",
   "execution_count": null,
   "metadata": {
    "collapsed": false
   },
   "outputs": [],
   "source": [
    "s = np.linspace(0,10, 11)/u.year\n",
    "b = 10 / u.year #np.linspace(0,10, 11)/u.year\n",
    "T = 1 * u.year\n",
    "plt.plot(s, signal_posterior(s, b, 10, T))"
   ]
  },
  {
   "cell_type": "markdown",
   "metadata": {},
   "source": [
    "We'll want to express the rate in terms of the number of mergers per *milky-way equivalent galaxy*, or MWEG. We can approximate the number of MWEGS inside the sensitivity range of the detectors as\n",
    "\\\\[\n",
    "    N_{\\mathrm{G}} = \\frac{4}{3} \\pi \\left( \\frac{\\mathcal{D}}{\\mathrm{Mpc}} \\right)^3 \n",
    "    (2.26)^{-3}\n",
    "    (0.0116)\n",
    "\\\\]"
   ]
  },
  {
   "cell_type": "code",
   "execution_count": null,
   "metadata": {
    "collapsed": false
   },
   "outputs": [],
   "source": [
    "@u.quantity_input(horizon=u.megaparsec)\n",
    "def n_mweg(horizon):\n",
    "    mweg1 = (4. / 3. ) * np.pi \n",
    "    mweg2 = (horizon / 1/u.megaparsec)**3\n",
    "    mweg3 = (2.26)**(-3) * 0.0116\n",
    "    return mweg1 * mweg2 * mweg3"
   ]
  },
  {
   "cell_type": "markdown",
   "metadata": {},
   "source": [
    "This let's us reach the posterior on the binary coalescence rate:\n",
    "\\begin{align*}\n",
    "    p(\\mathcal{R} | s,n,T,b,\\mathcal{D}) &= p(s|n,T,b) \\left| \\frac{\\mathrm{d}s}{\\mathrm{d}\\mathcal{R}} \\right| \\\\\n",
    "                                       &= N_{\\mathrm{G}} \\mathcal{D} \\ p(s |n,T,b)\n",
    "\\end{align*}"
   ]
  },
  {
   "cell_type": "code",
   "execution_count": null,
   "metadata": {
    "collapsed": true
   },
   "outputs": [],
   "source": [
    "@u.quantity_input(s=1/u.year, \n",
    "                  b=1/u.year,\n",
    "                  T=1*u.year, \n",
    "                  horizon=u.megaparsec)\n",
    "def rate_posterior(s, b, n, T, horizon):\n",
    "    \"\"\"\n",
    "    \n",
    "    \"\"\"\n",
    "    nmweg = n_mweg(horizon)\n",
    "    post = signal_posterior(s,b,n, T)\n",
    "    return nmweg * post"
   ]
  },
  {
   "cell_type": "code",
   "execution_count": null,
   "metadata": {
    "collapsed": false
   },
   "outputs": [],
   "source": [
    "s = np.linspace(0,10, 11)/u.year\n",
    "b = 10 / u.year #np.linspace(0,10, 11)/u.year\n",
    "T = 1 * u.year\n",
    "horizon = 100*u.megaparsec\n",
    "plt.plot(s, rate_posterior(s, b, 10, T, horizon))"
   ]
  },
  {
   "cell_type": "markdown",
   "metadata": {},
   "source": [
    "These quantities define our *detection scenarios*.\n",
    "\n",
    "\n",
    "| Scenario name | $T$ | $\\mathcal{D}$ | $V$    | $\\mathcal{R}$ | $n$ |\n",
    "| ------------- | --- | ------------- | ------ | ------------- | --- |\n",
    "| 2016          | 0.5 | 80 - 120      | 1.05e6 | 1e-6          | 1.3 |\n",
    "| 2022+         | 1.0 | 200           | 4.00e7 | 1e-6          | 40  |"
   ]
  },
  {
   "cell_type": "markdown",
   "metadata": {},
   "source": [
    "### Transform from the rate posterior to an angle posterior"
   ]
  },
  {
   "cell_type": "markdown",
   "metadata": {},
   "source": [
    "Inferences of the GRB beaming angle are made from the posterior on the beaming angle, so we need to convert a posterior on the rate prior into a posterior on the angle. To do this we use a Jacobian.\n",
    "\n",
    "\\\\[ p(\\theta, \\epsilon) = p(\\mathcal{R}, \\epsilon) \\left|\\left| \\frac{ \\partial(\\mathcal{R},\\epsilon) }{ \\partial (\\theta, \\epsilon) } \\right|\\right| \\\\]\n",
    "\n",
    "We assume that the beaming angle and the rate are probabilistically independent, so\n",
    "\n",
    "\\\\[ p(\\theta) = \\frac{2 \\mathcal{R}_{\\rm GRB}  \\sin \\theta \\ p(\\mathcal{R})  }{( \\cos \\theta - 1)^2 } \\int \\frac{p(\\epsilon) {\\rm d} \\epsilon }{\\epsilon}  \\\\]"
   ]
  },
  {
   "cell_type": "code",
   "execution_count": null,
   "metadata": {
    "collapsed": true
   },
   "outputs": [],
   "source": [
    "def jacobian(efficiency, theta, grb_rate):\n",
    "    denom=efficiency*(np.cos(theta * np.pi/180)-1)\n",
    "    return abs(2.0*grb_rate * np.sin(theta * np.pi / 180.0) /\n",
    "                (denom*denom) )"
   ]
  },
  {
   "cell_type": "markdown",
   "metadata": {
    "collapsed": true
   },
   "source": [
    "So for a given efficiency, $\\epsilon$ and beaming angle $\\theta$ the CBC rate needs to be found, then the rate posterior for this calculated, and finally rotated using the Jacobian."
   ]
  },
  {
   "cell_type": "code",
   "execution_count": null,
   "metadata": {
    "collapsed": false
   },
   "outputs": [],
   "source": [
    "from grbeams.distributions import UniformDistribution"
   ]
  },
  {
   "cell_type": "code",
   "execution_count": null,
   "metadata": {
    "collapsed": true
   },
   "outputs": [],
   "source": [
    "def p_theta(theta, efficiency, grb_rate, theta_range=(0*u.degree,90*u.degree)):\n",
    "    if (theta>=min(theta_range)) and (theta<max(theta_range)):\n",
    "        bns_rate = rate_cbc(efficiency, theta, grb_rate)\n",
    "        j = jacobian(efficiency, theta, grb_rate).value\n",
    "        p_efficiency = UniformDistribution(range=(0,1.0))\n",
    "        return bns_rate.value + np.log(j) + np.log(p_efficiency.pdf(efficiency))\n",
    "    else:\n",
    "        return -np.inf"
   ]
  },
  {
   "cell_type": "markdown",
   "metadata": {},
   "source": [
    "We can sample from the beaming angle posterior using MCMC; we sample points from the $p(\\theta, \\epsilon)$ distribution, and then perform kernel-density estimation. The mode of the KDE is the MAP estimate, with the lower and upper bounds found from the 95% confidence intervals."
   ]
  },
  {
   "cell_type": "markdown",
   "metadata": {},
   "source": [
    "## A Rate posterior using the upper limit in the NSBH paper draft"
   ]
  },
  {
   "cell_type": "code",
   "execution_count": 8,
   "metadata": {
    "collapsed": true
   },
   "outputs": [],
   "source": [
    "class LimitToFile:\n",
    "    \"\"\"\n",
    "    class with the observing scenario information for the null detection run and\n",
    "    an upper limit from the loudest event formalism\n",
    "    \"\"\"\n",
    "\n",
    "    def __init__(self, rate_upper_limit=1.3e-4, alpha=0.9):\n",
    "        self.upper_limit = rate_upper_limit\n",
    "        self.eps = -1*np.log(1-alpha)/rate_upper_limit\n",
    "\n",
    "    def comp_bns_rate_pdf(self, bns_rate):\n",
    "        return cbcRatePosteriorNull(self.eps, bns_rate)\n",
    "\n",
    "    def compute_posteriors(self):\n",
    "        # BNS coalescence rate posterior arrays for rate in / Mpc^3 / Myr.\n",
    "        self.bns_rate=np.linspace(1e-8,5e-4,5000)\n",
    "        self.bns_rate_pdf = self.comp_bns_rate_pdf(self.bns_rate)\n",
    "\n",
    "    def dump_posterior(self, filename=\"bns_rate_posterior.txt\"):\n",
    "\n",
    "        f = open(filename, 'w')\n",
    "        for rate, pdf in zip(self.bns_rate, self.bns_rate_pdf):\n",
    "            f.writelines(\"{0} {1}\\n\".format(rate, pdf))\n",
    "        f.close()"
   ]
  },
  {
   "cell_type": "code",
   "execution_count": null,
   "metadata": {
    "collapsed": true
   },
   "outputs": [],
   "source": []
  },
  {
   "cell_type": "markdown",
   "metadata": {},
   "source": [
    "## Prospects for detecting with aLIGO"
   ]
  },
  {
   "cell_type": "code",
   "execution_count": 1,
   "metadata": {
    "collapsed": false
   },
   "outputs": [],
   "source": [
    "from grbeams.scenarios import Scenario, BNSDistribution\n",
    "from grbeams.beamingangle import BeamingAnglePosterior\n",
    "from grbeams.distributions import DeltaDistribution, UniformDistribution, JeffreyDistribution\n",
    "import numpy as np"
   ]
  },
  {
   "cell_type": "code",
   "execution_count": 2,
   "metadata": {
    "collapsed": false
   },
   "outputs": [
    {
     "name": "stderr",
     "output_type": "stream",
     "text": [
      "/home/daniel/.virtualenvs/jupyter/lib/python2.7/site-packages/matplotlib/__init__.py:1069: UserWarning: Bad val \"True,\" on line #7\n",
      "\t\"text.usetex: True,\n",
      "\"\n",
      "\tin file \"/home/daniel/repositories/burst-style/burst.mplstyle\"\n",
      "\tKey text.usetex: Could not convert \"true,\" to boolean\n",
      "  (val, error_details, msg))\n",
      "/home/daniel/.virtualenvs/jupyter/lib/python2.7/site-packages/matplotlib/__init__.py:1069: UserWarning: Bad val \"black,\" on line #9\n",
      "\t\"text.color          : black,\n",
      "\"\n",
      "\tin file \"/home/daniel/repositories/burst-style/burst.mplstyle\"\n",
      "\tKey text.color: black, does not look like a color arg\n",
      "Color tuples must be length 3\n",
      "  (val, error_details, msg))\n"
     ]
    }
   ],
   "source": [
    "import matplotlib.pyplot as plt\n",
    "%matplotlib inline\n",
    "plt.style.use('/home/daniel/repositories/burst-style/burst.mplstyle')\n",
    "import astropy.units as u"
   ]
  },
  {
   "cell_type": "code",
   "execution_count": 24,
   "metadata": {
    "collapsed": false
   },
   "outputs": [
    {
     "data": {
      "text/latex": [
       "$[0.00018715853,~0.00018362073,~0.00018015099,~\\dots, 4.9765254 \\times 10^{-6},~4.8891298 \\times 10^{-6},~4.803303 \\times 10^{-6}] \\; \\mathrm{Gpc^{3}\\,yr}$"
      ],
      "text/plain": [
       "<Quantity [  1.87158527e-04,  1.83620726e-04,  1.80150988e-04,\n",
       "             1.76747981e-04,  1.73410403e-04,  1.70136973e-04,\n",
       "             1.66926440e-04,  1.63777575e-04,  1.60689175e-04,\n",
       "             1.57660059e-04,  1.54689072e-04,  1.51775078e-04,\n",
       "             1.48916968e-04,  1.46113651e-04,  1.43364060e-04,\n",
       "             1.40667149e-04,  1.38021891e-04,  1.35427281e-04,\n",
       "             1.32882333e-04,  1.30386081e-04,  1.27937578e-04,\n",
       "             1.25535894e-04,  1.23180121e-04,  1.20869365e-04,\n",
       "             1.18602752e-04,  1.16379425e-04,  1.14198544e-04,\n",
       "             1.12059283e-04,  1.09960836e-04,  1.07902411e-04,\n",
       "             1.05883232e-04,  1.03902538e-04,  1.01959583e-04,\n",
       "             1.00053635e-04,  9.81839789e-05,  9.63499106e-05,\n",
       "             9.45507416e-05,  9.27857965e-05,  9.10544131e-05,\n",
       "             8.93559425e-05,  8.76897483e-05,  8.60552065e-05,\n",
       "             8.44517056e-05,  8.28786460e-05,  8.13354399e-05,\n",
       "             7.98215108e-05,  7.83362939e-05,  7.68792351e-05,\n",
       "             7.54497914e-05,  7.40474304e-05,  7.26716300e-05,\n",
       "             7.13218784e-05,  6.99976738e-05,  6.86985243e-05,\n",
       "             6.74239475e-05,  6.61734706e-05,  6.49466299e-05,\n",
       "             6.37429708e-05,  6.25620475e-05,  6.14034231e-05,\n",
       "             6.02666690e-05,  5.91513653e-05,  5.80570999e-05,\n",
       "             5.69834691e-05,  5.59300767e-05,  5.48965346e-05,\n",
       "             5.38824621e-05,  5.28874858e-05,  5.19112397e-05,\n",
       "             5.09533650e-05,  5.00135098e-05,  4.90913290e-05,\n",
       "             4.81864843e-05,  4.72986440e-05,  4.64274828e-05,\n",
       "             4.55726816e-05,  4.47339278e-05,  4.39109146e-05,\n",
       "             4.31033413e-05,  4.23109131e-05,  4.15333406e-05,\n",
       "             4.07703405e-05,  4.00216346e-05,  3.92869503e-05,\n",
       "             3.85660201e-05,  3.78585820e-05,  3.71643788e-05,\n",
       "             3.64831584e-05,  3.58146735e-05,  3.51586817e-05,\n",
       "             3.45149452e-05,  3.38832309e-05,  3.32633100e-05,\n",
       "             3.26549585e-05,  3.20579563e-05,  3.14720878e-05,\n",
       "             3.08971417e-05,  3.03329103e-05,  2.97791905e-05,\n",
       "             2.92357826e-05,  2.87024912e-05,  2.81791243e-05,\n",
       "             2.76654938e-05,  2.71614153e-05,  2.66667077e-05,\n",
       "             2.61811936e-05,  2.57046989e-05,  2.52370529e-05,\n",
       "             2.47780883e-05,  2.43276408e-05,  2.38855495e-05,\n",
       "             2.34516563e-05,  2.30258063e-05,  2.26078478e-05,\n",
       "             2.21976315e-05,  2.17950115e-05,  2.13998444e-05,\n",
       "             2.10119895e-05,  2.06313091e-05,  2.02576679e-05,\n",
       "             1.98909332e-05,  1.95309749e-05,  1.91776655e-05,\n",
       "             1.88308797e-05,  1.84904948e-05,  1.81563904e-05,\n",
       "             1.78284484e-05,  1.75065529e-05,  1.71905904e-05,\n",
       "             1.68804493e-05,  1.65760202e-05,  1.62771961e-05,\n",
       "             1.59838717e-05,  1.56959438e-05,  1.54133111e-05,\n",
       "             1.51358746e-05,  1.48635366e-05,  1.45962018e-05,\n",
       "             1.43337764e-05,  1.40761685e-05,  1.38232879e-05,\n",
       "             1.35750462e-05,  1.33313566e-05,  1.30921341e-05,\n",
       "             1.28572951e-05,  1.26267577e-05,  1.24004416e-05,\n",
       "             1.21782679e-05,  1.19601594e-05,  1.17460402e-05,\n",
       "             1.15358359e-05,  1.13294735e-05,  1.11268814e-05,\n",
       "             1.09279893e-05,  1.07327284e-05,  1.05410309e-05,\n",
       "             1.03528307e-05,  1.01680626e-05,  9.98666274e-06,\n",
       "             9.80856855e-06,  9.63371857e-06,  9.46205253e-06,\n",
       "             9.29351128e-06,  9.12803681e-06,  8.96557219e-06,\n",
       "             8.80606158e-06,  8.64945019e-06,  8.49568425e-06,\n",
       "             8.34471104e-06,  8.19647881e-06,  8.05093678e-06,\n",
       "             7.90803515e-06,  7.76772505e-06,  7.62995853e-06,\n",
       "             7.49468855e-06,  7.36186894e-06,  7.23145442e-06,\n",
       "             7.10340055e-06,  6.97766372e-06,  6.85420117e-06,\n",
       "             6.73297091e-06,  6.61393176e-06,  6.49704332e-06,\n",
       "             6.38226592e-06,  6.26956066e-06,  6.15888936e-06,\n",
       "             6.05021457e-06,  5.94349952e-06,  5.83870816e-06,\n",
       "             5.73580509e-06,  5.63475559e-06,  5.53552557e-06,\n",
       "             5.43808160e-06,  5.34239087e-06,  5.24842119e-06,\n",
       "             5.15614095e-06,  5.06551916e-06,  4.97652539e-06,\n",
       "             4.88912978e-06,  4.80330305e-06] Gpc3 yr>"
      ]
     },
     "execution_count": 24,
     "metadata": {},
     "output_type": "execute_result"
    }
   ],
   "source": [
    "pdf"
   ]
  },
  {
   "cell_type": "code",
   "execution_count": 27,
   "metadata": {
    "collapsed": false
   },
   "outputs": [
    {
     "data": {
      "text/latex": [
       "$[0,~100,~200,~\\dots, 19700,~19800,~19900] \\; \\mathrm{\\frac{1}{yr\\,Gpc^{3}}}$"
      ],
      "text/plain": [
       "<Quantity [     0.,   100.,   200.,   300.,   400.,   500.,   600.,\n",
       "              700.,   800.,   900.,  1000.,  1100.,  1200.,  1300.,\n",
       "             1400.,  1500.,  1600.,  1700.,  1800.,  1900.,  2000.,\n",
       "             2100.,  2200.,  2300.,  2400.,  2500.,  2600.,  2700.,\n",
       "             2800.,  2900.,  3000.,  3100.,  3200.,  3300.,  3400.,\n",
       "             3500.,  3600.,  3700.,  3800.,  3900.,  4000.,  4100.,\n",
       "             4200.,  4300.,  4400.,  4500.,  4600.,  4700.,  4800.,\n",
       "             4900.,  5000.,  5100.,  5200.,  5300.,  5400.,  5500.,\n",
       "             5600.,  5700.,  5800.,  5900.,  6000.,  6100.,  6200.,\n",
       "             6300.,  6400.,  6500.,  6600.,  6700.,  6800.,  6900.,\n",
       "             7000.,  7100.,  7200.,  7300.,  7400.,  7500.,  7600.,\n",
       "             7700.,  7800.,  7900.,  8000.,  8100.,  8200.,  8300.,\n",
       "             8400.,  8500.,  8600.,  8700.,  8800.,  8900.,  9000.,\n",
       "             9100.,  9200.,  9300.,  9400.,  9500.,  9600.,  9700.,\n",
       "             9800.,  9900., 10000., 10100., 10200., 10300., 10400.,\n",
       "            10500., 10600., 10700., 10800., 10900., 11000., 11100.,\n",
       "            11200., 11300., 11400., 11500., 11600., 11700., 11800.,\n",
       "            11900., 12000., 12100., 12200., 12300., 12400., 12500.,\n",
       "            12600., 12700., 12800., 12900., 13000., 13100., 13200.,\n",
       "            13300., 13400., 13500., 13600., 13700., 13800., 13900.,\n",
       "            14000., 14100., 14200., 14300., 14400., 14500., 14600.,\n",
       "            14700., 14800., 14900., 15000., 15100., 15200., 15300.,\n",
       "            15400., 15500., 15600., 15700., 15800., 15900., 16000.,\n",
       "            16100., 16200., 16300., 16400., 16500., 16600., 16700.,\n",
       "            16800., 16900., 17000., 17100., 17200., 17300., 17400.,\n",
       "            17500., 17600., 17700., 17800., 17900., 18000., 18100.,\n",
       "            18200., 18300., 18400., 18500., 18600., 18700., 18800.,\n",
       "            18900., 19000., 19100., 19200., 19300., 19400., 19500.,\n",
       "            19600., 19700., 19800., 19900.] 1 / (Gpc3 yr)>"
      ]
     },
     "execution_count": 27,
     "metadata": {},
     "output_type": "execute_result"
    }
   ],
   "source": [
    "pdf*(rate/pdf)"
   ]
  },
  {
   "cell_type": "code",
   "execution_count": 11,
   "metadata": {
    "collapsed": false,
    "scrolled": true
   },
   "outputs": [
    {
     "data": {
      "text/plain": [
       "[<matplotlib.lines.Line2D at 0x7f04da91a5d0>]"
      ]
     },
     "execution_count": 11,
     "metadata": {},
     "output_type": "execute_result"
    },
    {
     "data": {
      "image/png": "[encoded data removed]",
      "text/plain": [
       "<matplotlib.figure.Figure at 0x7f04dac76ed0>"
      ]
     },
     "metadata": {},
     "output_type": "display_data"
    }
   ],
   "source": [
    "plt.plot(rate, pdf/(rate.sum()/pdf))"
   ]
  },
  {
   "cell_type": "code",
   "execution_count": null,
   "metadata": {
    "collapsed": false
   },
   "outputs": [],
   "source": [
    "plt.figure()\n",
    "\n",
    "rateunits = u.gigaparsec**-3*u.year**-1\n",
    "data = np.loadtxt('bns_highspin_pycbc_unlam_lnvt.txt')\n",
    "rate, pdf = (data[:,0])*rateunits, data[:,1]*rateunits**-1\n",
    "bns_prior = BNSDistribution(rate, (pdf * (rate/pdf)))\n",
    "o1scenario = Scenario(bns_prior)\n",
    "\n",
    "posterior = BeamingAnglePosterior(o1scenario, efficiency_prior=DeltaDistribution(1), grb_rate=3/u.gigaparsec**3 / u.year)\n",
    "chain = posterior.sample_theta_posterior(nburnin=1000, nsamp=200)\n",
    "# Calculate the bandwidth of the poserior for the KDE\n",
    "theta_bw = 1.06*np.std(posterior.theta_samples)*len(posterior.theta_samples/100)**(-0.2)\n",
    "posterior.get_theta_pdf_kde(theta_bw)\n",
    "theta_bin_size = 3.5*np.std(posterior.theta_samples) \\\n",
    "        / len(posterior.theta_samples/10)**(1./2)\n",
    "theta_bins = np.arange(posterior.theta_range.min(), posterior.theta_range.max(),\n",
    "        theta_bin_size)\n",
    "plt.hist(posterior.theta_samples, bins=50, normed=True, log=True, histtype='stepfilled',\n",
    "        )\n",
    "plt.plot(posterior.theta_grid,posterior.theta_pdf_kde, \\\n",
    "        color='k')\n",
    "plt.axvline(np.percentile(posterior.theta_samples, 95.0), linestyle='--')\n",
    "plt.ylim([1e-3, 1])\n",
    "plt.xlim([0,30])\n",
    "plt.xlabel(r'Jet Angle, $\\theta$')\n",
    "plt.ylabel(r'$p(\\theta | D,I)$')"
   ]
  },
  {
   "cell_type": "code",
   "execution_count": 30,
   "metadata": {
    "collapsed": false
   },
   "outputs": [
    {
     "name": "stderr",
     "output_type": "stream",
     "text": [
      "/home/daniel/.virtualenvs/jupyter/lib/python2.7/site-packages/grbeams-0.1.0-py2.7.egg/grbeams/beamingangle.py:175: RuntimeWarning: divide by zero encountered in log\n",
      "  + np.log(self.comp_efficiency_prob(efficiency))\n"
     ]
    },
    {
     "data": {
      "text/plain": [
       "<matplotlib.text.Text at 0x7f812ee8d450>"
      ]
     },
     "execution_count": 30,
     "metadata": {},
     "output_type": "execute_result"
    },
    {
     "data": {
      "image/png": "[encoded data removed]",
      "text/plain": [
       "<matplotlib.figure.Figure at 0x7f812ed05ad0>"
      ]
     },
     "metadata": {},
     "output_type": "display_data"
    }
   ],
   "source": [
    "posterior = BeamingAnglePosterior(o1scenario, efficiency_prior=UniformDistribution(), grb_rate=3/u.gigaparsec**3 / u.year)\n",
    "chain2 = posterior.sample_theta_posterior(nburnin=1000, nsamp=400)\n",
    "\n",
    "plt.figure()\n",
    "theta_bw = 1.06*np.std(posterior.theta_samples)*len(posterior.theta_samples)**(-0.2)\n",
    "posterior.get_theta_pdf_kde(theta_bw)\n",
    "theta_bin_size = 3.5*np.std(posterior.theta_samples) \\\n",
    "        / len(posterior.theta_samples)**(1./3)\n",
    "theta_bins = np.arange(posterior.theta_range.min(), posterior.theta_range.max(),\n",
    "        theta_bin_size)\n",
    "plt.plot(posterior.theta_grid,posterior.theta_pdf_kde, \\\n",
    "        color='k')\n",
    "plt.hist(posterior.theta_samples, bins=theta_bins, normed=True, log=True, histtype='stepfilled',\n",
    "        )\n",
    "plt.axvline(np.percentile(posterior.theta_samples, 95.0), linestyle='--')\n",
    "plt.ylim([1e-3, 1])\n",
    "plt.xlim([0,30])\n",
    "plt.xlabel(r'Jet Angle, $\\theta$')\n",
    "plt.ylabel(r'$p(\\theta | D,I)$')"
   ]
  },
  {
   "cell_type": "code",
   "execution_count": 81,
   "metadata": {
    "collapsed": false
   },
   "outputs": [
    {
     "data": {
      "text/plain": [
       "<matplotlib.text.Text at 0x7fe36f8b3790>"
      ]
     },
     "execution_count": 81,
     "metadata": {},
     "output_type": "execute_result"
    },
    {
     "data": {
      "image/png": "[encoded data removed]",
      "text/plain": [
       "<matplotlib.figure.Figure at 0x7fe36ff55a50>"
      ]
     },
     "metadata": {},
     "output_type": "display_data"
    }
   ],
   "source": [
    "posterior = BeamingAnglePosterior(o1scenario, efficiency_prior=UniformDistribution(), grb_rate=3/u.gigaparsec**3 / u.year)\n",
    "chain2 = posterior.sample_theta_posterior(nburnin=1000, nsamp=1000)\n",
    "\n",
    "plt.figure()\n",
    "theta_bw = 1.06*np.std(posterior.theta_samples)*len(posterior.theta_samples)**(-0.2)\n",
    "posterior.get_theta_pdf_kde(theta_bw)\n",
    "theta_bin_size = 3.5*np.std(posterior.theta_samples) \\\n",
    "        / len(posterior.theta_samples)**(1./3)\n",
    "theta_bins = np.arange(posterior.theta_range.min(), posterior.theta_range.max(),\n",
    "        theta_bin_size)\n",
    "plt.plot(posterior.theta_grid,posterior.theta_pdf_kde, \\\n",
    "        color='k')\n",
    "plt.hist(posterior.theta_samples, bins=theta_bins, normed=True, log=True, histtype='stepfilled',\n",
    "        )\n",
    "plt.axvline(np.percentile(posterior.theta_samples, 95.0), linestyle='--')\n",
    "plt.ylim([1e-3, 1])\n",
    "plt.xlim([0,30])\n",
    "plt.xlabel(r'Jet Angle, $\\theta$')\n",
    "plt.ylabel(r'$p(\\theta | D,I)$')"
   ]
  },
  {
   "cell_type": "code",
   "execution_count": 5,
   "metadata": {
    "collapsed": false
   },
   "outputs": [
    {
     "name": "stderr",
     "output_type": "stream",
     "text": [
      "/home/daniel/.virtualenvs/jupyter/lib/python2.7/site-packages/grbeams-0.1.0-py2.7.egg/grbeams/beamingangle.py:176: RuntimeWarning: divide by zero encountered in log\n",
      "  + np.log(self.comp_efficiency_prob(efficiency))\n"
     ]
    },
    {
     "data": {
      "text/plain": [
       "<matplotlib.text.Text at 0x7fd4eebc4f90>"
      ]
     },
     "execution_count": 5,
     "metadata": {},
     "output_type": "execute_result"
    },
    {
     "name": "stderr",
     "output_type": "stream",
     "text": [
      "/home/daniel/.virtualenvs/jupyter/lib/python2.7/site-packages/matplotlib/font_manager.py:1288: UserWarning: findfont: Font family [u\"'New Century Schoolbook'\"] not found. Falling back to Bitstream Vera Sans\n",
      "  (prop.get_family(), self.defaultFamily[fontext]))\n"
     ]
    },
    {
     "data": {
      "image/png": "[encoded data removed]",
      "text/plain": [
       "<matplotlib.figure.Figure at 0x7fd4eec264d0>"
      ]
     },
     "metadata": {},
     "output_type": "display_data"
    }
   ],
   "source": [
    "posterior = BeamingAnglePosterior(o1scenario, efficiency_prior=JeffreyDistribution(), grb_rate=3/u.gigaparsec**3 / u.year)\n",
    "chain2 = posterior.sample_theta_posterior(nburnin=1000, nsamp=1000)\n",
    "\n",
    "plt.figure()\n",
    "theta_bw = 1.06*np.std(posterior.theta_samples)*len(posterior.theta_samples)**(-0.2)\n",
    "posterior.get_theta_pdf_kde(theta_bw)\n",
    "theta_bin_size = 3.5*np.std(posterior.theta_samples) \\\n",
    "        / len(posterior.theta_samples)**(1./3)\n",
    "theta_bins = np.arange(posterior.theta_range.min(), posterior.theta_range.max(),\n",
    "        theta_bin_size)\n",
    "plt.plot(posterior.theta_grid,posterior.theta_pdf_kde, \\\n",
    "        color='k')\n",
    "plt.hist(posterior.theta_samples, bins=theta_bins, normed=True, log=True, histtype='stepfilled',\n",
    "        )\n",
    "plt.axvline(np.percentile(posterior.theta_samples, 95.0), linestyle='--')\n",
    "plt.ylim([1e-3, 1])\n",
    "plt.xlim([0,30])\n",
    "plt.xlabel(r'Jet Angle, $\\theta$')\n",
    "plt.ylabel(r'$p(\\theta | D,I)$')"
   ]
  },
  {
   "cell_type": "code",
   "execution_count": 6,
   "metadata": {
    "collapsed": false
   },
   "outputs": [
    {
     "data": {
      "text/plain": [
       "0.75237100333564122"
      ]
     },
     "execution_count": 6,
     "metadata": {},
     "output_type": "execute_result"
    }
   ],
   "source": [
    "np.percentile(posterior.theta_samples, 95.0)"
   ]
  },
  {
   "cell_type": "code",
   "execution_count": 13,
   "metadata": {
    "collapsed": false
   },
   "outputs": [
    {
     "data": {
      "text/plain": [
       "<matplotlib.text.Text at 0x7fb85a706f10>"
      ]
     },
     "execution_count": 13,
     "metadata": {},
     "output_type": "execute_result"
    },
    {
     "name": "stderr",
     "output_type": "stream",
     "text": [
      "/home/daniel/.virtualenvs/jupyter/lib/python2.7/site-packages/matplotlib/font_manager.py:1288: UserWarning: findfont: Font family [u\"'New Century Schoolbook'\"] not found. Falling back to Bitstream Vera Sans\n",
      "  (prop.get_family(), self.defaultFamily[fontext]))\n"
     ]
    },
    {
     "data": {
      "image/png": "[encoded data removed]",
      "text/plain": [
       "<matplotlib.figure.Figure at 0x7fb85a749450>"
      ]
     },
     "metadata": {},
     "output_type": "display_data"
    }
   ],
   "source": [
    "\n",
    "plt.plot(o1scenario.bns_prior.rates.to(u.megaparsec**(-3)/u.megayear), np.exp(o1scenario.bns_prior.pdf_data))\n",
    "plt.xlabel(r'BNS Coalescence Rate, $R$, ${\\rm [Mpc^{-3} Myr^{-1}]}$')"
   ]
  },
  {
   "cell_type": "code",
   "execution_count": null,
   "metadata": {
    "collapsed": true
   },
   "outputs": [],
   "source": [
    "?np.percentile"
   ]
  },
  {
   "cell_type": "code",
   "execution_count": null,
   "metadata": {
    "collapsed": false
   },
   "outputs": [],
   "source": [
    "np.percentile(posterior.theta_samples, 99.99)"
   ]
  },
  {
   "cell_type": "code",
   "execution_count": null,
   "metadata": {
    "collapsed": false
   },
   "outputs": [],
   "source": [
    "posterior.theta_samples"
   ]
  },
  {
   "cell_type": "code",
   "execution_count": null,
   "metadata": {
    "collapsed": true
   },
   "outputs": [],
   "source": []
  },
  {
   "cell_type": "code",
   "execution_count": null,
   "metadata": {
    "collapsed": true
   },
   "outputs": [],
   "source": []
  },
  {
   "cell_type": "code",
   "execution_count": null,
   "metadata": {
    "collapsed": true
   },
   "outputs": [],
   "source": []
  }
 ],
 "metadata": {
  "kernelspec": {
   "display_name": "GRBeaming (Python 2)",
   "language": "python",
   "name": "grbeaming"
  },
  "language_info": {
   "codemirror_mode": {
    "name": "ipython",
    "version": 2
   },
   "file_extension": ".py",
   "mimetype": "text/x-python",
   "name": "python",
   "nbconvert_exporter": "python",
   "pygments_lexer": "ipython2",
   "version": "2.7.6"
  },
  "latex_envs": {
   "bibliofile": "biblio.bib",
   "cite_by": "apalike",
   "current_citInitial": 1,
   "eqLabelWithNumbers": true,
   "eqNumInitial": 0
  }
 },
 "nbformat": 4,
 "nbformat_minor": 0
}
