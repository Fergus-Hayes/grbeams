{
 "cells": [
  {
   "cell_type": "code",
   "execution_count": null,
   "metadata": {
    "collapsed": true
   },
   "outputs": [],
   "source": [
    "import astropy.units as u\n",
    "import astropy.constants as c"
   ]
  },
  {
   "cell_type": "code",
   "execution_count": null,
   "metadata": {
    "collapsed": false
   },
   "outputs": [],
   "source": [
    "import matplotlib.pyplot as plt\n",
    "%matplotlib inline\n",
    "plt.style.use('/home/daniel/repositories/burst-style/burst.mplstyle')"
   ]
  },
  {
   "cell_type": "markdown",
   "metadata": {},
   "source": [
    "It is widely believed that short Gamma-ray bursts (sGRB) are produced by compact binary coalescence (CBCs), and observations suggest that the coalescing systems likely to produce them are binary neutron star systems (BNS systems), or neutron star-black hole binaries (NSBH systems). At the full design sensitivity of advanced LIGO these may be visible to a distance of 400 Mpc for NSNS and 1 Gpc for NSBH."
   ]
  },
  {
   "cell_type": "markdown",
   "metadata": {},
   "source": [
    "Given this link between sGRBs and CBC events, it is interesting to ask if the beaming angle of the radiation from the GRB can be inferred from gravitational wave (GW) observations."
   ]
  },
  {
   "cell_type": "markdown",
   "metadata": {},
   "source": [
    "If the sGRB population has a distribution of beaming angles then the observed rate is related to the BNS coalescence rate, $\\mathcal{R}$, by \n",
    "\\\\[ \\mathcal{R}_{\\text{GRB}} = \\epsilon \\mathcal{R} \\langle 1 - \\cos(\\theta) \\rangle \\\\]\n",
    "\n",
    "\n",
    "| Symbol | Name | Note |\n",
    "| ------ | ---- | ---- |\n",
    "| $\\epsilon$ | efficiency | the probability that the BNS produces a GRB |\n",
    "| $\\mathcal{R}_{\\text{GRB}}$ | GRB rate | the observed rate of GRBs |\n",
    "| $\\mathcal{R}$ | BNS merger rate | the observed rate of BNS CBCs |\n",
    "| $\\theta$ | beaming angle | the angle which radiation is beamed from the GRB |\n"
   ]
  },
  {
   "cell_type": "markdown",
   "metadata": {},
   "source": [
    "EM observations suggest that beaming angles have a distribution, so the raltive rates of sGRBs and CBCs should provide the mean of that population, $\\langle \\theta \\rangle$."
   ]
  },
  {
   "cell_type": "code",
   "execution_count": null,
   "metadata": {
    "collapsed": true
   },
   "outputs": [],
   "source": [
    "@u.quantity_input(bns_rate=1/u.year, theta=u.degree)\n",
    "def rate_grb(efficiency, theta, bns_rate):\n",
    "    \"\"\"\n",
    "    Calculate the rate of gamma ray bursts from the rate of BNS coalescence.\n",
    "    \n",
    "    efficiency : float\n",
    "        The efficiency of GRB production.\n",
    "    theta : float\n",
    "        The beaming angle\n",
    "    bns_rate : The rate of BNS mergers\n",
    "    \n",
    "    \"\"\"\n",
    "    return efficiency * bns_rate * (1- np.cos(theta))\n",
    "\n",
    "@u.quantity_input(grb_rate=1/u.year, theta=u.degree)\n",
    "def rate_cbc(efficiency, theta, grb_rate):\n",
    "    \"\"\"\n",
    "    Calculate the rate of CBCs from the GRB rate.\n",
    "    \"\"\"\n",
    "    return grb_rate / (efficiency*(1.0 - np.cos(theta)))"
   ]
  },
  {
   "cell_type": "markdown",
   "metadata": {},
   "source": [
    "## The sGRB population mean\n",
    "\n",
    "Here we show the impact of BNS mergers on sGRBs, with the following proceedure:\n",
    "\n",
    "* We set the number of observed GRBs to zero: $N_{\\text{GRB}} = 0$"
   ]
  },
  {
   "cell_type": "code",
   "execution_count": null,
   "metadata": {
    "collapsed": true
   },
   "outputs": [],
   "source": [
    "Ngrb = 0"
   ]
  },
  {
   "cell_type": "markdown",
   "metadata": {},
   "source": [
    "* We draw $N_{\\text{BNS}}$ values for orbital inclination, $\\iota$ from a distribution uniform in $\\cos(\\iota)$ over the range $[0,1]$."
   ]
  },
  {
   "cell_type": "code",
   "execution_count": null,
   "metadata": {
    "collapsed": false
   },
   "outputs": [],
   "source": [
    "import numpy as np\n",
    "Nbns = 1e5 \n",
    "iotas = np.arccos( 0 + 1*np.random.rand(Nbns) )\n",
    "# to degrees\n",
    "iotas *= 180/np.pi"
   ]
  },
  {
   "cell_type": "markdown",
   "metadata": {},
   "source": [
    "* For each $\\iota$ draw a $\\theta$ from a distribution over $(0,90]^\\circ$\n",
    "* Iff $\\iota < \\theta$ the event is observable: increment $N_{\\text{GRB}}$"
   ]
  },
  {
   "cell_type": "code",
   "execution_count": null,
   "metadata": {
    "collapsed": true
   },
   "outputs": [],
   "source": [
    "theta_mu=np.arange(5,35,5)\n",
    "theta_sigma=np.arange(1,16)\n",
    "theta_low=0.01\n",
    "theta_upp=90"
   ]
  },
  {
   "cell_type": "code",
   "execution_count": null,
   "metadata": {
    "collapsed": true
   },
   "outputs": [],
   "source": [
    "def truncparms(low,upp,mu,sigma):\n",
    "    a = (low - mu) / sigma\n",
    "    b = (upp - mu) / sigma\n",
    "    return a, b"
   ]
  },
  {
   "cell_type": "markdown",
   "metadata": {},
   "source": [
    "In order to calculate the efficiency we take \n",
    "\n",
    "\\\\[ \\epsilon = \\frac{ N_{\\text{GRB}} + 1 }{N_{\\text{BNS}} + 2 } \\\\]\n"
   ]
  },
  {
   "cell_type": "code",
   "execution_count": null,
   "metadata": {
    "collapsed": true
   },
   "outputs": [],
   "source": [
    "def compute_efficiency(k,N,b=True):\n",
    "\n",
    "    if b:\n",
    "        # Bayesian treatment\n",
    "        epsilon=(k+1)/(N+2)\n",
    "        stdev_epsilon=1.64*np.sqrt(epsilon*(1-epsilon)/(N+3))\n",
    "    else:\n",
    "        # Binomial treatment\n",
    "        if N==0:\n",
    "            epsilon=0.0\n",
    "            stdev_epsilon=0.0\n",
    "        else:\n",
    "            epsilon=k/N\n",
    "            stdev_epsilon=1.64*np.sqrt(epsilon*(1-epsilon)/N)\n",
    "    return (epsilon,stdev_epsilon)"
   ]
  },
  {
   "cell_type": "markdown",
   "metadata": {},
   "source": [
    "We'll draw all of the beaming angles from a truncated normal distribution, and we'll run the simulation for a variety of differently shaped distribution."
   ]
  },
  {
   "cell_type": "code",
   "execution_count": null,
   "metadata": {
    "collapsed": false
   },
   "outputs": [],
   "source": [
    "import scipy.stats as stats\n",
    "\n",
    "FracGRB=np.zeros((len(theta_mu),len(theta_sigma)))\n",
    "deltaFracGRB=np.zeros((len(theta_mu),len(theta_sigma)))\n",
    "\n",
    "for m,mu, in enumerate(theta_mu):\n",
    "    for s,sigma in enumerate(theta_sigma):\n",
    "        a, b = truncparms(theta_low, theta_upp, mu, sigma)\n",
    "        thetas = stats.truncnorm.rvs(a, b, loc=mu, scale=sigma, size=Nbns)\n",
    "        # Count GRBs\n",
    "        Ngrbs=sum(iotas <= thetas)\n",
    "        \n",
    "        FracGRB[m,s], deltaFracGRB[m,s] = compute_efficiency(Ngrbs,Nbns)"
   ]
  },
  {
   "cell_type": "markdown",
   "metadata": {},
   "source": [
    "A population of sGRB beaming angles with a large mean but a narrow width is indistinguishable from the converse, as can be seen in the plot below, where $\\mathcal{N}(15,8)$ and $\\mathcal{N}(10,12)$ both give the same number ratio (see the light grey line)."
   ]
  },
  {
   "cell_type": "code",
   "execution_count": null,
   "metadata": {
    "collapsed": false
   },
   "outputs": [],
   "source": [
    "linestyles=['-', '-', '-']\n",
    "markers=['s', '^', 'o']\n",
    "\n",
    "f, ax = plt.subplots(1,1)\n",
    "\n",
    "ax.hlines(FracGRB[1,11]*100,0,16, lw=1, color='gray', alpha=0.5)\n",
    "for i in range(len(theta_mu)):\n",
    "    ax.plot(theta_sigma, FracGRB[i]*100, #deltaFracGRB[i]*100, \n",
    "                 linestyle=linestyles[i%3], lw=2,# c='k',\n",
    "                 #marker=markers[i%3], markeredgecolor='white', \n",
    "                #label=r\"$\\langle \\theta \\rangle = {}$\".format(theta_mu[i])\n",
    "                )\n",
    "    ax.annotate(\"{}\".format(theta_mu[i]), (15.1, .1+FracGRB[i][-1]*100))\n",
    "ax.set_ylim(0,18.5)\n",
    "ax.annotate(r\"$\\langle \\theta \\rangle$\", (15, 17.6))\n",
    "ax.set_ylabel(r\"$N_{\\rm{GRB}} / N_{\\rm{BNS}}$ [%]\")\n",
    "ax.set_xlabel(r\"$\\sigma_{\\theta}$ [degree]\")\n",
    "plt.tight_layout()\n",
    "plt.savefig('color_relativenumber.pdf')\n",
    "\n",
    "txt = \"\"\"Expected relative numbers of observed GRBs and binary coalescences for different \n",
    "distributions on the GRB beaming angle. Lines in the figure correspond to jet angle\n",
    "population means, while the x-axis shows the width of the distribution. All distributions are \n",
    "Gaussian, truncated at (0, 90] degrees.\"\"\"\n",
    "f.text(.1,-.15,txt)"
   ]
  },
  {
   "cell_type": "markdown",
   "metadata": {},
   "source": [
    "This has the effect of a wide distribution of beaming angles producing an under-estimate of the beaming angle, so population-based constraints must be regarded as upper-bounds."
   ]
  },
  {
   "cell_type": "markdown",
   "metadata": {},
   "source": [
    "## Rates to Beaming Angle"
   ]
  },
  {
   "cell_type": "markdown",
   "metadata": {},
   "source": [
    "The general method to move from a rate to a beaming angle is"
   ]
  },
  {
   "cell_type": "markdown",
   "metadata": {},
   "source": [
    "### Estimate the posterior distribution on the BNS merger rate from observed GW signals"
   ]
  },
  {
   "cell_type": "markdown",
   "metadata": {},
   "source": [
    "Gravitational wave detectors identify discrete 'events' which are characterised by their *network signal-to-noise ratios*, $\\rho_{\\mathrm{c}}$\n",
    "\n",
    "We begin by constructing the posterior on the signal rate; the measured rate, $r$ of events has two components, the signal rate, $s$, and the background rate, $b$:\n",
    "\n",
    "\\\\[ r = s+b\\\\]\n",
    "\n",
    "Typically a threshold of $\\rho \\ge 12$ is applied to analysis, placing $b = 10^{-2}$ per year, so only the signal rate needs to be inferred.\n",
    "\n",
    "Taking a uniform prior on $s$, and assuming the events are generated by a Poisson process, it can be shown that the rate posterior depends only on the number of detected signals, $n$, the observation time, $T$, the background rate, $b$, and the horizon distance, $\\mathcal{D}$ (the maximum distance at from which a detection can be made).\n",
    "\n",
    "The posterior will then be\n",
    "\n",
    "\\\\[\n",
    "   p(s|n,b,I) = C \\frac{T[(s+b) T]^n e^{-(s+b)T}}{n!} \n",
    "\\\\]\n",
    "\n",
    "for\n",
    "\\begin{align*}\n",
    "    C^{-1} &= \\frac{e^{-bT}}{n!} \\int_0^\\infty {\\rm d}(sT)(s+b)^n T^n e^{-sT} \\\\\n",
    "           &= \\sum_{i=0}^n \\frac{ (bT)^i e^{-bT} }{i!} \n",
    "\\end{align*}"
   ]
  },
  {
   "cell_type": "code",
   "execution_count": null,
   "metadata": {
    "collapsed": false
   },
   "outputs": [],
   "source": [
    "@u.quantity_input(s=1/u.year, \n",
    "                  b=1/u.year,\n",
    "                  T=1*u.year)\n",
    "def signal_posterior(s, b, n, T):\n",
    "    \"\"\"\n",
    "    The event rate posterior assuming that a Poisson process underlies \n",
    "    the production of gravitational wave events.\n",
    "    \n",
    "    s : float\n",
    "        The event rate\n",
    "    n : float\n",
    "        The number of events observed over the timespan of the observing run\n",
    "    b : float\n",
    "        The background rate of events\n",
    "    T : float\n",
    "        The total time of the observing run\n",
    "    \"\"\"\n",
    "    # Calculate the inverse of C\n",
    "    C_inv = np.sum([ (b*T)**i * np.exp(-b*T) / np.math.factorial(i) \n",
    "                    for i in xrange(n) ])\n",
    "    # Then invert it\n",
    "    C = 1. / C_inv\n",
    "    # Calculate the posterior piece-wise\n",
    "    p1 = T * ((s+b)*T)**n * np.exp( - (s+b) * T)\n",
    "    p2 = np.math.factorial(n)\n",
    "    return C * p1 / p2"
   ]
  },
  {
   "cell_type": "markdown",
   "metadata": {},
   "source": [
    "Let's have a quick look at a plot of this."
   ]
  },
  {
   "cell_type": "code",
   "execution_count": null,
   "metadata": {
    "collapsed": false
   },
   "outputs": [],
   "source": [
    "s = np.linspace(0,10, 11)/u.year\n",
    "b = 10 / u.year #np.linspace(0,10, 11)/u.year\n",
    "T = 1 * u.year\n",
    "plt.plot(s, signal_posterior(s, b, 10, T))"
   ]
  },
  {
   "cell_type": "markdown",
   "metadata": {},
   "source": [
    "We'll want to express the rate in terms of the number of mergers per *milky-way equivalent galaxy*, or MWEG. We can approximate the number of MWEGS inside the sensitivity range of the detectors as\n",
    "\\\\[\n",
    "    N_{\\mathrm{G}} = \\frac{4}{3} \\pi \\left( \\frac{\\mathcal{D}}{\\mathrm{Mpc}} \\right)^3 \n",
    "    (2.26)^{-3}\n",
    "    (0.0116)\n",
    "\\\\]"
   ]
  },
  {
   "cell_type": "code",
   "execution_count": null,
   "metadata": {
    "collapsed": false
   },
   "outputs": [],
   "source": [
    "@u.quantity_input(horizon=u.megaparsec)\n",
    "def n_mweg(horizon):\n",
    "    mweg1 = (4. / 3. ) * np.pi \n",
    "    mweg2 = (horizon / 1/u.megaparsec)**3\n",
    "    mweg3 = (2.26)**(-3) * 0.0116\n",
    "    return mweg1 * mweg2 * mweg3"
   ]
  },
  {
   "cell_type": "markdown",
   "metadata": {},
   "source": [
    "This let's us reach the posterior on the binary coalescence rate:\n",
    "\\begin{align*}\n",
    "    p(\\mathcal{R} | s,n,T,b,\\mathcal{D}) &= p(s|n,T,b) \\left| \\frac{\\mathrm{d}s}{\\mathrm{d}\\mathcal{R}} \\right| \\\\\n",
    "                                       &= N_{\\mathrm{G}} \\mathcal{D} \\ p(s |n,T,b)\n",
    "\\end{align*}"
   ]
  },
  {
   "cell_type": "code",
   "execution_count": null,
   "metadata": {
    "collapsed": true
   },
   "outputs": [],
   "source": [
    "@u.quantity_input(s=1/u.year, \n",
    "                  b=1/u.year,\n",
    "                  T=1*u.year, \n",
    "                  horizon=u.megaparsec)\n",
    "def rate_posterior(s, b, n, T, horizon):\n",
    "    \"\"\"\n",
    "    \n",
    "    \"\"\"\n",
    "    nmweg = n_mweg(horizon)\n",
    "    post = signal_posterior(s,b,n, T)\n",
    "    return nmweg * post"
   ]
  },
  {
   "cell_type": "code",
   "execution_count": null,
   "metadata": {
    "collapsed": false
   },
   "outputs": [],
   "source": [
    "s = np.linspace(0,10, 11)/u.year\n",
    "b = 10 / u.year #np.linspace(0,10, 11)/u.year\n",
    "T = 1 * u.year\n",
    "horizon = 100*u.megaparsec\n",
    "plt.plot(s, rate_posterior(s, b, 10, T, horizon))"
   ]
  },
  {
   "cell_type": "markdown",
   "metadata": {},
   "source": [
    "These quantities define our *detection scenarios*.\n",
    "\n",
    "\n",
    "| Scenario name | $T$ | $\\mathcal{D}$ | $V$    | $\\mathcal{R}$ | $n$ |\n",
    "| ------------- | --- | ------------- | ------ | ------------- | --- |\n",
    "| 2016          | 0.5 | 80 - 120      | 1.05e6 | 1e-6          | 1.3 |\n",
    "| 2022+         | 1.0 | 200           | 4.00e7 | 1e-6          | 40  |"
   ]
  },
  {
   "cell_type": "markdown",
   "metadata": {},
   "source": [
    "### Transform from the rate posterior to an angle posterior"
   ]
  },
  {
   "cell_type": "markdown",
   "metadata": {},
   "source": [
    "Inferences of the GRB beaming angle are made from the posterior on the beaming angle, so we need to convert a posterior on the rate prior into a posterior on the angle. To do this we use a Jacobian.\n",
    "\n",
    "\\\\[ p(\\theta, \\epsilon) = p(\\mathcal{R}, \\epsilon) \\left|\\left| \\frac{ \\partial(\\mathcal{R},\\epsilon) }{ \\partial (\\theta, \\epsilon) } \\right|\\right| \\\\]\n",
    "\n",
    "We assume that the beaming angle and the rate are probabilistically independent, so\n",
    "\n",
    "\\\\[ p(\\theta) = \\frac{2 \\mathcal{R}_{\\rm GRB}  \\sin \\theta \\ p(\\mathcal{R})  }{( \\cos \\theta - 1)^2 } \\int \\frac{p(\\epsilon) {\\rm d} \\epsilon }{\\epsilon}  \\\\]"
   ]
  },
  {
   "cell_type": "code",
   "execution_count": null,
   "metadata": {
    "collapsed": true
   },
   "outputs": [],
   "source": [
    "def jacobian(efficiency, theta, grb_rate):\n",
    "    denom=efficiency*(np.cos(theta * np.pi/180)-1)\n",
    "    return abs(2.0*grb_rate * np.sin(theta * np.pi / 180.0) /\n",
    "                (denom*denom) )"
   ]
  },
  {
   "cell_type": "markdown",
   "metadata": {
    "collapsed": true
   },
   "source": [
    "So for a given efficiency, $\\epsilon$ and beaming angle $\\theta$ the CBC rate needs to be found, then the rate posterior for this calculated, and finally rotated using the Jacobian."
   ]
  },
  {
   "cell_type": "code",
   "execution_count": null,
   "metadata": {
    "collapsed": false
   },
   "outputs": [],
   "source": [
    "from grbeams.distributions import UniformDistribution"
   ]
  },
  {
   "cell_type": "code",
   "execution_count": null,
   "metadata": {
    "collapsed": true
   },
   "outputs": [],
   "source": [
    "def p_theta(theta, efficiency, grb_rate, theta_range=(0*u.degree,90*u.degree)):\n",
    "    if (theta>=min(theta_range)) and (theta<max(theta_range)):\n",
    "        bns_rate = rate_cbc(efficiency, theta, grb_rate)\n",
    "        j = jacobian(efficiency, theta, grb_rate).value\n",
    "        p_efficiency = UniformDistribution(range=(0,1.0))\n",
    "        return bns_rate.value + np.log(j) + np.log(p_efficiency.pdf(efficiency))\n",
    "    else:\n",
    "        return -np.inf"
   ]
  },
  {
   "cell_type": "markdown",
   "metadata": {},
   "source": [
    "We can sample from the beaming angle posterior using MCMC; we sample points from the $p(\\theta, \\epsilon)$ distribution, and then perform kernel-density estimation. The mode of the KDE is the MAP estimate, with the lower and upper bounds found from the 95% confidence intervals."
   ]
  },
  {
   "cell_type": "markdown",
   "metadata": {},
   "source": [
    "## A Rate posterior using the upper limit in the NSBH paper draft"
   ]
  },
  {
   "cell_type": "code",
   "execution_count": 8,
   "metadata": {
    "collapsed": true
   },
   "outputs": [],
   "source": [
    "class LimitToFile:\n",
    "    \"\"\"\n",
    "    class with the observing scenario information for the null detection run and\n",
    "    an upper limit from the loudest event formalism\n",
    "    \"\"\"\n",
    "\n",
    "    def __init__(self, rate_upper_limit=1.3e-4, alpha=0.9):\n",
    "        self.upper_limit = rate_upper_limit\n",
    "        self.eps = -1*np.log(1-alpha)/rate_upper_limit\n",
    "\n",
    "    def comp_bns_rate_pdf(self, bns_rate):\n",
    "        return cbcRatePosteriorNull(self.eps, bns_rate)\n",
    "\n",
    "    def compute_posteriors(self):\n",
    "        # BNS coalescence rate posterior arrays for rate in / Mpc^3 / Myr.\n",
    "        self.bns_rate=np.linspace(1e-8,5e-4,5000)\n",
    "        self.bns_rate_pdf = self.comp_bns_rate_pdf(self.bns_rate)\n",
    "\n",
    "    def dump_posterior(self, filename=\"bns_rate_posterior.txt\"):\n",
    "\n",
    "        f = open(filename, 'w')\n",
    "        for rate, pdf in zip(self.bns_rate, self.bns_rate_pdf):\n",
    "            f.writelines(\"{0} {1}\\n\".format(rate, pdf))\n",
    "        f.close()"
   ]
  },
  {
   "cell_type": "code",
   "execution_count": null,
   "metadata": {
    "collapsed": true
   },
   "outputs": [],
   "source": []
  },
  {
   "cell_type": "markdown",
   "metadata": {},
   "source": [
    "## Prospects for detecting with aLIGO"
   ]
  },
  {
   "cell_type": "code",
   "execution_count": 1,
   "metadata": {
    "collapsed": false
   },
   "outputs": [],
   "source": [
    "from grbeams.scenarios import Scenario, BNSDistribution\n",
    "from grbeams.beamingangle import BeamingAnglePosterior\n",
    "from grbeams.distributions import DeltaDistribution, UniformDistribution, JeffreyDistribution\n",
    "import numpy as np"
   ]
  },
  {
   "cell_type": "code",
   "execution_count": 2,
   "metadata": {
    "collapsed": false
   },
   "outputs": [
    {
     "name": "stderr",
     "output_type": "stream",
     "text": [
      "/home/daniel/.virtualenvs/jupyter/lib/python2.7/site-packages/matplotlib/__init__.py:1069: UserWarning: Bad val \"True,\" on line #7\n",
      "\t\"text.usetex: True,\n",
      "\"\n",
      "\tin file \"/home/daniel/repositories/burst-style/burst.mplstyle\"\n",
      "\tKey text.usetex: Could not convert \"true,\" to boolean\n",
      "  (val, error_details, msg))\n",
      "/home/daniel/.virtualenvs/jupyter/lib/python2.7/site-packages/matplotlib/__init__.py:1069: UserWarning: Bad val \"black,\" on line #9\n",
      "\t\"text.color          : black,\n",
      "\"\n",
      "\tin file \"/home/daniel/repositories/burst-style/burst.mplstyle\"\n",
      "\tKey text.color: black, does not look like a color arg\n",
      "Color tuples must be length 3\n",
      "  (val, error_details, msg))\n"
     ]
    }
   ],
   "source": [
    "import matplotlib.pyplot as plt\n",
    "%matplotlib inline\n",
    "plt.style.use('/home/daniel/repositories/burst-style/burst.mplstyle')\n",
    "import astropy.units as u"
   ]
  },
  {
   "cell_type": "code",
   "execution_count": 3,
   "metadata": {
    "collapsed": true
   },
   "outputs": [],
   "source": [
    "rateunits = u.gigaparsec**-3*u.year**-1\n",
    "data = np.loadtxt('bns_highspin_pycbc_unlam_lnvt.txt')\n",
    "rate, pdf = (data[:,0])*rateunits, data[:,1]*rateunits**-1\n",
    "bns_prior = BNSDistribution(rate, pdf  / (rate*pdf).sum() )"
   ]
  },
  {
   "cell_type": "code",
   "execution_count": 4,
   "metadata": {
    "collapsed": false
   },
   "outputs": [
    {
     "data": {
      "text/plain": [
       "[<matplotlib.lines.Line2D at 0x7f7e544d1790>]"
      ]
     },
     "execution_count": 4,
     "metadata": {},
     "output_type": "execute_result"
    },
    {
     "name": "stderr",
     "output_type": "stream",
     "text": [
      "/home/daniel/.virtualenvs/jupyter/lib/python2.7/site-packages/matplotlib/font_manager.py:1288: UserWarning: findfont: Font family [u\"'New Century Schoolbook'\"] not found. Falling back to Bitstream Vera Sans\n",
      "  (prop.get_family(), self.defaultFamily[fontext]))\n"
     ]
    },
    {
     "data": {
      "image/png": "[encoded data removed]",
      "text/plain": [
       "<matplotlib.figure.Figure at 0x7f7e545732d0>"
      ]
     },
     "metadata": {},
     "output_type": "display_data"
    }
   ],
   "source": [
    "plt.plot(rate, pdf)"
   ]
  },
  {
   "cell_type": "code",
   "execution_count": 5,
   "metadata": {
    "collapsed": true
   },
   "outputs": [],
   "source": [
    "new_rate = u.megaparsec**-3*u.megayear**-1"
   ]
  },
  {
   "cell_type": "code",
   "execution_count": 48,
   "metadata": {
    "collapsed": false,
    "scrolled": true
   },
   "outputs": [
    {
     "data": {
      "text/plain": [
       "<matplotlib.text.Text at 0x7f7e4e34c210>"
      ]
     },
     "execution_count": 48,
     "metadata": {},
     "output_type": "execute_result"
    },
    {
     "data": {
      "image/png": "[encoded data removed]",
      "text/plain": [
       "<matplotlib.figure.Figure at 0x7f7e4fb6c550>"
      ]
     },
     "metadata": {},
     "output_type": "display_data"
    }
   ],
   "source": [
    "plt.figure()\n",
    "\n",
    "plt.style.use('/home/daniel/repositories/burst-style/burst.mplstyle')\n",
    "#o1scenario = Scenario(bns_prior)\n",
    "\n",
    "#posterior = BeamingAnglePosterior(o1scenario, efficiency_prior=DeltaDistribution(1), grb_rate=3/u.gigaparsec**3 / u.year)\n",
    "#chain = posterior.sample_theta_posterior(nburnin=1000, nsamp=200)\n",
    "# Calculate the bandwidth of the poserior for the KDE\n",
    "#theta_bw = 1.06*np.std(posterior.theta_samples)*len(posterior.theta_samples/100)**(-0.2)\n",
    "#posterior.get_theta_pdf_kde(theta_bw)\n",
    "theta_bin_size = 3.5*np.std(posterior.theta_samples) \\\n",
    "        / len(posterior.theta_samples)**(1./2)\n",
    "#theta_bins = np.arange(posterior.theta_range.min(), posterior.theta_range.max(),\n",
    "#        theta_bin_size)\n",
    "theta_bins = np.linspace(0,10, 1000)\n",
    "plt.hist(posterior.theta_samples, bins=theta_bins, log=True,  normed=True, alpha=1)\n",
    "plt.plot(posterior.theta_grid,posterior.theta_pdf_kde, \\\n",
    "        color='k')\n",
    "plt.axvline(np.percentile(posterior.theta_samples, 95.0), linestyle='--')\n",
    "plt.ylim([1e-3, 6])\n",
    "plt.xlim([0,5])\n",
    "plt.xlabel(r'Jet Angle, $\\theta$')\n",
    "plt.ylabel(r'$p(\\theta | D,I)$')"
   ]
  },
  {
   "cell_type": "code",
   "execution_count": 40,
   "metadata": {
    "collapsed": false
   },
   "outputs": [
    {
     "data": {
      "image/png": "[encoded data removed]",
      "text/plain": [
       "<matplotlib.figure.Figure at 0x7f7e505a97d0>"
      ]
     },
     "metadata": {},
     "output_type": "display_data"
    }
   ],
   "source": [
    "plt.semilogy(chain);"
   ]
  },
  {
   "cell_type": "code",
   "execution_count": 37,
   "metadata": {
    "collapsed": false
   },
   "outputs": [
    {
     "data": {
      "text/plain": [
       "<matplotlib.text.Text at 0x7f05f5eb5b90>"
      ]
     },
     "execution_count": 37,
     "metadata": {},
     "output_type": "execute_result"
    },
    {
     "data": {
      "image/png": "[encoded data removed]",
      "text/plain": [
       "<matplotlib.figure.Figure at 0x7f05f676a610>"
      ]
     },
     "metadata": {},
     "output_type": "display_data"
    }
   ],
   "source": [
    "plt.figure()\n",
    "\n",
    "\n",
    "o1scenario = Scenario(bns_prior)\n",
    "\n",
    "#posterior = BeamingAnglePosterior(o1scenario, efficiency_prior=UniformDistribution(), grb_rate=3/u.gigaparsec**3 / u.year)\n",
    "#chain = posterior.sample_theta_posterior(nburnin=2000, nsamp=4000)\n",
    "# Calculate the bandwidth of the poserior for the KDE\n",
    "theta_bw = 1.06*np.std(posterior.theta_samples)*len(posterior.theta_samples)**(-0.2)\n",
    "posterior.get_theta_pdf_kde(theta_bw)\n",
    "theta_bin_size = 3.5*np.std(posterior.theta_samples) \\\n",
    "        / len(posterior.theta_samples)**(1./2)\n",
    "theta_bins = np.arange(0, posterior.theta_range.max(),\n",
    "        theta_bin_size)\n",
    "plt.hist(posterior.theta_samples, bins=theta_bins, normed=True, log=True, histtype='stepfilled',\n",
    "        )\n",
    "plt.plot(posterior.theta_grid,posterior.theta_pdf_kde, \\\n",
    "        color='k')\n",
    "#plt.axvline(np.percentile(posterior.theta_samples, 99.9), linestyle='--')\n",
    "plt.ylim([1e-3, 1])\n",
    "plt.xlim([0,10])\n",
    "plt.xlabel(r'Jet Angle, $\\theta$')\n",
    "plt.ylabel(r'$p(\\theta | D,I)$')"
   ]
  },
  {
   "cell_type": "code",
   "execution_count": 25,
   "metadata": {
    "collapsed": false,
    "scrolled": false
   },
   "outputs": [
    {
     "data": {
      "text/plain": [
       "<matplotlib.text.Text at 0x7f05f6af7650>"
      ]
     },
     "execution_count": 25,
     "metadata": {},
     "output_type": "execute_result"
    },
    {
     "data": {
      "image/png": "[encoded data removed]",
      "text/plain": [
       "<matplotlib.figure.Figure at 0x7f05f72b6fd0>"
      ]
     },
     "metadata": {},
     "output_type": "display_data"
    }
   ],
   "source": [
    "#posterior = BeamingAnglePosterior(o1scenario, efficiency_prior=JeffreyDistribution(), grb_rate=3/u.gigaparsec**3 / u.year)\n",
    "#chain = posterior.sample_theta_posterior(nburnin=1000, nsamp=2000)\n",
    "\n",
    "plt.figure()\n",
    "theta_bw = 1.06*np.std(posterior.theta_samples)*len(posterior.theta_samples)**(-0.2)\n",
    "posterior.get_theta_pdf_kde(theta_bw)\n",
    "theta_bin_size = 3.5*np.std(posterior.theta_samples) \\\n",
    "        / len(posterior.theta_samples)**(1./3)\n",
    "theta_bins = np.arange(posterior.theta_range.min(), posterior.theta_range.max(),\n",
    "        theta_bin_size)\n",
    "plt.plot(posterior.theta_grid,posterior.theta_pdf_kde, \\\n",
    "        color='k')\n",
    "plt.hist(posterior.theta_samples, bins=100, normed=True, log=True, histtype='stepfilled',\n",
    "        )\n",
    "#plt.axvline(np.percentile(posterior.theta_samples, 99.), linestyle='--')\n",
    "plt.ylim([1e-3, 1])\n",
    "plt.xlim([0,30])\n",
    "plt.xlabel(r'Jet Angle, $\\theta$')\n",
    "plt.ylabel(r'$p(\\theta | D,I)$')"
   ]
  }
 ],
 "metadata": {
  "kernelspec": {
   "display_name": "GRBeaming (Python 2)",
   "language": "python",
   "name": "grbeaming"
  },
  "language_info": {
   "codemirror_mode": {
    "name": "ipython",
    "version": 2
   },
   "file_extension": ".py",
   "mimetype": "text/x-python",
   "name": "python",
   "nbconvert_exporter": "python",
   "pygments_lexer": "ipython2",
   "version": "2.7.6"
  },
  "latex_envs": {
   "bibliofile": "biblio.bib",
   "cite_by": "apalike",
   "current_citInitial": 1,
   "eqLabelWithNumbers": true,
   "eqNumInitial": 0
  }
 },
 "nbformat": 4,
 "nbformat_minor": 0
}
