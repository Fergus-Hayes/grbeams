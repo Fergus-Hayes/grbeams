{
 "cells": [
  {
   "cell_type": "code",
   "execution_count": 1,
   "metadata": {
    "collapsed": false
   },
   "outputs": [],
   "source": [
    "#%matplotlib inline\n",
    "import numpy as np\n",
    "from scipy.stats import truncnorm\n",
    "from matplotlib import pyplot as plt\n",
    "from matplotlib.ticker import MultipleLocator, FormatStrFormatter"
   ]
  },
  {
   "cell_type": "markdown",
   "metadata": {},
   "source": [
    "### Draw inclinations and jet angles and compare"
   ]
  },
  {
   "cell_type": "code",
   "execution_count": 2,
   "metadata": {
    "collapsed": false
   },
   "outputs": [
    {
     "name": "stderr",
     "output_type": "stream",
     "text": [
      "/opt/local/Library/Frameworks/Python.framework/Versions/2.7/lib/python2.7/site-packages/ipykernel/__main__.py:3: DeprecationWarning: using a non-integer number instead of an integer will result in an error in the future\n",
      "  app.launch_new_instance()\n"
     ]
    }
   ],
   "source": [
    "# Draw N_bns times from uniform in cos(iota) and convert to iotas in degrees\n",
    "N_bns = 1e6\n",
    "iota_draws = np.rad2deg(np.arccos(np.random.uniform(1e-9, 1, N_bns)))\n",
    "\n",
    "# Plot to check we are drawing enough times\n",
    "#fig = plt.figure()\n",
    "#ax = fig.gca()\n",
    "#ax.hist(iota_draws, 50, facecolor='green', alpha=0.75)\n",
    "#plt.show()\n",
    "\n",
    "# Set the values for the opening angle mean (theta) and width (sigma) for\n",
    "# which to perform calculation\n",
    "thetas = 5 * (np.arange(6) + 1)\n",
    "sigmas = np.arange(15) + 1\n",
    "ratios = {}\n",
    "for theta in thetas:\n",
    "    ratio = []\n",
    "    for sigma in sigmas:\n",
    "        # Draw N_bns times from the normal distribution of mean theta,\n",
    "        # width sigma, and truncated between 0 and 90\n",
    "        a, b = (0. - theta) / sigma, (90. - theta) / sigma\n",
    "        theta_draws = sigma * truncnorm.rvs(a, b, size=N_bns) + theta\n",
    "        assert(max(theta_draws) <= 90)\n",
    "        assert(min(theta_draws) > 0)\n",
    "        N_grb = sum(iota_draws <= theta_draws)\n",
    "        ratio.extend([float(N_grb) / float(N_bns)])\n",
    "    \n",
    "    ratios[theta] = np.array(ratio)"
   ]
  },
  {
   "cell_type": "markdown",
   "metadata": {},
   "source": [
    "#### Make Figure 1"
   ]
  },
  {
   "cell_type": "code",
   "execution_count": 4,
   "metadata": {
    "collapsed": false
   },
   "outputs": [],
   "source": [
    "fig = plt.figure()\n",
    "ax = fig.gca()\n",
    "markers = ['o', 'v', 's', '^', 'D', 'h']\n",
    "lines = ['-', ':', '-.', '--', '-', ':']\n",
    "for theta in thetas:\n",
    "    y = ratios[theta] * 100\n",
    "    ax.plot(sigmas, y, marker=markers.pop(), linestyle=lines.pop(),\n",
    "            label=r'$\\langle \\theta \\rangle = %d$' % theta)\n",
    "\n",
    "x_major_locator = MultipleLocator(2)\n",
    "x_major_formatter = FormatStrFormatter('%d')\n",
    "x_minor_locator = MultipleLocator(1)\n",
    "ax.xaxis.set_major_locator(x_major_locator)\n",
    "ax.xaxis.set_major_formatter(x_major_formatter)\n",
    "ax.xaxis.set_minor_locator(x_minor_locator)\n",
    "y_major_locator = MultipleLocator(5)\n",
    "y_major_formatter = FormatStrFormatter('%d')\n",
    "y_minor_locator = MultipleLocator(1)\n",
    "ax.yaxis.set_major_locator(y_major_locator)\n",
    "ax.yaxis.set_major_formatter(y_major_formatter)\n",
    "ax.yaxis.set_minor_locator(y_minor_locator)\n",
    "ax.set_xlabel(r'$\\sigma_{\\theta} \\quad (^{\\circ})$', fontsize=18)\n",
    "ax.set_ylabel(r'$N_{\\mathrm{GRB}} / N_{\\mathrm{BNS}} \\quad (\\%)$', fontsize=18)\n",
    "ax.set_ylim([0, 20])\n",
    "ax.grid()\n",
    "ax.legend(loc='best', ncol=3)\n",
    "plt.savefig('figure1.pdf')\n",
    "plt.savefig('figure1.png')\n",
    "plt.savefig('figure1.eps')\n",
    "#plt.show()"
   ]
  },
  {
   "cell_type": "code",
   "execution_count": null,
   "metadata": {
    "collapsed": true
   },
   "outputs": [],
   "source": []
  }
 ],
 "metadata": {
  "kernelspec": {
   "display_name": "Python 2",
   "language": "python",
   "name": "python2"
  },
  "language_info": {
   "codemirror_mode": {
    "name": "ipython",
    "version": 2
   },
   "file_extension": ".py",
   "mimetype": "text/x-python",
   "name": "python",
   "nbconvert_exporter": "python",
   "pygments_lexer": "ipython2",
   "version": "2.7.12"
  }
 },
 "nbformat": 4,
 "nbformat_minor": 0
}
